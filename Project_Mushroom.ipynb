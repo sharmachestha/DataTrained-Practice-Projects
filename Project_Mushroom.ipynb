{
 "cells": [
  {
   "cell_type": "code",
   "execution_count": 1,
   "metadata": {},
   "outputs": [],
   "source": [
    "import numpy as np\n",
    "import pandas as pd\n",
    "import matplotlib.pyplot as plt\n",
    "import seaborn as sns\n",
    "import scipy\n",
    "import sklearn\n",
    "from sklearn.linear_model import LogisticRegression\n",
    "from sklearn.metrics import accuracy_score,classification_report,confusion_matrix\n",
    "from sklearn.naive_bayes import GaussianNB\n",
    "from sklearn.svm import SVC\n",
    "from sklearn.tree import DecisionTreeClassifier\n",
    "from sklearn.neighbors import KNeighborsClassifier\n",
    "from sklearn.model_selection import GridSearchCV\n",
    "from sklearn.model_selection import cross_val_score\n",
    "import warnings\n",
    "warnings.filterwarnings('ignore')"
   ]
  },
  {
   "cell_type": "code",
   "execution_count": 2,
   "metadata": {},
   "outputs": [
    {
     "data": {
      "text/html": [
       "<div>\n",
       "<style scoped>\n",
       "    .dataframe tbody tr th:only-of-type {\n",
       "        vertical-align: middle;\n",
       "    }\n",
       "\n",
       "    .dataframe tbody tr th {\n",
       "        vertical-align: top;\n",
       "    }\n",
       "\n",
       "    .dataframe thead th {\n",
       "        text-align: right;\n",
       "    }\n",
       "</style>\n",
       "<table border=\"1\" class=\"dataframe\">\n",
       "  <thead>\n",
       "    <tr style=\"text-align: right;\">\n",
       "      <th></th>\n",
       "      <th>class</th>\n",
       "      <th>cap-shape</th>\n",
       "      <th>cap-surface</th>\n",
       "      <th>cap-color</th>\n",
       "      <th>bruises</th>\n",
       "      <th>odor</th>\n",
       "      <th>gill-attachment</th>\n",
       "      <th>gill-spacing</th>\n",
       "      <th>gill-size</th>\n",
       "      <th>gill-color</th>\n",
       "      <th>...</th>\n",
       "      <th>stalk-surface-below-ring</th>\n",
       "      <th>stalk-color-above-ring</th>\n",
       "      <th>stalk-color-below-ring</th>\n",
       "      <th>veil-type</th>\n",
       "      <th>veil-color</th>\n",
       "      <th>ring-number</th>\n",
       "      <th>ring-type</th>\n",
       "      <th>spore-print-color</th>\n",
       "      <th>population</th>\n",
       "      <th>habitat</th>\n",
       "    </tr>\n",
       "  </thead>\n",
       "  <tbody>\n",
       "    <tr>\n",
       "      <th>0</th>\n",
       "      <td>p</td>\n",
       "      <td>x</td>\n",
       "      <td>s</td>\n",
       "      <td>n</td>\n",
       "      <td>t</td>\n",
       "      <td>p</td>\n",
       "      <td>f</td>\n",
       "      <td>c</td>\n",
       "      <td>n</td>\n",
       "      <td>k</td>\n",
       "      <td>...</td>\n",
       "      <td>s</td>\n",
       "      <td>w</td>\n",
       "      <td>w</td>\n",
       "      <td>p</td>\n",
       "      <td>w</td>\n",
       "      <td>o</td>\n",
       "      <td>p</td>\n",
       "      <td>k</td>\n",
       "      <td>s</td>\n",
       "      <td>u</td>\n",
       "    </tr>\n",
       "    <tr>\n",
       "      <th>1</th>\n",
       "      <td>e</td>\n",
       "      <td>x</td>\n",
       "      <td>s</td>\n",
       "      <td>y</td>\n",
       "      <td>t</td>\n",
       "      <td>a</td>\n",
       "      <td>f</td>\n",
       "      <td>c</td>\n",
       "      <td>b</td>\n",
       "      <td>k</td>\n",
       "      <td>...</td>\n",
       "      <td>s</td>\n",
       "      <td>w</td>\n",
       "      <td>w</td>\n",
       "      <td>p</td>\n",
       "      <td>w</td>\n",
       "      <td>o</td>\n",
       "      <td>p</td>\n",
       "      <td>n</td>\n",
       "      <td>n</td>\n",
       "      <td>g</td>\n",
       "    </tr>\n",
       "    <tr>\n",
       "      <th>2</th>\n",
       "      <td>e</td>\n",
       "      <td>b</td>\n",
       "      <td>s</td>\n",
       "      <td>w</td>\n",
       "      <td>t</td>\n",
       "      <td>l</td>\n",
       "      <td>f</td>\n",
       "      <td>c</td>\n",
       "      <td>b</td>\n",
       "      <td>n</td>\n",
       "      <td>...</td>\n",
       "      <td>s</td>\n",
       "      <td>w</td>\n",
       "      <td>w</td>\n",
       "      <td>p</td>\n",
       "      <td>w</td>\n",
       "      <td>o</td>\n",
       "      <td>p</td>\n",
       "      <td>n</td>\n",
       "      <td>n</td>\n",
       "      <td>m</td>\n",
       "    </tr>\n",
       "    <tr>\n",
       "      <th>3</th>\n",
       "      <td>p</td>\n",
       "      <td>x</td>\n",
       "      <td>y</td>\n",
       "      <td>w</td>\n",
       "      <td>t</td>\n",
       "      <td>p</td>\n",
       "      <td>f</td>\n",
       "      <td>c</td>\n",
       "      <td>n</td>\n",
       "      <td>n</td>\n",
       "      <td>...</td>\n",
       "      <td>s</td>\n",
       "      <td>w</td>\n",
       "      <td>w</td>\n",
       "      <td>p</td>\n",
       "      <td>w</td>\n",
       "      <td>o</td>\n",
       "      <td>p</td>\n",
       "      <td>k</td>\n",
       "      <td>s</td>\n",
       "      <td>u</td>\n",
       "    </tr>\n",
       "    <tr>\n",
       "      <th>4</th>\n",
       "      <td>e</td>\n",
       "      <td>x</td>\n",
       "      <td>s</td>\n",
       "      <td>g</td>\n",
       "      <td>f</td>\n",
       "      <td>n</td>\n",
       "      <td>f</td>\n",
       "      <td>w</td>\n",
       "      <td>b</td>\n",
       "      <td>k</td>\n",
       "      <td>...</td>\n",
       "      <td>s</td>\n",
       "      <td>w</td>\n",
       "      <td>w</td>\n",
       "      <td>p</td>\n",
       "      <td>w</td>\n",
       "      <td>o</td>\n",
       "      <td>e</td>\n",
       "      <td>n</td>\n",
       "      <td>a</td>\n",
       "      <td>g</td>\n",
       "    </tr>\n",
       "  </tbody>\n",
       "</table>\n",
       "<p>5 rows × 23 columns</p>\n",
       "</div>"
      ],
      "text/plain": [
       "  class cap-shape cap-surface cap-color bruises odor gill-attachment  \\\n",
       "0     p         x           s         n       t    p               f   \n",
       "1     e         x           s         y       t    a               f   \n",
       "2     e         b           s         w       t    l               f   \n",
       "3     p         x           y         w       t    p               f   \n",
       "4     e         x           s         g       f    n               f   \n",
       "\n",
       "  gill-spacing gill-size gill-color  ... stalk-surface-below-ring  \\\n",
       "0            c         n          k  ...                        s   \n",
       "1            c         b          k  ...                        s   \n",
       "2            c         b          n  ...                        s   \n",
       "3            c         n          n  ...                        s   \n",
       "4            w         b          k  ...                        s   \n",
       "\n",
       "  stalk-color-above-ring stalk-color-below-ring veil-type veil-color  \\\n",
       "0                      w                      w         p          w   \n",
       "1                      w                      w         p          w   \n",
       "2                      w                      w         p          w   \n",
       "3                      w                      w         p          w   \n",
       "4                      w                      w         p          w   \n",
       "\n",
       "  ring-number ring-type spore-print-color population habitat  \n",
       "0           o         p                 k          s       u  \n",
       "1           o         p                 n          n       g  \n",
       "2           o         p                 n          n       m  \n",
       "3           o         p                 k          s       u  \n",
       "4           o         e                 n          a       g  \n",
       "\n",
       "[5 rows x 23 columns]"
      ]
     },
     "execution_count": 2,
     "metadata": {},
     "output_type": "execute_result"
    }
   ],
   "source": [
    "df=pd.read_csv('mushroom.csv')\n",
    "df.head()"
   ]
  },
  {
   "cell_type": "code",
   "execution_count": 3,
   "metadata": {},
   "outputs": [
    {
     "data": {
      "text/plain": [
       "(8124, 23)"
      ]
     },
     "execution_count": 3,
     "metadata": {},
     "output_type": "execute_result"
    }
   ],
   "source": [
    "df.shape"
   ]
  },
  {
   "cell_type": "code",
   "execution_count": 4,
   "metadata": {},
   "outputs": [
    {
     "data": {
      "text/plain": [
       "Index(['class', 'cap-shape', 'cap-surface', 'cap-color', 'bruises', 'odor',\n",
       "       'gill-attachment', 'gill-spacing', 'gill-size', 'gill-color',\n",
       "       'stalk-shape', 'stalk-root', 'stalk-surface-above-ring',\n",
       "       'stalk-surface-below-ring', 'stalk-color-above-ring',\n",
       "       'stalk-color-below-ring', 'veil-type', 'veil-color', 'ring-number',\n",
       "       'ring-type', 'spore-print-color', 'population', 'habitat'],\n",
       "      dtype='object')"
      ]
     },
     "execution_count": 4,
     "metadata": {},
     "output_type": "execute_result"
    }
   ],
   "source": [
    "df.columns"
   ]
  },
  {
   "cell_type": "code",
   "execution_count": 5,
   "metadata": {},
   "outputs": [
    {
     "data": {
      "text/plain": [
       "class                       object\n",
       "cap-shape                   object\n",
       "cap-surface                 object\n",
       "cap-color                   object\n",
       "bruises                     object\n",
       "odor                        object\n",
       "gill-attachment             object\n",
       "gill-spacing                object\n",
       "gill-size                   object\n",
       "gill-color                  object\n",
       "stalk-shape                 object\n",
       "stalk-root                  object\n",
       "stalk-surface-above-ring    object\n",
       "stalk-surface-below-ring    object\n",
       "stalk-color-above-ring      object\n",
       "stalk-color-below-ring      object\n",
       "veil-type                   object\n",
       "veil-color                  object\n",
       "ring-number                 object\n",
       "ring-type                   object\n",
       "spore-print-color           object\n",
       "population                  object\n",
       "habitat                     object\n",
       "dtype: object"
      ]
     },
     "execution_count": 5,
     "metadata": {},
     "output_type": "execute_result"
    }
   ],
   "source": [
    "df.dtypes"
   ]
  },
  {
   "cell_type": "code",
   "execution_count": 6,
   "metadata": {},
   "outputs": [
    {
     "name": "stdout",
     "output_type": "stream",
     "text": [
      "<class 'pandas.core.frame.DataFrame'>\n",
      "RangeIndex: 8124 entries, 0 to 8123\n",
      "Data columns (total 23 columns):\n",
      " #   Column                    Non-Null Count  Dtype \n",
      "---  ------                    --------------  ----- \n",
      " 0   class                     8124 non-null   object\n",
      " 1   cap-shape                 8124 non-null   object\n",
      " 2   cap-surface               8124 non-null   object\n",
      " 3   cap-color                 8124 non-null   object\n",
      " 4   bruises                   8124 non-null   object\n",
      " 5   odor                      8124 non-null   object\n",
      " 6   gill-attachment           8124 non-null   object\n",
      " 7   gill-spacing              8124 non-null   object\n",
      " 8   gill-size                 8124 non-null   object\n",
      " 9   gill-color                8124 non-null   object\n",
      " 10  stalk-shape               8124 non-null   object\n",
      " 11  stalk-root                8124 non-null   object\n",
      " 12  stalk-surface-above-ring  8124 non-null   object\n",
      " 13  stalk-surface-below-ring  8124 non-null   object\n",
      " 14  stalk-color-above-ring    8124 non-null   object\n",
      " 15  stalk-color-below-ring    8124 non-null   object\n",
      " 16  veil-type                 8124 non-null   object\n",
      " 17  veil-color                8124 non-null   object\n",
      " 18  ring-number               8124 non-null   object\n",
      " 19  ring-type                 8124 non-null   object\n",
      " 20  spore-print-color         8124 non-null   object\n",
      " 21  population                8124 non-null   object\n",
      " 22  habitat                   8124 non-null   object\n",
      "dtypes: object(23)\n",
      "memory usage: 1.4+ MB\n"
     ]
    }
   ],
   "source": [
    "df.info()"
   ]
  },
  {
   "cell_type": "markdown",
   "metadata": {},
   "source": [
    "# Summary Statistics"
   ]
  },
  {
   "cell_type": "code",
   "execution_count": 7,
   "metadata": {},
   "outputs": [
    {
     "data": {
      "text/html": [
       "<div>\n",
       "<style scoped>\n",
       "    .dataframe tbody tr th:only-of-type {\n",
       "        vertical-align: middle;\n",
       "    }\n",
       "\n",
       "    .dataframe tbody tr th {\n",
       "        vertical-align: top;\n",
       "    }\n",
       "\n",
       "    .dataframe thead th {\n",
       "        text-align: right;\n",
       "    }\n",
       "</style>\n",
       "<table border=\"1\" class=\"dataframe\">\n",
       "  <thead>\n",
       "    <tr style=\"text-align: right;\">\n",
       "      <th></th>\n",
       "      <th>class</th>\n",
       "      <th>cap-shape</th>\n",
       "      <th>cap-surface</th>\n",
       "      <th>cap-color</th>\n",
       "      <th>bruises</th>\n",
       "      <th>odor</th>\n",
       "      <th>gill-attachment</th>\n",
       "      <th>gill-spacing</th>\n",
       "      <th>gill-size</th>\n",
       "      <th>gill-color</th>\n",
       "      <th>...</th>\n",
       "      <th>stalk-surface-below-ring</th>\n",
       "      <th>stalk-color-above-ring</th>\n",
       "      <th>stalk-color-below-ring</th>\n",
       "      <th>veil-type</th>\n",
       "      <th>veil-color</th>\n",
       "      <th>ring-number</th>\n",
       "      <th>ring-type</th>\n",
       "      <th>spore-print-color</th>\n",
       "      <th>population</th>\n",
       "      <th>habitat</th>\n",
       "    </tr>\n",
       "  </thead>\n",
       "  <tbody>\n",
       "    <tr>\n",
       "      <th>count</th>\n",
       "      <td>8124</td>\n",
       "      <td>8124</td>\n",
       "      <td>8124</td>\n",
       "      <td>8124</td>\n",
       "      <td>8124</td>\n",
       "      <td>8124</td>\n",
       "      <td>8124</td>\n",
       "      <td>8124</td>\n",
       "      <td>8124</td>\n",
       "      <td>8124</td>\n",
       "      <td>...</td>\n",
       "      <td>8124</td>\n",
       "      <td>8124</td>\n",
       "      <td>8124</td>\n",
       "      <td>8124</td>\n",
       "      <td>8124</td>\n",
       "      <td>8124</td>\n",
       "      <td>8124</td>\n",
       "      <td>8124</td>\n",
       "      <td>8124</td>\n",
       "      <td>8124</td>\n",
       "    </tr>\n",
       "    <tr>\n",
       "      <th>unique</th>\n",
       "      <td>2</td>\n",
       "      <td>6</td>\n",
       "      <td>4</td>\n",
       "      <td>10</td>\n",
       "      <td>2</td>\n",
       "      <td>9</td>\n",
       "      <td>2</td>\n",
       "      <td>2</td>\n",
       "      <td>2</td>\n",
       "      <td>12</td>\n",
       "      <td>...</td>\n",
       "      <td>4</td>\n",
       "      <td>9</td>\n",
       "      <td>9</td>\n",
       "      <td>1</td>\n",
       "      <td>4</td>\n",
       "      <td>3</td>\n",
       "      <td>5</td>\n",
       "      <td>9</td>\n",
       "      <td>6</td>\n",
       "      <td>7</td>\n",
       "    </tr>\n",
       "    <tr>\n",
       "      <th>top</th>\n",
       "      <td>e</td>\n",
       "      <td>x</td>\n",
       "      <td>y</td>\n",
       "      <td>n</td>\n",
       "      <td>f</td>\n",
       "      <td>n</td>\n",
       "      <td>f</td>\n",
       "      <td>c</td>\n",
       "      <td>b</td>\n",
       "      <td>b</td>\n",
       "      <td>...</td>\n",
       "      <td>s</td>\n",
       "      <td>w</td>\n",
       "      <td>w</td>\n",
       "      <td>p</td>\n",
       "      <td>w</td>\n",
       "      <td>o</td>\n",
       "      <td>p</td>\n",
       "      <td>w</td>\n",
       "      <td>v</td>\n",
       "      <td>d</td>\n",
       "    </tr>\n",
       "    <tr>\n",
       "      <th>freq</th>\n",
       "      <td>4208</td>\n",
       "      <td>3656</td>\n",
       "      <td>3244</td>\n",
       "      <td>2284</td>\n",
       "      <td>4748</td>\n",
       "      <td>3528</td>\n",
       "      <td>7914</td>\n",
       "      <td>6812</td>\n",
       "      <td>5612</td>\n",
       "      <td>1728</td>\n",
       "      <td>...</td>\n",
       "      <td>4936</td>\n",
       "      <td>4464</td>\n",
       "      <td>4384</td>\n",
       "      <td>8124</td>\n",
       "      <td>7924</td>\n",
       "      <td>7488</td>\n",
       "      <td>3968</td>\n",
       "      <td>2388</td>\n",
       "      <td>4040</td>\n",
       "      <td>3148</td>\n",
       "    </tr>\n",
       "  </tbody>\n",
       "</table>\n",
       "<p>4 rows × 23 columns</p>\n",
       "</div>"
      ],
      "text/plain": [
       "       class cap-shape cap-surface cap-color bruises  odor gill-attachment  \\\n",
       "count   8124      8124        8124      8124    8124  8124            8124   \n",
       "unique     2         6           4        10       2     9               2   \n",
       "top        e         x           y         n       f     n               f   \n",
       "freq    4208      3656        3244      2284    4748  3528            7914   \n",
       "\n",
       "       gill-spacing gill-size gill-color  ... stalk-surface-below-ring  \\\n",
       "count          8124      8124       8124  ...                     8124   \n",
       "unique            2         2         12  ...                        4   \n",
       "top               c         b          b  ...                        s   \n",
       "freq           6812      5612       1728  ...                     4936   \n",
       "\n",
       "       stalk-color-above-ring stalk-color-below-ring veil-type veil-color  \\\n",
       "count                    8124                   8124      8124       8124   \n",
       "unique                      9                      9         1          4   \n",
       "top                         w                      w         p          w   \n",
       "freq                     4464                   4384      8124       7924   \n",
       "\n",
       "       ring-number ring-type spore-print-color population habitat  \n",
       "count         8124      8124              8124       8124    8124  \n",
       "unique           3         5                 9          6       7  \n",
       "top              o         p                 w          v       d  \n",
       "freq          7488      3968              2388       4040    3148  \n",
       "\n",
       "[4 rows x 23 columns]"
      ]
     },
     "execution_count": 7,
     "metadata": {},
     "output_type": "execute_result"
    }
   ],
   "source": [
    "df.describe()"
   ]
  },
  {
   "cell_type": "markdown",
   "metadata": {},
   "source": [
    "# Exploring Target Variable"
   ]
  },
  {
   "cell_type": "code",
   "execution_count": 8,
   "metadata": {},
   "outputs": [
    {
     "data": {
      "text/plain": [
       "e    4208\n",
       "p    3916\n",
       "Name: class, dtype: int64"
      ]
     },
     "execution_count": 8,
     "metadata": {},
     "output_type": "execute_result"
    }
   ],
   "source": [
    "df['class'].value_counts()"
   ]
  },
  {
   "cell_type": "raw",
   "metadata": {},
   "source": [
    "# As we have categorical values in Class, so, this is a classification problem."
   ]
  },
  {
   "cell_type": "markdown",
   "metadata": {},
   "source": [
    "# Label Encoding"
   ]
  },
  {
   "cell_type": "code",
   "execution_count": 9,
   "metadata": {},
   "outputs": [
    {
     "data": {
      "text/plain": [
       "array([5, 0, 4, 2, 3, 1])"
      ]
     },
     "execution_count": 9,
     "metadata": {},
     "output_type": "execute_result"
    }
   ],
   "source": [
    "from sklearn.preprocessing import LabelEncoder\n",
    "LE=LabelEncoder()\n",
    "df['cap-shape']=LE.fit_transform(df['cap-shape'])\n",
    "df['cap-shape'].unique()"
   ]
  },
  {
   "cell_type": "code",
   "execution_count": 10,
   "metadata": {},
   "outputs": [
    {
     "data": {
      "text/plain": [
       "array([2, 3, 0, 1])"
      ]
     },
     "execution_count": 10,
     "metadata": {},
     "output_type": "execute_result"
    }
   ],
   "source": [
    "df['cap-surface']=LE.fit_transform(df['cap-surface'])\n",
    "df['cap-surface'].unique()"
   ]
  },
  {
   "cell_type": "code",
   "execution_count": 11,
   "metadata": {},
   "outputs": [
    {
     "name": "stdout",
     "output_type": "stream",
     "text": [
      "[4 9 8 3 2 5 0 7 1 6]\n",
      "[1 0]\n",
      "[6 0 3 5 2 1 8 7 4]\n",
      "[1 0]\n",
      "[0 1]\n",
      "[1 0]\n",
      "[ 4  5  2  7 10  3  9  1  0  8 11  6]\n",
      "[0 1]\n",
      "[3 2 1 4 0]\n",
      "[2 0 1 3]\n",
      "[2 0 3 1]\n",
      "[7 3 6 4 0 2 5 1 8]\n",
      "[7 6 3 0 4 2 8 5 1]\n",
      "[2 0 1 3]\n",
      "[1 2 0]\n",
      "[4 0 2 1 3]\n",
      "[2 3 6 1 7 5 4 8 0]\n",
      "[3 2 0 4 5 1]\n",
      "[5 1 3 0 4 6 2]\n",
      "[1 0]\n"
     ]
    }
   ],
   "source": [
    "list=['cap-color', 'bruises', 'odor',\n",
    "       'gill-attachment', 'gill-spacing', 'gill-size', 'gill-color',\n",
    "       'stalk-shape', 'stalk-root', 'stalk-surface-above-ring',\n",
    "       'stalk-surface-below-ring', 'stalk-color-above-ring',\n",
    "       'stalk-color-below-ring', 'veil-color', 'ring-number',\n",
    "       'ring-type', 'spore-print-color', 'population', 'habitat','class']\n",
    "\n",
    "for item in list:\n",
    "    df[item]=LE.fit_transform(df[item])\n",
    "    print(df[item].unique())"
   ]
  },
  {
   "cell_type": "markdown",
   "metadata": {},
   "source": [
    "# Data Visualizations"
   ]
  },
  {
   "cell_type": "markdown",
   "metadata": {},
   "source": [
    "To check missing values"
   ]
  },
  {
   "cell_type": "code",
   "execution_count": 12,
   "metadata": {},
   "outputs": [
    {
     "data": {
      "text/plain": [
       "<matplotlib.axes._subplots.AxesSubplot at 0x2ca0792e208>"
      ]
     },
     "execution_count": 12,
     "metadata": {},
     "output_type": "execute_result"
    },
    {
     "data": {
      "image/png": "[encoded data removed]",
      "text/plain": [
       "<Figure size 432x288 with 2 Axes>"
      ]
     },
     "metadata": {
      "needs_background": "light"
     },
     "output_type": "display_data"
    }
   ],
   "source": [
    "sns.heatmap(df.isnull())"
   ]
  },
  {
   "cell_type": "markdown",
   "metadata": {},
   "source": [
    "Observations:-\n",
    "    \n",
    "    1. There is no missing values in the dataset."
   ]
  },
  {
   "cell_type": "code",
   "execution_count": 13,
   "metadata": {},
   "outputs": [
    {
     "data": {
      "text/html": [
       "<div>\n",
       "<style scoped>\n",
       "    .dataframe tbody tr th:only-of-type {\n",
       "        vertical-align: middle;\n",
       "    }\n",
       "\n",
       "    .dataframe tbody tr th {\n",
       "        vertical-align: top;\n",
       "    }\n",
       "\n",
       "    .dataframe thead th {\n",
       "        text-align: right;\n",
       "    }\n",
       "</style>\n",
       "<table border=\"1\" class=\"dataframe\">\n",
       "  <thead>\n",
       "    <tr style=\"text-align: right;\">\n",
       "      <th></th>\n",
       "      <th>class</th>\n",
       "      <th>cap-shape</th>\n",
       "      <th>cap-surface</th>\n",
       "      <th>cap-color</th>\n",
       "      <th>bruises</th>\n",
       "      <th>odor</th>\n",
       "      <th>gill-attachment</th>\n",
       "      <th>gill-spacing</th>\n",
       "      <th>gill-size</th>\n",
       "      <th>gill-color</th>\n",
       "      <th>...</th>\n",
       "      <th>stalk-surface-below-ring</th>\n",
       "      <th>stalk-color-above-ring</th>\n",
       "      <th>stalk-color-below-ring</th>\n",
       "      <th>veil-type</th>\n",
       "      <th>veil-color</th>\n",
       "      <th>ring-number</th>\n",
       "      <th>ring-type</th>\n",
       "      <th>spore-print-color</th>\n",
       "      <th>population</th>\n",
       "      <th>habitat</th>\n",
       "    </tr>\n",
       "  </thead>\n",
       "  <tbody>\n",
       "    <tr>\n",
       "      <th>0</th>\n",
       "      <td>1</td>\n",
       "      <td>5</td>\n",
       "      <td>2</td>\n",
       "      <td>4</td>\n",
       "      <td>1</td>\n",
       "      <td>6</td>\n",
       "      <td>1</td>\n",
       "      <td>0</td>\n",
       "      <td>1</td>\n",
       "      <td>4</td>\n",
       "      <td>...</td>\n",
       "      <td>2</td>\n",
       "      <td>7</td>\n",
       "      <td>7</td>\n",
       "      <td>p</td>\n",
       "      <td>2</td>\n",
       "      <td>1</td>\n",
       "      <td>4</td>\n",
       "      <td>2</td>\n",
       "      <td>3</td>\n",
       "      <td>5</td>\n",
       "    </tr>\n",
       "    <tr>\n",
       "      <th>1</th>\n",
       "      <td>0</td>\n",
       "      <td>5</td>\n",
       "      <td>2</td>\n",
       "      <td>9</td>\n",
       "      <td>1</td>\n",
       "      <td>0</td>\n",
       "      <td>1</td>\n",
       "      <td>0</td>\n",
       "      <td>0</td>\n",
       "      <td>4</td>\n",
       "      <td>...</td>\n",
       "      <td>2</td>\n",
       "      <td>7</td>\n",
       "      <td>7</td>\n",
       "      <td>p</td>\n",
       "      <td>2</td>\n",
       "      <td>1</td>\n",
       "      <td>4</td>\n",
       "      <td>3</td>\n",
       "      <td>2</td>\n",
       "      <td>1</td>\n",
       "    </tr>\n",
       "    <tr>\n",
       "      <th>2</th>\n",
       "      <td>0</td>\n",
       "      <td>0</td>\n",
       "      <td>2</td>\n",
       "      <td>8</td>\n",
       "      <td>1</td>\n",
       "      <td>3</td>\n",
       "      <td>1</td>\n",
       "      <td>0</td>\n",
       "      <td>0</td>\n",
       "      <td>5</td>\n",
       "      <td>...</td>\n",
       "      <td>2</td>\n",
       "      <td>7</td>\n",
       "      <td>7</td>\n",
       "      <td>p</td>\n",
       "      <td>2</td>\n",
       "      <td>1</td>\n",
       "      <td>4</td>\n",
       "      <td>3</td>\n",
       "      <td>2</td>\n",
       "      <td>3</td>\n",
       "    </tr>\n",
       "    <tr>\n",
       "      <th>3</th>\n",
       "      <td>1</td>\n",
       "      <td>5</td>\n",
       "      <td>3</td>\n",
       "      <td>8</td>\n",
       "      <td>1</td>\n",
       "      <td>6</td>\n",
       "      <td>1</td>\n",
       "      <td>0</td>\n",
       "      <td>1</td>\n",
       "      <td>5</td>\n",
       "      <td>...</td>\n",
       "      <td>2</td>\n",
       "      <td>7</td>\n",
       "      <td>7</td>\n",
       "      <td>p</td>\n",
       "      <td>2</td>\n",
       "      <td>1</td>\n",
       "      <td>4</td>\n",
       "      <td>2</td>\n",
       "      <td>3</td>\n",
       "      <td>5</td>\n",
       "    </tr>\n",
       "    <tr>\n",
       "      <th>4</th>\n",
       "      <td>0</td>\n",
       "      <td>5</td>\n",
       "      <td>2</td>\n",
       "      <td>3</td>\n",
       "      <td>0</td>\n",
       "      <td>5</td>\n",
       "      <td>1</td>\n",
       "      <td>1</td>\n",
       "      <td>0</td>\n",
       "      <td>4</td>\n",
       "      <td>...</td>\n",
       "      <td>2</td>\n",
       "      <td>7</td>\n",
       "      <td>7</td>\n",
       "      <td>p</td>\n",
       "      <td>2</td>\n",
       "      <td>1</td>\n",
       "      <td>0</td>\n",
       "      <td>3</td>\n",
       "      <td>0</td>\n",
       "      <td>1</td>\n",
       "    </tr>\n",
       "  </tbody>\n",
       "</table>\n",
       "<p>5 rows × 23 columns</p>\n",
       "</div>"
      ],
      "text/plain": [
       "   class  cap-shape  cap-surface  cap-color  bruises  odor  gill-attachment  \\\n",
       "0      1          5            2          4        1     6                1   \n",
       "1      0          5            2          9        1     0                1   \n",
       "2      0          0            2          8        1     3                1   \n",
       "3      1          5            3          8        1     6                1   \n",
       "4      0          5            2          3        0     5                1   \n",
       "\n",
       "   gill-spacing  gill-size  gill-color  ...  stalk-surface-below-ring  \\\n",
       "0             0          1           4  ...                         2   \n",
       "1             0          0           4  ...                         2   \n",
       "2             0          0           5  ...                         2   \n",
       "3             0          1           5  ...                         2   \n",
       "4             1          0           4  ...                         2   \n",
       "\n",
       "   stalk-color-above-ring  stalk-color-below-ring  veil-type  veil-color  \\\n",
       "0                       7                       7          p           2   \n",
       "1                       7                       7          p           2   \n",
       "2                       7                       7          p           2   \n",
       "3                       7                       7          p           2   \n",
       "4                       7                       7          p           2   \n",
       "\n",
       "   ring-number ring-type  spore-print-color  population  habitat  \n",
       "0            1         4                  2           3        5  \n",
       "1            1         4                  3           2        1  \n",
       "2            1         4                  3           2        3  \n",
       "3            1         4                  2           3        5  \n",
       "4            1         0                  3           0        1  \n",
       "\n",
       "[5 rows x 23 columns]"
      ]
     },
     "execution_count": 13,
     "metadata": {},
     "output_type": "execute_result"
    }
   ],
   "source": [
    "df.head()"
   ]
  },
  {
   "cell_type": "markdown",
   "metadata": {},
   "source": [
    "# Univariate Analysis"
   ]
  },
  {
   "cell_type": "code",
   "execution_count": 14,
   "metadata": {},
   "outputs": [
    {
     "data": {
      "text/plain": [
       "<matplotlib.axes._subplots.AxesSubplot at 0x2ca08139808>"
      ]
     },
     "execution_count": 14,
     "metadata": {},
     "output_type": "execute_result"
    },
    {
     "data": {
      "image/png": "[encoded data removed]",
      "text/plain": [
       "<Figure size 432x288 with 1 Axes>"
      ]
     },
     "metadata": {
      "needs_background": "light"
     },
     "output_type": "display_data"
    }
   ],
   "source": [
    "sns.countplot(x='class',data=df)"
   ]
  },
  {
   "cell_type": "markdown",
   "metadata": {},
   "source": [
    "Observations:-\n",
    "    \n",
    "1. Class 0 (e - edilble ) is present comparatively more in the dataset than class 0 (p-poisonous)."
   ]
  },
  {
   "cell_type": "code",
   "execution_count": 15,
   "metadata": {},
   "outputs": [
    {
     "data": {
      "text/plain": [
       "array([5, 0, 4, 2, 3, 1], dtype=int64)"
      ]
     },
     "execution_count": 15,
     "metadata": {},
     "output_type": "execute_result"
    }
   ],
   "source": [
    "from sklearn.preprocessing import LabelEncoder\n",
    "LE=LabelEncoder()\n",
    "df['cap-shape']=LE.fit_transform(df['cap-shape'])\n",
    "df['cap-shape'].unique()"
   ]
  },
  {
   "cell_type": "code",
   "execution_count": 16,
   "metadata": {},
   "outputs": [
    {
     "data": {
      "text/plain": [
       "array([2, 3, 0, 1], dtype=int64)"
      ]
     },
     "execution_count": 16,
     "metadata": {},
     "output_type": "execute_result"
    }
   ],
   "source": [
    "df['cap-surface']=LE.fit_transform(df['cap-surface'])\n",
    "df['cap-surface'].unique()"
   ]
  },
  {
   "cell_type": "code",
   "execution_count": 17,
   "metadata": {},
   "outputs": [
    {
     "name": "stdout",
     "output_type": "stream",
     "text": [
      "[4 9 8 3 2 5 0 7 1 6]\n",
      "[1 0]\n",
      "[6 0 3 5 2 1 8 7 4]\n",
      "[1 0]\n",
      "[0 1]\n",
      "[1 0]\n",
      "[ 4  5  2  7 10  3  9  1  0  8 11  6]\n",
      "[0 1]\n",
      "[3 2 1 4 0]\n",
      "[2 0 1 3]\n",
      "[2 0 3 1]\n",
      "[7 3 6 4 0 2 5 1 8]\n",
      "[7 6 3 0 4 2 8 5 1]\n",
      "[2 0 1 3]\n",
      "[1 2 0]\n",
      "[4 0 2 1 3]\n",
      "[2 3 6 1 7 5 4 8 0]\n",
      "[3 2 0 4 5 1]\n",
      "[5 1 3 0 4 6 2]\n",
      "[1 0]\n"
     ]
    }
   ],
   "source": [
    "list=['cap-color', 'bruises', 'odor',\n",
    "       'gill-attachment', 'gill-spacing', 'gill-size', 'gill-color',\n",
    "       'stalk-shape', 'stalk-root', 'stalk-surface-above-ring',\n",
    "       'stalk-surface-below-ring', 'stalk-color-above-ring',\n",
    "       'stalk-color-below-ring', 'veil-color', 'ring-number',\n",
    "       'ring-type', 'spore-print-color', 'population', 'habitat','class']\n",
    "\n",
    "for item in list:\n",
    "    df[item]=LE.fit_transform(df[item])\n",
    "    print(df[item].unique())"
   ]
  },
  {
   "cell_type": "code",
   "execution_count": 18,
   "metadata": {},
   "outputs": [
    {
     "data": {
      "text/html": [
       "<div>\n",
       "<style scoped>\n",
       "    .dataframe tbody tr th:only-of-type {\n",
       "        vertical-align: middle;\n",
       "    }\n",
       "\n",
       "    .dataframe tbody tr th {\n",
       "        vertical-align: top;\n",
       "    }\n",
       "\n",
       "    .dataframe thead th {\n",
       "        text-align: right;\n",
       "    }\n",
       "</style>\n",
       "<table border=\"1\" class=\"dataframe\">\n",
       "  <thead>\n",
       "    <tr style=\"text-align: right;\">\n",
       "      <th></th>\n",
       "      <th>class</th>\n",
       "      <th>cap-shape</th>\n",
       "      <th>cap-surface</th>\n",
       "      <th>cap-color</th>\n",
       "      <th>bruises</th>\n",
       "      <th>odor</th>\n",
       "      <th>gill-attachment</th>\n",
       "      <th>gill-spacing</th>\n",
       "      <th>gill-size</th>\n",
       "      <th>gill-color</th>\n",
       "      <th>...</th>\n",
       "      <th>stalk-surface-below-ring</th>\n",
       "      <th>stalk-color-above-ring</th>\n",
       "      <th>stalk-color-below-ring</th>\n",
       "      <th>veil-type</th>\n",
       "      <th>veil-color</th>\n",
       "      <th>ring-number</th>\n",
       "      <th>ring-type</th>\n",
       "      <th>spore-print-color</th>\n",
       "      <th>population</th>\n",
       "      <th>habitat</th>\n",
       "    </tr>\n",
       "  </thead>\n",
       "  <tbody>\n",
       "    <tr>\n",
       "      <th>0</th>\n",
       "      <td>1</td>\n",
       "      <td>5</td>\n",
       "      <td>2</td>\n",
       "      <td>4</td>\n",
       "      <td>1</td>\n",
       "      <td>6</td>\n",
       "      <td>1</td>\n",
       "      <td>0</td>\n",
       "      <td>1</td>\n",
       "      <td>4</td>\n",
       "      <td>...</td>\n",
       "      <td>2</td>\n",
       "      <td>7</td>\n",
       "      <td>7</td>\n",
       "      <td>p</td>\n",
       "      <td>2</td>\n",
       "      <td>1</td>\n",
       "      <td>4</td>\n",
       "      <td>2</td>\n",
       "      <td>3</td>\n",
       "      <td>5</td>\n",
       "    </tr>\n",
       "    <tr>\n",
       "      <th>1</th>\n",
       "      <td>0</td>\n",
       "      <td>5</td>\n",
       "      <td>2</td>\n",
       "      <td>9</td>\n",
       "      <td>1</td>\n",
       "      <td>0</td>\n",
       "      <td>1</td>\n",
       "      <td>0</td>\n",
       "      <td>0</td>\n",
       "      <td>4</td>\n",
       "      <td>...</td>\n",
       "      <td>2</td>\n",
       "      <td>7</td>\n",
       "      <td>7</td>\n",
       "      <td>p</td>\n",
       "      <td>2</td>\n",
       "      <td>1</td>\n",
       "      <td>4</td>\n",
       "      <td>3</td>\n",
       "      <td>2</td>\n",
       "      <td>1</td>\n",
       "    </tr>\n",
       "    <tr>\n",
       "      <th>2</th>\n",
       "      <td>0</td>\n",
       "      <td>0</td>\n",
       "      <td>2</td>\n",
       "      <td>8</td>\n",
       "      <td>1</td>\n",
       "      <td>3</td>\n",
       "      <td>1</td>\n",
       "      <td>0</td>\n",
       "      <td>0</td>\n",
       "      <td>5</td>\n",
       "      <td>...</td>\n",
       "      <td>2</td>\n",
       "      <td>7</td>\n",
       "      <td>7</td>\n",
       "      <td>p</td>\n",
       "      <td>2</td>\n",
       "      <td>1</td>\n",
       "      <td>4</td>\n",
       "      <td>3</td>\n",
       "      <td>2</td>\n",
       "      <td>3</td>\n",
       "    </tr>\n",
       "    <tr>\n",
       "      <th>3</th>\n",
       "      <td>1</td>\n",
       "      <td>5</td>\n",
       "      <td>3</td>\n",
       "      <td>8</td>\n",
       "      <td>1</td>\n",
       "      <td>6</td>\n",
       "      <td>1</td>\n",
       "      <td>0</td>\n",
       "      <td>1</td>\n",
       "      <td>5</td>\n",
       "      <td>...</td>\n",
       "      <td>2</td>\n",
       "      <td>7</td>\n",
       "      <td>7</td>\n",
       "      <td>p</td>\n",
       "      <td>2</td>\n",
       "      <td>1</td>\n",
       "      <td>4</td>\n",
       "      <td>2</td>\n",
       "      <td>3</td>\n",
       "      <td>5</td>\n",
       "    </tr>\n",
       "    <tr>\n",
       "      <th>4</th>\n",
       "      <td>0</td>\n",
       "      <td>5</td>\n",
       "      <td>2</td>\n",
       "      <td>3</td>\n",
       "      <td>0</td>\n",
       "      <td>5</td>\n",
       "      <td>1</td>\n",
       "      <td>1</td>\n",
       "      <td>0</td>\n",
       "      <td>4</td>\n",
       "      <td>...</td>\n",
       "      <td>2</td>\n",
       "      <td>7</td>\n",
       "      <td>7</td>\n",
       "      <td>p</td>\n",
       "      <td>2</td>\n",
       "      <td>1</td>\n",
       "      <td>0</td>\n",
       "      <td>3</td>\n",
       "      <td>0</td>\n",
       "      <td>1</td>\n",
       "    </tr>\n",
       "  </tbody>\n",
       "</table>\n",
       "<p>5 rows × 23 columns</p>\n",
       "</div>"
      ],
      "text/plain": [
       "   class  cap-shape  cap-surface  cap-color  bruises  odor  gill-attachment  \\\n",
       "0      1          5            2          4        1     6                1   \n",
       "1      0          5            2          9        1     0                1   \n",
       "2      0          0            2          8        1     3                1   \n",
       "3      1          5            3          8        1     6                1   \n",
       "4      0          5            2          3        0     5                1   \n",
       "\n",
       "   gill-spacing  gill-size  gill-color  ...  stalk-surface-below-ring  \\\n",
       "0             0          1           4  ...                         2   \n",
       "1             0          0           4  ...                         2   \n",
       "2             0          0           5  ...                         2   \n",
       "3             0          1           5  ...                         2   \n",
       "4             1          0           4  ...                         2   \n",
       "\n",
       "   stalk-color-above-ring  stalk-color-below-ring  veil-type  veil-color  \\\n",
       "0                       7                       7          p           2   \n",
       "1                       7                       7          p           2   \n",
       "2                       7                       7          p           2   \n",
       "3                       7                       7          p           2   \n",
       "4                       7                       7          p           2   \n",
       "\n",
       "   ring-number ring-type  spore-print-color  population  habitat  \n",
       "0            1         4                  2           3        5  \n",
       "1            1         4                  3           2        1  \n",
       "2            1         4                  3           2        3  \n",
       "3            1         4                  2           3        5  \n",
       "4            1         0                  3           0        1  \n",
       "\n",
       "[5 rows x 23 columns]"
      ]
     },
     "execution_count": 18,
     "metadata": {},
     "output_type": "execute_result"
    }
   ],
   "source": [
    "df.head()"
   ]
  },
  {
   "cell_type": "markdown",
   "metadata": {},
   "source": [
    "# To check correlation"
   ]
  },
  {
   "cell_type": "code",
   "execution_count": 19,
   "metadata": {},
   "outputs": [
    {
     "data": {
      "text/html": [
       "<div>\n",
       "<style scoped>\n",
       "    .dataframe tbody tr th:only-of-type {\n",
       "        vertical-align: middle;\n",
       "    }\n",
       "\n",
       "    .dataframe tbody tr th {\n",
       "        vertical-align: top;\n",
       "    }\n",
       "\n",
       "    .dataframe thead th {\n",
       "        text-align: right;\n",
       "    }\n",
       "</style>\n",
       "<table border=\"1\" class=\"dataframe\">\n",
       "  <thead>\n",
       "    <tr style=\"text-align: right;\">\n",
       "      <th></th>\n",
       "      <th>class</th>\n",
       "      <th>cap-shape</th>\n",
       "      <th>cap-surface</th>\n",
       "      <th>cap-color</th>\n",
       "      <th>bruises</th>\n",
       "      <th>odor</th>\n",
       "      <th>gill-attachment</th>\n",
       "      <th>gill-spacing</th>\n",
       "      <th>gill-size</th>\n",
       "      <th>gill-color</th>\n",
       "      <th>...</th>\n",
       "      <th>stalk-surface-above-ring</th>\n",
       "      <th>stalk-surface-below-ring</th>\n",
       "      <th>stalk-color-above-ring</th>\n",
       "      <th>stalk-color-below-ring</th>\n",
       "      <th>veil-color</th>\n",
       "      <th>ring-number</th>\n",
       "      <th>ring-type</th>\n",
       "      <th>spore-print-color</th>\n",
       "      <th>population</th>\n",
       "      <th>habitat</th>\n",
       "    </tr>\n",
       "  </thead>\n",
       "  <tbody>\n",
       "    <tr>\n",
       "      <th>class</th>\n",
       "      <td>1.000000</td>\n",
       "      <td>0.052951</td>\n",
       "      <td>0.178446</td>\n",
       "      <td>-0.031384</td>\n",
       "      <td>-0.501530</td>\n",
       "      <td>-0.093552</td>\n",
       "      <td>0.129200</td>\n",
       "      <td>-0.348387</td>\n",
       "      <td>0.540024</td>\n",
       "      <td>-0.530566</td>\n",
       "      <td>...</td>\n",
       "      <td>-0.334593</td>\n",
       "      <td>-0.298801</td>\n",
       "      <td>-0.154003</td>\n",
       "      <td>-0.146730</td>\n",
       "      <td>0.145142</td>\n",
       "      <td>-0.214366</td>\n",
       "      <td>-0.411771</td>\n",
       "      <td>0.171961</td>\n",
       "      <td>0.298686</td>\n",
       "      <td>0.217179</td>\n",
       "    </tr>\n",
       "    <tr>\n",
       "      <th>cap-shape</th>\n",
       "      <td>0.052951</td>\n",
       "      <td>1.000000</td>\n",
       "      <td>-0.050454</td>\n",
       "      <td>-0.048203</td>\n",
       "      <td>-0.035374</td>\n",
       "      <td>-0.021935</td>\n",
       "      <td>0.078865</td>\n",
       "      <td>0.013196</td>\n",
       "      <td>0.054050</td>\n",
       "      <td>-0.006039</td>\n",
       "      <td>...</td>\n",
       "      <td>-0.030417</td>\n",
       "      <td>-0.032591</td>\n",
       "      <td>-0.031659</td>\n",
       "      <td>-0.030390</td>\n",
       "      <td>0.072560</td>\n",
       "      <td>-0.106534</td>\n",
       "      <td>-0.025457</td>\n",
       "      <td>-0.073416</td>\n",
       "      <td>0.063413</td>\n",
       "      <td>-0.042221</td>\n",
       "    </tr>\n",
       "    <tr>\n",
       "      <th>cap-surface</th>\n",
       "      <td>0.178446</td>\n",
       "      <td>-0.050454</td>\n",
       "      <td>1.000000</td>\n",
       "      <td>-0.019402</td>\n",
       "      <td>0.070228</td>\n",
       "      <td>0.045233</td>\n",
       "      <td>-0.034180</td>\n",
       "      <td>-0.282306</td>\n",
       "      <td>0.208100</td>\n",
       "      <td>-0.161017</td>\n",
       "      <td>...</td>\n",
       "      <td>0.089090</td>\n",
       "      <td>0.107965</td>\n",
       "      <td>0.066050</td>\n",
       "      <td>0.068885</td>\n",
       "      <td>-0.016603</td>\n",
       "      <td>-0.026147</td>\n",
       "      <td>-0.106407</td>\n",
       "      <td>0.230364</td>\n",
       "      <td>0.021555</td>\n",
       "      <td>0.163887</td>\n",
       "    </tr>\n",
       "    <tr>\n",
       "      <th>cap-color</th>\n",
       "      <td>-0.031384</td>\n",
       "      <td>-0.048203</td>\n",
       "      <td>-0.019402</td>\n",
       "      <td>1.000000</td>\n",
       "      <td>-0.000764</td>\n",
       "      <td>-0.387121</td>\n",
       "      <td>0.041436</td>\n",
       "      <td>0.144259</td>\n",
       "      <td>-0.169464</td>\n",
       "      <td>0.084659</td>\n",
       "      <td>...</td>\n",
       "      <td>-0.060837</td>\n",
       "      <td>-0.047710</td>\n",
       "      <td>0.002364</td>\n",
       "      <td>0.008057</td>\n",
       "      <td>0.036130</td>\n",
       "      <td>-0.005822</td>\n",
       "      <td>0.162513</td>\n",
       "      <td>-0.293523</td>\n",
       "      <td>-0.144770</td>\n",
       "      <td>0.033925</td>\n",
       "    </tr>\n",
       "    <tr>\n",
       "      <th>bruises</th>\n",
       "      <td>-0.501530</td>\n",
       "      <td>-0.035374</td>\n",
       "      <td>0.070228</td>\n",
       "      <td>-0.000764</td>\n",
       "      <td>1.000000</td>\n",
       "      <td>-0.061825</td>\n",
       "      <td>0.137359</td>\n",
       "      <td>-0.299473</td>\n",
       "      <td>-0.369596</td>\n",
       "      <td>0.527120</td>\n",
       "      <td>...</td>\n",
       "      <td>0.460824</td>\n",
       "      <td>0.458983</td>\n",
       "      <td>0.083538</td>\n",
       "      <td>0.092874</td>\n",
       "      <td>0.119770</td>\n",
       "      <td>0.056788</td>\n",
       "      <td>0.692973</td>\n",
       "      <td>-0.285008</td>\n",
       "      <td>0.088137</td>\n",
       "      <td>-0.075095</td>\n",
       "    </tr>\n",
       "    <tr>\n",
       "      <th>odor</th>\n",
       "      <td>-0.093552</td>\n",
       "      <td>-0.021935</td>\n",
       "      <td>0.045233</td>\n",
       "      <td>-0.387121</td>\n",
       "      <td>-0.061825</td>\n",
       "      <td>1.000000</td>\n",
       "      <td>-0.059590</td>\n",
       "      <td>0.063936</td>\n",
       "      <td>0.310495</td>\n",
       "      <td>-0.129213</td>\n",
       "      <td>...</td>\n",
       "      <td>0.118617</td>\n",
       "      <td>0.061820</td>\n",
       "      <td>0.174532</td>\n",
       "      <td>0.169407</td>\n",
       "      <td>-0.057747</td>\n",
       "      <td>0.111905</td>\n",
       "      <td>-0.281387</td>\n",
       "      <td>0.469055</td>\n",
       "      <td>-0.043623</td>\n",
       "      <td>-0.026610</td>\n",
       "    </tr>\n",
       "    <tr>\n",
       "      <th>gill-attachment</th>\n",
       "      <td>0.129200</td>\n",
       "      <td>0.078865</td>\n",
       "      <td>-0.034180</td>\n",
       "      <td>0.041436</td>\n",
       "      <td>0.137359</td>\n",
       "      <td>-0.059590</td>\n",
       "      <td>1.000000</td>\n",
       "      <td>0.071489</td>\n",
       "      <td>0.108984</td>\n",
       "      <td>-0.128567</td>\n",
       "      <td>...</td>\n",
       "      <td>-0.088916</td>\n",
       "      <td>-0.116177</td>\n",
       "      <td>0.099299</td>\n",
       "      <td>0.097160</td>\n",
       "      <td>0.897518</td>\n",
       "      <td>0.093236</td>\n",
       "      <td>-0.146689</td>\n",
       "      <td>-0.029524</td>\n",
       "      <td>0.165575</td>\n",
       "      <td>-0.030304</td>\n",
       "    </tr>\n",
       "    <tr>\n",
       "      <th>gill-spacing</th>\n",
       "      <td>-0.348387</td>\n",
       "      <td>0.013196</td>\n",
       "      <td>-0.282306</td>\n",
       "      <td>0.144259</td>\n",
       "      <td>-0.299473</td>\n",
       "      <td>0.063936</td>\n",
       "      <td>0.071489</td>\n",
       "      <td>1.000000</td>\n",
       "      <td>-0.108333</td>\n",
       "      <td>0.100193</td>\n",
       "      <td>...</td>\n",
       "      <td>-0.212359</td>\n",
       "      <td>-0.213775</td>\n",
       "      <td>0.274574</td>\n",
       "      <td>0.253505</td>\n",
       "      <td>0.073363</td>\n",
       "      <td>0.243014</td>\n",
       "      <td>-0.195897</td>\n",
       "      <td>0.047323</td>\n",
       "      <td>-0.529253</td>\n",
       "      <td>-0.154680</td>\n",
       "    </tr>\n",
       "    <tr>\n",
       "      <th>gill-size</th>\n",
       "      <td>0.540024</td>\n",
       "      <td>0.054050</td>\n",
       "      <td>0.208100</td>\n",
       "      <td>-0.169464</td>\n",
       "      <td>-0.369596</td>\n",
       "      <td>0.310495</td>\n",
       "      <td>0.108984</td>\n",
       "      <td>-0.108333</td>\n",
       "      <td>1.000000</td>\n",
       "      <td>-0.516736</td>\n",
       "      <td>...</td>\n",
       "      <td>0.056310</td>\n",
       "      <td>0.010894</td>\n",
       "      <td>0.296548</td>\n",
       "      <td>0.278708</td>\n",
       "      <td>0.103809</td>\n",
       "      <td>-0.171362</td>\n",
       "      <td>-0.460872</td>\n",
       "      <td>0.622991</td>\n",
       "      <td>0.147682</td>\n",
       "      <td>0.161418</td>\n",
       "    </tr>\n",
       "    <tr>\n",
       "      <th>gill-color</th>\n",
       "      <td>-0.530566</td>\n",
       "      <td>-0.006039</td>\n",
       "      <td>-0.161017</td>\n",
       "      <td>0.084659</td>\n",
       "      <td>0.527120</td>\n",
       "      <td>-0.129213</td>\n",
       "      <td>-0.128567</td>\n",
       "      <td>0.100193</td>\n",
       "      <td>-0.516736</td>\n",
       "      <td>1.000000</td>\n",
       "      <td>...</td>\n",
       "      <td>0.224287</td>\n",
       "      <td>0.257224</td>\n",
       "      <td>-0.058299</td>\n",
       "      <td>-0.074781</td>\n",
       "      <td>-0.097583</td>\n",
       "      <td>0.096054</td>\n",
       "      <td>0.629398</td>\n",
       "      <td>-0.416135</td>\n",
       "      <td>-0.034090</td>\n",
       "      <td>-0.202972</td>\n",
       "    </tr>\n",
       "    <tr>\n",
       "      <th>stalk-shape</th>\n",
       "      <td>-0.102019</td>\n",
       "      <td>0.063794</td>\n",
       "      <td>-0.014123</td>\n",
       "      <td>-0.456496</td>\n",
       "      <td>0.099364</td>\n",
       "      <td>0.459766</td>\n",
       "      <td>0.186485</td>\n",
       "      <td>0.080895</td>\n",
       "      <td>0.214576</td>\n",
       "      <td>-0.175699</td>\n",
       "      <td>...</td>\n",
       "      <td>0.015193</td>\n",
       "      <td>-0.034399</td>\n",
       "      <td>0.223439</td>\n",
       "      <td>0.235794</td>\n",
       "      <td>0.162604</td>\n",
       "      <td>-0.293221</td>\n",
       "      <td>-0.291444</td>\n",
       "      <td>0.258831</td>\n",
       "      <td>0.087383</td>\n",
       "      <td>-0.269216</td>\n",
       "    </tr>\n",
       "    <tr>\n",
       "      <th>stalk-root</th>\n",
       "      <td>-0.379361</td>\n",
       "      <td>0.030191</td>\n",
       "      <td>-0.126245</td>\n",
       "      <td>0.321274</td>\n",
       "      <td>0.244188</td>\n",
       "      <td>-0.205215</td>\n",
       "      <td>0.144063</td>\n",
       "      <td>0.350548</td>\n",
       "      <td>-0.344345</td>\n",
       "      <td>0.315080</td>\n",
       "      <td>...</td>\n",
       "      <td>-0.027065</td>\n",
       "      <td>0.087454</td>\n",
       "      <td>0.157140</td>\n",
       "      <td>0.159805</td>\n",
       "      <td>0.156213</td>\n",
       "      <td>-0.247357</td>\n",
       "      <td>0.210155</td>\n",
       "      <td>-0.536996</td>\n",
       "      <td>-0.306747</td>\n",
       "      <td>-0.007668</td>\n",
       "    </tr>\n",
       "    <tr>\n",
       "      <th>stalk-surface-above-ring</th>\n",
       "      <td>-0.334593</td>\n",
       "      <td>-0.030417</td>\n",
       "      <td>0.089090</td>\n",
       "      <td>-0.060837</td>\n",
       "      <td>0.460824</td>\n",
       "      <td>0.118617</td>\n",
       "      <td>-0.088916</td>\n",
       "      <td>-0.212359</td>\n",
       "      <td>0.056310</td>\n",
       "      <td>0.224287</td>\n",
       "      <td>...</td>\n",
       "      <td>1.000000</td>\n",
       "      <td>0.437164</td>\n",
       "      <td>0.132708</td>\n",
       "      <td>0.142835</td>\n",
       "      <td>-0.090591</td>\n",
       "      <td>0.107904</td>\n",
       "      <td>0.390091</td>\n",
       "      <td>0.100764</td>\n",
       "      <td>0.079604</td>\n",
       "      <td>-0.058076</td>\n",
       "    </tr>\n",
       "    <tr>\n",
       "      <th>stalk-surface-below-ring</th>\n",
       "      <td>-0.298801</td>\n",
       "      <td>-0.032591</td>\n",
       "      <td>0.107965</td>\n",
       "      <td>-0.047710</td>\n",
       "      <td>0.458983</td>\n",
       "      <td>0.061820</td>\n",
       "      <td>-0.116177</td>\n",
       "      <td>-0.213775</td>\n",
       "      <td>0.010894</td>\n",
       "      <td>0.257224</td>\n",
       "      <td>...</td>\n",
       "      <td>0.437164</td>\n",
       "      <td>1.000000</td>\n",
       "      <td>0.106933</td>\n",
       "      <td>0.110656</td>\n",
       "      <td>-0.077284</td>\n",
       "      <td>0.040006</td>\n",
       "      <td>0.394644</td>\n",
       "      <td>0.130974</td>\n",
       "      <td>0.046797</td>\n",
       "      <td>-0.039628</td>\n",
       "    </tr>\n",
       "    <tr>\n",
       "      <th>stalk-color-above-ring</th>\n",
       "      <td>-0.154003</td>\n",
       "      <td>-0.031659</td>\n",
       "      <td>0.066050</td>\n",
       "      <td>0.002364</td>\n",
       "      <td>0.083538</td>\n",
       "      <td>0.174532</td>\n",
       "      <td>0.099299</td>\n",
       "      <td>0.274574</td>\n",
       "      <td>0.296548</td>\n",
       "      <td>-0.058299</td>\n",
       "      <td>...</td>\n",
       "      <td>0.132708</td>\n",
       "      <td>0.106933</td>\n",
       "      <td>1.000000</td>\n",
       "      <td>0.491510</td>\n",
       "      <td>0.067377</td>\n",
       "      <td>0.084917</td>\n",
       "      <td>-0.048878</td>\n",
       "      <td>0.271533</td>\n",
       "      <td>-0.240261</td>\n",
       "      <td>0.042561</td>\n",
       "    </tr>\n",
       "    <tr>\n",
       "      <th>stalk-color-below-ring</th>\n",
       "      <td>-0.146730</td>\n",
       "      <td>-0.030390</td>\n",
       "      <td>0.068885</td>\n",
       "      <td>0.008057</td>\n",
       "      <td>0.092874</td>\n",
       "      <td>0.169407</td>\n",
       "      <td>0.097160</td>\n",
       "      <td>0.253505</td>\n",
       "      <td>0.278708</td>\n",
       "      <td>-0.074781</td>\n",
       "      <td>...</td>\n",
       "      <td>0.142835</td>\n",
       "      <td>0.110656</td>\n",
       "      <td>0.491510</td>\n",
       "      <td>1.000000</td>\n",
       "      <td>0.065567</td>\n",
       "      <td>0.087580</td>\n",
       "      <td>-0.034284</td>\n",
       "      <td>0.254518</td>\n",
       "      <td>-0.242792</td>\n",
       "      <td>0.041594</td>\n",
       "    </tr>\n",
       "    <tr>\n",
       "      <th>veil-color</th>\n",
       "      <td>0.145142</td>\n",
       "      <td>0.072560</td>\n",
       "      <td>-0.016603</td>\n",
       "      <td>0.036130</td>\n",
       "      <td>0.119770</td>\n",
       "      <td>-0.057747</td>\n",
       "      <td>0.897518</td>\n",
       "      <td>0.073363</td>\n",
       "      <td>0.103809</td>\n",
       "      <td>-0.097583</td>\n",
       "      <td>...</td>\n",
       "      <td>-0.090591</td>\n",
       "      <td>-0.077284</td>\n",
       "      <td>0.067377</td>\n",
       "      <td>0.065567</td>\n",
       "      <td>1.000000</td>\n",
       "      <td>0.036380</td>\n",
       "      <td>-0.143673</td>\n",
       "      <td>-0.003600</td>\n",
       "      <td>0.124924</td>\n",
       "      <td>-0.040581</td>\n",
       "    </tr>\n",
       "    <tr>\n",
       "      <th>ring-number</th>\n",
       "      <td>-0.214366</td>\n",
       "      <td>-0.106534</td>\n",
       "      <td>-0.026147</td>\n",
       "      <td>-0.005822</td>\n",
       "      <td>0.056788</td>\n",
       "      <td>0.111905</td>\n",
       "      <td>0.093236</td>\n",
       "      <td>0.243014</td>\n",
       "      <td>-0.171362</td>\n",
       "      <td>0.096054</td>\n",
       "      <td>...</td>\n",
       "      <td>0.107904</td>\n",
       "      <td>0.040006</td>\n",
       "      <td>0.084917</td>\n",
       "      <td>0.087580</td>\n",
       "      <td>0.036380</td>\n",
       "      <td>1.000000</td>\n",
       "      <td>0.058312</td>\n",
       "      <td>0.338417</td>\n",
       "      <td>-0.242020</td>\n",
       "      <td>0.235835</td>\n",
       "    </tr>\n",
       "    <tr>\n",
       "      <th>ring-type</th>\n",
       "      <td>-0.411771</td>\n",
       "      <td>-0.025457</td>\n",
       "      <td>-0.106407</td>\n",
       "      <td>0.162513</td>\n",
       "      <td>0.692973</td>\n",
       "      <td>-0.281387</td>\n",
       "      <td>-0.146689</td>\n",
       "      <td>-0.195897</td>\n",
       "      <td>-0.460872</td>\n",
       "      <td>0.629398</td>\n",
       "      <td>...</td>\n",
       "      <td>0.390091</td>\n",
       "      <td>0.394644</td>\n",
       "      <td>-0.048878</td>\n",
       "      <td>-0.034284</td>\n",
       "      <td>-0.143673</td>\n",
       "      <td>0.058312</td>\n",
       "      <td>1.000000</td>\n",
       "      <td>-0.487048</td>\n",
       "      <td>0.211763</td>\n",
       "      <td>-0.212080</td>\n",
       "    </tr>\n",
       "    <tr>\n",
       "      <th>spore-print-color</th>\n",
       "      <td>0.171961</td>\n",
       "      <td>-0.073416</td>\n",
       "      <td>0.230364</td>\n",
       "      <td>-0.293523</td>\n",
       "      <td>-0.285008</td>\n",
       "      <td>0.469055</td>\n",
       "      <td>-0.029524</td>\n",
       "      <td>0.047323</td>\n",
       "      <td>0.622991</td>\n",
       "      <td>-0.416135</td>\n",
       "      <td>...</td>\n",
       "      <td>0.100764</td>\n",
       "      <td>0.130974</td>\n",
       "      <td>0.271533</td>\n",
       "      <td>0.254518</td>\n",
       "      <td>-0.003600</td>\n",
       "      <td>0.338417</td>\n",
       "      <td>-0.487048</td>\n",
       "      <td>1.000000</td>\n",
       "      <td>-0.126859</td>\n",
       "      <td>0.185954</td>\n",
       "    </tr>\n",
       "    <tr>\n",
       "      <th>population</th>\n",
       "      <td>0.298686</td>\n",
       "      <td>0.063413</td>\n",
       "      <td>0.021555</td>\n",
       "      <td>-0.144770</td>\n",
       "      <td>0.088137</td>\n",
       "      <td>-0.043623</td>\n",
       "      <td>0.165575</td>\n",
       "      <td>-0.529253</td>\n",
       "      <td>0.147682</td>\n",
       "      <td>-0.034090</td>\n",
       "      <td>...</td>\n",
       "      <td>0.079604</td>\n",
       "      <td>0.046797</td>\n",
       "      <td>-0.240261</td>\n",
       "      <td>-0.242792</td>\n",
       "      <td>0.124924</td>\n",
       "      <td>-0.242020</td>\n",
       "      <td>0.211763</td>\n",
       "      <td>-0.126859</td>\n",
       "      <td>1.000000</td>\n",
       "      <td>-0.174529</td>\n",
       "    </tr>\n",
       "    <tr>\n",
       "      <th>habitat</th>\n",
       "      <td>0.217179</td>\n",
       "      <td>-0.042221</td>\n",
       "      <td>0.163887</td>\n",
       "      <td>0.033925</td>\n",
       "      <td>-0.075095</td>\n",
       "      <td>-0.026610</td>\n",
       "      <td>-0.030304</td>\n",
       "      <td>-0.154680</td>\n",
       "      <td>0.161418</td>\n",
       "      <td>-0.202972</td>\n",
       "      <td>...</td>\n",
       "      <td>-0.058076</td>\n",
       "      <td>-0.039628</td>\n",
       "      <td>0.042561</td>\n",
       "      <td>0.041594</td>\n",
       "      <td>-0.040581</td>\n",
       "      <td>0.235835</td>\n",
       "      <td>-0.212080</td>\n",
       "      <td>0.185954</td>\n",
       "      <td>-0.174529</td>\n",
       "      <td>1.000000</td>\n",
       "    </tr>\n",
       "  </tbody>\n",
       "</table>\n",
       "<p>22 rows × 22 columns</p>\n",
       "</div>"
      ],
      "text/plain": [
       "                             class  cap-shape  cap-surface  cap-color  \\\n",
       "class                     1.000000   0.052951     0.178446  -0.031384   \n",
       "cap-shape                 0.052951   1.000000    -0.050454  -0.048203   \n",
       "cap-surface               0.178446  -0.050454     1.000000  -0.019402   \n",
       "cap-color                -0.031384  -0.048203    -0.019402   1.000000   \n",
       "bruises                  -0.501530  -0.035374     0.070228  -0.000764   \n",
       "odor                     -0.093552  -0.021935     0.045233  -0.387121   \n",
       "gill-attachment           0.129200   0.078865    -0.034180   0.041436   \n",
       "gill-spacing             -0.348387   0.013196    -0.282306   0.144259   \n",
       "gill-size                 0.540024   0.054050     0.208100  -0.169464   \n",
       "gill-color               -0.530566  -0.006039    -0.161017   0.084659   \n",
       "stalk-shape              -0.102019   0.063794    -0.014123  -0.456496   \n",
       "stalk-root               -0.379361   0.030191    -0.126245   0.321274   \n",
       "stalk-surface-above-ring -0.334593  -0.030417     0.089090  -0.060837   \n",
       "stalk-surface-below-ring -0.298801  -0.032591     0.107965  -0.047710   \n",
       "stalk-color-above-ring   -0.154003  -0.031659     0.066050   0.002364   \n",
       "stalk-color-below-ring   -0.146730  -0.030390     0.068885   0.008057   \n",
       "veil-color                0.145142   0.072560    -0.016603   0.036130   \n",
       "ring-number              -0.214366  -0.106534    -0.026147  -0.005822   \n",
       "ring-type                -0.411771  -0.025457    -0.106407   0.162513   \n",
       "spore-print-color         0.171961  -0.073416     0.230364  -0.293523   \n",
       "population                0.298686   0.063413     0.021555  -0.144770   \n",
       "habitat                   0.217179  -0.042221     0.163887   0.033925   \n",
       "\n",
       "                           bruises      odor  gill-attachment  gill-spacing  \\\n",
       "class                    -0.501530 -0.093552         0.129200     -0.348387   \n",
       "cap-shape                -0.035374 -0.021935         0.078865      0.013196   \n",
       "cap-surface               0.070228  0.045233        -0.034180     -0.282306   \n",
       "cap-color                -0.000764 -0.387121         0.041436      0.144259   \n",
       "bruises                   1.000000 -0.061825         0.137359     -0.299473   \n",
       "odor                     -0.061825  1.000000        -0.059590      0.063936   \n",
       "gill-attachment           0.137359 -0.059590         1.000000      0.071489   \n",
       "gill-spacing             -0.299473  0.063936         0.071489      1.000000   \n",
       "gill-size                -0.369596  0.310495         0.108984     -0.108333   \n",
       "gill-color                0.527120 -0.129213        -0.128567      0.100193   \n",
       "stalk-shape               0.099364  0.459766         0.186485      0.080895   \n",
       "stalk-root                0.244188 -0.205215         0.144063      0.350548   \n",
       "stalk-surface-above-ring  0.460824  0.118617        -0.088916     -0.212359   \n",
       "stalk-surface-below-ring  0.458983  0.061820        -0.116177     -0.213775   \n",
       "stalk-color-above-ring    0.083538  0.174532         0.099299      0.274574   \n",
       "stalk-color-below-ring    0.092874  0.169407         0.097160      0.253505   \n",
       "veil-color                0.119770 -0.057747         0.897518      0.073363   \n",
       "ring-number               0.056788  0.111905         0.093236      0.243014   \n",
       "ring-type                 0.692973 -0.281387        -0.146689     -0.195897   \n",
       "spore-print-color        -0.285008  0.469055        -0.029524      0.047323   \n",
       "population                0.088137 -0.043623         0.165575     -0.529253   \n",
       "habitat                  -0.075095 -0.026610        -0.030304     -0.154680   \n",
       "\n",
       "                          gill-size  gill-color  ...  \\\n",
       "class                      0.540024   -0.530566  ...   \n",
       "cap-shape                  0.054050   -0.006039  ...   \n",
       "cap-surface                0.208100   -0.161017  ...   \n",
       "cap-color                 -0.169464    0.084659  ...   \n",
       "bruises                   -0.369596    0.527120  ...   \n",
       "odor                       0.310495   -0.129213  ...   \n",
       "gill-attachment            0.108984   -0.128567  ...   \n",
       "gill-spacing              -0.108333    0.100193  ...   \n",
       "gill-size                  1.000000   -0.516736  ...   \n",
       "gill-color                -0.516736    1.000000  ...   \n",
       "stalk-shape                0.214576   -0.175699  ...   \n",
       "stalk-root                -0.344345    0.315080  ...   \n",
       "stalk-surface-above-ring   0.056310    0.224287  ...   \n",
       "stalk-surface-below-ring   0.010894    0.257224  ...   \n",
       "stalk-color-above-ring     0.296548   -0.058299  ...   \n",
       "stalk-color-below-ring     0.278708   -0.074781  ...   \n",
       "veil-color                 0.103809   -0.097583  ...   \n",
       "ring-number               -0.171362    0.096054  ...   \n",
       "ring-type                 -0.460872    0.629398  ...   \n",
       "spore-print-color          0.622991   -0.416135  ...   \n",
       "population                 0.147682   -0.034090  ...   \n",
       "habitat                    0.161418   -0.202972  ...   \n",
       "\n",
       "                          stalk-surface-above-ring  stalk-surface-below-ring  \\\n",
       "class                                    -0.334593                 -0.298801   \n",
       "cap-shape                                -0.030417                 -0.032591   \n",
       "cap-surface                               0.089090                  0.107965   \n",
       "cap-color                                -0.060837                 -0.047710   \n",
       "bruises                                   0.460824                  0.458983   \n",
       "odor                                      0.118617                  0.061820   \n",
       "gill-attachment                          -0.088916                 -0.116177   \n",
       "gill-spacing                             -0.212359                 -0.213775   \n",
       "gill-size                                 0.056310                  0.010894   \n",
       "gill-color                                0.224287                  0.257224   \n",
       "stalk-shape                               0.015193                 -0.034399   \n",
       "stalk-root                               -0.027065                  0.087454   \n",
       "stalk-surface-above-ring                  1.000000                  0.437164   \n",
       "stalk-surface-below-ring                  0.437164                  1.000000   \n",
       "stalk-color-above-ring                    0.132708                  0.106933   \n",
       "stalk-color-below-ring                    0.142835                  0.110656   \n",
       "veil-color                               -0.090591                 -0.077284   \n",
       "ring-number                               0.107904                  0.040006   \n",
       "ring-type                                 0.390091                  0.394644   \n",
       "spore-print-color                         0.100764                  0.130974   \n",
       "population                                0.079604                  0.046797   \n",
       "habitat                                  -0.058076                 -0.039628   \n",
       "\n",
       "                          stalk-color-above-ring  stalk-color-below-ring  \\\n",
       "class                                  -0.154003               -0.146730   \n",
       "cap-shape                              -0.031659               -0.030390   \n",
       "cap-surface                             0.066050                0.068885   \n",
       "cap-color                               0.002364                0.008057   \n",
       "bruises                                 0.083538                0.092874   \n",
       "odor                                    0.174532                0.169407   \n",
       "gill-attachment                         0.099299                0.097160   \n",
       "gill-spacing                            0.274574                0.253505   \n",
       "gill-size                               0.296548                0.278708   \n",
       "gill-color                             -0.058299               -0.074781   \n",
       "stalk-shape                             0.223439                0.235794   \n",
       "stalk-root                              0.157140                0.159805   \n",
       "stalk-surface-above-ring                0.132708                0.142835   \n",
       "stalk-surface-below-ring                0.106933                0.110656   \n",
       "stalk-color-above-ring                  1.000000                0.491510   \n",
       "stalk-color-below-ring                  0.491510                1.000000   \n",
       "veil-color                              0.067377                0.065567   \n",
       "ring-number                             0.084917                0.087580   \n",
       "ring-type                              -0.048878               -0.034284   \n",
       "spore-print-color                       0.271533                0.254518   \n",
       "population                             -0.240261               -0.242792   \n",
       "habitat                                 0.042561                0.041594   \n",
       "\n",
       "                          veil-color  ring-number  ring-type  \\\n",
       "class                       0.145142    -0.214366  -0.411771   \n",
       "cap-shape                   0.072560    -0.106534  -0.025457   \n",
       "cap-surface                -0.016603    -0.026147  -0.106407   \n",
       "cap-color                   0.036130    -0.005822   0.162513   \n",
       "bruises                     0.119770     0.056788   0.692973   \n",
       "odor                       -0.057747     0.111905  -0.281387   \n",
       "gill-attachment             0.897518     0.093236  -0.146689   \n",
       "gill-spacing                0.073363     0.243014  -0.195897   \n",
       "gill-size                   0.103809    -0.171362  -0.460872   \n",
       "gill-color                 -0.097583     0.096054   0.629398   \n",
       "stalk-shape                 0.162604    -0.293221  -0.291444   \n",
       "stalk-root                  0.156213    -0.247357   0.210155   \n",
       "stalk-surface-above-ring   -0.090591     0.107904   0.390091   \n",
       "stalk-surface-below-ring   -0.077284     0.040006   0.394644   \n",
       "stalk-color-above-ring      0.067377     0.084917  -0.048878   \n",
       "stalk-color-below-ring      0.065567     0.087580  -0.034284   \n",
       "veil-color                  1.000000     0.036380  -0.143673   \n",
       "ring-number                 0.036380     1.000000   0.058312   \n",
       "ring-type                  -0.143673     0.058312   1.000000   \n",
       "spore-print-color          -0.003600     0.338417  -0.487048   \n",
       "population                  0.124924    -0.242020   0.211763   \n",
       "habitat                    -0.040581     0.235835  -0.212080   \n",
       "\n",
       "                          spore-print-color  population   habitat  \n",
       "class                              0.171961    0.298686  0.217179  \n",
       "cap-shape                         -0.073416    0.063413 -0.042221  \n",
       "cap-surface                        0.230364    0.021555  0.163887  \n",
       "cap-color                         -0.293523   -0.144770  0.033925  \n",
       "bruises                           -0.285008    0.088137 -0.075095  \n",
       "odor                               0.469055   -0.043623 -0.026610  \n",
       "gill-attachment                   -0.029524    0.165575 -0.030304  \n",
       "gill-spacing                       0.047323   -0.529253 -0.154680  \n",
       "gill-size                          0.622991    0.147682  0.161418  \n",
       "gill-color                        -0.416135   -0.034090 -0.202972  \n",
       "stalk-shape                        0.258831    0.087383 -0.269216  \n",
       "stalk-root                        -0.536996   -0.306747 -0.007668  \n",
       "stalk-surface-above-ring           0.100764    0.079604 -0.058076  \n",
       "stalk-surface-below-ring           0.130974    0.046797 -0.039628  \n",
       "stalk-color-above-ring             0.271533   -0.240261  0.042561  \n",
       "stalk-color-below-ring             0.254518   -0.242792  0.041594  \n",
       "veil-color                        -0.003600    0.124924 -0.040581  \n",
       "ring-number                        0.338417   -0.242020  0.235835  \n",
       "ring-type                         -0.487048    0.211763 -0.212080  \n",
       "spore-print-color                  1.000000   -0.126859  0.185954  \n",
       "population                        -0.126859    1.000000 -0.174529  \n",
       "habitat                            0.185954   -0.174529  1.000000  \n",
       "\n",
       "[22 rows x 22 columns]"
      ]
     },
     "execution_count": 19,
     "metadata": {},
     "output_type": "execute_result"
    }
   ],
   "source": [
    "dfcor=df.corr()\n",
    "dfcor"
   ]
  },
  {
   "cell_type": "code",
   "execution_count": 20,
   "metadata": {},
   "outputs": [
    {
     "data": {
      "text/plain": [
       "<matplotlib.axes._subplots.AxesSubplot at 0x2ca0855e588>"
      ]
     },
     "execution_count": 20,
     "metadata": {},
     "output_type": "execute_result"
    },
    {
     "data": {
      "image/png": "[encoded data removed]",
      "text/plain": [
       "<Figure size 1080x936 with 2 Axes>"
      ]
     },
     "metadata": {
      "needs_background": "light"
     },
     "output_type": "display_data"
    }
   ],
   "source": [
    "# Multivariate Analysis\n",
    "plt.figure(figsize=(15,13))\n",
    "sns.heatmap(dfcor,cmap='YlOrRd_r',annot=True)"
   ]
  },
  {
   "cell_type": "markdown",
   "metadata": {},
   "source": [
    "Observations:-\n",
    "    \n",
    "1. class is highly positively correlated with gill-size.\n",
    "2. gill-size is highly negatively correlated with gill-color.\n",
    "3. gill-color is highly positively correlated with ring-type.\n",
    "4. gill-color is highly negatively correlated with class."
   ]
  },
  {
   "cell_type": "markdown",
   "metadata": {},
   "source": [
    "# Bivariate Analysis"
   ]
  },
  {
   "cell_type": "code",
   "execution_count": 21,
   "metadata": {},
   "outputs": [
    {
     "data": {
      "text/plain": [
       "<matplotlib.axes._subplots.AxesSubplot at 0x2ca0967e288>"
      ]
     },
     "execution_count": 21,
     "metadata": {},
     "output_type": "execute_result"
    },
    {
     "data": {
      "image/png": "[encoded data removed]",
      "text/plain": [
       "<Figure size 432x288 with 1 Axes>"
      ]
     },
     "metadata": {
      "needs_background": "light"
     },
     "output_type": "display_data"
    }
   ],
   "source": [
    "sns.scatterplot(x='class',y='gill-size',data=df,hue='class')"
   ]
  },
  {
   "cell_type": "markdown",
   "metadata": {},
   "source": [
    "Observations:-\n",
    "    \n",
    "1. Both classes have approximately same gill-size ."
   ]
  },
  {
   "cell_type": "code",
   "execution_count": 22,
   "metadata": {},
   "outputs": [
    {
     "data": {
      "text/plain": [
       "<matplotlib.axes._subplots.AxesSubplot at 0x2ca096d1288>"
      ]
     },
     "execution_count": 22,
     "metadata": {},
     "output_type": "execute_result"
    },
    {
     "data": {
      "image/png": "[encoded data removed]",
      "text/plain": [
       "<Figure size 432x288 with 1 Axes>"
      ]
     },
     "metadata": {
      "needs_background": "light"
     },
     "output_type": "display_data"
    }
   ],
   "source": [
    "sns.scatterplot(x='class',y='gill-color',data=df,hue='class')"
   ]
  },
  {
   "cell_type": "markdown",
   "metadata": {},
   "source": [
    "Observations:-\n",
    "    \n",
    "1. Class 0 has gill-colours ranging from 1 to 7 and then 9 to 11.\n",
    "2. Class 1 has gill-colours ranging from 0 to 5 and then 7 to 11."
   ]
  },
  {
   "cell_type": "code",
   "execution_count": 23,
   "metadata": {},
   "outputs": [
    {
     "data": {
      "text/plain": [
       "<matplotlib.axes._subplots.AxesSubplot at 0x2ca0904a6c8>"
      ]
     },
     "execution_count": 23,
     "metadata": {},
     "output_type": "execute_result"
    },
    {
     "data": {
      "image/png": "[encoded data removed]",
      "text/plain": [
       "<Figure size 432x288 with 1 Axes>"
      ]
     },
     "metadata": {
      "needs_background": "light"
     },
     "output_type": "display_data"
    }
   ],
   "source": [
    "sns.scatterplot(x='gill-color',y='gill-size',data=df,hue='gill-color')"
   ]
  },
  {
   "cell_type": "markdown",
   "metadata": {},
   "source": [
    "Observations:-\n",
    "    \n",
    "1. All gill-colors are either of 0 gill-size or 1 gill-size and no in between."
   ]
  },
  {
   "cell_type": "markdown",
   "metadata": {},
   "source": [
    "# Plotting Outliers"
   ]
  },
  {
   "cell_type": "code",
   "execution_count": 24,
   "metadata": {},
   "outputs": [
    {
     "data": {
      "text/plain": [
       "<matplotlib.axes._subplots.AxesSubplot at 0x2ca090ea208>"
      ]
     },
     "execution_count": 24,
     "metadata": {},
     "output_type": "execute_result"
    },
    {
     "data": {
      "image/png": "[encoded data removed]",
      "text/plain": [
       "<Figure size 432x288 with 1 Axes>"
      ]
     },
     "metadata": {
      "needs_background": "light"
     },
     "output_type": "display_data"
    }
   ],
   "source": [
    "sns.boxplot(df['cap-color'])\n"
   ]
  },
  {
   "cell_type": "markdown",
   "metadata": {},
   "source": [
    "Observations:-\n",
    "    \n",
    "1. No outlier is present in cap-color."
   ]
  },
  {
   "cell_type": "code",
   "execution_count": 25,
   "metadata": {},
   "outputs": [
    {
     "data": {
      "text/plain": [
       "<matplotlib.axes._subplots.AxesSubplot at 0x2ca09143648>"
      ]
     },
     "execution_count": 25,
     "metadata": {},
     "output_type": "execute_result"
    },
    {
     "data": {
      "image/png": "[encoded data removed]",
      "text/plain": [
       "<Figure size 432x288 with 1 Axes>"
      ]
     },
     "metadata": {
      "needs_background": "light"
     },
     "output_type": "display_data"
    }
   ],
   "source": [
    "sns.boxplot(df['cap-shape'])"
   ]
  },
  {
   "cell_type": "markdown",
   "metadata": {},
   "source": [
    "Observations:-\n",
    "    \n",
    "1. No outlier is present in cap-shape."
   ]
  },
  {
   "cell_type": "code",
   "execution_count": 26,
   "metadata": {},
   "outputs": [
    {
     "data": {
      "text/plain": [
       "<matplotlib.axes._subplots.AxesSubplot at 0x2ca091a0bc8>"
      ]
     },
     "execution_count": 26,
     "metadata": {},
     "output_type": "execute_result"
    },
    {
     "data": {
      "image/png": "[encoded data removed]",
      "text/plain": [
       "<Figure size 432x288 with 1 Axes>"
      ]
     },
     "metadata": {
      "needs_background": "light"
     },
     "output_type": "display_data"
    }
   ],
   "source": [
    "sns.boxplot(df['cap-surface'])"
   ]
  },
  {
   "cell_type": "markdown",
   "metadata": {},
   "source": [
    "Observations:-\n",
    "    \n",
    "1. No outlier is present in cap-surface."
   ]
  },
  {
   "cell_type": "code",
   "execution_count": 27,
   "metadata": {},
   "outputs": [
    {
     "data": {
      "text/plain": [
       "<matplotlib.axes._subplots.AxesSubplot at 0x2ca09248cc8>"
      ]
     },
     "execution_count": 27,
     "metadata": {},
     "output_type": "execute_result"
    },
    {
     "data": {
      "image/png": "[encoded data removed]",
      "text/plain": [
       "<Figure size 432x288 with 1 Axes>"
      ]
     },
     "metadata": {
      "needs_background": "light"
     },
     "output_type": "display_data"
    }
   ],
   "source": [
    "sns.boxplot(df['bruises'])"
   ]
  },
  {
   "cell_type": "markdown",
   "metadata": {},
   "source": [
    "Observations:-\n",
    "    \n",
    "1. No outlier is present in bruises."
   ]
  },
  {
   "cell_type": "code",
   "execution_count": 28,
   "metadata": {},
   "outputs": [
    {
     "data": {
      "text/plain": [
       "<matplotlib.axes._subplots.AxesSubplot at 0x2ca092abfc8>"
      ]
     },
     "execution_count": 28,
     "metadata": {},
     "output_type": "execute_result"
    },
    {
     "data": {
      "image/png": "[encoded data removed]",
      "text/plain": [
       "<Figure size 432x288 with 1 Axes>"
      ]
     },
     "metadata": {
      "needs_background": "light"
     },
     "output_type": "display_data"
    }
   ],
   "source": [
    "sns.boxplot(df['odor'])"
   ]
  },
  {
   "cell_type": "markdown",
   "metadata": {},
   "source": [
    "Observations:-\n",
    "\n",
    "1. No outlier is present in bruises."
   ]
  },
  {
   "cell_type": "code",
   "execution_count": 29,
   "metadata": {},
   "outputs": [
    {
     "data": {
      "text/plain": [
       "<matplotlib.axes._subplots.AxesSubplot at 0x2ca09323d88>"
      ]
     },
     "execution_count": 29,
     "metadata": {},
     "output_type": "execute_result"
    },
    {
     "data": {
      "image/png": "[encoded data removed]",
      "text/plain": [
       "<Figure size 432x288 with 1 Axes>"
      ]
     },
     "metadata": {
      "needs_background": "light"
     },
     "output_type": "display_data"
    }
   ],
   "source": [
    "sns.boxplot(df['gill-attachment'])"
   ]
  },
  {
   "cell_type": "markdown",
   "metadata": {},
   "source": [
    "Observations:-\n",
    "\n",
    "1. Outlier is present in gill-attachment.\n"
   ]
  },
  {
   "cell_type": "code",
   "execution_count": 30,
   "metadata": {},
   "outputs": [
    {
     "data": {
      "text/plain": [
       "<matplotlib.axes._subplots.AxesSubplot at 0x2ca0937df88>"
      ]
     },
     "execution_count": 30,
     "metadata": {},
     "output_type": "execute_result"
    },
    {
     "data": {
      "image/png": "[encoded data removed]",
      "text/plain": [
       "<Figure size 432x288 with 1 Axes>"
      ]
     },
     "metadata": {
      "needs_background": "light"
     },
     "output_type": "display_data"
    }
   ],
   "source": [
    "sns.boxplot(df['gill-spacing'])"
   ]
  },
  {
   "cell_type": "markdown",
   "metadata": {},
   "source": [
    "Observations:-\n",
    "\n",
    "1. Outlier is present in gill-spacing."
   ]
  },
  {
   "cell_type": "code",
   "execution_count": 31,
   "metadata": {},
   "outputs": [
    {
     "data": {
      "text/plain": [
       "<matplotlib.axes._subplots.AxesSubplot at 0x2ca093e7b48>"
      ]
     },
     "execution_count": 31,
     "metadata": {},
     "output_type": "execute_result"
    },
    {
     "data": {
      "image/png": "[encoded data removed]",
      "text/plain": [
       "<Figure size 432x288 with 1 Axes>"
      ]
     },
     "metadata": {
      "needs_background": "light"
     },
     "output_type": "display_data"
    }
   ],
   "source": [
    "sns.boxplot(df['gill-size'])"
   ]
  },
  {
   "cell_type": "markdown",
   "metadata": {},
   "source": [
    "Observations:-\n",
    "\n",
    "1. No outlier is present in gill-size."
   ]
  },
  {
   "cell_type": "code",
   "execution_count": 32,
   "metadata": {},
   "outputs": [
    {
     "data": {
      "text/plain": [
       "<matplotlib.axes._subplots.AxesSubplot at 0x2ca0aa99cc8>"
      ]
     },
     "execution_count": 32,
     "metadata": {},
     "output_type": "execute_result"
    },
    {
     "data": {
      "image/png": "[encoded data removed]",
      "text/plain": [
       "<Figure size 432x288 with 1 Axes>"
      ]
     },
     "metadata": {
      "needs_background": "light"
     },
     "output_type": "display_data"
    }
   ],
   "source": [
    "sns.boxplot(df['gill-color'])"
   ]
  },
  {
   "cell_type": "markdown",
   "metadata": {},
   "source": [
    "Observations:-\n",
    "\n",
    "1. No outlier is present in gill-color."
   ]
  },
  {
   "cell_type": "code",
   "execution_count": 33,
   "metadata": {},
   "outputs": [],
   "source": [
    "df_1=df.drop(['class','cap-color','cap-shape','cap-surface','bruises','odor','gill-attachment','gill-spacing','gill-size','gill-color','veil-type'],axis=1)"
   ]
  },
  {
   "cell_type": "code",
   "execution_count": 34,
   "metadata": {},
   "outputs": [
    {
     "data": {
      "text/html": [
       "<div>\n",
       "<style scoped>\n",
       "    .dataframe tbody tr th:only-of-type {\n",
       "        vertical-align: middle;\n",
       "    }\n",
       "\n",
       "    .dataframe tbody tr th {\n",
       "        vertical-align: top;\n",
       "    }\n",
       "\n",
       "    .dataframe thead th {\n",
       "        text-align: right;\n",
       "    }\n",
       "</style>\n",
       "<table border=\"1\" class=\"dataframe\">\n",
       "  <thead>\n",
       "    <tr style=\"text-align: right;\">\n",
       "      <th></th>\n",
       "      <th>stalk-shape</th>\n",
       "      <th>stalk-root</th>\n",
       "      <th>stalk-surface-above-ring</th>\n",
       "      <th>stalk-surface-below-ring</th>\n",
       "      <th>stalk-color-above-ring</th>\n",
       "      <th>stalk-color-below-ring</th>\n",
       "      <th>veil-color</th>\n",
       "      <th>ring-number</th>\n",
       "      <th>ring-type</th>\n",
       "      <th>spore-print-color</th>\n",
       "      <th>population</th>\n",
       "      <th>habitat</th>\n",
       "    </tr>\n",
       "  </thead>\n",
       "  <tbody>\n",
       "    <tr>\n",
       "      <th>0</th>\n",
       "      <td>0</td>\n",
       "      <td>3</td>\n",
       "      <td>2</td>\n",
       "      <td>2</td>\n",
       "      <td>7</td>\n",
       "      <td>7</td>\n",
       "      <td>2</td>\n",
       "      <td>1</td>\n",
       "      <td>4</td>\n",
       "      <td>2</td>\n",
       "      <td>3</td>\n",
       "      <td>5</td>\n",
       "    </tr>\n",
       "    <tr>\n",
       "      <th>1</th>\n",
       "      <td>0</td>\n",
       "      <td>2</td>\n",
       "      <td>2</td>\n",
       "      <td>2</td>\n",
       "      <td>7</td>\n",
       "      <td>7</td>\n",
       "      <td>2</td>\n",
       "      <td>1</td>\n",
       "      <td>4</td>\n",
       "      <td>3</td>\n",
       "      <td>2</td>\n",
       "      <td>1</td>\n",
       "    </tr>\n",
       "    <tr>\n",
       "      <th>2</th>\n",
       "      <td>0</td>\n",
       "      <td>2</td>\n",
       "      <td>2</td>\n",
       "      <td>2</td>\n",
       "      <td>7</td>\n",
       "      <td>7</td>\n",
       "      <td>2</td>\n",
       "      <td>1</td>\n",
       "      <td>4</td>\n",
       "      <td>3</td>\n",
       "      <td>2</td>\n",
       "      <td>3</td>\n",
       "    </tr>\n",
       "    <tr>\n",
       "      <th>3</th>\n",
       "      <td>0</td>\n",
       "      <td>3</td>\n",
       "      <td>2</td>\n",
       "      <td>2</td>\n",
       "      <td>7</td>\n",
       "      <td>7</td>\n",
       "      <td>2</td>\n",
       "      <td>1</td>\n",
       "      <td>4</td>\n",
       "      <td>2</td>\n",
       "      <td>3</td>\n",
       "      <td>5</td>\n",
       "    </tr>\n",
       "    <tr>\n",
       "      <th>4</th>\n",
       "      <td>1</td>\n",
       "      <td>3</td>\n",
       "      <td>2</td>\n",
       "      <td>2</td>\n",
       "      <td>7</td>\n",
       "      <td>7</td>\n",
       "      <td>2</td>\n",
       "      <td>1</td>\n",
       "      <td>0</td>\n",
       "      <td>3</td>\n",
       "      <td>0</td>\n",
       "      <td>1</td>\n",
       "    </tr>\n",
       "  </tbody>\n",
       "</table>\n",
       "</div>"
      ],
      "text/plain": [
       "   stalk-shape  stalk-root  stalk-surface-above-ring  \\\n",
       "0            0           3                         2   \n",
       "1            0           2                         2   \n",
       "2            0           2                         2   \n",
       "3            0           3                         2   \n",
       "4            1           3                         2   \n",
       "\n",
       "   stalk-surface-below-ring  stalk-color-above-ring  stalk-color-below-ring  \\\n",
       "0                         2                       7                       7   \n",
       "1                         2                       7                       7   \n",
       "2                         2                       7                       7   \n",
       "3                         2                       7                       7   \n",
       "4                         2                       7                       7   \n",
       "\n",
       "   veil-color  ring-number  ring-type  spore-print-color  population  habitat  \n",
       "0           2            1          4                  2           3        5  \n",
       "1           2            1          4                  3           2        1  \n",
       "2           2            1          4                  3           2        3  \n",
       "3           2            1          4                  2           3        5  \n",
       "4           2            1          0                  3           0        1  "
      ]
     },
     "execution_count": 34,
     "metadata": {},
     "output_type": "execute_result"
    }
   ],
   "source": [
    "df_1.head()"
   ]
  },
  {
   "cell_type": "code",
   "execution_count": 35,
   "metadata": {},
   "outputs": [
    {
     "data": {
      "text/plain": [
       "(8124, 12)"
      ]
     },
     "execution_count": 35,
     "metadata": {},
     "output_type": "execute_result"
    }
   ],
   "source": [
    "df_1.shape"
   ]
  },
  {
   "cell_type": "code",
   "execution_count": 36,
   "metadata": {},
   "outputs": [
    {
     "data": {
      "text/plain": [
       "stalk-shape                    AxesSubplot(0.125,0.787927;0.352273x0.0920732)\n",
       "stalk-root                  AxesSubplot(0.547727,0.787927;0.352273x0.0920732)\n",
       "stalk-surface-above-ring       AxesSubplot(0.125,0.677439;0.352273x0.0920732)\n",
       "stalk-surface-below-ring    AxesSubplot(0.547727,0.677439;0.352273x0.0920732)\n",
       "stalk-color-above-ring         AxesSubplot(0.125,0.566951;0.352273x0.0920732)\n",
       "stalk-color-below-ring      AxesSubplot(0.547727,0.566951;0.352273x0.0920732)\n",
       "veil-color                     AxesSubplot(0.125,0.456463;0.352273x0.0920732)\n",
       "ring-number                 AxesSubplot(0.547727,0.456463;0.352273x0.0920732)\n",
       "ring-type                      AxesSubplot(0.125,0.345976;0.352273x0.0920732)\n",
       "spore-print-color           AxesSubplot(0.547727,0.345976;0.352273x0.0920732)\n",
       "population                     AxesSubplot(0.125,0.235488;0.352273x0.0920732)\n",
       "habitat                     AxesSubplot(0.547727,0.235488;0.352273x0.0920732)\n",
       "dtype: object"
      ]
     },
     "execution_count": 36,
     "metadata": {},
     "output_type": "execute_result"
    },
    {
     "data": {
      "text/plain": [
       "<Figure size 144x432 with 0 Axes>"
      ]
     },
     "metadata": {},
     "output_type": "display_data"
    },
    {
     "data": {
      "image/png": "[encoded data removed]",
      "text/plain": [
       "<Figure size 432x288 with 14 Axes>"
      ]
     },
     "metadata": {
      "needs_background": "light"
     },
     "output_type": "display_data"
    }
   ],
   "source": [
    "plt.figure(figsize=(2,6))\n",
    "df_1.plot(kind='box',subplots=True,layout=(7,2))\n"
   ]
  },
  {
   "cell_type": "markdown",
   "metadata": {},
   "source": [
    "Observations:-\n",
    "    \n",
    "1. stalk-root, stalk-color-above-ring,stalk-surface-below-ring,veil-color,ring-number,population,habitat have outliers"
   ]
  },
  {
   "cell_type": "code",
   "execution_count": 37,
   "metadata": {},
   "outputs": [
    {
     "data": {
      "text/plain": [
       "0    0\n",
       "1    0\n",
       "2    0\n",
       "3    0\n",
       "4    0\n",
       "Name: veil-type, dtype: int32"
      ]
     },
     "execution_count": 37,
     "metadata": {},
     "output_type": "execute_result"
    }
   ],
   "source": [
    "df['veil-type']=LE.fit_transform(df['veil-type'])\n",
    "df['veil-type'].head()"
   ]
  },
  {
   "cell_type": "markdown",
   "metadata": {},
   "source": [
    "# Removing Outliers"
   ]
  },
  {
   "cell_type": "code",
   "execution_count": 38,
   "metadata": {},
   "outputs": [
    {
     "name": "stdout",
     "output_type": "stream",
     "text": [
      "(array([1816, 2128, 2128, ..., 8121, 8123, 8123], dtype=int64), array([15, 14, 15, ..., 17,  6, 17], dtype=int64))\n"
     ]
    }
   ],
   "source": [
    "from scipy.stats import zscore\n",
    "z=np.abs(zscore(df))\n",
    "print(np.where(z>3))"
   ]
  },
  {
   "cell_type": "code",
   "execution_count": 39,
   "metadata": {},
   "outputs": [],
   "source": [
    "threshold=3\n",
    "df_new=df[(z<3).all(axis=1)]"
   ]
  },
  {
   "cell_type": "code",
   "execution_count": 40,
   "metadata": {},
   "outputs": [
    {
     "data": {
      "text/plain": [
       "(0, 23)"
      ]
     },
     "execution_count": 40,
     "metadata": {},
     "output_type": "execute_result"
    }
   ],
   "source": [
    "df_new.shape"
   ]
  },
  {
   "cell_type": "code",
   "execution_count": 41,
   "metadata": {},
   "outputs": [
    {
     "data": {
      "text/html": [
       "<div>\n",
       "<style scoped>\n",
       "    .dataframe tbody tr th:only-of-type {\n",
       "        vertical-align: middle;\n",
       "    }\n",
       "\n",
       "    .dataframe tbody tr th {\n",
       "        vertical-align: top;\n",
       "    }\n",
       "\n",
       "    .dataframe thead th {\n",
       "        text-align: right;\n",
       "    }\n",
       "</style>\n",
       "<table border=\"1\" class=\"dataframe\">\n",
       "  <thead>\n",
       "    <tr style=\"text-align: right;\">\n",
       "      <th></th>\n",
       "      <th>class</th>\n",
       "      <th>cap-shape</th>\n",
       "      <th>cap-surface</th>\n",
       "      <th>cap-color</th>\n",
       "      <th>bruises</th>\n",
       "      <th>odor</th>\n",
       "      <th>gill-attachment</th>\n",
       "      <th>gill-spacing</th>\n",
       "      <th>gill-size</th>\n",
       "      <th>gill-color</th>\n",
       "      <th>...</th>\n",
       "      <th>stalk-surface-below-ring</th>\n",
       "      <th>stalk-color-above-ring</th>\n",
       "      <th>stalk-color-below-ring</th>\n",
       "      <th>veil-type</th>\n",
       "      <th>veil-color</th>\n",
       "      <th>ring-number</th>\n",
       "      <th>ring-type</th>\n",
       "      <th>spore-print-color</th>\n",
       "      <th>population</th>\n",
       "      <th>habitat</th>\n",
       "    </tr>\n",
       "  </thead>\n",
       "  <tbody>\n",
       "    <tr>\n",
       "      <th>0</th>\n",
       "      <td>1</td>\n",
       "      <td>5</td>\n",
       "      <td>2</td>\n",
       "      <td>4</td>\n",
       "      <td>1</td>\n",
       "      <td>6</td>\n",
       "      <td>1</td>\n",
       "      <td>0</td>\n",
       "      <td>1</td>\n",
       "      <td>4</td>\n",
       "      <td>...</td>\n",
       "      <td>2</td>\n",
       "      <td>7</td>\n",
       "      <td>7</td>\n",
       "      <td>0</td>\n",
       "      <td>2</td>\n",
       "      <td>1</td>\n",
       "      <td>4</td>\n",
       "      <td>2</td>\n",
       "      <td>3</td>\n",
       "      <td>5</td>\n",
       "    </tr>\n",
       "    <tr>\n",
       "      <th>1</th>\n",
       "      <td>0</td>\n",
       "      <td>5</td>\n",
       "      <td>2</td>\n",
       "      <td>9</td>\n",
       "      <td>1</td>\n",
       "      <td>0</td>\n",
       "      <td>1</td>\n",
       "      <td>0</td>\n",
       "      <td>0</td>\n",
       "      <td>4</td>\n",
       "      <td>...</td>\n",
       "      <td>2</td>\n",
       "      <td>7</td>\n",
       "      <td>7</td>\n",
       "      <td>0</td>\n",
       "      <td>2</td>\n",
       "      <td>1</td>\n",
       "      <td>4</td>\n",
       "      <td>3</td>\n",
       "      <td>2</td>\n",
       "      <td>1</td>\n",
       "    </tr>\n",
       "    <tr>\n",
       "      <th>2</th>\n",
       "      <td>0</td>\n",
       "      <td>0</td>\n",
       "      <td>2</td>\n",
       "      <td>8</td>\n",
       "      <td>1</td>\n",
       "      <td>3</td>\n",
       "      <td>1</td>\n",
       "      <td>0</td>\n",
       "      <td>0</td>\n",
       "      <td>5</td>\n",
       "      <td>...</td>\n",
       "      <td>2</td>\n",
       "      <td>7</td>\n",
       "      <td>7</td>\n",
       "      <td>0</td>\n",
       "      <td>2</td>\n",
       "      <td>1</td>\n",
       "      <td>4</td>\n",
       "      <td>3</td>\n",
       "      <td>2</td>\n",
       "      <td>3</td>\n",
       "    </tr>\n",
       "    <tr>\n",
       "      <th>3</th>\n",
       "      <td>1</td>\n",
       "      <td>5</td>\n",
       "      <td>3</td>\n",
       "      <td>8</td>\n",
       "      <td>1</td>\n",
       "      <td>6</td>\n",
       "      <td>1</td>\n",
       "      <td>0</td>\n",
       "      <td>1</td>\n",
       "      <td>5</td>\n",
       "      <td>...</td>\n",
       "      <td>2</td>\n",
       "      <td>7</td>\n",
       "      <td>7</td>\n",
       "      <td>0</td>\n",
       "      <td>2</td>\n",
       "      <td>1</td>\n",
       "      <td>4</td>\n",
       "      <td>2</td>\n",
       "      <td>3</td>\n",
       "      <td>5</td>\n",
       "    </tr>\n",
       "    <tr>\n",
       "      <th>4</th>\n",
       "      <td>0</td>\n",
       "      <td>5</td>\n",
       "      <td>2</td>\n",
       "      <td>3</td>\n",
       "      <td>0</td>\n",
       "      <td>5</td>\n",
       "      <td>1</td>\n",
       "      <td>1</td>\n",
       "      <td>0</td>\n",
       "      <td>4</td>\n",
       "      <td>...</td>\n",
       "      <td>2</td>\n",
       "      <td>7</td>\n",
       "      <td>7</td>\n",
       "      <td>0</td>\n",
       "      <td>2</td>\n",
       "      <td>1</td>\n",
       "      <td>0</td>\n",
       "      <td>3</td>\n",
       "      <td>0</td>\n",
       "      <td>1</td>\n",
       "    </tr>\n",
       "  </tbody>\n",
       "</table>\n",
       "<p>5 rows × 23 columns</p>\n",
       "</div>"
      ],
      "text/plain": [
       "   class  cap-shape  cap-surface  cap-color  bruises  odor  gill-attachment  \\\n",
       "0      1          5            2          4        1     6                1   \n",
       "1      0          5            2          9        1     0                1   \n",
       "2      0          0            2          8        1     3                1   \n",
       "3      1          5            3          8        1     6                1   \n",
       "4      0          5            2          3        0     5                1   \n",
       "\n",
       "   gill-spacing  gill-size  gill-color  ...  stalk-surface-below-ring  \\\n",
       "0             0          1           4  ...                         2   \n",
       "1             0          0           4  ...                         2   \n",
       "2             0          0           5  ...                         2   \n",
       "3             0          1           5  ...                         2   \n",
       "4             1          0           4  ...                         2   \n",
       "\n",
       "   stalk-color-above-ring  stalk-color-below-ring  veil-type  veil-color  \\\n",
       "0                       7                       7          0           2   \n",
       "1                       7                       7          0           2   \n",
       "2                       7                       7          0           2   \n",
       "3                       7                       7          0           2   \n",
       "4                       7                       7          0           2   \n",
       "\n",
       "   ring-number  ring-type  spore-print-color  population  habitat  \n",
       "0            1          4                  2           3        5  \n",
       "1            1          4                  3           2        1  \n",
       "2            1          4                  3           2        3  \n",
       "3            1          4                  2           3        5  \n",
       "4            1          0                  3           0        1  \n",
       "\n",
       "[5 rows x 23 columns]"
      ]
     },
     "execution_count": 41,
     "metadata": {},
     "output_type": "execute_result"
    }
   ],
   "source": [
    "df.head()"
   ]
  },
  {
   "cell_type": "code",
   "execution_count": 42,
   "metadata": {},
   "outputs": [
    {
     "data": {
      "text/plain": [
       "(8124, 23)"
      ]
     },
     "execution_count": 42,
     "metadata": {},
     "output_type": "execute_result"
    }
   ],
   "source": [
    "df.shape"
   ]
  },
  {
   "cell_type": "markdown",
   "metadata": {},
   "source": [
    "As here we are loosing 100% data after using zscore method. So, we will not remove outliers in this dataset."
   ]
  },
  {
   "cell_type": "markdown",
   "metadata": {},
   "source": [
    "# To check skewness"
   ]
  },
  {
   "cell_type": "code",
   "execution_count": 43,
   "metadata": {},
   "outputs": [
    {
     "data": {
      "text/plain": [
       "Index(['class', 'cap-shape', 'cap-surface', 'cap-color', 'bruises', 'odor',\n",
       "       'gill-attachment', 'gill-spacing', 'gill-size', 'gill-color',\n",
       "       'stalk-shape', 'stalk-root', 'stalk-surface-above-ring',\n",
       "       'stalk-surface-below-ring', 'stalk-color-above-ring',\n",
       "       'stalk-color-below-ring', 'veil-type', 'veil-color', 'ring-number',\n",
       "       'ring-type', 'spore-print-color', 'population', 'habitat'],\n",
       "      dtype='object')"
      ]
     },
     "execution_count": 43,
     "metadata": {},
     "output_type": "execute_result"
    }
   ],
   "source": [
    "df.columns"
   ]
  },
  {
   "cell_type": "code",
   "execution_count": 44,
   "metadata": {},
   "outputs": [
    {
     "data": {
      "text/plain": [
       "<matplotlib.axes._subplots.AxesSubplot at 0x2ca0afe0208>"
      ]
     },
     "execution_count": 44,
     "metadata": {},
     "output_type": "execute_result"
    },
    {
     "data": {
      "image/png": "[encoded data removed]",
      "text/plain": [
       "<Figure size 432x288 with 1 Axes>"
      ]
     },
     "metadata": {
      "needs_background": "light"
     },
     "output_type": "display_data"
    }
   ],
   "source": [
    "sns.distplot(df['class'])"
   ]
  },
  {
   "cell_type": "markdown",
   "metadata": {},
   "source": [
    "Observations :-\n",
    "    \n",
    "1. Data of class coluumn is not skewed."
   ]
  },
  {
   "cell_type": "code",
   "execution_count": 45,
   "metadata": {},
   "outputs": [
    {
     "data": {
      "text/plain": [
       "<matplotlib.axes._subplots.AxesSubplot at 0x2ca0b1f76c8>"
      ]
     },
     "execution_count": 45,
     "metadata": {},
     "output_type": "execute_result"
    },
    {
     "data": {
      "image/png": "[encoded data removed]",
      "text/plain": [
       "<Figure size 432x288 with 1 Axes>"
      ]
     },
     "metadata": {
      "needs_background": "light"
     },
     "output_type": "display_data"
    }
   ],
   "source": [
    "sns.distplot(df['cap-shape'])"
   ]
  },
  {
   "cell_type": "markdown",
   "metadata": {},
   "source": [
    "Observations :-\n",
    "    \n",
    "1. Data of cap-shape coluumn is not skewed."
   ]
  },
  {
   "cell_type": "code",
   "execution_count": 46,
   "metadata": {},
   "outputs": [
    {
     "data": {
      "text/plain": [
       "<matplotlib.axes._subplots.AxesSubplot at 0x2ca0b274208>"
      ]
     },
     "execution_count": 46,
     "metadata": {},
     "output_type": "execute_result"
    },
    {
     "data": {
      "image/png": "[encoded data removed]",
      "text/plain": [
       "<Figure size 432x288 with 1 Axes>"
      ]
     },
     "metadata": {
      "needs_background": "light"
     },
     "output_type": "display_data"
    }
   ],
   "source": [
    "sns.distplot(df['cap-surface'])"
   ]
  },
  {
   "cell_type": "markdown",
   "metadata": {},
   "source": [
    "Observations:-\n",
    "    \n",
    "1. Data of cap-shape coluumn is slightly left skewed."
   ]
  },
  {
   "cell_type": "code",
   "execution_count": 47,
   "metadata": {},
   "outputs": [
    {
     "data": {
      "text/plain": [
       "<matplotlib.axes._subplots.AxesSubplot at 0x2ca0b308ac8>"
      ]
     },
     "execution_count": 47,
     "metadata": {},
     "output_type": "execute_result"
    },
    {
     "data": {
      "image/png": "[encoded data removed]",
      "text/plain": [
       "<Figure size 432x288 with 1 Axes>"
      ]
     },
     "metadata": {
      "needs_background": "light"
     },
     "output_type": "display_data"
    }
   ],
   "source": [
    "sns.distplot(df['cap-color'])"
   ]
  },
  {
   "cell_type": "markdown",
   "metadata": {},
   "source": [
    "Observations:-\n",
    "    \n",
    "1. Data of cap-color coluumn is right skewed."
   ]
  },
  {
   "cell_type": "code",
   "execution_count": 48,
   "metadata": {},
   "outputs": [
    {
     "data": {
      "text/plain": [
       "<matplotlib.axes._subplots.AxesSubplot at 0x2ca0b38e688>"
      ]
     },
     "execution_count": 48,
     "metadata": {},
     "output_type": "execute_result"
    },
    {
     "data": {
      "image/png": "[encoded data removed]",
      "text/plain": [
       "<Figure size 432x288 with 1 Axes>"
      ]
     },
     "metadata": {
      "needs_background": "light"
     },
     "output_type": "display_data"
    }
   ],
   "source": [
    "sns.distplot(df['bruises'])"
   ]
  },
  {
   "cell_type": "markdown",
   "metadata": {},
   "source": [
    "Observations:-\n",
    "    \n",
    "1. Data of bruises coluumn is not skewed."
   ]
  },
  {
   "cell_type": "code",
   "execution_count": 49,
   "metadata": {},
   "outputs": [
    {
     "data": {
      "text/plain": [
       "<matplotlib.axes._subplots.AxesSubplot at 0x2ca0b440d88>"
      ]
     },
     "execution_count": 49,
     "metadata": {},
     "output_type": "execute_result"
    },
    {
     "data": {
      "image/png": "[encoded data removed]",
      "text/plain": [
       "<Figure size 432x288 with 1 Axes>"
      ]
     },
     "metadata": {
      "needs_background": "light"
     },
     "output_type": "display_data"
    }
   ],
   "source": [
    "sns.distplot(df['odor'])"
   ]
  },
  {
   "cell_type": "markdown",
   "metadata": {},
   "source": [
    "Observations:-\n",
    "    \n",
    "1. Data of odour column is not skewed."
   ]
  },
  {
   "cell_type": "code",
   "execution_count": 50,
   "metadata": {},
   "outputs": [
    {
     "data": {
      "text/plain": [
       "<matplotlib.axes._subplots.AxesSubplot at 0x2ca0b49cf88>"
      ]
     },
     "execution_count": 50,
     "metadata": {},
     "output_type": "execute_result"
    },
    {
     "data": {
      "image/png": "[encoded data removed]",
      "text/plain": [
       "<Figure size 432x288 with 1 Axes>"
      ]
     },
     "metadata": {
      "needs_background": "light"
     },
     "output_type": "display_data"
    }
   ],
   "source": [
    "sns.distplot(df['gill-size'])"
   ]
  },
  {
   "cell_type": "markdown",
   "metadata": {},
   "source": [
    "Observations:-\n",
    "    \n",
    "1. Data of gill-size column is right skewed."
   ]
  },
  {
   "cell_type": "code",
   "execution_count": 51,
   "metadata": {},
   "outputs": [
    {
     "data": {
      "text/plain": [
       "<matplotlib.axes._subplots.AxesSubplot at 0x2ca0b434888>"
      ]
     },
     "execution_count": 51,
     "metadata": {},
     "output_type": "execute_result"
    },
    {
     "data": {
      "image/png": "[encoded data removed]",
      "text/plain": [
       "<Figure size 432x288 with 1 Axes>"
      ]
     },
     "metadata": {
      "needs_background": "light"
     },
     "output_type": "display_data"
    }
   ],
   "source": [
    "sns.distplot(df['gill-color'])"
   ]
  },
  {
   "cell_type": "markdown",
   "metadata": {},
   "source": [
    "Observations:-\n",
    "\n",
    "1. Data of gill-color column is not skewed."
   ]
  },
  {
   "cell_type": "code",
   "execution_count": 52,
   "metadata": {},
   "outputs": [
    {
     "data": {
      "text/plain": [
       "<matplotlib.axes._subplots.AxesSubplot at 0x2ca0b623548>"
      ]
     },
     "execution_count": 52,
     "metadata": {},
     "output_type": "execute_result"
    },
    {
     "data": {
      "image/png": "[encoded data removed]",
      "text/plain": [
       "<Figure size 432x288 with 1 Axes>"
      ]
     },
     "metadata": {
      "needs_background": "light"
     },
     "output_type": "display_data"
    }
   ],
   "source": [
    "sns.distplot(df['stalk-shape'])"
   ]
  },
  {
   "cell_type": "markdown",
   "metadata": {},
   "source": [
    "Observations:-\n",
    "\n",
    "1. Data of stalk-shape is not skewed."
   ]
  },
  {
   "cell_type": "code",
   "execution_count": 53,
   "metadata": {},
   "outputs": [
    {
     "data": {
      "text/plain": [
       "<matplotlib.axes._subplots.AxesSubplot at 0x2ca0c678148>"
      ]
     },
     "execution_count": 53,
     "metadata": {},
     "output_type": "execute_result"
    },
    {
     "data": {
      "image/png": "[encoded data removed]",
      "text/plain": [
       "<Figure size 432x288 with 1 Axes>"
      ]
     },
     "metadata": {
      "needs_background": "light"
     },
     "output_type": "display_data"
    }
   ],
   "source": [
    "sns.distplot(df['stalk-root'])"
   ]
  },
  {
   "cell_type": "markdown",
   "metadata": {},
   "source": [
    "Observations:-\n",
    "\n",
    "1. Data of stalk-root is right skewed."
   ]
  },
  {
   "cell_type": "code",
   "execution_count": 54,
   "metadata": {},
   "outputs": [
    {
     "data": {
      "text/plain": [
       "<matplotlib.axes._subplots.AxesSubplot at 0x2ca0c747548>"
      ]
     },
     "execution_count": 54,
     "metadata": {},
     "output_type": "execute_result"
    },
    {
     "data": {
      "image/png": "[encoded data removed]",
      "text/plain": [
       "<Figure size 432x288 with 1 Axes>"
      ]
     },
     "metadata": {
      "needs_background": "light"
     },
     "output_type": "display_data"
    }
   ],
   "source": [
    "sns.distplot(df['stalk-surface-above-ring'])"
   ]
  },
  {
   "cell_type": "markdown",
   "metadata": {},
   "source": [
    "Observations:-\n",
    "\n",
    "1. Data of stalk-surface-above-ring  is left skewed."
   ]
  },
  {
   "cell_type": "code",
   "execution_count": 55,
   "metadata": {},
   "outputs": [
    {
     "data": {
      "text/plain": [
       "<matplotlib.axes._subplots.AxesSubplot at 0x2ca0c80b2c8>"
      ]
     },
     "execution_count": 55,
     "metadata": {},
     "output_type": "execute_result"
    },
    {
     "data": {
      "image/png": "[encoded data removed]",
      "text/plain": [
       "<Figure size 432x288 with 1 Axes>"
      ]
     },
     "metadata": {
      "needs_background": "light"
     },
     "output_type": "display_data"
    }
   ],
   "source": [
    "sns.distplot(df['stalk-surface-below-ring'])"
   ]
  },
  {
   "cell_type": "markdown",
   "metadata": {},
   "source": [
    "Observations:-\n",
    "\n",
    "1. Data of stalk-surface-below-ring  is left skewed."
   ]
  },
  {
   "cell_type": "code",
   "execution_count": 56,
   "metadata": {},
   "outputs": [
    {
     "data": {
      "text/plain": [
       "<matplotlib.axes._subplots.AxesSubplot at 0x2ca0c8e1e88>"
      ]
     },
     "execution_count": 56,
     "metadata": {},
     "output_type": "execute_result"
    },
    {
     "data": {
      "image/png": "[encoded data removed]",
      "text/plain": [
       "<Figure size 432x288 with 1 Axes>"
      ]
     },
     "metadata": {
      "needs_background": "light"
     },
     "output_type": "display_data"
    }
   ],
   "source": [
    "sns.distplot(df['stalk-color-above-ring'])"
   ]
  },
  {
   "cell_type": "markdown",
   "metadata": {},
   "source": [
    "Observations:-\n",
    "\n",
    "1. Data of stalk-color-above-ring  is left skewed."
   ]
  },
  {
   "cell_type": "code",
   "execution_count": 57,
   "metadata": {},
   "outputs": [
    {
     "data": {
      "text/plain": [
       "<matplotlib.axes._subplots.AxesSubplot at 0x2ca0c9c0cc8>"
      ]
     },
     "execution_count": 57,
     "metadata": {},
     "output_type": "execute_result"
    },
    {
     "data": {
      "image/png": "[encoded data removed]",
      "text/plain": [
       "<Figure size 432x288 with 1 Axes>"
      ]
     },
     "metadata": {
      "needs_background": "light"
     },
     "output_type": "display_data"
    }
   ],
   "source": [
    "sns.distplot(df['stalk-color-below-ring'])"
   ]
  },
  {
   "cell_type": "markdown",
   "metadata": {},
   "source": [
    "Observations:-\n",
    "\n",
    "1. Data of stalk-color-below-ring  is left skewed."
   ]
  },
  {
   "cell_type": "code",
   "execution_count": 58,
   "metadata": {},
   "outputs": [
    {
     "data": {
      "text/plain": [
       "<matplotlib.axes._subplots.AxesSubplot at 0x2ca0caba548>"
      ]
     },
     "execution_count": 58,
     "metadata": {},
     "output_type": "execute_result"
    },
    {
     "data": {
      "image/png": "[encoded data removed]",
      "text/plain": [
       "<Figure size 432x288 with 1 Axes>"
      ]
     },
     "metadata": {
      "needs_background": "light"
     },
     "output_type": "display_data"
    }
   ],
   "source": [
    "sns.distplot(df['veil-type'])"
   ]
  },
  {
   "cell_type": "markdown",
   "metadata": {},
   "source": [
    "Observations:-\n",
    "\n",
    "1. Data of veil-type is not skewed."
   ]
  },
  {
   "cell_type": "code",
   "execution_count": 59,
   "metadata": {},
   "outputs": [
    {
     "data": {
      "text/plain": [
       "<matplotlib.axes._subplots.AxesSubplot at 0x2ca0cb97388>"
      ]
     },
     "execution_count": 59,
     "metadata": {},
     "output_type": "execute_result"
    },
    {
     "data": {
      "image/png": "[encoded data removed]",
      "text/plain": [
       "<Figure size 432x288 with 1 Axes>"
      ]
     },
     "metadata": {
      "needs_background": "light"
     },
     "output_type": "display_data"
    }
   ],
   "source": [
    "sns.distplot(df['ring-type'])"
   ]
  },
  {
   "cell_type": "markdown",
   "metadata": {},
   "source": [
    "Observations:-\n",
    "\n",
    "1. Data of ring-type is not skewed."
   ]
  },
  {
   "cell_type": "code",
   "execution_count": 60,
   "metadata": {},
   "outputs": [
    {
     "data": {
      "text/plain": [
       "<matplotlib.axes._subplots.AxesSubplot at 0x2ca0cc3d908>"
      ]
     },
     "execution_count": 60,
     "metadata": {},
     "output_type": "execute_result"
    },
    {
     "data": {
      "image/png": "[encoded data removed]",
      "text/plain": [
       "<Figure size 432x288 with 1 Axes>"
      ]
     },
     "metadata": {
      "needs_background": "light"
     },
     "output_type": "display_data"
    }
   ],
   "source": [
    "sns.distplot(df['veil-type'])"
   ]
  },
  {
   "cell_type": "markdown",
   "metadata": {},
   "source": [
    "Observations:-\n",
    "\n",
    "1. Data of veil-type is not skewed."
   ]
  },
  {
   "cell_type": "code",
   "execution_count": 61,
   "metadata": {},
   "outputs": [
    {
     "data": {
      "text/plain": [
       "<matplotlib.axes._subplots.AxesSubplot at 0x2ca0cc3d888>"
      ]
     },
     "execution_count": 61,
     "metadata": {},
     "output_type": "execute_result"
    },
    {
     "data": {
      "image/png": "[encoded data removed]",
      "text/plain": [
       "<Figure size 432x288 with 1 Axes>"
      ]
     },
     "metadata": {
      "needs_background": "light"
     },
     "output_type": "display_data"
    }
   ],
   "source": [
    "sns.distplot(df['spore-print-color'])"
   ]
  },
  {
   "cell_type": "markdown",
   "metadata": {},
   "source": [
    "Observations:-\n",
    "\n",
    "1. Data of spore-print-color is slightly right skewed."
   ]
  },
  {
   "cell_type": "code",
   "execution_count": 62,
   "metadata": {},
   "outputs": [
    {
     "data": {
      "text/plain": [
       "<matplotlib.axes._subplots.AxesSubplot at 0x2ca0cdbc3c8>"
      ]
     },
     "execution_count": 62,
     "metadata": {},
     "output_type": "execute_result"
    },
    {
     "data": {
      "image/png": "[encoded data removed]",
      "text/plain": [
       "<Figure size 432x288 with 1 Axes>"
      ]
     },
     "metadata": {
      "needs_background": "light"
     },
     "output_type": "display_data"
    }
   ],
   "source": [
    "sns.distplot(df['population'])\n"
   ]
  },
  {
   "cell_type": "markdown",
   "metadata": {},
   "source": [
    "Observations:-\n",
    "\n",
    "1. Data of population is left skewed."
   ]
  },
  {
   "cell_type": "code",
   "execution_count": 63,
   "metadata": {},
   "outputs": [
    {
     "data": {
      "text/plain": [
       "<matplotlib.axes._subplots.AxesSubplot at 0x2ca0cea5fc8>"
      ]
     },
     "execution_count": 63,
     "metadata": {},
     "output_type": "execute_result"
    },
    {
     "data": {
      "image/png": "[encoded data removed]",
      "text/plain": [
       "<Figure size 432x288 with 1 Axes>"
      ]
     },
     "metadata": {
      "needs_background": "light"
     },
     "output_type": "display_data"
    }
   ],
   "source": [
    "sns.distplot(df['habitat'])"
   ]
  },
  {
   "cell_type": "markdown",
   "metadata": {},
   "source": [
    "Observations:-\n",
    "\n",
    "1. Data of habitat is right skewed."
   ]
  },
  {
   "cell_type": "code",
   "execution_count": 64,
   "metadata": {},
   "outputs": [
    {
     "data": {
      "text/plain": [
       "class                       0.071946\n",
       "cap-shape                  -0.247052\n",
       "cap-surface                -0.590859\n",
       "cap-color                   0.706965\n",
       "bruises                     0.342750\n",
       "odor                       -0.080790\n",
       "gill-attachment            -5.977076\n",
       "gill-spacing                1.840088\n",
       "gill-size                   0.825797\n",
       "gill-color                  0.061410\n",
       "stalk-shape                -0.271345\n",
       "stalk-root                  0.947852\n",
       "stalk-surface-above-ring   -1.098739\n",
       "stalk-surface-below-ring   -0.757703\n",
       "stalk-color-above-ring     -1.835434\n",
       "stalk-color-below-ring     -1.791593\n",
       "veil-type                   0.000000\n",
       "veil-color                 -6.946944\n",
       "ring-number                 2.701657\n",
       "ring-type                  -0.290018\n",
       "spore-print-color           0.548426\n",
       "population                 -1.413096\n",
       "habitat                     0.985548\n",
       "dtype: float64"
      ]
     },
     "execution_count": 64,
     "metadata": {},
     "output_type": "execute_result"
    }
   ],
   "source": [
    "df.skew()"
   ]
  },
  {
   "cell_type": "markdown",
   "metadata": {},
   "source": [
    "cap-color , gill-attachment, gill-spacing, gill-size, stalk-root, stalk-surface-above-ring, stalk-surface-below-ring, \n",
    "stalk-color-above-ring, stalk-color-below-ring, veil-color, ring-number, population and habitat are highly skewed. "
   ]
  },
  {
   "cell_type": "code",
   "execution_count": 65,
   "metadata": {},
   "outputs": [],
   "source": [
    "np.log(df['cap-color'])\n",
    "df['cap-color']=df['cap-color'].skew()"
   ]
  },
  {
   "cell_type": "markdown",
   "metadata": {},
   "source": [
    "from logarithm the value is 0.7069648306800983"
   ]
  },
  {
   "cell_type": "markdown",
   "metadata": {},
   "source": [
    "--And then Using sqrt after log---"
   ]
  },
  {
   "cell_type": "code",
   "execution_count": 66,
   "metadata": {},
   "outputs": [
    {
     "data": {
      "text/plain": [
       "0       0.840812\n",
       "1       0.840812\n",
       "2       0.840812\n",
       "3       0.840812\n",
       "4       0.840812\n",
       "          ...   \n",
       "8119    0.840812\n",
       "8120    0.840812\n",
       "8121    0.840812\n",
       "8122    0.840812\n",
       "8123    0.840812\n",
       "Name: cap-color, Length: 8124, dtype: float64"
      ]
     },
     "execution_count": 66,
     "metadata": {},
     "output_type": "execute_result"
    }
   ],
   "source": [
    "np.sqrt(df['cap-color'])"
   ]
  },
  {
   "cell_type": "code",
   "execution_count": 67,
   "metadata": {},
   "outputs": [
    {
     "data": {
      "text/plain": [
       "0"
      ]
     },
     "execution_count": 67,
     "metadata": {},
     "output_type": "execute_result"
    }
   ],
   "source": [
    "df['cap-color']=df['cap-color'].skew()\n",
    "df['cap-color'].skew()"
   ]
  },
  {
   "cell_type": "markdown",
   "metadata": {},
   "source": [
    "from sqrt the value is 0."
   ]
  },
  {
   "cell_type": "raw",
   "metadata": {},
   "source": [
    "# Using sqrt after log, the value for cap-color is 0"
   ]
  },
  {
   "cell_type": "code",
   "execution_count": 68,
   "metadata": {},
   "outputs": [],
   "source": [
    "np.log(df['gill-spacing'])\n",
    "df['gill-spacing']=df['gill-spacing'].skew()"
   ]
  },
  {
   "cell_type": "markdown",
   "metadata": {},
   "source": [
    "from logarithm the value is 1.8400882459138057"
   ]
  },
  {
   "cell_type": "markdown",
   "metadata": {},
   "source": [
    "--And then Using sqrt after log---"
   ]
  },
  {
   "cell_type": "code",
   "execution_count": 69,
   "metadata": {},
   "outputs": [
    {
     "data": {
      "text/plain": [
       "0"
      ]
     },
     "execution_count": 69,
     "metadata": {},
     "output_type": "execute_result"
    }
   ],
   "source": [
    "df['gill-spacing']=np.sqrt(df['gill-spacing'])\n",
    "df['gill-spacing'].skew()"
   ]
  },
  {
   "cell_type": "markdown",
   "metadata": {},
   "source": [
    "from sqrt the value is 0."
   ]
  },
  {
   "cell_type": "code",
   "execution_count": 70,
   "metadata": {},
   "outputs": [],
   "source": [
    "np.log(df['gill-size'])\n",
    "df['gill-size']=df['gill-size'].skew()"
   ]
  },
  {
   "cell_type": "markdown",
   "metadata": {},
   "source": [
    "from logarithm the value is 0.8257968918825481"
   ]
  },
  {
   "cell_type": "markdown",
   "metadata": {},
   "source": [
    "--And then Using sqrt after log---"
   ]
  },
  {
   "cell_type": "code",
   "execution_count": 71,
   "metadata": {},
   "outputs": [
    {
     "data": {
      "text/plain": [
       "0"
      ]
     },
     "execution_count": 71,
     "metadata": {},
     "output_type": "execute_result"
    }
   ],
   "source": [
    "df['gill-size']=np.sqrt(df['gill-size'])\n",
    "df['gill-size'].skew()"
   ]
  },
  {
   "cell_type": "markdown",
   "metadata": {},
   "source": [
    "from sqrt the value is 0."
   ]
  },
  {
   "cell_type": "raw",
   "metadata": {},
   "source": [
    "# Using sqrt after log, the value for gill-size is 0"
   ]
  },
  {
   "cell_type": "code",
   "execution_count": 72,
   "metadata": {},
   "outputs": [],
   "source": [
    "np.log(df['stalk-root'])\n",
    "df['stalk-root']=df['stalk-root'].skew()"
   ]
  },
  {
   "cell_type": "code",
   "execution_count": 73,
   "metadata": {},
   "outputs": [
    {
     "data": {
      "text/plain": [
       "(8124, 23)"
      ]
     },
     "execution_count": 73,
     "metadata": {},
     "output_type": "execute_result"
    }
   ],
   "source": [
    "df.shape"
   ]
  },
  {
   "cell_type": "markdown",
   "metadata": {},
   "source": [
    "from logarithm the value is 0.947852361187689"
   ]
  },
  {
   "cell_type": "markdown",
   "metadata": {},
   "source": [
    "--And then Using sqrt after log---"
   ]
  },
  {
   "cell_type": "code",
   "execution_count": 74,
   "metadata": {},
   "outputs": [
    {
     "data": {
      "text/plain": [
       "0"
      ]
     },
     "execution_count": 74,
     "metadata": {},
     "output_type": "execute_result"
    }
   ],
   "source": [
    "df['stalk-root']=np.sqrt(df['stalk-root'])\n",
    "df['stalk-root'].skew()"
   ]
  },
  {
   "cell_type": "code",
   "execution_count": 75,
   "metadata": {},
   "outputs": [
    {
     "data": {
      "text/plain": [
       "(8124, 23)"
      ]
     },
     "execution_count": 75,
     "metadata": {},
     "output_type": "execute_result"
    }
   ],
   "source": [
    "df.shape"
   ]
  },
  {
   "cell_type": "raw",
   "metadata": {},
   "source": [
    "# Using sqrt after log, the value for stalk-root is 0"
   ]
  },
  {
   "cell_type": "code",
   "execution_count": 76,
   "metadata": {},
   "outputs": [
    {
     "name": "stdout",
     "output_type": "stream",
     "text": [
      "0\n"
     ]
    }
   ],
   "source": [
    "np.log(df['ring-number'])\n",
    "df['ring-number']=df['ring-number'].skew()\n",
    "print(df['ring-number'].skew())"
   ]
  },
  {
   "cell_type": "code",
   "execution_count": 77,
   "metadata": {},
   "outputs": [
    {
     "data": {
      "text/plain": [
       "(8124, 23)"
      ]
     },
     "execution_count": 77,
     "metadata": {},
     "output_type": "execute_result"
    }
   ],
   "source": [
    "df.shape"
   ]
  },
  {
   "cell_type": "markdown",
   "metadata": {},
   "source": [
    "from logarithm the value is 2.701657257979159"
   ]
  },
  {
   "cell_type": "markdown",
   "metadata": {},
   "source": [
    "--And then Using sqrt after log---"
   ]
  },
  {
   "cell_type": "code",
   "execution_count": 78,
   "metadata": {},
   "outputs": [
    {
     "data": {
      "text/plain": [
       "0"
      ]
     },
     "execution_count": 78,
     "metadata": {},
     "output_type": "execute_result"
    }
   ],
   "source": [
    "df['ring-number']=np.sqrt(df['ring-number'])\n",
    "df['ring-number'].skew()"
   ]
  },
  {
   "cell_type": "code",
   "execution_count": 79,
   "metadata": {},
   "outputs": [
    {
     "data": {
      "text/plain": [
       "(8124, 23)"
      ]
     },
     "execution_count": 79,
     "metadata": {},
     "output_type": "execute_result"
    }
   ],
   "source": [
    "df.shape"
   ]
  },
  {
   "cell_type": "raw",
   "metadata": {},
   "source": [
    "# Using sqrt after log, the value for ring-number is -0.2324995593095349"
   ]
  },
  {
   "cell_type": "code",
   "execution_count": 80,
   "metadata": {},
   "outputs": [
    {
     "name": "stdout",
     "output_type": "stream",
     "text": [
      "0\n"
     ]
    }
   ],
   "source": [
    "np.log(df['habitat'])\n",
    "df['habitat']=df['habitat'].skew()\n",
    "print(df['habitat'].skew())"
   ]
  },
  {
   "cell_type": "markdown",
   "metadata": {},
   "source": [
    "from logarithm the value is 0"
   ]
  },
  {
   "cell_type": "raw",
   "metadata": {},
   "source": [
    "# Using sqrt after log, the value for habitat is 0"
   ]
  },
  {
   "cell_type": "code",
   "execution_count": 81,
   "metadata": {},
   "outputs": [
    {
     "name": "stdout",
     "output_type": "stream",
     "text": [
      "0\n"
     ]
    }
   ],
   "source": [
    "np.cbrt(df['gill-attachment'])\n",
    "df['gill-attachment']=df['gill-attachment'].skew()\n",
    "print(df['gill-attachment'].skew())"
   ]
  },
  {
   "cell_type": "raw",
   "metadata": {},
   "source": [
    "# Using cbrt, the value for gill-attachment is 0."
   ]
  },
  {
   "cell_type": "code",
   "execution_count": 82,
   "metadata": {},
   "outputs": [
    {
     "name": "stdout",
     "output_type": "stream",
     "text": [
      "0\n"
     ]
    }
   ],
   "source": [
    "np.cbrt(df['stalk-surface-above-ring'])\n",
    "df['stalk-surface-above-ring']=df['stalk-surface-above-ring'].skew()\n",
    "print(df['stalk-surface-above-ring'].skew())"
   ]
  },
  {
   "cell_type": "raw",
   "metadata": {},
   "source": [
    "# Using cbrt, the value for stalk-surface-above-ring is 0."
   ]
  },
  {
   "cell_type": "code",
   "execution_count": 83,
   "metadata": {},
   "outputs": [
    {
     "name": "stdout",
     "output_type": "stream",
     "text": [
      "0\n"
     ]
    }
   ],
   "source": [
    "np.cbrt(df['stalk-surface-below-ring'])\n",
    "df['stalk-surface-below-ring']=df['stalk-surface-below-ring'].skew()\n",
    "print(df['stalk-surface-below-ring'].skew())"
   ]
  },
  {
   "cell_type": "raw",
   "metadata": {},
   "source": [
    "# Using cbrt, the value for stalk-surface-below-ring is 0."
   ]
  },
  {
   "cell_type": "code",
   "execution_count": 84,
   "metadata": {},
   "outputs": [
    {
     "name": "stdout",
     "output_type": "stream",
     "text": [
      "0\n"
     ]
    }
   ],
   "source": [
    "np.cbrt(df['stalk-color-above-ring'])\n",
    "df['stalk-color-above-ring']=df['stalk-color-above-ring'].skew()\n",
    "print(df['stalk-color-above-ring'].skew())"
   ]
  },
  {
   "cell_type": "raw",
   "metadata": {},
   "source": [
    "# Using cbrt, the value for stalk-color-above-ring is 0."
   ]
  },
  {
   "cell_type": "code",
   "execution_count": 85,
   "metadata": {},
   "outputs": [
    {
     "name": "stdout",
     "output_type": "stream",
     "text": [
      "0\n"
     ]
    }
   ],
   "source": [
    "np.cbrt(df['stalk-color-below-ring'])\n",
    "df['stalk-color-below-ring']=df['stalk-color-below-ring'].skew()\n",
    "print(df['stalk-color-below-ring'].skew())"
   ]
  },
  {
   "cell_type": "raw",
   "metadata": {},
   "source": [
    "# Using cbrt, the value for stalk-color-below-ring is 0."
   ]
  },
  {
   "cell_type": "code",
   "execution_count": 86,
   "metadata": {},
   "outputs": [
    {
     "name": "stdout",
     "output_type": "stream",
     "text": [
      "0\n"
     ]
    }
   ],
   "source": [
    "np.cbrt(df['veil-color'])\n",
    "df['veil-color']=df['veil-color'].skew()\n",
    "print(df['veil-color'].skew())"
   ]
  },
  {
   "cell_type": "raw",
   "metadata": {},
   "source": [
    "# Using cbrt, the value for veil-color is 0."
   ]
  },
  {
   "cell_type": "code",
   "execution_count": 87,
   "metadata": {},
   "outputs": [
    {
     "name": "stdout",
     "output_type": "stream",
     "text": [
      "0\n"
     ]
    }
   ],
   "source": [
    "np.cbrt(df['population'])\n",
    "df['population']=df['population'].skew()\n",
    "print(df['population'].skew())"
   ]
  },
  {
   "cell_type": "code",
   "execution_count": 88,
   "metadata": {},
   "outputs": [
    {
     "data": {
      "text/plain": [
       "(8124, 23)"
      ]
     },
     "execution_count": 88,
     "metadata": {},
     "output_type": "execute_result"
    }
   ],
   "source": [
    "df.shape"
   ]
  },
  {
   "cell_type": "code",
   "execution_count": 89,
   "metadata": {},
   "outputs": [
    {
     "data": {
      "text/plain": [
       "class                       0.071946\n",
       "cap-shape                  -0.247052\n",
       "cap-surface                -0.590859\n",
       "cap-color                   0.000000\n",
       "bruises                     0.342750\n",
       "odor                       -0.080790\n",
       "gill-attachment             0.000000\n",
       "gill-spacing                0.000000\n",
       "gill-size                   0.000000\n",
       "gill-color                  0.061410\n",
       "stalk-shape                -0.271345\n",
       "stalk-root                  0.000000\n",
       "stalk-surface-above-ring    0.000000\n",
       "stalk-surface-below-ring    0.000000\n",
       "stalk-color-above-ring      0.000000\n",
       "stalk-color-below-ring      0.000000\n",
       "veil-type                   0.000000\n",
       "veil-color                  0.000000\n",
       "ring-number                 0.000000\n",
       "ring-type                  -0.290018\n",
       "spore-print-color           0.548426\n",
       "population                  0.000000\n",
       "habitat                     0.000000\n",
       "dtype: float64"
      ]
     },
     "execution_count": 89,
     "metadata": {},
     "output_type": "execute_result"
    }
   ],
   "source": [
    "df.skew()"
   ]
  },
  {
   "cell_type": "code",
   "execution_count": 90,
   "metadata": {},
   "outputs": [
    {
     "name": "stdout",
     "output_type": "stream",
     "text": [
      "0\n"
     ]
    }
   ],
   "source": [
    "np.cbrt(df['cap-surface'])\n",
    "df['cap-surface']=df['cap-surface'].skew()\n",
    "print(df['cap-surface'].skew())"
   ]
  },
  {
   "cell_type": "raw",
   "metadata": {},
   "source": [
    "# Using cbrt, the value for cap-surface is 0."
   ]
  },
  {
   "cell_type": "code",
   "execution_count": 91,
   "metadata": {},
   "outputs": [
    {
     "name": "stdout",
     "output_type": "stream",
     "text": [
      "0\n"
     ]
    }
   ],
   "source": [
    "np.log(df['spore-print-color'])\n",
    "df['spore-print-color']=df['spore-print-color'].skew()\n",
    "print(df['spore-print-color'].skew())"
   ]
  },
  {
   "cell_type": "code",
   "execution_count": 92,
   "metadata": {},
   "outputs": [
    {
     "data": {
      "text/plain": [
       "(8124, 23)"
      ]
     },
     "execution_count": 92,
     "metadata": {},
     "output_type": "execute_result"
    }
   ],
   "source": [
    "df.shape"
   ]
  },
  {
   "cell_type": "raw",
   "metadata": {},
   "source": [
    "# Using cbrt, the value for spore-print-color is 0."
   ]
  },
  {
   "cell_type": "code",
   "execution_count": 93,
   "metadata": {},
   "outputs": [
    {
     "data": {
      "text/plain": [
       "class                       0.071946\n",
       "cap-shape                  -0.247052\n",
       "cap-surface                 0.000000\n",
       "cap-color                   0.000000\n",
       "bruises                     0.342750\n",
       "odor                       -0.080790\n",
       "gill-attachment             0.000000\n",
       "gill-spacing                0.000000\n",
       "gill-size                   0.000000\n",
       "gill-color                  0.061410\n",
       "stalk-shape                -0.271345\n",
       "stalk-root                  0.000000\n",
       "stalk-surface-above-ring    0.000000\n",
       "stalk-surface-below-ring    0.000000\n",
       "stalk-color-above-ring      0.000000\n",
       "stalk-color-below-ring      0.000000\n",
       "veil-type                   0.000000\n",
       "veil-color                  0.000000\n",
       "ring-number                 0.000000\n",
       "ring-type                  -0.290018\n",
       "spore-print-color           0.000000\n",
       "population                  0.000000\n",
       "habitat                     0.000000\n",
       "dtype: float64"
      ]
     },
     "execution_count": 93,
     "metadata": {},
     "output_type": "execute_result"
    }
   ],
   "source": [
    "df.skew()"
   ]
  },
  {
   "cell_type": "code",
   "execution_count": 94,
   "metadata": {},
   "outputs": [
    {
     "data": {
      "text/plain": [
       "(8124, 23)"
      ]
     },
     "execution_count": 94,
     "metadata": {},
     "output_type": "execute_result"
    }
   ],
   "source": [
    "df.shape"
   ]
  },
  {
   "cell_type": "code",
   "execution_count": 95,
   "metadata": {},
   "outputs": [
    {
     "data": {
      "text/html": [
       "<div>\n",
       "<style scoped>\n",
       "    .dataframe tbody tr th:only-of-type {\n",
       "        vertical-align: middle;\n",
       "    }\n",
       "\n",
       "    .dataframe tbody tr th {\n",
       "        vertical-align: top;\n",
       "    }\n",
       "\n",
       "    .dataframe thead th {\n",
       "        text-align: right;\n",
       "    }\n",
       "</style>\n",
       "<table border=\"1\" class=\"dataframe\">\n",
       "  <thead>\n",
       "    <tr style=\"text-align: right;\">\n",
       "      <th></th>\n",
       "      <th>class</th>\n",
       "      <th>cap-shape</th>\n",
       "      <th>cap-surface</th>\n",
       "      <th>cap-color</th>\n",
       "      <th>bruises</th>\n",
       "      <th>odor</th>\n",
       "      <th>gill-attachment</th>\n",
       "      <th>gill-spacing</th>\n",
       "      <th>gill-size</th>\n",
       "      <th>gill-color</th>\n",
       "      <th>...</th>\n",
       "      <th>stalk-surface-below-ring</th>\n",
       "      <th>stalk-color-above-ring</th>\n",
       "      <th>stalk-color-below-ring</th>\n",
       "      <th>veil-type</th>\n",
       "      <th>veil-color</th>\n",
       "      <th>ring-number</th>\n",
       "      <th>ring-type</th>\n",
       "      <th>spore-print-color</th>\n",
       "      <th>population</th>\n",
       "      <th>habitat</th>\n",
       "    </tr>\n",
       "  </thead>\n",
       "  <tbody>\n",
       "    <tr>\n",
       "      <th>0</th>\n",
       "      <td>1</td>\n",
       "      <td>5</td>\n",
       "      <td>-0.590859</td>\n",
       "      <td>0</td>\n",
       "      <td>1</td>\n",
       "      <td>6</td>\n",
       "      <td>-5.977076</td>\n",
       "      <td>1.356499</td>\n",
       "      <td>0.908734</td>\n",
       "      <td>4</td>\n",
       "      <td>...</td>\n",
       "      <td>-0.757703</td>\n",
       "      <td>-1.835434</td>\n",
       "      <td>-1.791593</td>\n",
       "      <td>0</td>\n",
       "      <td>-6.946944</td>\n",
       "      <td>1.643672</td>\n",
       "      <td>4</td>\n",
       "      <td>0.548426</td>\n",
       "      <td>-1.413096</td>\n",
       "      <td>0.985548</td>\n",
       "    </tr>\n",
       "    <tr>\n",
       "      <th>1</th>\n",
       "      <td>0</td>\n",
       "      <td>5</td>\n",
       "      <td>-0.590859</td>\n",
       "      <td>0</td>\n",
       "      <td>1</td>\n",
       "      <td>0</td>\n",
       "      <td>-5.977076</td>\n",
       "      <td>1.356499</td>\n",
       "      <td>0.908734</td>\n",
       "      <td>4</td>\n",
       "      <td>...</td>\n",
       "      <td>-0.757703</td>\n",
       "      <td>-1.835434</td>\n",
       "      <td>-1.791593</td>\n",
       "      <td>0</td>\n",
       "      <td>-6.946944</td>\n",
       "      <td>1.643672</td>\n",
       "      <td>4</td>\n",
       "      <td>0.548426</td>\n",
       "      <td>-1.413096</td>\n",
       "      <td>0.985548</td>\n",
       "    </tr>\n",
       "    <tr>\n",
       "      <th>2</th>\n",
       "      <td>0</td>\n",
       "      <td>0</td>\n",
       "      <td>-0.590859</td>\n",
       "      <td>0</td>\n",
       "      <td>1</td>\n",
       "      <td>3</td>\n",
       "      <td>-5.977076</td>\n",
       "      <td>1.356499</td>\n",
       "      <td>0.908734</td>\n",
       "      <td>5</td>\n",
       "      <td>...</td>\n",
       "      <td>-0.757703</td>\n",
       "      <td>-1.835434</td>\n",
       "      <td>-1.791593</td>\n",
       "      <td>0</td>\n",
       "      <td>-6.946944</td>\n",
       "      <td>1.643672</td>\n",
       "      <td>4</td>\n",
       "      <td>0.548426</td>\n",
       "      <td>-1.413096</td>\n",
       "      <td>0.985548</td>\n",
       "    </tr>\n",
       "    <tr>\n",
       "      <th>3</th>\n",
       "      <td>1</td>\n",
       "      <td>5</td>\n",
       "      <td>-0.590859</td>\n",
       "      <td>0</td>\n",
       "      <td>1</td>\n",
       "      <td>6</td>\n",
       "      <td>-5.977076</td>\n",
       "      <td>1.356499</td>\n",
       "      <td>0.908734</td>\n",
       "      <td>5</td>\n",
       "      <td>...</td>\n",
       "      <td>-0.757703</td>\n",
       "      <td>-1.835434</td>\n",
       "      <td>-1.791593</td>\n",
       "      <td>0</td>\n",
       "      <td>-6.946944</td>\n",
       "      <td>1.643672</td>\n",
       "      <td>4</td>\n",
       "      <td>0.548426</td>\n",
       "      <td>-1.413096</td>\n",
       "      <td>0.985548</td>\n",
       "    </tr>\n",
       "    <tr>\n",
       "      <th>4</th>\n",
       "      <td>0</td>\n",
       "      <td>5</td>\n",
       "      <td>-0.590859</td>\n",
       "      <td>0</td>\n",
       "      <td>0</td>\n",
       "      <td>5</td>\n",
       "      <td>-5.977076</td>\n",
       "      <td>1.356499</td>\n",
       "      <td>0.908734</td>\n",
       "      <td>4</td>\n",
       "      <td>...</td>\n",
       "      <td>-0.757703</td>\n",
       "      <td>-1.835434</td>\n",
       "      <td>-1.791593</td>\n",
       "      <td>0</td>\n",
       "      <td>-6.946944</td>\n",
       "      <td>1.643672</td>\n",
       "      <td>0</td>\n",
       "      <td>0.548426</td>\n",
       "      <td>-1.413096</td>\n",
       "      <td>0.985548</td>\n",
       "    </tr>\n",
       "  </tbody>\n",
       "</table>\n",
       "<p>5 rows × 23 columns</p>\n",
       "</div>"
      ],
      "text/plain": [
       "   class  cap-shape  cap-surface  cap-color  bruises  odor  gill-attachment  \\\n",
       "0      1          5    -0.590859          0        1     6        -5.977076   \n",
       "1      0          5    -0.590859          0        1     0        -5.977076   \n",
       "2      0          0    -0.590859          0        1     3        -5.977076   \n",
       "3      1          5    -0.590859          0        1     6        -5.977076   \n",
       "4      0          5    -0.590859          0        0     5        -5.977076   \n",
       "\n",
       "   gill-spacing  gill-size  gill-color  ...  stalk-surface-below-ring  \\\n",
       "0      1.356499   0.908734           4  ...                 -0.757703   \n",
       "1      1.356499   0.908734           4  ...                 -0.757703   \n",
       "2      1.356499   0.908734           5  ...                 -0.757703   \n",
       "3      1.356499   0.908734           5  ...                 -0.757703   \n",
       "4      1.356499   0.908734           4  ...                 -0.757703   \n",
       "\n",
       "   stalk-color-above-ring  stalk-color-below-ring  veil-type  veil-color  \\\n",
       "0               -1.835434               -1.791593          0   -6.946944   \n",
       "1               -1.835434               -1.791593          0   -6.946944   \n",
       "2               -1.835434               -1.791593          0   -6.946944   \n",
       "3               -1.835434               -1.791593          0   -6.946944   \n",
       "4               -1.835434               -1.791593          0   -6.946944   \n",
       "\n",
       "   ring-number  ring-type  spore-print-color  population   habitat  \n",
       "0     1.643672          4           0.548426   -1.413096  0.985548  \n",
       "1     1.643672          4           0.548426   -1.413096  0.985548  \n",
       "2     1.643672          4           0.548426   -1.413096  0.985548  \n",
       "3     1.643672          4           0.548426   -1.413096  0.985548  \n",
       "4     1.643672          0           0.548426   -1.413096  0.985548  \n",
       "\n",
       "[5 rows x 23 columns]"
      ]
     },
     "execution_count": 95,
     "metadata": {},
     "output_type": "execute_result"
    }
   ],
   "source": [
    "df.head()"
   ]
  },
  {
   "cell_type": "code",
   "execution_count": 96,
   "metadata": {},
   "outputs": [],
   "source": [
    "x=df[[ 'cap-shape', 'cap-surface', 'cap-color', 'bruises', 'odor',\n",
    "       'gill-attachment', 'gill-spacing', 'gill-size', 'gill-color',\n",
    "       'stalk-shape', 'stalk-root', 'stalk-surface-above-ring',\n",
    "       'stalk-surface-below-ring', 'stalk-color-above-ring',\n",
    "       'stalk-color-below-ring', 'veil-type', 'veil-color', 'ring-number',\n",
    "       'ring-type', 'spore-print-color', 'population', 'habitat']]"
   ]
  },
  {
   "cell_type": "code",
   "execution_count": 97,
   "metadata": {},
   "outputs": [
    {
     "data": {
      "text/html": [
       "<div>\n",
       "<style scoped>\n",
       "    .dataframe tbody tr th:only-of-type {\n",
       "        vertical-align: middle;\n",
       "    }\n",
       "\n",
       "    .dataframe tbody tr th {\n",
       "        vertical-align: top;\n",
       "    }\n",
       "\n",
       "    .dataframe thead th {\n",
       "        text-align: right;\n",
       "    }\n",
       "</style>\n",
       "<table border=\"1\" class=\"dataframe\">\n",
       "  <thead>\n",
       "    <tr style=\"text-align: right;\">\n",
       "      <th></th>\n",
       "      <th>cap-shape</th>\n",
       "      <th>cap-surface</th>\n",
       "      <th>cap-color</th>\n",
       "      <th>bruises</th>\n",
       "      <th>odor</th>\n",
       "      <th>gill-attachment</th>\n",
       "      <th>gill-spacing</th>\n",
       "      <th>gill-size</th>\n",
       "      <th>gill-color</th>\n",
       "      <th>stalk-shape</th>\n",
       "      <th>...</th>\n",
       "      <th>stalk-surface-below-ring</th>\n",
       "      <th>stalk-color-above-ring</th>\n",
       "      <th>stalk-color-below-ring</th>\n",
       "      <th>veil-type</th>\n",
       "      <th>veil-color</th>\n",
       "      <th>ring-number</th>\n",
       "      <th>ring-type</th>\n",
       "      <th>spore-print-color</th>\n",
       "      <th>population</th>\n",
       "      <th>habitat</th>\n",
       "    </tr>\n",
       "  </thead>\n",
       "  <tbody>\n",
       "    <tr>\n",
       "      <th>0</th>\n",
       "      <td>5</td>\n",
       "      <td>-0.590859</td>\n",
       "      <td>0</td>\n",
       "      <td>1</td>\n",
       "      <td>6</td>\n",
       "      <td>-5.977076</td>\n",
       "      <td>1.356499</td>\n",
       "      <td>0.908734</td>\n",
       "      <td>4</td>\n",
       "      <td>0</td>\n",
       "      <td>...</td>\n",
       "      <td>-0.757703</td>\n",
       "      <td>-1.835434</td>\n",
       "      <td>-1.791593</td>\n",
       "      <td>0</td>\n",
       "      <td>-6.946944</td>\n",
       "      <td>1.643672</td>\n",
       "      <td>4</td>\n",
       "      <td>0.548426</td>\n",
       "      <td>-1.413096</td>\n",
       "      <td>0.985548</td>\n",
       "    </tr>\n",
       "    <tr>\n",
       "      <th>1</th>\n",
       "      <td>5</td>\n",
       "      <td>-0.590859</td>\n",
       "      <td>0</td>\n",
       "      <td>1</td>\n",
       "      <td>0</td>\n",
       "      <td>-5.977076</td>\n",
       "      <td>1.356499</td>\n",
       "      <td>0.908734</td>\n",
       "      <td>4</td>\n",
       "      <td>0</td>\n",
       "      <td>...</td>\n",
       "      <td>-0.757703</td>\n",
       "      <td>-1.835434</td>\n",
       "      <td>-1.791593</td>\n",
       "      <td>0</td>\n",
       "      <td>-6.946944</td>\n",
       "      <td>1.643672</td>\n",
       "      <td>4</td>\n",
       "      <td>0.548426</td>\n",
       "      <td>-1.413096</td>\n",
       "      <td>0.985548</td>\n",
       "    </tr>\n",
       "    <tr>\n",
       "      <th>2</th>\n",
       "      <td>0</td>\n",
       "      <td>-0.590859</td>\n",
       "      <td>0</td>\n",
       "      <td>1</td>\n",
       "      <td>3</td>\n",
       "      <td>-5.977076</td>\n",
       "      <td>1.356499</td>\n",
       "      <td>0.908734</td>\n",
       "      <td>5</td>\n",
       "      <td>0</td>\n",
       "      <td>...</td>\n",
       "      <td>-0.757703</td>\n",
       "      <td>-1.835434</td>\n",
       "      <td>-1.791593</td>\n",
       "      <td>0</td>\n",
       "      <td>-6.946944</td>\n",
       "      <td>1.643672</td>\n",
       "      <td>4</td>\n",
       "      <td>0.548426</td>\n",
       "      <td>-1.413096</td>\n",
       "      <td>0.985548</td>\n",
       "    </tr>\n",
       "    <tr>\n",
       "      <th>3</th>\n",
       "      <td>5</td>\n",
       "      <td>-0.590859</td>\n",
       "      <td>0</td>\n",
       "      <td>1</td>\n",
       "      <td>6</td>\n",
       "      <td>-5.977076</td>\n",
       "      <td>1.356499</td>\n",
       "      <td>0.908734</td>\n",
       "      <td>5</td>\n",
       "      <td>0</td>\n",
       "      <td>...</td>\n",
       "      <td>-0.757703</td>\n",
       "      <td>-1.835434</td>\n",
       "      <td>-1.791593</td>\n",
       "      <td>0</td>\n",
       "      <td>-6.946944</td>\n",
       "      <td>1.643672</td>\n",
       "      <td>4</td>\n",
       "      <td>0.548426</td>\n",
       "      <td>-1.413096</td>\n",
       "      <td>0.985548</td>\n",
       "    </tr>\n",
       "    <tr>\n",
       "      <th>4</th>\n",
       "      <td>5</td>\n",
       "      <td>-0.590859</td>\n",
       "      <td>0</td>\n",
       "      <td>0</td>\n",
       "      <td>5</td>\n",
       "      <td>-5.977076</td>\n",
       "      <td>1.356499</td>\n",
       "      <td>0.908734</td>\n",
       "      <td>4</td>\n",
       "      <td>1</td>\n",
       "      <td>...</td>\n",
       "      <td>-0.757703</td>\n",
       "      <td>-1.835434</td>\n",
       "      <td>-1.791593</td>\n",
       "      <td>0</td>\n",
       "      <td>-6.946944</td>\n",
       "      <td>1.643672</td>\n",
       "      <td>0</td>\n",
       "      <td>0.548426</td>\n",
       "      <td>-1.413096</td>\n",
       "      <td>0.985548</td>\n",
       "    </tr>\n",
       "  </tbody>\n",
       "</table>\n",
       "<p>5 rows × 22 columns</p>\n",
       "</div>"
      ],
      "text/plain": [
       "   cap-shape  cap-surface  cap-color  bruises  odor  gill-attachment  \\\n",
       "0          5    -0.590859          0        1     6        -5.977076   \n",
       "1          5    -0.590859          0        1     0        -5.977076   \n",
       "2          0    -0.590859          0        1     3        -5.977076   \n",
       "3          5    -0.590859          0        1     6        -5.977076   \n",
       "4          5    -0.590859          0        0     5        -5.977076   \n",
       "\n",
       "   gill-spacing  gill-size  gill-color  stalk-shape  ...  \\\n",
       "0      1.356499   0.908734           4            0  ...   \n",
       "1      1.356499   0.908734           4            0  ...   \n",
       "2      1.356499   0.908734           5            0  ...   \n",
       "3      1.356499   0.908734           5            0  ...   \n",
       "4      1.356499   0.908734           4            1  ...   \n",
       "\n",
       "   stalk-surface-below-ring  stalk-color-above-ring  stalk-color-below-ring  \\\n",
       "0                 -0.757703               -1.835434               -1.791593   \n",
       "1                 -0.757703               -1.835434               -1.791593   \n",
       "2                 -0.757703               -1.835434               -1.791593   \n",
       "3                 -0.757703               -1.835434               -1.791593   \n",
       "4                 -0.757703               -1.835434               -1.791593   \n",
       "\n",
       "   veil-type  veil-color  ring-number  ring-type  spore-print-color  \\\n",
       "0          0   -6.946944     1.643672          4           0.548426   \n",
       "1          0   -6.946944     1.643672          4           0.548426   \n",
       "2          0   -6.946944     1.643672          4           0.548426   \n",
       "3          0   -6.946944     1.643672          4           0.548426   \n",
       "4          0   -6.946944     1.643672          0           0.548426   \n",
       "\n",
       "   population   habitat  \n",
       "0   -1.413096  0.985548  \n",
       "1   -1.413096  0.985548  \n",
       "2   -1.413096  0.985548  \n",
       "3   -1.413096  0.985548  \n",
       "4   -1.413096  0.985548  \n",
       "\n",
       "[5 rows x 22 columns]"
      ]
     },
     "execution_count": 97,
     "metadata": {},
     "output_type": "execute_result"
    }
   ],
   "source": [
    "x.head()"
   ]
  },
  {
   "cell_type": "code",
   "execution_count": 98,
   "metadata": {},
   "outputs": [],
   "source": [
    "y=df['class']"
   ]
  },
  {
   "cell_type": "code",
   "execution_count": 99,
   "metadata": {},
   "outputs": [
    {
     "data": {
      "text/plain": [
       "0       1\n",
       "1       0\n",
       "2       0\n",
       "3       1\n",
       "4       0\n",
       "       ..\n",
       "8119    0\n",
       "8120    0\n",
       "8121    0\n",
       "8122    1\n",
       "8123    0\n",
       "Name: class, Length: 8124, dtype: int64"
      ]
     },
     "execution_count": 99,
     "metadata": {},
     "output_type": "execute_result"
    }
   ],
   "source": [
    "y"
   ]
  },
  {
   "cell_type": "code",
   "execution_count": 100,
   "metadata": {},
   "outputs": [
    {
     "name": "stdout",
     "output_type": "stream",
     "text": [
      "Accuracy score of is:\n",
      "0.7768456375838926\n",
      "[[671 240]\n",
      " [159 718]]\n",
      "              precision    recall  f1-score   support\n",
      "\n",
      "           0       0.81      0.74      0.77       911\n",
      "           1       0.75      0.82      0.78       877\n",
      "\n",
      "    accuracy                           0.78      1788\n",
      "   macro avg       0.78      0.78      0.78      1788\n",
      "weighted avg       0.78      0.78      0.78      1788\n",
      "\n",
      "Accuracy score of is:\n",
      "0.7869127516778524\n",
      "[[713 233]\n",
      " [148 694]]\n",
      "              precision    recall  f1-score   support\n",
      "\n",
      "           0       0.83      0.75      0.79       946\n",
      "           1       0.75      0.82      0.78       842\n",
      "\n",
      "    accuracy                           0.79      1788\n",
      "   macro avg       0.79      0.79      0.79      1788\n",
      "weighted avg       0.79      0.79      0.79      1788\n",
      "\n",
      "Accuracy score of is:\n",
      "0.7555928411633109\n",
      "[[676 254]\n",
      " [183 675]]\n",
      "              precision    recall  f1-score   support\n",
      "\n",
      "           0       0.79      0.73      0.76       930\n",
      "           1       0.73      0.79      0.76       858\n",
      "\n",
      "    accuracy                           0.76      1788\n",
      "   macro avg       0.76      0.76      0.76      1788\n",
      "weighted avg       0.76      0.76      0.76      1788\n",
      "\n",
      "Accuracy score of is:\n",
      "0.7589485458612976\n",
      "[[663 272]\n",
      " [159 694]]\n",
      "              precision    recall  f1-score   support\n",
      "\n",
      "           0       0.81      0.71      0.75       935\n",
      "           1       0.72      0.81      0.76       853\n",
      "\n",
      "    accuracy                           0.76      1788\n",
      "   macro avg       0.76      0.76      0.76      1788\n",
      "weighted avg       0.76      0.76      0.76      1788\n",
      "\n",
      "Accuracy score of is:\n",
      "0.7718120805369127\n",
      "[[674 233]\n",
      " [175 706]]\n",
      "              precision    recall  f1-score   support\n",
      "\n",
      "           0       0.79      0.74      0.77       907\n",
      "           1       0.75      0.80      0.78       881\n",
      "\n",
      "    accuracy                           0.77      1788\n",
      "   macro avg       0.77      0.77      0.77      1788\n",
      "weighted avg       0.77      0.77      0.77      1788\n",
      "\n",
      "Accuracy score of is:\n",
      "0.7813199105145414\n",
      "[[704 229]\n",
      " [162 693]]\n",
      "              precision    recall  f1-score   support\n",
      "\n",
      "           0       0.81      0.75      0.78       933\n",
      "           1       0.75      0.81      0.78       855\n",
      "\n",
      "    accuracy                           0.78      1788\n",
      "   macro avg       0.78      0.78      0.78      1788\n",
      "weighted avg       0.78      0.78      0.78      1788\n",
      "\n",
      "Accuracy score of is:\n",
      "0.7835570469798657\n",
      "[[689 242]\n",
      " [145 712]]\n",
      "              precision    recall  f1-score   support\n",
      "\n",
      "           0       0.83      0.74      0.78       931\n",
      "           1       0.75      0.83      0.79       857\n",
      "\n",
      "    accuracy                           0.78      1788\n",
      "   macro avg       0.79      0.79      0.78      1788\n",
      "weighted avg       0.79      0.78      0.78      1788\n",
      "\n",
      "Accuracy score of is:\n",
      "0.7734899328859061\n",
      "[[735 221]\n",
      " [184 648]]\n",
      "              precision    recall  f1-score   support\n",
      "\n",
      "           0       0.80      0.77      0.78       956\n",
      "           1       0.75      0.78      0.76       832\n",
      "\n",
      "    accuracy                           0.77      1788\n",
      "   macro avg       0.77      0.77      0.77      1788\n",
      "weighted avg       0.77      0.77      0.77      1788\n",
      "\n",
      "Accuracy score of is:\n",
      "0.7774049217002237\n",
      "[[704 242]\n",
      " [156 686]]\n",
      "              precision    recall  f1-score   support\n",
      "\n",
      "           0       0.82      0.74      0.78       946\n",
      "           1       0.74      0.81      0.78       842\n",
      "\n",
      "    accuracy                           0.78      1788\n",
      "   macro avg       0.78      0.78      0.78      1788\n",
      "weighted avg       0.78      0.78      0.78      1788\n",
      "\n",
      "Accuracy score of is:\n",
      "0.7678970917225951\n",
      "[[707 248]\n",
      " [167 666]]\n",
      "              precision    recall  f1-score   support\n",
      "\n",
      "           0       0.81      0.74      0.77       955\n",
      "           1       0.73      0.80      0.76       833\n",
      "\n",
      "    accuracy                           0.77      1788\n",
      "   macro avg       0.77      0.77      0.77      1788\n",
      "weighted avg       0.77      0.77      0.77      1788\n",
      "\n",
      "Accuracy score of is:\n",
      "0.7690156599552572\n",
      "[[695 250]\n",
      " [163 680]]\n",
      "              precision    recall  f1-score   support\n",
      "\n",
      "           0       0.81      0.74      0.77       945\n",
      "           1       0.73      0.81      0.77       843\n",
      "\n",
      "    accuracy                           0.77      1788\n",
      "   macro avg       0.77      0.77      0.77      1788\n",
      "weighted avg       0.77      0.77      0.77      1788\n",
      "\n",
      "Accuracy score of is:\n",
      "0.785234899328859\n",
      "[[656 241]\n",
      " [143 748]]\n",
      "              precision    recall  f1-score   support\n",
      "\n",
      "           0       0.82      0.73      0.77       897\n",
      "           1       0.76      0.84      0.80       891\n",
      "\n",
      "    accuracy                           0.79      1788\n",
      "   macro avg       0.79      0.79      0.78      1788\n",
      "weighted avg       0.79      0.79      0.78      1788\n",
      "\n",
      "Accuracy score of is:\n",
      "0.7690156599552572\n",
      "[[688 249]\n",
      " [164 687]]\n",
      "              precision    recall  f1-score   support\n",
      "\n",
      "           0       0.81      0.73      0.77       937\n",
      "           1       0.73      0.81      0.77       851\n",
      "\n",
      "    accuracy                           0.77      1788\n",
      "   macro avg       0.77      0.77      0.77      1788\n",
      "weighted avg       0.77      0.77      0.77      1788\n",
      "\n",
      "Accuracy score of is:\n",
      "0.7701342281879194\n",
      "[[720 234]\n",
      " [177 657]]\n",
      "              precision    recall  f1-score   support\n",
      "\n",
      "           0       0.80      0.75      0.78       954\n",
      "           1       0.74      0.79      0.76       834\n",
      "\n",
      "    accuracy                           0.77      1788\n",
      "   macro avg       0.77      0.77      0.77      1788\n",
      "weighted avg       0.77      0.77      0.77      1788\n",
      "\n",
      "Accuracy score of is:\n",
      "0.7796420581655481\n",
      "[[706 215]\n",
      " [179 688]]\n",
      "              precision    recall  f1-score   support\n",
      "\n",
      "           0       0.80      0.77      0.78       921\n",
      "           1       0.76      0.79      0.78       867\n",
      "\n",
      "    accuracy                           0.78      1788\n",
      "   macro avg       0.78      0.78      0.78      1788\n",
      "weighted avg       0.78      0.78      0.78      1788\n",
      "\n",
      "Accuracy score of is:\n",
      "0.7656599552572707\n",
      "[[688 245]\n",
      " [174 681]]\n",
      "              precision    recall  f1-score   support\n",
      "\n",
      "           0       0.80      0.74      0.77       933\n",
      "           1       0.74      0.80      0.76       855\n",
      "\n",
      "    accuracy                           0.77      1788\n",
      "   macro avg       0.77      0.77      0.77      1788\n",
      "weighted avg       0.77      0.77      0.77      1788\n",
      "\n",
      "Accuracy score of is:\n",
      "0.767337807606264\n",
      "[[669 246]\n",
      " [170 703]]\n",
      "              precision    recall  f1-score   support\n",
      "\n",
      "           0       0.80      0.73      0.76       915\n",
      "           1       0.74      0.81      0.77       873\n",
      "\n",
      "    accuracy                           0.77      1788\n",
      "   macro avg       0.77      0.77      0.77      1788\n",
      "weighted avg       0.77      0.77      0.77      1788\n",
      "\n",
      "Accuracy score of is:\n",
      "0.7639821029082774\n",
      "[[667 264]\n",
      " [158 699]]\n",
      "              precision    recall  f1-score   support\n",
      "\n",
      "           0       0.81      0.72      0.76       931\n",
      "           1       0.73      0.82      0.77       857\n",
      "\n",
      "    accuracy                           0.76      1788\n",
      "   macro avg       0.77      0.77      0.76      1788\n",
      "weighted avg       0.77      0.76      0.76      1788\n",
      "\n",
      "Accuracy score of is:\n",
      "0.7857941834451901\n",
      "[[694 219]\n",
      " [164 711]]\n",
      "              precision    recall  f1-score   support\n",
      "\n",
      "           0       0.81      0.76      0.78       913\n",
      "           1       0.76      0.81      0.79       875\n",
      "\n",
      "    accuracy                           0.79      1788\n",
      "   macro avg       0.79      0.79      0.79      1788\n",
      "weighted avg       0.79      0.79      0.79      1788\n",
      "\n",
      "Accuracy score of is:\n",
      "0.7757270693512305\n",
      "[[717 221]\n",
      " [180 670]]\n",
      "              precision    recall  f1-score   support\n",
      "\n",
      "           0       0.80      0.76      0.78       938\n",
      "           1       0.75      0.79      0.77       850\n",
      "\n",
      "    accuracy                           0.78      1788\n",
      "   macro avg       0.78      0.78      0.78      1788\n",
      "weighted avg       0.78      0.78      0.78      1788\n",
      "\n",
      "Accuracy score of is:\n",
      "0.7813199105145414\n",
      "[[695 229]\n",
      " [162 702]]\n",
      "              precision    recall  f1-score   support\n",
      "\n",
      "           0       0.81      0.75      0.78       924\n",
      "           1       0.75      0.81      0.78       864\n",
      "\n",
      "    accuracy                           0.78      1788\n",
      "   macro avg       0.78      0.78      0.78      1788\n",
      "weighted avg       0.78      0.78      0.78      1788\n",
      "\n",
      "Accuracy score of is:\n",
      "0.7522371364653244\n",
      "[[685 255]\n",
      " [188 660]]\n",
      "              precision    recall  f1-score   support\n",
      "\n",
      "           0       0.78      0.73      0.76       940\n",
      "           1       0.72      0.78      0.75       848\n",
      "\n",
      "    accuracy                           0.75      1788\n",
      "   macro avg       0.75      0.75      0.75      1788\n",
      "weighted avg       0.75      0.75      0.75      1788\n",
      "\n",
      "Accuracy score of is:\n",
      "0.7891498881431768\n",
      "[[726 213]\n",
      " [164 685]]\n",
      "              precision    recall  f1-score   support\n",
      "\n",
      "           0       0.82      0.77      0.79       939\n",
      "           1       0.76      0.81      0.78       849\n",
      "\n",
      "    accuracy                           0.79      1788\n",
      "   macro avg       0.79      0.79      0.79      1788\n",
      "weighted avg       0.79      0.79      0.79      1788\n",
      "\n",
      "Accuracy score of is:\n",
      "0.7678970917225951\n",
      "[[699 250]\n",
      " [165 674]]\n",
      "              precision    recall  f1-score   support\n",
      "\n",
      "           0       0.81      0.74      0.77       949\n",
      "           1       0.73      0.80      0.76       839\n",
      "\n",
      "    accuracy                           0.77      1788\n",
      "   macro avg       0.77      0.77      0.77      1788\n",
      "weighted avg       0.77      0.77      0.77      1788\n",
      "\n",
      "Accuracy score of is:\n",
      "0.7550335570469798\n",
      "[[653 272]\n",
      " [166 697]]\n",
      "              precision    recall  f1-score   support\n",
      "\n",
      "           0       0.80      0.71      0.75       925\n",
      "           1       0.72      0.81      0.76       863\n",
      "\n",
      "    accuracy                           0.76      1788\n",
      "   macro avg       0.76      0.76      0.75      1788\n",
      "weighted avg       0.76      0.76      0.75      1788\n",
      "\n",
      "Accuracy score of is:\n",
      "0.7751677852348994\n",
      "[[660 233]\n",
      " [169 726]]\n",
      "              precision    recall  f1-score   support\n",
      "\n",
      "           0       0.80      0.74      0.77       893\n",
      "           1       0.76      0.81      0.78       895\n",
      "\n",
      "    accuracy                           0.78      1788\n",
      "   macro avg       0.78      0.78      0.77      1788\n",
      "weighted avg       0.78      0.78      0.77      1788\n",
      "\n",
      "Accuracy score of is:\n",
      "0.7718120805369127\n",
      "[[677 231]\n",
      " [177 703]]\n",
      "              precision    recall  f1-score   support\n",
      "\n",
      "           0       0.79      0.75      0.77       908\n",
      "           1       0.75      0.80      0.78       880\n",
      "\n",
      "    accuracy                           0.77      1788\n",
      "   macro avg       0.77      0.77      0.77      1788\n",
      "weighted avg       0.77      0.77      0.77      1788\n",
      "\n",
      "Accuracy score of is:\n",
      "0.7718120805369127\n",
      "[[706 244]\n",
      " [164 674]]\n",
      "              precision    recall  f1-score   support\n",
      "\n",
      "           0       0.81      0.74      0.78       950\n",
      "           1       0.73      0.80      0.77       838\n",
      "\n",
      "    accuracy                           0.77      1788\n",
      "   macro avg       0.77      0.77      0.77      1788\n",
      "weighted avg       0.78      0.77      0.77      1788\n",
      "\n",
      "Accuracy score of is:\n",
      "0.7796420581655481\n",
      "[[691 205]\n",
      " [189 703]]\n",
      "              precision    recall  f1-score   support\n",
      "\n",
      "           0       0.79      0.77      0.78       896\n",
      "           1       0.77      0.79      0.78       892\n",
      "\n",
      "    accuracy                           0.78      1788\n",
      "   macro avg       0.78      0.78      0.78      1788\n",
      "weighted avg       0.78      0.78      0.78      1788\n",
      "\n",
      "Accuracy score of is:\n",
      "0.7740492170022372\n",
      "[[722 238]\n",
      " [166 662]]\n",
      "              precision    recall  f1-score   support\n",
      "\n",
      "           0       0.81      0.75      0.78       960\n",
      "           1       0.74      0.80      0.77       828\n",
      "\n",
      "    accuracy                           0.77      1788\n",
      "   macro avg       0.77      0.78      0.77      1788\n",
      "weighted avg       0.78      0.77      0.77      1788\n",
      "\n",
      "Accuracy score of is:\n",
      "0.7746085011185683\n",
      "[[697 243]\n",
      " [160 688]]\n",
      "              precision    recall  f1-score   support\n",
      "\n",
      "           0       0.81      0.74      0.78       940\n",
      "           1       0.74      0.81      0.77       848\n",
      "\n",
      "    accuracy                           0.77      1788\n",
      "   macro avg       0.78      0.78      0.77      1788\n",
      "weighted avg       0.78      0.77      0.77      1788\n",
      "\n",
      "Accuracy score of is:\n",
      "0.7706935123042505\n",
      "[[689 238]\n",
      " [172 689]]\n",
      "              precision    recall  f1-score   support\n",
      "\n",
      "           0       0.80      0.74      0.77       927\n",
      "           1       0.74      0.80      0.77       861\n",
      "\n",
      "    accuracy                           0.77      1788\n",
      "   macro avg       0.77      0.77      0.77      1788\n",
      "weighted avg       0.77      0.77      0.77      1788\n",
      "\n",
      "Accuracy score of is:\n",
      "0.7785234899328859\n",
      "[[688 228]\n",
      " [168 704]]\n",
      "              precision    recall  f1-score   support\n",
      "\n",
      "           0       0.80      0.75      0.78       916\n",
      "           1       0.76      0.81      0.78       872\n",
      "\n",
      "    accuracy                           0.78      1788\n",
      "   macro avg       0.78      0.78      0.78      1788\n",
      "weighted avg       0.78      0.78      0.78      1788\n",
      "\n",
      "Accuracy score of is:\n",
      "0.7835570469798657\n",
      "[[693 224]\n",
      " [163 708]]\n",
      "              precision    recall  f1-score   support\n",
      "\n",
      "           0       0.81      0.76      0.78       917\n",
      "           1       0.76      0.81      0.79       871\n",
      "\n",
      "    accuracy                           0.78      1788\n",
      "   macro avg       0.78      0.78      0.78      1788\n",
      "weighted avg       0.79      0.78      0.78      1788\n",
      "\n",
      "Accuracy score of is:\n",
      "0.7656599552572707\n",
      "[[689 255]\n",
      " [164 680]]\n",
      "              precision    recall  f1-score   support\n",
      "\n",
      "           0       0.81      0.73      0.77       944\n",
      "           1       0.73      0.81      0.76       844\n",
      "\n",
      "    accuracy                           0.77      1788\n",
      "   macro avg       0.77      0.77      0.77      1788\n",
      "weighted avg       0.77      0.77      0.77      1788\n",
      "\n",
      "Accuracy score of is:\n",
      "0.7623042505592841\n",
      "[[678 256]\n",
      " [169 685]]\n",
      "              precision    recall  f1-score   support\n",
      "\n",
      "           0       0.80      0.73      0.76       934\n",
      "           1       0.73      0.80      0.76       854\n",
      "\n",
      "    accuracy                           0.76      1788\n",
      "   macro avg       0.76      0.76      0.76      1788\n",
      "weighted avg       0.77      0.76      0.76      1788\n",
      "\n",
      "Accuracy score of is:\n",
      "0.7807606263982103\n",
      "[[693 231]\n",
      " [161 703]]\n",
      "              precision    recall  f1-score   support\n",
      "\n",
      "           0       0.81      0.75      0.78       924\n",
      "           1       0.75      0.81      0.78       864\n",
      "\n",
      "    accuracy                           0.78      1788\n",
      "   macro avg       0.78      0.78      0.78      1788\n",
      "weighted avg       0.78      0.78      0.78      1788\n",
      "\n",
      "Accuracy score of is:\n",
      "0.7695749440715883\n",
      "[[687 233]\n",
      " [179 689]]\n",
      "              precision    recall  f1-score   support\n",
      "\n",
      "           0       0.79      0.75      0.77       920\n",
      "           1       0.75      0.79      0.77       868\n",
      "\n",
      "    accuracy                           0.77      1788\n",
      "   macro avg       0.77      0.77      0.77      1788\n",
      "weighted avg       0.77      0.77      0.77      1788\n",
      "\n",
      "Accuracy score of is:\n",
      "0.7712527964205816\n",
      "[[692 250]\n",
      " [159 687]]\n",
      "              precision    recall  f1-score   support\n",
      "\n",
      "           0       0.81      0.73      0.77       942\n",
      "           1       0.73      0.81      0.77       846\n",
      "\n",
      "    accuracy                           0.77      1788\n",
      "   macro avg       0.77      0.77      0.77      1788\n",
      "weighted avg       0.78      0.77      0.77      1788\n",
      "\n",
      "Accuracy score of is:\n",
      "0.796420581655481\n",
      "[[703 225]\n",
      " [139 721]]\n",
      "              precision    recall  f1-score   support\n",
      "\n",
      "           0       0.83      0.76      0.79       928\n",
      "           1       0.76      0.84      0.80       860\n",
      "\n",
      "    accuracy                           0.80      1788\n",
      "   macro avg       0.80      0.80      0.80      1788\n",
      "weighted avg       0.80      0.80      0.80      1788\n",
      "\n",
      "Accuracy score of is:\n",
      "0.7522371364653244\n",
      "[[672 254]\n",
      " [189 673]]\n",
      "              precision    recall  f1-score   support\n",
      "\n",
      "           0       0.78      0.73      0.75       926\n",
      "           1       0.73      0.78      0.75       862\n",
      "\n",
      "    accuracy                           0.75      1788\n",
      "   macro avg       0.75      0.75      0.75      1788\n",
      "weighted avg       0.75      0.75      0.75      1788\n",
      "\n",
      "Accuracy score of is:\n",
      "0.767337807606264\n",
      "[[678 251]\n",
      " [165 694]]\n",
      "              precision    recall  f1-score   support\n",
      "\n",
      "           0       0.80      0.73      0.77       929\n",
      "           1       0.73      0.81      0.77       859\n",
      "\n",
      "    accuracy                           0.77      1788\n",
      "   macro avg       0.77      0.77      0.77      1788\n",
      "weighted avg       0.77      0.77      0.77      1788\n",
      "\n",
      "Accuracy score of is:\n",
      "0.7841163310961968\n",
      "[[689 227]\n",
      " [159 713]]\n",
      "              precision    recall  f1-score   support\n",
      "\n",
      "           0       0.81      0.75      0.78       916\n",
      "           1       0.76      0.82      0.79       872\n",
      "\n",
      "    accuracy                           0.78      1788\n",
      "   macro avg       0.79      0.78      0.78      1788\n",
      "weighted avg       0.79      0.78      0.78      1788\n",
      "\n",
      "Accuracy score of is:\n",
      "0.8014541387024608\n",
      "[[697 200]\n",
      " [155 736]]\n",
      "              precision    recall  f1-score   support\n",
      "\n",
      "           0       0.82      0.78      0.80       897\n",
      "           1       0.79      0.83      0.81       891\n",
      "\n",
      "    accuracy                           0.80      1788\n",
      "   macro avg       0.80      0.80      0.80      1788\n",
      "weighted avg       0.80      0.80      0.80      1788\n",
      "\n",
      "Accuracy score of is:\n",
      "0.7740492170022372\n",
      "[[695 239]\n",
      " [165 689]]\n",
      "              precision    recall  f1-score   support\n",
      "\n",
      "           0       0.81      0.74      0.77       934\n",
      "           1       0.74      0.81      0.77       854\n",
      "\n",
      "    accuracy                           0.77      1788\n",
      "   macro avg       0.78      0.78      0.77      1788\n",
      "weighted avg       0.78      0.77      0.77      1788\n",
      "\n",
      "Accuracy score of is:\n",
      "0.7885906040268457\n",
      "[[692 215]\n",
      " [163 718]]\n",
      "              precision    recall  f1-score   support\n",
      "\n",
      "           0       0.81      0.76      0.79       907\n",
      "           1       0.77      0.81      0.79       881\n",
      "\n",
      "    accuracy                           0.79      1788\n",
      "   macro avg       0.79      0.79      0.79      1788\n",
      "weighted avg       0.79      0.79      0.79      1788\n",
      "\n",
      "Accuracy score of is:\n",
      "0.7572706935123042\n",
      "[[658 255]\n",
      " [179 696]]\n",
      "              precision    recall  f1-score   support\n",
      "\n",
      "           0       0.79      0.72      0.75       913\n",
      "           1       0.73      0.80      0.76       875\n",
      "\n",
      "    accuracy                           0.76      1788\n",
      "   macro avg       0.76      0.76      0.76      1788\n",
      "weighted avg       0.76      0.76      0.76      1788\n",
      "\n",
      "Accuracy score of is:\n",
      "0.7857941834451901\n",
      "[[684 229]\n",
      " [154 721]]\n",
      "              precision    recall  f1-score   support\n",
      "\n",
      "           0       0.82      0.75      0.78       913\n",
      "           1       0.76      0.82      0.79       875\n",
      "\n",
      "    accuracy                           0.79      1788\n",
      "   macro avg       0.79      0.79      0.79      1788\n",
      "weighted avg       0.79      0.79      0.79      1788\n",
      "\n",
      "Accuracy score of is:\n",
      "0.7824384787472036\n",
      "[[663 225]\n",
      " [164 736]]\n",
      "              precision    recall  f1-score   support\n",
      "\n",
      "           0       0.80      0.75      0.77       888\n",
      "           1       0.77      0.82      0.79       900\n",
      "\n",
      "    accuracy                           0.78      1788\n",
      "   macro avg       0.78      0.78      0.78      1788\n",
      "weighted avg       0.78      0.78      0.78      1788\n",
      "\n",
      "Accuracy score of is:\n",
      "0.7667785234899329\n",
      "[[650 232]\n",
      " [185 721]]\n",
      "              precision    recall  f1-score   support\n",
      "\n",
      "           0       0.78      0.74      0.76       882\n",
      "           1       0.76      0.80      0.78       906\n",
      "\n",
      "    accuracy                           0.77      1788\n",
      "   macro avg       0.77      0.77      0.77      1788\n",
      "weighted avg       0.77      0.77      0.77      1788\n",
      "\n",
      "Accuracy score of is:\n",
      "0.779082774049217\n",
      "[[699 243]\n",
      " [152 694]]\n",
      "              precision    recall  f1-score   support\n",
      "\n",
      "           0       0.82      0.74      0.78       942\n",
      "           1       0.74      0.82      0.78       846\n",
      "\n",
      "    accuracy                           0.78      1788\n",
      "   macro avg       0.78      0.78      0.78      1788\n",
      "weighted avg       0.78      0.78      0.78      1788\n",
      "\n",
      "Accuracy score of is:\n",
      "0.7891498881431768\n",
      "[[685 208]\n",
      " [169 726]]\n",
      "              precision    recall  f1-score   support\n",
      "\n",
      "           0       0.80      0.77      0.78       893\n",
      "           1       0.78      0.81      0.79       895\n",
      "\n",
      "    accuracy                           0.79      1788\n",
      "   macro avg       0.79      0.79      0.79      1788\n",
      "weighted avg       0.79      0.79      0.79      1788\n",
      "\n",
      "Accuracy score of is:\n",
      "0.7656599552572707\n",
      "[[685 269]\n",
      " [150 684]]\n",
      "              precision    recall  f1-score   support\n",
      "\n",
      "           0       0.82      0.72      0.77       954\n",
      "           1       0.72      0.82      0.77       834\n",
      "\n",
      "    accuracy                           0.77      1788\n",
      "   macro avg       0.77      0.77      0.77      1788\n",
      "weighted avg       0.77      0.77      0.77      1788\n",
      "\n",
      "Accuracy score of is:\n",
      "0.7645413870246085\n",
      "[[693 267]\n",
      " [154 674]]\n",
      "              precision    recall  f1-score   support\n",
      "\n",
      "           0       0.82      0.72      0.77       960\n",
      "           1       0.72      0.81      0.76       828\n",
      "\n",
      "    accuracy                           0.76      1788\n",
      "   macro avg       0.77      0.77      0.76      1788\n",
      "weighted avg       0.77      0.76      0.76      1788\n",
      "\n",
      "Accuracy score of is:\n",
      "0.7667785234899329\n",
      "[[657 253]\n",
      " [164 714]]\n",
      "              precision    recall  f1-score   support\n",
      "\n",
      "           0       0.80      0.72      0.76       910\n",
      "           1       0.74      0.81      0.77       878\n",
      "\n",
      "    accuracy                           0.77      1788\n",
      "   macro avg       0.77      0.77      0.77      1788\n",
      "weighted avg       0.77      0.77      0.77      1788\n",
      "\n",
      "Accuracy score of is:\n",
      "0.772930648769575\n",
      "[[682 253]\n",
      " [153 700]]\n",
      "              precision    recall  f1-score   support\n",
      "\n",
      "           0       0.82      0.73      0.77       935\n",
      "           1       0.73      0.82      0.78       853\n",
      "\n",
      "    accuracy                           0.77      1788\n",
      "   macro avg       0.78      0.78      0.77      1788\n",
      "weighted avg       0.78      0.77      0.77      1788\n",
      "\n",
      "Accuracy score of is:\n",
      "0.7785234899328859\n",
      "[[696 240]\n",
      " [156 696]]\n",
      "              precision    recall  f1-score   support\n",
      "\n",
      "           0       0.82      0.74      0.78       936\n",
      "           1       0.74      0.82      0.78       852\n",
      "\n",
      "    accuracy                           0.78      1788\n",
      "   macro avg       0.78      0.78      0.78      1788\n",
      "weighted avg       0.78      0.78      0.78      1788\n",
      "\n",
      "Accuracy score of is:\n",
      "0.7706935123042505\n",
      "[[699 239]\n",
      " [171 679]]\n",
      "              precision    recall  f1-score   support\n",
      "\n",
      "           0       0.80      0.75      0.77       938\n",
      "           1       0.74      0.80      0.77       850\n",
      "\n",
      "    accuracy                           0.77      1788\n",
      "   macro avg       0.77      0.77      0.77      1788\n",
      "weighted avg       0.77      0.77      0.77      1788\n",
      "\n",
      "Accuracy score of is:\n",
      "0.7807606263982103\n",
      "[[687 222]\n",
      " [170 709]]\n",
      "              precision    recall  f1-score   support\n",
      "\n",
      "           0       0.80      0.76      0.78       909\n",
      "           1       0.76      0.81      0.78       879\n",
      "\n",
      "    accuracy                           0.78      1788\n",
      "   macro avg       0.78      0.78      0.78      1788\n",
      "weighted avg       0.78      0.78      0.78      1788\n",
      "\n",
      "Accuracy score of is:\n",
      "0.7829977628635347\n",
      "[[715 210]\n",
      " [178 685]]\n",
      "              precision    recall  f1-score   support\n",
      "\n",
      "           0       0.80      0.77      0.79       925\n",
      "           1       0.77      0.79      0.78       863\n",
      "\n",
      "    accuracy                           0.78      1788\n",
      "   macro avg       0.78      0.78      0.78      1788\n",
      "weighted avg       0.78      0.78      0.78      1788\n",
      "\n",
      "Accuracy score of is:\n",
      "0.7718120805369127\n",
      "[[697 252]\n",
      " [156 683]]\n",
      "              precision    recall  f1-score   support\n",
      "\n",
      "           0       0.82      0.73      0.77       949\n",
      "           1       0.73      0.81      0.77       839\n",
      "\n",
      "    accuracy                           0.77      1788\n",
      "   macro avg       0.77      0.77      0.77      1788\n",
      "weighted avg       0.78      0.77      0.77      1788\n",
      "\n",
      "Accuracy score of is:\n",
      "0.796420581655481\n",
      "[[717 200]\n",
      " [164 707]]\n",
      "              precision    recall  f1-score   support\n",
      "\n",
      "           0       0.81      0.78      0.80       917\n",
      "           1       0.78      0.81      0.80       871\n",
      "\n",
      "    accuracy                           0.80      1788\n",
      "   macro avg       0.80      0.80      0.80      1788\n",
      "weighted avg       0.80      0.80      0.80      1788\n",
      "\n",
      "Accuracy score of is:\n",
      "0.767337807606264\n",
      "[[672 242]\n",
      " [174 700]]\n",
      "              precision    recall  f1-score   support\n",
      "\n",
      "           0       0.79      0.74      0.76       914\n",
      "           1       0.74      0.80      0.77       874\n",
      "\n",
      "    accuracy                           0.77      1788\n",
      "   macro avg       0.77      0.77      0.77      1788\n",
      "weighted avg       0.77      0.77      0.77      1788\n",
      "\n",
      "Accuracy score of is:\n",
      "0.7578299776286354\n",
      "[[676 264]\n",
      " [169 679]]\n",
      "              precision    recall  f1-score   support\n",
      "\n",
      "           0       0.80      0.72      0.76       940\n",
      "           1       0.72      0.80      0.76       848\n",
      "\n",
      "    accuracy                           0.76      1788\n",
      "   macro avg       0.76      0.76      0.76      1788\n",
      "weighted avg       0.76      0.76      0.76      1788\n",
      "\n",
      "Accuracy score of is:\n",
      "0.7874720357941835\n",
      "[[718 227]\n",
      " [153 690]]\n",
      "              precision    recall  f1-score   support\n",
      "\n",
      "           0       0.82      0.76      0.79       945\n",
      "           1       0.75      0.82      0.78       843\n",
      "\n",
      "    accuracy                           0.79      1788\n",
      "   macro avg       0.79      0.79      0.79      1788\n",
      "weighted avg       0.79      0.79      0.79      1788\n",
      "\n",
      "Accuracy score of is:\n",
      "0.7718120805369127\n",
      "[[677 224]\n",
      " [184 703]]\n",
      "              precision    recall  f1-score   support\n",
      "\n",
      "           0       0.79      0.75      0.77       901\n",
      "           1       0.76      0.79      0.78       887\n",
      "\n",
      "    accuracy                           0.77      1788\n",
      "   macro avg       0.77      0.77      0.77      1788\n",
      "weighted avg       0.77      0.77      0.77      1788\n",
      "\n",
      "Accuracy score of is:\n",
      "0.7628635346756152\n",
      "[[711 243]\n",
      " [181 653]]\n",
      "              precision    recall  f1-score   support\n",
      "\n",
      "           0       0.80      0.75      0.77       954\n",
      "           1       0.73      0.78      0.75       834\n",
      "\n",
      "    accuracy                           0.76      1788\n",
      "   macro avg       0.76      0.76      0.76      1788\n",
      "weighted avg       0.77      0.76      0.76      1788\n",
      "\n",
      "Accuracy score of is:\n",
      "0.7578299776286354\n",
      "[[652 247]\n",
      " [186 703]]\n",
      "              precision    recall  f1-score   support\n",
      "\n",
      "           0       0.78      0.73      0.75       899\n",
      "           1       0.74      0.79      0.76       889\n",
      "\n",
      "    accuracy                           0.76      1788\n",
      "   macro avg       0.76      0.76      0.76      1788\n",
      "weighted avg       0.76      0.76      0.76      1788\n",
      "\n",
      "Accuracy score of is:\n",
      "0.7572706935123042\n",
      "[[654 272]\n",
      " [162 700]]\n",
      "              precision    recall  f1-score   support\n",
      "\n",
      "           0       0.80      0.71      0.75       926\n",
      "           1       0.72      0.81      0.76       862\n",
      "\n",
      "    accuracy                           0.76      1788\n",
      "   macro avg       0.76      0.76      0.76      1788\n",
      "weighted avg       0.76      0.76      0.76      1788\n",
      "\n",
      "Accuracy score of is:\n",
      "0.7846756152125279\n",
      "[[706 214]\n",
      " [171 697]]\n",
      "              precision    recall  f1-score   support\n",
      "\n",
      "           0       0.81      0.77      0.79       920\n",
      "           1       0.77      0.80      0.78       868\n",
      "\n",
      "    accuracy                           0.78      1788\n",
      "   macro avg       0.79      0.79      0.78      1788\n",
      "weighted avg       0.79      0.78      0.78      1788\n",
      "\n",
      "Accuracy score of is:\n",
      "0.772930648769575\n",
      "[[683 236]\n",
      " [170 699]]\n",
      "              precision    recall  f1-score   support\n",
      "\n",
      "           0       0.80      0.74      0.77       919\n",
      "           1       0.75      0.80      0.77       869\n",
      "\n",
      "    accuracy                           0.77      1788\n",
      "   macro avg       0.77      0.77      0.77      1788\n",
      "weighted avg       0.77      0.77      0.77      1788\n",
      "\n",
      "Accuracy score of is:\n",
      "0.7857941834451901\n",
      "[[710 212]\n",
      " [171 695]]\n",
      "              precision    recall  f1-score   support\n",
      "\n",
      "           0       0.81      0.77      0.79       922\n",
      "           1       0.77      0.80      0.78       866\n",
      "\n",
      "    accuracy                           0.79      1788\n",
      "   macro avg       0.79      0.79      0.79      1788\n",
      "weighted avg       0.79      0.79      0.79      1788\n",
      "\n",
      "Accuracy score of is:\n",
      "0.7656599552572707\n",
      "[[668 267]\n",
      " [152 701]]\n",
      "              precision    recall  f1-score   support\n",
      "\n",
      "           0       0.81      0.71      0.76       935\n",
      "           1       0.72      0.82      0.77       853\n",
      "\n",
      "    accuracy                           0.77      1788\n",
      "   macro avg       0.77      0.77      0.77      1788\n",
      "weighted avg       0.77      0.77      0.77      1788\n",
      "\n",
      "Accuracy score of is:\n",
      "0.7880313199105146\n",
      "[[700 205]\n",
      " [174 709]]\n",
      "              precision    recall  f1-score   support\n",
      "\n",
      "           0       0.80      0.77      0.79       905\n",
      "           1       0.78      0.80      0.79       883\n",
      "\n",
      "    accuracy                           0.79      1788\n",
      "   macro avg       0.79      0.79      0.79      1788\n",
      "weighted avg       0.79      0.79      0.79      1788\n",
      "\n",
      "Accuracy score of is:\n",
      "0.7796420581655481\n",
      "[[693 234]\n",
      " [160 701]]\n",
      "              precision    recall  f1-score   support\n",
      "\n",
      "           0       0.81      0.75      0.78       927\n",
      "           1       0.75      0.81      0.78       861\n",
      "\n",
      "    accuracy                           0.78      1788\n",
      "   macro avg       0.78      0.78      0.78      1788\n",
      "weighted avg       0.78      0.78      0.78      1788\n",
      "\n",
      "Accuracy score of is:\n",
      "0.7656599552572707\n",
      "[[678 252]\n",
      " [167 691]]\n",
      "              precision    recall  f1-score   support\n",
      "\n",
      "           0       0.80      0.73      0.76       930\n",
      "           1       0.73      0.81      0.77       858\n",
      "\n",
      "    accuracy                           0.77      1788\n",
      "   macro avg       0.77      0.77      0.77      1788\n",
      "weighted avg       0.77      0.77      0.77      1788\n",
      "\n",
      "Accuracy score of is:\n",
      "0.7718120805369127\n",
      "[[690 266]\n",
      " [142 690]]\n",
      "              precision    recall  f1-score   support\n",
      "\n",
      "           0       0.83      0.72      0.77       956\n",
      "           1       0.72      0.83      0.77       832\n",
      "\n",
      "    accuracy                           0.77      1788\n",
      "   macro avg       0.78      0.78      0.77      1788\n",
      "weighted avg       0.78      0.77      0.77      1788\n",
      "\n",
      "Accuracy score of is:\n",
      "0.7885906040268457\n",
      "[[705 219]\n",
      " [159 705]]\n",
      "              precision    recall  f1-score   support\n",
      "\n",
      "           0       0.82      0.76      0.79       924\n",
      "           1       0.76      0.82      0.79       864\n",
      "\n",
      "    accuracy                           0.79      1788\n",
      "   macro avg       0.79      0.79      0.79      1788\n",
      "weighted avg       0.79      0.79      0.79      1788\n",
      "\n",
      "Accuracy score of is:\n",
      "0.7779642058165548\n",
      "[[665 243]\n",
      " [154 726]]\n",
      "              precision    recall  f1-score   support\n",
      "\n",
      "           0       0.81      0.73      0.77       908\n",
      "           1       0.75      0.82      0.79       880\n",
      "\n",
      "    accuracy                           0.78      1788\n",
      "   macro avg       0.78      0.78      0.78      1788\n",
      "weighted avg       0.78      0.78      0.78      1788\n",
      "\n",
      "Accuracy score of is:\n",
      "0.7583892617449665\n",
      "[[654 264]\n",
      " [168 702]]\n",
      "              precision    recall  f1-score   support\n",
      "\n",
      "           0       0.80      0.71      0.75       918\n",
      "           1       0.73      0.81      0.76       870\n",
      "\n",
      "    accuracy                           0.76      1788\n",
      "   macro avg       0.76      0.76      0.76      1788\n",
      "weighted avg       0.76      0.76      0.76      1788\n",
      "\n",
      "Accuracy score of is:\n",
      "0.7768456375838926\n",
      "[[688 246]\n",
      " [153 701]]\n",
      "              precision    recall  f1-score   support\n",
      "\n",
      "           0       0.82      0.74      0.78       934\n",
      "           1       0.74      0.82      0.78       854\n",
      "\n",
      "    accuracy                           0.78      1788\n",
      "   macro avg       0.78      0.78      0.78      1788\n",
      "weighted avg       0.78      0.78      0.78      1788\n",
      "\n",
      "Accuracy score of is:\n",
      "0.7768456375838926\n",
      "[[693 244]\n",
      " [155 696]]\n",
      "              precision    recall  f1-score   support\n",
      "\n",
      "           0       0.82      0.74      0.78       937\n",
      "           1       0.74      0.82      0.78       851\n",
      "\n",
      "    accuracy                           0.78      1788\n",
      "   macro avg       0.78      0.78      0.78      1788\n",
      "weighted avg       0.78      0.78      0.78      1788\n",
      "\n",
      "Accuracy score of is:\n",
      "0.7936241610738255\n",
      "[[728 195]\n",
      " [174 691]]\n",
      "              precision    recall  f1-score   support\n",
      "\n",
      "           0       0.81      0.79      0.80       923\n",
      "           1       0.78      0.80      0.79       865\n",
      "\n",
      "    accuracy                           0.79      1788\n",
      "   macro avg       0.79      0.79      0.79      1788\n",
      "weighted avg       0.79      0.79      0.79      1788\n",
      "\n",
      "Accuracy score of is:\n",
      "0.7589485458612976\n",
      "[[666 250]\n",
      " [181 691]]\n",
      "              precision    recall  f1-score   support\n",
      "\n",
      "           0       0.79      0.73      0.76       916\n",
      "           1       0.73      0.79      0.76       872\n",
      "\n",
      "    accuracy                           0.76      1788\n",
      "   macro avg       0.76      0.76      0.76      1788\n",
      "weighted avg       0.76      0.76      0.76      1788\n",
      "\n",
      "Accuracy score of is:\n",
      "0.7706935123042505\n",
      "[[679 244]\n",
      " [166 699]]\n",
      "              precision    recall  f1-score   support\n",
      "\n",
      "           0       0.80      0.74      0.77       923\n",
      "           1       0.74      0.81      0.77       865\n",
      "\n",
      "    accuracy                           0.77      1788\n",
      "   macro avg       0.77      0.77      0.77      1788\n",
      "weighted avg       0.77      0.77      0.77      1788\n",
      "\n",
      "Accuracy score of is:\n",
      "0.7857941834451901\n",
      "[[685 227]\n",
      " [156 720]]\n",
      "              precision    recall  f1-score   support\n",
      "\n",
      "           0       0.81      0.75      0.78       912\n",
      "           1       0.76      0.82      0.79       876\n",
      "\n",
      "    accuracy                           0.79      1788\n",
      "   macro avg       0.79      0.79      0.79      1788\n",
      "weighted avg       0.79      0.79      0.79      1788\n",
      "\n",
      "Accuracy score of is:\n",
      "0.7930648769574944\n",
      "[[736 218]\n",
      " [152 682]]\n",
      "              precision    recall  f1-score   support\n",
      "\n",
      "           0       0.83      0.77      0.80       954\n",
      "           1       0.76      0.82      0.79       834\n",
      "\n",
      "    accuracy                           0.79      1788\n",
      "   macro avg       0.79      0.79      0.79      1788\n",
      "weighted avg       0.80      0.79      0.79      1788\n",
      "\n",
      "Accuracy score of is:\n",
      "0.7919463087248322\n",
      "[[694 218]\n",
      " [154 722]]\n",
      "              precision    recall  f1-score   support\n",
      "\n",
      "           0       0.82      0.76      0.79       912\n",
      "           1       0.77      0.82      0.80       876\n",
      "\n",
      "    accuracy                           0.79      1788\n",
      "   macro avg       0.79      0.79      0.79      1788\n",
      "weighted avg       0.79      0.79      0.79      1788\n",
      "\n",
      "Accuracy score of is:\n",
      "0.7578299776286354\n",
      "[[670 271]\n",
      " [162 685]]\n",
      "              precision    recall  f1-score   support\n",
      "\n",
      "           0       0.81      0.71      0.76       941\n",
      "           1       0.72      0.81      0.76       847\n",
      "\n",
      "    accuracy                           0.76      1788\n",
      "   macro avg       0.76      0.76      0.76      1788\n",
      "weighted avg       0.76      0.76      0.76      1788\n",
      "\n",
      "Accuracy score of is:\n",
      "0.7678970917225951\n",
      "[[687 255]\n",
      " [160 686]]\n",
      "              precision    recall  f1-score   support\n",
      "\n",
      "           0       0.81      0.73      0.77       942\n",
      "           1       0.73      0.81      0.77       846\n",
      "\n",
      "    accuracy                           0.77      1788\n",
      "   macro avg       0.77      0.77      0.77      1788\n",
      "weighted avg       0.77      0.77      0.77      1788\n",
      "\n",
      "Accuracy score of is:\n",
      "0.7740492170022372\n",
      "[[700 236]\n",
      " [168 684]]\n",
      "              precision    recall  f1-score   support\n",
      "\n",
      "           0       0.81      0.75      0.78       936\n",
      "           1       0.74      0.80      0.77       852\n",
      "\n",
      "    accuracy                           0.77      1788\n",
      "   macro avg       0.77      0.78      0.77      1788\n",
      "weighted avg       0.78      0.77      0.77      1788\n",
      "\n",
      "Accuracy score of is:\n",
      "0.7796420581655481\n",
      "[[708 238]\n",
      " [156 686]]\n",
      "              precision    recall  f1-score   support\n",
      "\n",
      "           0       0.82      0.75      0.78       946\n",
      "           1       0.74      0.81      0.78       842\n",
      "\n",
      "    accuracy                           0.78      1788\n",
      "   macro avg       0.78      0.78      0.78      1788\n",
      "weighted avg       0.78      0.78      0.78      1788\n",
      "\n",
      "Accuracy score of is:\n",
      "0.7824384787472036\n",
      "[[705 232]\n",
      " [157 694]]\n",
      "              precision    recall  f1-score   support\n",
      "\n",
      "           0       0.82      0.75      0.78       937\n",
      "           1       0.75      0.82      0.78       851\n",
      "\n",
      "    accuracy                           0.78      1788\n",
      "   macro avg       0.78      0.78      0.78      1788\n",
      "weighted avg       0.79      0.78      0.78      1788\n",
      "\n",
      "Accuracy score of is:\n",
      "0.7857941834451901\n",
      "[[697 230]\n",
      " [153 708]]\n",
      "              precision    recall  f1-score   support\n",
      "\n",
      "           0       0.82      0.75      0.78       927\n",
      "           1       0.75      0.82      0.79       861\n",
      "\n",
      "    accuracy                           0.79      1788\n",
      "   macro avg       0.79      0.79      0.79      1788\n",
      "weighted avg       0.79      0.79      0.79      1788\n",
      "\n",
      "Accuracy score of is:\n",
      "0.7628635346756152\n",
      "[[687 254]\n",
      " [170 677]]\n",
      "              precision    recall  f1-score   support\n",
      "\n",
      "           0       0.80      0.73      0.76       941\n",
      "           1       0.73      0.80      0.76       847\n",
      "\n",
      "    accuracy                           0.76      1788\n",
      "   macro avg       0.76      0.76      0.76      1788\n",
      "weighted avg       0.77      0.76      0.76      1788\n",
      "\n",
      "Accuracy score of is:\n",
      "0.7746085011185683\n",
      "[[685 237]\n",
      " [166 700]]\n",
      "              precision    recall  f1-score   support\n",
      "\n",
      "           0       0.80      0.74      0.77       922\n",
      "           1       0.75      0.81      0.78       866\n",
      "\n",
      "    accuracy                           0.77      1788\n",
      "   macro avg       0.78      0.78      0.77      1788\n",
      "weighted avg       0.78      0.77      0.77      1788\n",
      "\n",
      "Accuracy score of is:\n",
      "0.7695749440715883\n",
      "[[701 230]\n",
      " [182 675]]\n",
      "              precision    recall  f1-score   support\n",
      "\n",
      "           0       0.79      0.75      0.77       931\n",
      "           1       0.75      0.79      0.77       857\n",
      "\n",
      "    accuracy                           0.77      1788\n",
      "   macro avg       0.77      0.77      0.77      1788\n",
      "weighted avg       0.77      0.77      0.77      1788\n",
      "\n",
      "Accuracy score of is:\n",
      "0.7695749440715883\n",
      "[[706 246]\n",
      " [166 670]]\n",
      "              precision    recall  f1-score   support\n",
      "\n",
      "           0       0.81      0.74      0.77       952\n",
      "           1       0.73      0.80      0.76       836\n",
      "\n",
      "    accuracy                           0.77      1788\n",
      "   macro avg       0.77      0.77      0.77      1788\n",
      "weighted avg       0.77      0.77      0.77      1788\n",
      "\n",
      "Accuracy score of is:\n",
      "0.7751677852348994\n",
      "[[662 234]\n",
      " [168 724]]\n",
      "              precision    recall  f1-score   support\n",
      "\n",
      "           0       0.80      0.74      0.77       896\n",
      "           1       0.76      0.81      0.78       892\n",
      "\n",
      "    accuracy                           0.78      1788\n",
      "   macro avg       0.78      0.78      0.77      1788\n",
      "weighted avg       0.78      0.78      0.77      1788\n",
      "\n",
      "Accuracy score of is:\n",
      "0.7762863534675615\n",
      "[[688 232]\n",
      " [168 700]]\n",
      "              precision    recall  f1-score   support\n",
      "\n",
      "           0       0.80      0.75      0.77       920\n",
      "           1       0.75      0.81      0.78       868\n",
      "\n",
      "    accuracy                           0.78      1788\n",
      "   macro avg       0.78      0.78      0.78      1788\n",
      "weighted avg       0.78      0.78      0.78      1788\n",
      "\n",
      "Accuracy score of is:\n",
      "0.7723713646532439\n",
      "[[696 240]\n",
      " [167 685]]\n",
      "              precision    recall  f1-score   support\n",
      "\n",
      "           0       0.81      0.74      0.77       936\n",
      "           1       0.74      0.80      0.77       852\n",
      "\n",
      "    accuracy                           0.77      1788\n",
      "   macro avg       0.77      0.77      0.77      1788\n",
      "weighted avg       0.78      0.77      0.77      1788\n",
      "\n",
      "Accuracy score of is:\n",
      "0.7746085011185683\n",
      "[[669 261]\n",
      " [142 716]]\n",
      "              precision    recall  f1-score   support\n",
      "\n",
      "           0       0.82      0.72      0.77       930\n",
      "           1       0.73      0.83      0.78       858\n",
      "\n",
      "    accuracy                           0.77      1788\n",
      "   macro avg       0.78      0.78      0.77      1788\n",
      "weighted avg       0.78      0.77      0.77      1788\n",
      "\n",
      "Accuracy score of is:\n",
      "0.796420581655481\n",
      "[[684 233]\n",
      " [131 740]]\n",
      "              precision    recall  f1-score   support\n",
      "\n",
      "           0       0.84      0.75      0.79       917\n",
      "           1       0.76      0.85      0.80       871\n",
      "\n",
      "    accuracy                           0.80      1788\n",
      "   macro avg       0.80      0.80      0.80      1788\n",
      "weighted avg       0.80      0.80      0.80      1788\n",
      "\n",
      "Accuracy score of is:\n",
      "0.7740492170022372\n",
      "[[676 233]\n",
      " [171 708]]\n",
      "              precision    recall  f1-score   support\n",
      "\n",
      "           0       0.80      0.74      0.77       909\n",
      "           1       0.75      0.81      0.78       879\n",
      "\n",
      "    accuracy                           0.77      1788\n",
      "   macro avg       0.78      0.77      0.77      1788\n",
      "weighted avg       0.78      0.77      0.77      1788\n",
      "\n",
      "Accuracy score of is:\n",
      "0.7734899328859061\n",
      "[[681 246]\n",
      " [159 702]]\n",
      "              precision    recall  f1-score   support\n",
      "\n",
      "           0       0.81      0.73      0.77       927\n",
      "           1       0.74      0.82      0.78       861\n",
      "\n",
      "    accuracy                           0.77      1788\n",
      "   macro avg       0.78      0.77      0.77      1788\n",
      "weighted avg       0.78      0.77      0.77      1788\n",
      "\n",
      "Accuracy score of is:\n",
      "0.7925055928411633\n",
      "[[714 224]\n",
      " [147 703]]\n",
      "              precision    recall  f1-score   support\n",
      "\n",
      "           0       0.83      0.76      0.79       938\n",
      "           1       0.76      0.83      0.79       850\n",
      "\n",
      "    accuracy                           0.79      1788\n",
      "   macro avg       0.79      0.79      0.79      1788\n",
      "weighted avg       0.80      0.79      0.79      1788\n",
      "\n",
      "Accuracy score of is:\n",
      "0.7768456375838926\n",
      "[[704 243]\n",
      " [156 685]]\n",
      "              precision    recall  f1-score   support\n",
      "\n",
      "           0       0.82      0.74      0.78       947\n",
      "           1       0.74      0.81      0.77       841\n",
      "\n",
      "    accuracy                           0.78      1788\n",
      "   macro avg       0.78      0.78      0.78      1788\n",
      "weighted avg       0.78      0.78      0.78      1788\n",
      "\n",
      "Accuracy score of is:\n",
      "0.7813199105145414\n",
      "[[709 226]\n",
      " [165 688]]\n",
      "              precision    recall  f1-score   support\n",
      "\n",
      "           0       0.81      0.76      0.78       935\n",
      "           1       0.75      0.81      0.78       853\n",
      "\n",
      "    accuracy                           0.78      1788\n",
      "   macro avg       0.78      0.78      0.78      1788\n",
      "weighted avg       0.78      0.78      0.78      1788\n",
      "\n",
      "Accuracy score of is:\n",
      "0.7723713646532439\n",
      "[[673 244]\n",
      " [163 708]]\n",
      "              precision    recall  f1-score   support\n",
      "\n",
      "           0       0.81      0.73      0.77       917\n",
      "           1       0.74      0.81      0.78       871\n",
      "\n",
      "    accuracy                           0.77      1788\n",
      "   macro avg       0.77      0.77      0.77      1788\n",
      "weighted avg       0.78      0.77      0.77      1788\n",
      "\n",
      "Accuracy score of is:\n",
      "0.7818791946308725\n",
      "[[699 243]\n",
      " [147 699]]\n",
      "              precision    recall  f1-score   support\n",
      "\n",
      "           0       0.83      0.74      0.78       942\n",
      "           1       0.74      0.83      0.78       846\n",
      "\n",
      "    accuracy                           0.78      1788\n",
      "   macro avg       0.78      0.78      0.78      1788\n",
      "weighted avg       0.79      0.78      0.78      1788\n",
      "\n",
      "Accuracy score of is:\n",
      "0.7885906040268457\n",
      "[[690 221]\n",
      " [157 720]]\n",
      "              precision    recall  f1-score   support\n",
      "\n",
      "           0       0.81      0.76      0.78       911\n",
      "           1       0.77      0.82      0.79       877\n",
      "\n",
      "    accuracy                           0.79      1788\n",
      "   macro avg       0.79      0.79      0.79      1788\n",
      "weighted avg       0.79      0.79      0.79      1788\n",
      "\n",
      "Accuracy score of is:\n",
      "0.767337807606264\n",
      "[[696 239]\n",
      " [177 676]]\n",
      "              precision    recall  f1-score   support\n",
      "\n",
      "           0       0.80      0.74      0.77       935\n",
      "           1       0.74      0.79      0.76       853\n",
      "\n",
      "    accuracy                           0.77      1788\n",
      "   macro avg       0.77      0.77      0.77      1788\n",
      "weighted avg       0.77      0.77      0.77      1788\n",
      "\n",
      "Accuracy score of is:\n",
      "0.7662192393736018\n",
      "[[690 223]\n",
      " [195 680]]\n",
      "              precision    recall  f1-score   support\n",
      "\n",
      "           0       0.78      0.76      0.77       913\n",
      "           1       0.75      0.78      0.76       875\n",
      "\n",
      "    accuracy                           0.77      1788\n",
      "   macro avg       0.77      0.77      0.77      1788\n",
      "weighted avg       0.77      0.77      0.77      1788\n",
      "\n",
      "Accuracy score of is:\n",
      "0.7527964205816555\n",
      "[[705 253]\n",
      " [189 641]]\n",
      "              precision    recall  f1-score   support\n",
      "\n",
      "           0       0.79      0.74      0.76       958\n",
      "           1       0.72      0.77      0.74       830\n",
      "\n",
      "    accuracy                           0.75      1788\n",
      "   macro avg       0.75      0.75      0.75      1788\n",
      "weighted avg       0.76      0.75      0.75      1788\n",
      "\n",
      "Accuracy score of is:\n",
      "0.7846756152125279\n",
      "[[683 218]\n",
      " [167 720]]\n",
      "              precision    recall  f1-score   support\n",
      "\n",
      "           0       0.80      0.76      0.78       901\n",
      "           1       0.77      0.81      0.79       887\n",
      "\n",
      "    accuracy                           0.78      1788\n",
      "   macro avg       0.79      0.78      0.78      1788\n",
      "weighted avg       0.79      0.78      0.78      1788\n",
      "\n",
      "Accuracy score of is:\n",
      "0.7762863534675615\n",
      "[[672 231]\n",
      " [169 716]]\n",
      "              precision    recall  f1-score   support\n",
      "\n",
      "           0       0.80      0.74      0.77       903\n",
      "           1       0.76      0.81      0.78       885\n",
      "\n",
      "    accuracy                           0.78      1788\n",
      "   macro avg       0.78      0.78      0.78      1788\n",
      "weighted avg       0.78      0.78      0.78      1788\n",
      "\n",
      "Accuracy score of is:\n",
      "0.785234899328859\n",
      "[[751 237]\n",
      " [147 653]]\n",
      "              precision    recall  f1-score   support\n",
      "\n",
      "           0       0.84      0.76      0.80       988\n",
      "           1       0.73      0.82      0.77       800\n",
      "\n",
      "    accuracy                           0.79      1788\n",
      "   macro avg       0.79      0.79      0.78      1788\n",
      "weighted avg       0.79      0.79      0.79      1788\n",
      "\n",
      "Accuracy score of is:\n",
      "0.7651006711409396\n",
      "[[668 251]\n",
      " [169 700]]\n",
      "              precision    recall  f1-score   support\n",
      "\n",
      "           0       0.80      0.73      0.76       919\n",
      "           1       0.74      0.81      0.77       869\n",
      "\n",
      "    accuracy                           0.77      1788\n",
      "   macro avg       0.77      0.77      0.77      1788\n",
      "weighted avg       0.77      0.77      0.76      1788\n",
      "\n",
      "Accuracy score of is:\n",
      "0.7762863534675615\n",
      "[[687 249]\n",
      " [151 701]]\n",
      "              precision    recall  f1-score   support\n",
      "\n",
      "           0       0.82      0.73      0.77       936\n",
      "           1       0.74      0.82      0.78       852\n",
      "\n",
      "    accuracy                           0.78      1788\n",
      "   macro avg       0.78      0.78      0.78      1788\n",
      "weighted avg       0.78      0.78      0.78      1788\n",
      "\n",
      "Accuracy score of is:\n",
      "0.7734899328859061\n",
      "[[660 248]\n",
      " [157 723]]\n",
      "              precision    recall  f1-score   support\n",
      "\n",
      "           0       0.81      0.73      0.77       908\n",
      "           1       0.74      0.82      0.78       880\n",
      "\n",
      "    accuracy                           0.77      1788\n",
      "   macro avg       0.78      0.77      0.77      1788\n",
      "weighted avg       0.78      0.77      0.77      1788\n",
      "\n",
      "Accuracy score of is:\n",
      "0.7634228187919463\n",
      "[[688 249]\n",
      " [174 677]]\n",
      "              precision    recall  f1-score   support\n",
      "\n",
      "           0       0.80      0.73      0.76       937\n",
      "           1       0.73      0.80      0.76       851\n",
      "\n",
      "    accuracy                           0.76      1788\n",
      "   macro avg       0.76      0.76      0.76      1788\n",
      "weighted avg       0.77      0.76      0.76      1788\n",
      "\n",
      "Accuracy score of is:\n",
      "0.7824384787472036\n",
      "[[668 220]\n",
      " [169 731]]\n",
      "              precision    recall  f1-score   support\n",
      "\n",
      "           0       0.80      0.75      0.77       888\n",
      "           1       0.77      0.81      0.79       900\n",
      "\n",
      "    accuracy                           0.78      1788\n",
      "   macro avg       0.78      0.78      0.78      1788\n",
      "weighted avg       0.78      0.78      0.78      1788\n",
      "\n",
      "Accuracy score of is:\n",
      "0.7651006711409396\n",
      "[[701 248]\n",
      " [172 667]]\n",
      "              precision    recall  f1-score   support\n",
      "\n",
      "           0       0.80      0.74      0.77       949\n",
      "           1       0.73      0.79      0.76       839\n",
      "\n",
      "    accuracy                           0.77      1788\n",
      "   macro avg       0.77      0.77      0.77      1788\n",
      "weighted avg       0.77      0.77      0.77      1788\n",
      "\n",
      "Accuracy score of is:\n",
      "0.779082774049217\n",
      "[[671 219]\n",
      " [176 722]]\n",
      "              precision    recall  f1-score   support\n",
      "\n",
      "           0       0.79      0.75      0.77       890\n",
      "           1       0.77      0.80      0.79       898\n",
      "\n",
      "    accuracy                           0.78      1788\n",
      "   macro avg       0.78      0.78      0.78      1788\n",
      "weighted avg       0.78      0.78      0.78      1788\n",
      "\n",
      "Accuracy score of is:\n",
      "0.7807606263982103\n",
      "[[677 266]\n",
      " [126 719]]\n",
      "              precision    recall  f1-score   support\n",
      "\n",
      "           0       0.84      0.72      0.78       943\n",
      "           1       0.73      0.85      0.79       845\n",
      "\n",
      "    accuracy                           0.78      1788\n",
      "   macro avg       0.79      0.78      0.78      1788\n",
      "weighted avg       0.79      0.78      0.78      1788\n",
      "\n",
      "Accuracy score of is:\n",
      "0.7824384787472036\n",
      "[[702 232]\n",
      " [157 697]]\n",
      "              precision    recall  f1-score   support\n",
      "\n",
      "           0       0.82      0.75      0.78       934\n",
      "           1       0.75      0.82      0.78       854\n",
      "\n",
      "    accuracy                           0.78      1788\n",
      "   macro avg       0.78      0.78      0.78      1788\n",
      "weighted avg       0.79      0.78      0.78      1788\n",
      "\n",
      "Accuracy score of is:\n",
      "0.7701342281879194\n",
      "[[657 238]\n",
      " [173 720]]\n",
      "              precision    recall  f1-score   support\n",
      "\n",
      "           0       0.79      0.73      0.76       895\n",
      "           1       0.75      0.81      0.78       893\n",
      "\n",
      "    accuracy                           0.77      1788\n",
      "   macro avg       0.77      0.77      0.77      1788\n",
      "weighted avg       0.77      0.77      0.77      1788\n",
      "\n",
      "Accuracy score of is:\n",
      "0.7857941834451901\n",
      "[[704 213]\n",
      " [170 701]]\n",
      "              precision    recall  f1-score   support\n",
      "\n",
      "           0       0.81      0.77      0.79       917\n",
      "           1       0.77      0.80      0.79       871\n",
      "\n",
      "    accuracy                           0.79      1788\n",
      "   macro avg       0.79      0.79      0.79      1788\n",
      "weighted avg       0.79      0.79      0.79      1788\n",
      "\n",
      "Accuracy score of is:\n",
      "0.7824384787472036\n",
      "[[715 231]\n",
      " [158 684]]\n",
      "              precision    recall  f1-score   support\n",
      "\n",
      "           0       0.82      0.76      0.79       946\n",
      "           1       0.75      0.81      0.78       842\n",
      "\n",
      "    accuracy                           0.78      1788\n",
      "   macro avg       0.78      0.78      0.78      1788\n",
      "weighted avg       0.79      0.78      0.78      1788\n",
      "\n",
      "Accuracy score of is:\n",
      "0.7807606263982103\n",
      "[[705 233]\n",
      " [159 691]]\n",
      "              precision    recall  f1-score   support\n",
      "\n",
      "           0       0.82      0.75      0.78       938\n",
      "           1       0.75      0.81      0.78       850\n",
      "\n",
      "    accuracy                           0.78      1788\n",
      "   macro avg       0.78      0.78      0.78      1788\n",
      "weighted avg       0.78      0.78      0.78      1788\n",
      "\n",
      "Accuracy score of is:\n",
      "0.7880313199105146\n",
      "[[675 232]\n",
      " [147 734]]\n",
      "              precision    recall  f1-score   support\n",
      "\n",
      "           0       0.82      0.74      0.78       907\n",
      "           1       0.76      0.83      0.79       881\n",
      "\n",
      "    accuracy                           0.79      1788\n",
      "   macro avg       0.79      0.79      0.79      1788\n",
      "weighted avg       0.79      0.79      0.79      1788\n",
      "\n",
      "Accuracy score of is:\n",
      "0.7734899328859061\n",
      "[[689 249]\n",
      " [156 694]]\n",
      "              precision    recall  f1-score   support\n",
      "\n",
      "           0       0.82      0.73      0.77       938\n",
      "           1       0.74      0.82      0.77       850\n",
      "\n",
      "    accuracy                           0.77      1788\n",
      "   macro avg       0.78      0.78      0.77      1788\n",
      "weighted avg       0.78      0.77      0.77      1788\n",
      "\n",
      "Accuracy score of is:\n",
      "0.7712527964205816\n",
      "[[679 250]\n",
      " [159 700]]\n",
      "              precision    recall  f1-score   support\n",
      "\n",
      "           0       0.81      0.73      0.77       929\n",
      "           1       0.74      0.81      0.77       859\n",
      "\n",
      "    accuracy                           0.77      1788\n",
      "   macro avg       0.77      0.77      0.77      1788\n",
      "weighted avg       0.77      0.77      0.77      1788\n",
      "\n",
      "Accuracy score of is:\n",
      "0.7751677852348994\n",
      "[[694 232]\n",
      " [170 692]]\n",
      "              precision    recall  f1-score   support\n",
      "\n",
      "           0       0.80      0.75      0.78       926\n",
      "           1       0.75      0.80      0.77       862\n",
      "\n",
      "    accuracy                           0.78      1788\n",
      "   macro avg       0.78      0.78      0.78      1788\n",
      "weighted avg       0.78      0.78      0.78      1788\n",
      "\n",
      "Accuracy score of is:\n",
      "0.7863534675615212\n",
      "[[714 221]\n",
      " [161 692]]\n",
      "              precision    recall  f1-score   support\n",
      "\n",
      "           0       0.82      0.76      0.79       935\n",
      "           1       0.76      0.81      0.78       853\n",
      "\n",
      "    accuracy                           0.79      1788\n",
      "   macro avg       0.79      0.79      0.79      1788\n",
      "weighted avg       0.79      0.79      0.79      1788\n",
      "\n",
      "Accuracy score of is:\n",
      "0.7751677852348994\n",
      "[[683 249]\n",
      " [153 703]]\n",
      "              precision    recall  f1-score   support\n",
      "\n",
      "           0       0.82      0.73      0.77       932\n",
      "           1       0.74      0.82      0.78       856\n",
      "\n",
      "    accuracy                           0.78      1788\n",
      "   macro avg       0.78      0.78      0.78      1788\n",
      "weighted avg       0.78      0.78      0.78      1788\n",
      "\n",
      "Accuracy score of is:\n",
      "0.7651006711409396\n",
      "[[675 245]\n",
      " [175 693]]\n",
      "              precision    recall  f1-score   support\n",
      "\n",
      "           0       0.79      0.73      0.76       920\n",
      "           1       0.74      0.80      0.77       868\n",
      "\n",
      "    accuracy                           0.77      1788\n",
      "   macro avg       0.77      0.77      0.77      1788\n",
      "weighted avg       0.77      0.77      0.77      1788\n",
      "\n",
      "Accuracy score of is:\n",
      "0.7600671140939598\n",
      "[[677 253]\n",
      " [176 682]]\n",
      "              precision    recall  f1-score   support\n",
      "\n",
      "           0       0.79      0.73      0.76       930\n",
      "           1       0.73      0.79      0.76       858\n",
      "\n",
      "    accuracy                           0.76      1788\n",
      "   macro avg       0.76      0.76      0.76      1788\n",
      "weighted avg       0.76      0.76      0.76      1788\n",
      "\n",
      "Accuracy score of is:\n",
      "0.7723713646532439\n",
      "[[701 241]\n",
      " [166 680]]\n",
      "              precision    recall  f1-score   support\n",
      "\n",
      "           0       0.81      0.74      0.78       942\n",
      "           1       0.74      0.80      0.77       846\n",
      "\n",
      "    accuracy                           0.77      1788\n",
      "   macro avg       0.77      0.77      0.77      1788\n",
      "weighted avg       0.78      0.77      0.77      1788\n",
      "\n",
      "Accuracy score of is:\n",
      "0.7774049217002237\n",
      "[[707 230]\n",
      " [168 683]]\n",
      "              precision    recall  f1-score   support\n",
      "\n",
      "           0       0.81      0.75      0.78       937\n",
      "           1       0.75      0.80      0.77       851\n",
      "\n",
      "    accuracy                           0.78      1788\n",
      "   macro avg       0.78      0.78      0.78      1788\n",
      "weighted avg       0.78      0.78      0.78      1788\n",
      "\n",
      "Accuracy score of is:\n",
      "0.7880313199105146\n",
      "[[712 223]\n",
      " [156 697]]\n",
      "              precision    recall  f1-score   support\n",
      "\n",
      "           0       0.82      0.76      0.79       935\n",
      "           1       0.76      0.82      0.79       853\n",
      "\n",
      "    accuracy                           0.79      1788\n",
      "   macro avg       0.79      0.79      0.79      1788\n",
      "weighted avg       0.79      0.79      0.79      1788\n",
      "\n",
      "Accuracy score of is:\n",
      "0.7746085011185683\n",
      "[[683 233]\n",
      " [170 702]]\n",
      "              precision    recall  f1-score   support\n",
      "\n",
      "           0       0.80      0.75      0.77       916\n",
      "           1       0.75      0.81      0.78       872\n",
      "\n",
      "    accuracy                           0.77      1788\n",
      "   macro avg       0.78      0.78      0.77      1788\n",
      "weighted avg       0.78      0.77      0.77      1788\n",
      "\n",
      "Accuracy score of is:\n",
      "0.7746085011185683\n",
      "[[694 233]\n",
      " [170 691]]\n",
      "              precision    recall  f1-score   support\n",
      "\n",
      "           0       0.80      0.75      0.77       927\n",
      "           1       0.75      0.80      0.77       861\n",
      "\n",
      "    accuracy                           0.77      1788\n",
      "   macro avg       0.78      0.78      0.77      1788\n",
      "weighted avg       0.78      0.77      0.77      1788\n",
      "\n",
      "Accuracy score of is:\n",
      "0.7846756152125279\n",
      "[[703 223]\n",
      " [162 700]]\n",
      "              precision    recall  f1-score   support\n",
      "\n",
      "           0       0.81      0.76      0.79       926\n",
      "           1       0.76      0.81      0.78       862\n",
      "\n",
      "    accuracy                           0.78      1788\n",
      "   macro avg       0.79      0.79      0.78      1788\n",
      "weighted avg       0.79      0.78      0.78      1788\n",
      "\n",
      "Accuracy score of is:\n",
      "0.7718120805369127\n",
      "[[687 247]\n",
      " [161 693]]\n",
      "              precision    recall  f1-score   support\n",
      "\n",
      "           0       0.81      0.74      0.77       934\n",
      "           1       0.74      0.81      0.77       854\n",
      "\n",
      "    accuracy                           0.77      1788\n",
      "   macro avg       0.77      0.77      0.77      1788\n",
      "weighted avg       0.78      0.77      0.77      1788\n",
      "\n",
      "Accuracy score of is:\n",
      "0.7678970917225951\n",
      "[[678 261]\n",
      " [154 695]]\n",
      "              precision    recall  f1-score   support\n",
      "\n",
      "           0       0.81      0.72      0.77       939\n",
      "           1       0.73      0.82      0.77       849\n",
      "\n",
      "    accuracy                           0.77      1788\n",
      "   macro avg       0.77      0.77      0.77      1788\n",
      "weighted avg       0.77      0.77      0.77      1788\n",
      "\n",
      "Accuracy score of is:\n",
      "0.7975391498881432\n",
      "[[698 221]\n",
      " [141 728]]\n",
      "              precision    recall  f1-score   support\n",
      "\n",
      "           0       0.83      0.76      0.79       919\n",
      "           1       0.77      0.84      0.80       869\n",
      "\n",
      "    accuracy                           0.80      1788\n",
      "   macro avg       0.80      0.80      0.80      1788\n",
      "weighted avg       0.80      0.80      0.80      1788\n",
      "\n",
      "Accuracy score of is:\n",
      "0.7785234899328859\n",
      "[[674 255]\n",
      " [141 718]]\n",
      "              precision    recall  f1-score   support\n",
      "\n",
      "           0       0.83      0.73      0.77       929\n",
      "           1       0.74      0.84      0.78       859\n",
      "\n",
      "    accuracy                           0.78      1788\n",
      "   macro avg       0.78      0.78      0.78      1788\n",
      "weighted avg       0.78      0.78      0.78      1788\n",
      "\n",
      "Accuracy score of is:\n",
      "0.7835570469798657\n",
      "[[695 241]\n",
      " [146 706]]\n",
      "              precision    recall  f1-score   support\n",
      "\n",
      "           0       0.83      0.74      0.78       936\n",
      "           1       0.75      0.83      0.78       852\n",
      "\n",
      "    accuracy                           0.78      1788\n",
      "   macro avg       0.79      0.79      0.78      1788\n",
      "weighted avg       0.79      0.78      0.78      1788\n",
      "\n",
      "Accuracy score of is:\n",
      "0.7734899328859061\n",
      "[[673 214]\n",
      " [191 710]]\n",
      "              precision    recall  f1-score   support\n",
      "\n",
      "           0       0.78      0.76      0.77       887\n",
      "           1       0.77      0.79      0.78       901\n",
      "\n",
      "    accuracy                           0.77      1788\n",
      "   macro avg       0.77      0.77      0.77      1788\n",
      "weighted avg       0.77      0.77      0.77      1788\n",
      "\n",
      "Accuracy score of is:\n",
      "0.7757270693512305\n",
      "[[710 245]\n",
      " [156 677]]\n",
      "              precision    recall  f1-score   support\n",
      "\n",
      "           0       0.82      0.74      0.78       955\n",
      "           1       0.73      0.81      0.77       833\n",
      "\n",
      "    accuracy                           0.78      1788\n",
      "   macro avg       0.78      0.78      0.78      1788\n",
      "weighted avg       0.78      0.78      0.78      1788\n",
      "\n",
      "Accuracy score of is:\n",
      "0.7690156599552572\n",
      "[[670 244]\n",
      " [169 705]]\n",
      "              precision    recall  f1-score   support\n",
      "\n",
      "           0       0.80      0.73      0.76       914\n",
      "           1       0.74      0.81      0.77       874\n",
      "\n",
      "    accuracy                           0.77      1788\n",
      "   macro avg       0.77      0.77      0.77      1788\n",
      "weighted avg       0.77      0.77      0.77      1788\n",
      "\n",
      "Accuracy score of is:\n",
      "0.7695749440715883\n",
      "[[708 248]\n",
      " [164 668]]\n",
      "              precision    recall  f1-score   support\n",
      "\n",
      "           0       0.81      0.74      0.77       956\n",
      "           1       0.73      0.80      0.76       832\n",
      "\n",
      "    accuracy                           0.77      1788\n",
      "   macro avg       0.77      0.77      0.77      1788\n",
      "weighted avg       0.77      0.77      0.77      1788\n",
      "\n",
      "Accuracy score of is:\n",
      "0.7841163310961968\n",
      "[[726 223]\n",
      " [163 676]]\n",
      "              precision    recall  f1-score   support\n",
      "\n",
      "           0       0.82      0.77      0.79       949\n",
      "           1       0.75      0.81      0.78       839\n",
      "\n",
      "    accuracy                           0.78      1788\n",
      "   macro avg       0.78      0.79      0.78      1788\n",
      "weighted avg       0.79      0.78      0.78      1788\n",
      "\n",
      "Accuracy score of is:\n",
      "0.7936241610738255\n",
      "[[711 208]\n",
      " [161 708]]\n",
      "              precision    recall  f1-score   support\n",
      "\n",
      "           0       0.82      0.77      0.79       919\n",
      "           1       0.77      0.81      0.79       869\n",
      "\n",
      "    accuracy                           0.79      1788\n",
      "   macro avg       0.79      0.79      0.79      1788\n",
      "weighted avg       0.79      0.79      0.79      1788\n",
      "\n",
      "Accuracy score of is:\n",
      "0.7723713646532439\n",
      "[[666 235]\n",
      " [172 715]]\n",
      "              precision    recall  f1-score   support\n",
      "\n",
      "           0       0.79      0.74      0.77       901\n",
      "           1       0.75      0.81      0.78       887\n",
      "\n",
      "    accuracy                           0.77      1788\n",
      "   macro avg       0.77      0.77      0.77      1788\n",
      "weighted avg       0.77      0.77      0.77      1788\n",
      "\n",
      "Accuracy score of is:\n",
      "0.772930648769575\n",
      "[[689 242]\n",
      " [164 693]]\n",
      "              precision    recall  f1-score   support\n",
      "\n",
      "           0       0.81      0.74      0.77       931\n",
      "           1       0.74      0.81      0.77       857\n",
      "\n",
      "    accuracy                           0.77      1788\n",
      "   macro avg       0.77      0.77      0.77      1788\n",
      "weighted avg       0.78      0.77      0.77      1788\n",
      "\n",
      "Accuracy score of is:\n",
      "0.7651006711409396\n",
      "[[667 255]\n",
      " [165 701]]\n",
      "              precision    recall  f1-score   support\n",
      "\n",
      "           0       0.80      0.72      0.76       922\n",
      "           1       0.73      0.81      0.77       866\n",
      "\n",
      "    accuracy                           0.77      1788\n",
      "   macro avg       0.77      0.77      0.77      1788\n",
      "weighted avg       0.77      0.77      0.76      1788\n",
      "\n",
      "Accuracy score of is:\n",
      "0.7874720357941835\n",
      "[[686 229]\n",
      " [151 722]]\n",
      "              precision    recall  f1-score   support\n",
      "\n",
      "           0       0.82      0.75      0.78       915\n",
      "           1       0.76      0.83      0.79       873\n",
      "\n",
      "    accuracy                           0.79      1788\n",
      "   macro avg       0.79      0.79      0.79      1788\n",
      "weighted avg       0.79      0.79      0.79      1788\n",
      "\n",
      "Accuracy score of is:\n",
      "0.7874720357941835\n",
      "[[713 211]\n",
      " [169 695]]\n",
      "              precision    recall  f1-score   support\n",
      "\n",
      "           0       0.81      0.77      0.79       924\n",
      "           1       0.77      0.80      0.79       864\n",
      "\n",
      "    accuracy                           0.79      1788\n",
      "   macro avg       0.79      0.79      0.79      1788\n",
      "weighted avg       0.79      0.79      0.79      1788\n",
      "\n",
      "Accuracy score of is:\n",
      "0.7824384787472036\n",
      "[[665 239]\n",
      " [150 734]]\n",
      "              precision    recall  f1-score   support\n",
      "\n",
      "           0       0.82      0.74      0.77       904\n",
      "           1       0.75      0.83      0.79       884\n",
      "\n",
      "    accuracy                           0.78      1788\n",
      "   macro avg       0.79      0.78      0.78      1788\n",
      "weighted avg       0.79      0.78      0.78      1788\n",
      "\n",
      "Accuracy score of is:\n",
      "0.7818791946308725\n",
      "[[690 260]\n",
      " [130 708]]\n",
      "              precision    recall  f1-score   support\n",
      "\n",
      "           0       0.84      0.73      0.78       950\n",
      "           1       0.73      0.84      0.78       838\n",
      "\n",
      "    accuracy                           0.78      1788\n",
      "   macro avg       0.79      0.79      0.78      1788\n",
      "weighted avg       0.79      0.78      0.78      1788\n",
      "\n",
      "Accuracy score of is:\n",
      "0.767337807606264\n",
      "[[679 242]\n",
      " [174 693]]\n",
      "              precision    recall  f1-score   support\n",
      "\n",
      "           0       0.80      0.74      0.77       921\n",
      "           1       0.74      0.80      0.77       867\n",
      "\n",
      "    accuracy                           0.77      1788\n",
      "   macro avg       0.77      0.77      0.77      1788\n",
      "weighted avg       0.77      0.77      0.77      1788\n",
      "\n",
      "Accuracy score of is:\n",
      "0.7802013422818792\n",
      "[[678 230]\n",
      " [163 717]]\n",
      "              precision    recall  f1-score   support\n",
      "\n",
      "           0       0.81      0.75      0.78       908\n",
      "           1       0.76      0.81      0.78       880\n",
      "\n",
      "    accuracy                           0.78      1788\n",
      "   macro avg       0.78      0.78      0.78      1788\n",
      "weighted avg       0.78      0.78      0.78      1788\n",
      "\n",
      "Accuracy score of is:\n",
      "0.7829977628635347\n",
      "[[691 230]\n",
      " [158 709]]\n",
      "              precision    recall  f1-score   support\n",
      "\n",
      "           0       0.81      0.75      0.78       921\n",
      "           1       0.76      0.82      0.79       867\n",
      "\n",
      "    accuracy                           0.78      1788\n",
      "   macro avg       0.78      0.78      0.78      1788\n",
      "weighted avg       0.79      0.78      0.78      1788\n",
      "\n",
      "Accuracy score of is:\n",
      "0.7857941834451901\n",
      "[[690 236]\n",
      " [147 715]]\n",
      "              precision    recall  f1-score   support\n",
      "\n",
      "           0       0.82      0.75      0.78       926\n",
      "           1       0.75      0.83      0.79       862\n",
      "\n",
      "    accuracy                           0.79      1788\n",
      "   macro avg       0.79      0.79      0.79      1788\n",
      "weighted avg       0.79      0.79      0.79      1788\n",
      "\n",
      "Accuracy score of is:\n",
      "0.7706935123042505\n",
      "[[704 237]\n",
      " [173 674]]\n",
      "              precision    recall  f1-score   support\n",
      "\n",
      "           0       0.80      0.75      0.77       941\n",
      "           1       0.74      0.80      0.77       847\n",
      "\n",
      "    accuracy                           0.77      1788\n",
      "   macro avg       0.77      0.77      0.77      1788\n",
      "weighted avg       0.77      0.77      0.77      1788\n",
      "\n",
      "Accuracy score of is:\n",
      "0.761744966442953\n",
      "[[662 252]\n",
      " [174 700]]\n",
      "              precision    recall  f1-score   support\n",
      "\n",
      "           0       0.79      0.72      0.76       914\n",
      "           1       0.74      0.80      0.77       874\n",
      "\n",
      "    accuracy                           0.76      1788\n",
      "   macro avg       0.76      0.76      0.76      1788\n",
      "weighted avg       0.76      0.76      0.76      1788\n",
      "\n",
      "Accuracy score of is:\n",
      "0.7695749440715883\n",
      "[[674 243]\n",
      " [169 702]]\n",
      "              precision    recall  f1-score   support\n",
      "\n",
      "           0       0.80      0.74      0.77       917\n",
      "           1       0.74      0.81      0.77       871\n",
      "\n",
      "    accuracy                           0.77      1788\n",
      "   macro avg       0.77      0.77      0.77      1788\n",
      "weighted avg       0.77      0.77      0.77      1788\n",
      "\n",
      "Accuracy score of is:\n",
      "0.7718120805369127\n",
      "[[663 233]\n",
      " [175 717]]\n",
      "              precision    recall  f1-score   support\n",
      "\n",
      "           0       0.79      0.74      0.76       896\n",
      "           1       0.75      0.80      0.78       892\n",
      "\n",
      "    accuracy                           0.77      1788\n",
      "   macro avg       0.77      0.77      0.77      1788\n",
      "weighted avg       0.77      0.77      0.77      1788\n",
      "\n",
      "Accuracy score of is:\n",
      "0.7600671140939598\n",
      "[[692 251]\n",
      " [178 667]]\n",
      "              precision    recall  f1-score   support\n",
      "\n",
      "           0       0.80      0.73      0.76       943\n",
      "           1       0.73      0.79      0.76       845\n",
      "\n",
      "    accuracy                           0.76      1788\n",
      "   macro avg       0.76      0.76      0.76      1788\n",
      "weighted avg       0.76      0.76      0.76      1788\n",
      "\n",
      "Accuracy score of is:\n",
      "0.7925055928411633\n",
      "[[704 215]\n",
      " [156 713]]\n",
      "              precision    recall  f1-score   support\n",
      "\n",
      "           0       0.82      0.77      0.79       919\n",
      "           1       0.77      0.82      0.79       869\n",
      "\n",
      "    accuracy                           0.79      1788\n",
      "   macro avg       0.79      0.79      0.79      1788\n",
      "weighted avg       0.79      0.79      0.79      1788\n",
      "\n",
      "Accuracy score of is:\n",
      "0.7684563758389261\n",
      "[[673 255]\n",
      " [159 701]]\n",
      "              precision    recall  f1-score   support\n",
      "\n",
      "           0       0.81      0.73      0.76       928\n",
      "           1       0.73      0.82      0.77       860\n",
      "\n",
      "    accuracy                           0.77      1788\n",
      "   macro avg       0.77      0.77      0.77      1788\n",
      "weighted avg       0.77      0.77      0.77      1788\n",
      "\n",
      "Accuracy score of is:\n",
      "0.7578299776286354\n",
      "[[663 259]\n",
      " [174 692]]\n",
      "              precision    recall  f1-score   support\n",
      "\n",
      "           0       0.79      0.72      0.75       922\n",
      "           1       0.73      0.80      0.76       866\n",
      "\n",
      "    accuracy                           0.76      1788\n",
      "   macro avg       0.76      0.76      0.76      1788\n",
      "weighted avg       0.76      0.76      0.76      1788\n",
      "\n",
      "Accuracy score of is:\n",
      "0.7757270693512305\n",
      "[[686 258]\n",
      " [143 701]]\n",
      "              precision    recall  f1-score   support\n",
      "\n",
      "           0       0.83      0.73      0.77       944\n",
      "           1       0.73      0.83      0.78       844\n",
      "\n",
      "    accuracy                           0.78      1788\n",
      "   macro avg       0.78      0.78      0.78      1788\n",
      "weighted avg       0.78      0.78      0.78      1788\n",
      "\n",
      "Accuracy score of is:\n",
      "0.7813199105145414\n",
      "[[698 249]\n",
      " [142 699]]\n",
      "              precision    recall  f1-score   support\n",
      "\n",
      "           0       0.83      0.74      0.78       947\n",
      "           1       0.74      0.83      0.78       841\n",
      "\n",
      "    accuracy                           0.78      1788\n",
      "   macro avg       0.78      0.78      0.78      1788\n",
      "weighted avg       0.79      0.78      0.78      1788\n",
      "\n",
      "Accuracy score of is:\n",
      "0.7813199105145414\n",
      "[[684 234]\n",
      " [157 713]]\n",
      "              precision    recall  f1-score   support\n",
      "\n",
      "           0       0.81      0.75      0.78       918\n",
      "           1       0.75      0.82      0.78       870\n",
      "\n",
      "    accuracy                           0.78      1788\n",
      "   macro avg       0.78      0.78      0.78      1788\n",
      "weighted avg       0.78      0.78      0.78      1788\n",
      "\n",
      "Accuracy score of is:\n",
      "0.7796420581655481\n",
      "[[693 236]\n",
      " [158 701]]\n",
      "              precision    recall  f1-score   support\n",
      "\n",
      "           0       0.81      0.75      0.78       929\n",
      "           1       0.75      0.82      0.78       859\n",
      "\n",
      "    accuracy                           0.78      1788\n",
      "   macro avg       0.78      0.78      0.78      1788\n",
      "weighted avg       0.78      0.78      0.78      1788\n",
      "\n",
      "Accuracy score of is:\n",
      "0.7829977628635347\n",
      "[[703 240]\n",
      " [148 697]]\n",
      "              precision    recall  f1-score   support\n",
      "\n",
      "           0       0.83      0.75      0.78       943\n",
      "           1       0.74      0.82      0.78       845\n",
      "\n",
      "    accuracy                           0.78      1788\n",
      "   macro avg       0.78      0.79      0.78      1788\n",
      "weighted avg       0.79      0.78      0.78      1788\n",
      "\n",
      "Accuracy score of is:\n",
      "0.7936241610738255\n",
      "[[697 233]\n",
      " [136 722]]\n",
      "              precision    recall  f1-score   support\n",
      "\n",
      "           0       0.84      0.75      0.79       930\n",
      "           1       0.76      0.84      0.80       858\n",
      "\n",
      "    accuracy                           0.79      1788\n",
      "   macro avg       0.80      0.80      0.79      1788\n",
      "weighted avg       0.80      0.79      0.79      1788\n",
      "\n",
      "Accuracy score of is:\n",
      "0.7678970917225951\n",
      "[[703 234]\n",
      " [181 670]]\n",
      "              precision    recall  f1-score   support\n",
      "\n",
      "           0       0.80      0.75      0.77       937\n",
      "           1       0.74      0.79      0.76       851\n",
      "\n",
      "    accuracy                           0.77      1788\n",
      "   macro avg       0.77      0.77      0.77      1788\n",
      "weighted avg       0.77      0.77      0.77      1788\n",
      "\n",
      "Accuracy score of is:\n",
      "0.7796420581655481\n",
      "[[702 233]\n",
      " [161 692]]\n",
      "              precision    recall  f1-score   support\n",
      "\n",
      "           0       0.81      0.75      0.78       935\n",
      "           1       0.75      0.81      0.78       853\n",
      "\n",
      "    accuracy                           0.78      1788\n",
      "   macro avg       0.78      0.78      0.78      1788\n",
      "weighted avg       0.78      0.78      0.78      1788\n",
      "\n",
      "Accuracy score of is:\n",
      "0.7796420581655481\n",
      "[[693 232]\n",
      " [162 701]]\n",
      "              precision    recall  f1-score   support\n",
      "\n",
      "           0       0.81      0.75      0.78       925\n",
      "           1       0.75      0.81      0.78       863\n",
      "\n",
      "    accuracy                           0.78      1788\n",
      "   macro avg       0.78      0.78      0.78      1788\n",
      "weighted avg       0.78      0.78      0.78      1788\n",
      "\n",
      "Accuracy score of is:\n",
      "0.7701342281879194\n",
      "[[662 252]\n",
      " [159 715]]\n",
      "              precision    recall  f1-score   support\n",
      "\n",
      "           0       0.81      0.72      0.76       914\n",
      "           1       0.74      0.82      0.78       874\n",
      "\n",
      "    accuracy                           0.77      1788\n",
      "   macro avg       0.77      0.77      0.77      1788\n",
      "weighted avg       0.77      0.77      0.77      1788\n",
      "\n",
      "Accuracy score of is:\n",
      "0.7706935123042505\n",
      "[[673 253]\n",
      " [157 705]]\n",
      "              precision    recall  f1-score   support\n",
      "\n",
      "           0       0.81      0.73      0.77       926\n",
      "           1       0.74      0.82      0.77       862\n",
      "\n",
      "    accuracy                           0.77      1788\n",
      "   macro avg       0.77      0.77      0.77      1788\n",
      "weighted avg       0.77      0.77      0.77      1788\n",
      "\n",
      "Accuracy score of is:\n",
      "0.7695749440715883\n",
      "[[666 247]\n",
      " [165 710]]\n",
      "              precision    recall  f1-score   support\n",
      "\n",
      "           0       0.80      0.73      0.76       913\n",
      "           1       0.74      0.81      0.78       875\n",
      "\n",
      "    accuracy                           0.77      1788\n",
      "   macro avg       0.77      0.77      0.77      1788\n",
      "weighted avg       0.77      0.77      0.77      1788\n",
      "\n",
      "Accuracy score of is:\n",
      "0.7678970917225951\n",
      "[[678 242]\n",
      " [173 695]]\n",
      "              precision    recall  f1-score   support\n",
      "\n",
      "           0       0.80      0.74      0.77       920\n",
      "           1       0.74      0.80      0.77       868\n",
      "\n",
      "    accuracy                           0.77      1788\n",
      "   macro avg       0.77      0.77      0.77      1788\n",
      "weighted avg       0.77      0.77      0.77      1788\n",
      "\n",
      "Accuracy score of is:\n",
      "0.7746085011185683\n",
      "[[714 250]\n",
      " [153 671]]\n",
      "              precision    recall  f1-score   support\n",
      "\n",
      "           0       0.82      0.74      0.78       964\n",
      "           1       0.73      0.81      0.77       824\n",
      "\n",
      "    accuracy                           0.77      1788\n",
      "   macro avg       0.78      0.78      0.77      1788\n",
      "weighted avg       0.78      0.77      0.77      1788\n",
      "\n",
      "Accuracy score of is:\n",
      "0.7734899328859061\n",
      "[[683 240]\n",
      " [165 700]]\n",
      "              precision    recall  f1-score   support\n",
      "\n",
      "           0       0.81      0.74      0.77       923\n",
      "           1       0.74      0.81      0.78       865\n",
      "\n",
      "    accuracy                           0.77      1788\n",
      "   macro avg       0.78      0.77      0.77      1788\n",
      "weighted avg       0.78      0.77      0.77      1788\n",
      "\n",
      "Accuracy score of is:\n",
      "0.7628635346756152\n",
      "[[683 258]\n",
      " [166 681]]\n",
      "              precision    recall  f1-score   support\n",
      "\n",
      "           0       0.80      0.73      0.76       941\n",
      "           1       0.73      0.80      0.76       847\n",
      "\n",
      "    accuracy                           0.76      1788\n",
      "   macro avg       0.76      0.76      0.76      1788\n",
      "weighted avg       0.77      0.76      0.76      1788\n",
      "\n",
      "Accuracy score of is:\n",
      "0.7785234899328859\n",
      "[[710 240]\n",
      " [156 682]]\n",
      "              precision    recall  f1-score   support\n",
      "\n",
      "           0       0.82      0.75      0.78       950\n",
      "           1       0.74      0.81      0.77       838\n",
      "\n",
      "    accuracy                           0.78      1788\n",
      "   macro avg       0.78      0.78      0.78      1788\n",
      "weighted avg       0.78      0.78      0.78      1788\n",
      "\n",
      "Accuracy score of is:\n",
      "0.7885906040268457\n",
      "[[691 233]\n",
      " [145 719]]\n",
      "              precision    recall  f1-score   support\n",
      "\n",
      "           0       0.83      0.75      0.79       924\n",
      "           1       0.76      0.83      0.79       864\n",
      "\n",
      "    accuracy                           0.79      1788\n",
      "   macro avg       0.79      0.79      0.79      1788\n",
      "weighted avg       0.79      0.79      0.79      1788\n",
      "\n",
      "Accuracy score of is:\n",
      "0.7863534675615212\n",
      "[[691 217]\n",
      " [165 715]]\n",
      "              precision    recall  f1-score   support\n",
      "\n",
      "           0       0.81      0.76      0.78       908\n",
      "           1       0.77      0.81      0.79       880\n",
      "\n",
      "    accuracy                           0.79      1788\n",
      "   macro avg       0.79      0.79      0.79      1788\n",
      "weighted avg       0.79      0.79      0.79      1788\n",
      "\n",
      "Accuracy score of is:\n",
      "0.7818791946308725\n",
      "[[684 215]\n",
      " [175 714]]\n",
      "              precision    recall  f1-score   support\n",
      "\n",
      "           0       0.80      0.76      0.78       899\n",
      "           1       0.77      0.80      0.79       889\n",
      "\n",
      "    accuracy                           0.78      1788\n",
      "   macro avg       0.78      0.78      0.78      1788\n",
      "weighted avg       0.78      0.78      0.78      1788\n",
      "\n",
      "Accuracy score of is:\n",
      "0.7701342281879194\n",
      "[[683 249]\n",
      " [162 694]]\n",
      "              precision    recall  f1-score   support\n",
      "\n",
      "           0       0.81      0.73      0.77       932\n",
      "           1       0.74      0.81      0.77       856\n",
      "\n",
      "    accuracy                           0.77      1788\n",
      "   macro avg       0.77      0.77      0.77      1788\n",
      "weighted avg       0.77      0.77      0.77      1788\n",
      "\n",
      "Accuracy score of is:\n",
      "0.761744966442953\n",
      "[[665 261]\n",
      " [165 697]]\n",
      "              precision    recall  f1-score   support\n",
      "\n",
      "           0       0.80      0.72      0.76       926\n",
      "           1       0.73      0.81      0.77       862\n",
      "\n",
      "    accuracy                           0.76      1788\n",
      "   macro avg       0.76      0.76      0.76      1788\n",
      "weighted avg       0.77      0.76      0.76      1788\n",
      "\n",
      "Accuracy score of is:\n",
      "0.7606263982102909\n",
      "[[678 251]\n",
      " [177 682]]\n",
      "              precision    recall  f1-score   support\n",
      "\n",
      "           0       0.79      0.73      0.76       929\n",
      "           1       0.73      0.79      0.76       859\n",
      "\n",
      "    accuracy                           0.76      1788\n",
      "   macro avg       0.76      0.76      0.76      1788\n",
      "weighted avg       0.76      0.76      0.76      1788\n",
      "\n",
      "Accuracy score of is:\n",
      "0.7919463087248322\n",
      "[[715 231]\n",
      " [141 701]]\n",
      "              precision    recall  f1-score   support\n",
      "\n",
      "           0       0.84      0.76      0.79       946\n",
      "           1       0.75      0.83      0.79       842\n",
      "\n",
      "    accuracy                           0.79      1788\n",
      "   macro avg       0.79      0.79      0.79      1788\n",
      "weighted avg       0.80      0.79      0.79      1788\n",
      "\n",
      "Accuracy score of is:\n",
      "0.7746085011185683\n",
      "[[662 245]\n",
      " [158 723]]\n",
      "              precision    recall  f1-score   support\n",
      "\n",
      "           0       0.81      0.73      0.77       907\n",
      "           1       0.75      0.82      0.78       881\n",
      "\n",
      "    accuracy                           0.77      1788\n",
      "   macro avg       0.78      0.78      0.77      1788\n",
      "weighted avg       0.78      0.77      0.77      1788\n",
      "\n",
      "Best accuracy is 0.8014541387024608 on Random_state 44\n"
     ]
    }
   ],
   "source": [
    "from sklearn.model_selection import train_test_split\n",
    "maxAccu=0\n",
    "maxRS=0\n",
    "for i in range(1,200):\n",
    "    x_train,x_test,y_train,y_test=train_test_split(x,y,test_size=0.22,random_state=i)\n",
    "    lm=LogisticRegression()\n",
    "    lm.fit(x_train,y_train)\n",
    "    pred=lm.predict(x_test)\n",
    "    print('Accuracy score of','is:')\n",
    "    accu_score=accuracy_score(y_test,pred)\n",
    "    print(accuracy_score(y_test,pred))\n",
    "    print(confusion_matrix(y_test,pred))\n",
    "    print(classification_report(y_test,pred))\n",
    "    if accu_score>maxAccu:\n",
    "        maxAccu=accu_score\n",
    "        maxRS=i\n",
    "        \n",
    "print(\"Best accuracy is\",maxAccu,\"on Random_state\",maxRS)"
   ]
  },
  {
   "cell_type": "markdown",
   "metadata": {},
   "source": [
    "Best accuracy is 0.8014541387024608 on Random_state 44"
   ]
  },
  {
   "cell_type": "code",
   "execution_count": 101,
   "metadata": {},
   "outputs": [
    {
     "name": "stdout",
     "output_type": "stream",
     "text": [
      "Accuracy score of is:\n",
      "0.8014541387024608\n",
      "[[697 200]\n",
      " [155 736]]\n",
      "              precision    recall  f1-score   support\n",
      "\n",
      "           0       0.82      0.78      0.80       897\n",
      "           1       0.79      0.83      0.81       891\n",
      "\n",
      "    accuracy                           0.80      1788\n",
      "   macro avg       0.80      0.80      0.80      1788\n",
      "weighted avg       0.80      0.80      0.80      1788\n",
      "\n"
     ]
    }
   ],
   "source": [
    "x_train,x_test,y_train,y_test=train_test_split(x,y,test_size=0.22,random_state=44)\n",
    "lm=LogisticRegression()\n",
    "lm.fit(x_train,y_train)\n",
    "pred=lm.predict(x_test)\n",
    "print('Accuracy score of','is:')\n",
    "accu_score=accuracy_score(y_test,pred)\n",
    "print(accuracy_score(y_test,pred))\n",
    "print(confusion_matrix(y_test,pred))\n",
    "print(classification_report(y_test,pred))"
   ]
  },
  {
   "cell_type": "code",
   "execution_count": 102,
   "metadata": {},
   "outputs": [
    {
     "data": {
      "text/plain": [
       "GridSearchCV(cv=5, error_score=nan,\n",
       "             estimator=DecisionTreeClassifier(ccp_alpha=0.0, class_weight=None,\n",
       "                                              criterion='gini', max_depth=None,\n",
       "                                              max_features=None,\n",
       "                                              max_leaf_nodes=None,\n",
       "                                              min_impurity_decrease=0.0,\n",
       "                                              min_impurity_split=None,\n",
       "                                              min_samples_leaf=1,\n",
       "                                              min_samples_split=2,\n",
       "                                              min_weight_fraction_leaf=0.0,\n",
       "                                              presort='deprecated',\n",
       "                                              random_state=None,\n",
       "                                              splitter='best'),\n",
       "             iid='deprecated', n_jobs=None,\n",
       "             param_grid={'criterion': ['gini', 'entropy']},\n",
       "             pre_dispatch='2*n_jobs', refit=True, return_train_score=False,\n",
       "             scoring='accuracy', verbose=0)"
      ]
     },
     "execution_count": 102,
     "metadata": {},
     "output_type": "execute_result"
    }
   ],
   "source": [
    "x_train,x_test,y_train,y_test=train_test_split(x,y,test_size=0.22,random_state=44)\n",
    "dtc=DecisionTreeClassifier()\n",
    "grid_param={'criterion':['gini','entropy']}\n",
    "gd_sr=GridSearchCV(estimator=dtc,param_grid=grid_param,scoring='accuracy',cv=5)\n",
    "gd_sr.fit(x_train,y_train)"
   ]
  },
  {
   "cell_type": "code",
   "execution_count": 103,
   "metadata": {},
   "outputs": [
    {
     "data": {
      "text/plain": [
       "{'criterion': 'gini'}"
      ]
     },
     "execution_count": 103,
     "metadata": {},
     "output_type": "execute_result"
    }
   ],
   "source": [
    "gd_sr.best_params_"
   ]
  },
  {
   "cell_type": "code",
   "execution_count": 104,
   "metadata": {},
   "outputs": [
    {
     "name": "stdout",
     "output_type": "stream",
     "text": [
      "Accuracy score of is:\n",
      "0.9949664429530202\n",
      "[[897   0]\n",
      " [  9 882]]\n",
      "              precision    recall  f1-score   support\n",
      "\n",
      "           0       0.99      1.00      1.00       897\n",
      "           1       1.00      0.99      0.99       891\n",
      "\n",
      "    accuracy                           0.99      1788\n",
      "   macro avg       1.00      0.99      0.99      1788\n",
      "weighted avg       1.00      0.99      0.99      1788\n",
      "\n"
     ]
    }
   ],
   "source": [
    "dtc=DecisionTreeClassifier(criterion='gini')\n",
    "dtc.fit(x_train,y_train)\n",
    "preddtc=dtc.predict(x_test)\n",
    "print('Accuracy score of','is:')\n",
    "accu_score=accuracy_score(y_test,preddtc)\n",
    "print(accuracy_score(y_test,preddtc))\n",
    "print(confusion_matrix(y_test,preddtc))\n",
    "print(classification_report(y_test,preddtc))"
   ]
  },
  {
   "cell_type": "code",
   "execution_count": 105,
   "metadata": {},
   "outputs": [
    {
     "name": "stdout",
     "output_type": "stream",
     "text": [
      "Accuracy score of is:\n",
      "0.8014541387024608\n",
      "[[697 200]\n",
      " [155 736]]\n",
      "              precision    recall  f1-score   support\n",
      "\n",
      "           0       0.82      0.78      0.80       897\n",
      "           1       0.79      0.83      0.81       891\n",
      "\n",
      "    accuracy                           0.80      1788\n",
      "   macro avg       0.80      0.80      0.80      1788\n",
      "weighted avg       0.80      0.80      0.80      1788\n",
      "\n"
     ]
    }
   ],
   "source": [
    "x_train,x_test,y_train,y_test=train_test_split(x,y,test_size=0.22,random_state=44)\n",
    "knn=KNeighborsClassifier(n_neighbors=5)\n",
    "knn.fit(x_train,y_train)\n",
    "predknn=knn.predict(x_test)\n",
    "print('Accuracy score of','is:')\n",
    "accu_score=accuracy_score(y_test,pred)\n",
    "print(accuracy_score(y_test,pred))\n",
    "print(confusion_matrix(y_test,pred))\n",
    "print(classification_report(y_test,pred))"
   ]
  },
  {
   "cell_type": "code",
   "execution_count": 106,
   "metadata": {},
   "outputs": [
    {
     "data": {
      "text/plain": [
       "GridSearchCV(cv=5, error_score=nan,\n",
       "             estimator=SVC(C=1.0, break_ties=False, cache_size=200,\n",
       "                           class_weight=None, coef0=0.0,\n",
       "                           decision_function_shape='ovr', degree=3,\n",
       "                           gamma='scale', kernel='rbf', max_iter=-1,\n",
       "                           probability=False, random_state=None, shrinking=True,\n",
       "                           tol=0.001, verbose=False),\n",
       "             iid='deprecated', n_jobs=None,\n",
       "             param_grid={'C': [1, 10], 'kernel': ['rbf', 'poly', 'linear']},\n",
       "             pre_dispatch='2*n_jobs', refit=True, return_train_score=False,\n",
       "             scoring='accuracy', verbose=0)"
      ]
     },
     "execution_count": 106,
     "metadata": {},
     "output_type": "execute_result"
    }
   ],
   "source": [
    "parameters={'kernel':['rbf','poly','linear'],'C':[1,10]}\n",
    "svm=SVC()\n",
    "GVC=GridSearchCV(estimator=SVC(),param_grid=parameters,scoring='accuracy',cv=5)\n",
    "GVC.fit(x_train,y_train)"
   ]
  },
  {
   "cell_type": "code",
   "execution_count": 107,
   "metadata": {},
   "outputs": [
    {
     "data": {
      "text/plain": [
       "{'C': 10, 'kernel': 'poly'}"
      ]
     },
     "execution_count": 107,
     "metadata": {},
     "output_type": "execute_result"
    }
   ],
   "source": [
    "GVC.best_params_"
   ]
  },
  {
   "cell_type": "code",
   "execution_count": 108,
   "metadata": {},
   "outputs": [
    {
     "name": "stdout",
     "output_type": "stream",
     "text": [
      "Accuracy score of is:\n",
      "0.9552572706935123\n",
      "[[885  12]\n",
      " [ 68 823]]\n",
      "              precision    recall  f1-score   support\n",
      "\n",
      "           0       0.93      0.99      0.96       897\n",
      "           1       0.99      0.92      0.95       891\n",
      "\n",
      "    accuracy                           0.96      1788\n",
      "   macro avg       0.96      0.96      0.96      1788\n",
      "weighted avg       0.96      0.96      0.96      1788\n",
      "\n"
     ]
    }
   ],
   "source": [
    "svm=SVC(kernel='poly',C=10)\n",
    "svm.fit(x_train,y_train)\n",
    "predsvm=svm.predict(x_test)\n",
    "print('Accuracy score of','is:')\n",
    "accu_score=accuracy_score(y_test,predsvm)\n",
    "print(accuracy_score(y_test,predsvm))\n",
    "print(confusion_matrix(y_test,predsvm))\n",
    "print(classification_report(y_test,predsvm))"
   ]
  },
  {
   "cell_type": "markdown",
   "metadata": {},
   "source": [
    "# Ensembler Techniques"
   ]
  },
  {
   "cell_type": "code",
   "execution_count": 109,
   "metadata": {},
   "outputs": [
    {
     "name": "stdout",
     "output_type": "stream",
     "text": [
      "Accuracy score o..lf is:\n",
      "0.9552572706935123\n",
      "[[885  12]\n",
      " [ 68 823]]\n",
      "              precision    recall  f1-score   support\n",
      "\n",
      "           0       0.93      0.99      0.96       897\n",
      "           1       0.99      0.92      0.95       891\n",
      "\n",
      "    accuracy                           0.96      1788\n",
      "   macro avg       0.96      0.96      0.96      1788\n",
      "weighted avg       0.96      0.96      0.96      1788\n",
      "\n"
     ]
    }
   ],
   "source": [
    "from sklearn.ensemble import RandomForestClassifier\n",
    "\n",
    "rf=RandomForestClassifier(n_estimators=100,random_state=44)\n",
    "rf.fit(x_train,y_train)\n",
    "predrf=svm.predict(x_test)\n",
    "print('Accuracy score o..lf','is:')\n",
    "accu_score=accuracy_score(y_test,predrf)\n",
    "print(accuracy_score(y_test,predrf))\n",
    "print(confusion_matrix(y_test,predrf))\n",
    "print(classification_report(y_test,predrf))"
   ]
  },
  {
   "cell_type": "code",
   "execution_count": 110,
   "metadata": {},
   "outputs": [
    {
     "name": "stdout",
     "output_type": "stream",
     "text": [
      "Accuracy score o..lf is:\n",
      "0.9848993288590604\n",
      "[[891   6]\n",
      " [ 21 870]]\n",
      "              precision    recall  f1-score   support\n",
      "\n",
      "           0       0.98      0.99      0.99       897\n",
      "           1       0.99      0.98      0.98       891\n",
      "\n",
      "    accuracy                           0.98      1788\n",
      "   macro avg       0.99      0.98      0.98      1788\n",
      "weighted avg       0.99      0.98      0.98      1788\n",
      "\n"
     ]
    }
   ],
   "source": [
    "from sklearn.ensemble import AdaBoostClassifier\n",
    "\n",
    "ad=AdaBoostClassifier()\n",
    "ad.fit(x_train,y_train)\n",
    "predad=ad.predict(x_test)\n",
    "print('Accuracy score o..lf','is:')\n",
    "accu_score=accuracy_score(y_test,predad)\n",
    "print(accuracy_score(y_test,predad))\n",
    "print(confusion_matrix(y_test,predad))\n",
    "print(classification_report(y_test,predad))\n"
   ]
  },
  {
   "cell_type": "code",
   "execution_count": 111,
   "metadata": {},
   "outputs": [
    {
     "name": "stdout",
     "output_type": "stream",
     "text": [
      "Accuracy score o..lf is:\n",
      "0.9848993288590604\n",
      "[[891   6]\n",
      " [ 21 870]]\n",
      "              precision    recall  f1-score   support\n",
      "\n",
      "           0       0.98      0.99      0.99       897\n",
      "           1       0.99      0.98      0.98       891\n",
      "\n",
      "    accuracy                           0.98      1788\n",
      "   macro avg       0.99      0.98      0.98      1788\n",
      "weighted avg       0.99      0.98      0.98      1788\n",
      "\n"
     ]
    }
   ],
   "source": [
    "ade=AdaBoostClassifier(n_estimators=50)\n",
    "ade.fit(x_train,y_train)\n",
    "predade=ade.predict(x_test)\n",
    "print('Accuracy score o..lf','is:')\n",
    "accu_score=accuracy_score(y_test,predade)\n",
    "print(accuracy_score(y_test,predade))\n",
    "print(confusion_matrix(y_test,predade))\n",
    "print(classification_report(y_test,predade))"
   ]
  },
  {
   "cell_type": "code",
   "execution_count": 112,
   "metadata": {},
   "outputs": [
    {
     "name": "stdout",
     "output_type": "stream",
     "text": [
      "Accuracy score o..lf is:\n",
      "0.5016778523489933\n",
      "[[897   0]\n",
      " [891   0]]\n",
      "              precision    recall  f1-score   support\n",
      "\n",
      "           0       0.50      1.00      0.67       897\n",
      "           1       0.00      0.00      0.00       891\n",
      "\n",
      "    accuracy                           0.50      1788\n",
      "   macro avg       0.25      0.50      0.33      1788\n",
      "weighted avg       0.25      0.50      0.34      1788\n",
      "\n"
     ]
    }
   ],
   "source": [
    "svm=SVC()\n",
    "adal=AdaBoostClassifier(n_estimators=50,base_estimator=svm,algorithm='SAMME')\n",
    "adal.fit(x_train,y_train)\n",
    "predadal=adal.predict(x_test)\n",
    "print('Accuracy score o..lf','is:')\n",
    "accu_score=accuracy_score(y_test,predadal)\n",
    "print(accuracy_score(y_test,predadal))\n",
    "print(confusion_matrix(y_test,predadal))\n",
    "print(classification_report(y_test,predadal))\n"
   ]
  },
  {
   "cell_type": "markdown",
   "metadata": {},
   "source": [
    "As per Accuracy Score, Decision Tree is the best algorithm with 0.9949664429530202 as accuracy score."
   ]
  },
  {
   "cell_type": "markdown",
   "metadata": {},
   "source": [
    "# Cross - Validation"
   ]
  },
  {
   "cell_type": "code",
   "execution_count": 113,
   "metadata": {},
   "outputs": [
    {
     "name": "stdout",
     "output_type": "stream",
     "text": [
      "[0.57292308 0.616      0.75815385 0.99630769 0.66071429]\n",
      "0.7208197802197802 0.15083813432075627\n"
     ]
    }
   ],
   "source": [
    "lmscores=cross_val_score(lm,x,y,cv=5)\n",
    "print(lmscores)\n",
    "print(lmscores.mean(),lmscores.std())"
   ]
  },
  {
   "cell_type": "code",
   "execution_count": 114,
   "metadata": {},
   "outputs": [
    {
     "name": "stdout",
     "output_type": "stream",
     "text": [
      "[0.84246154 0.99630769 0.96430769 1.         0.76908867]\n",
      "0.9144331186055326 0.09253921030098186\n"
     ]
    }
   ],
   "source": [
    "dtcscores=cross_val_score(dtc,x,y,cv=5)\n",
    "print(dtcscores)\n",
    "print(dtcscores.mean(),dtcscores.std())"
   ]
  },
  {
   "cell_type": "code",
   "execution_count": 115,
   "metadata": {},
   "outputs": [
    {
     "name": "stdout",
     "output_type": "stream",
     "text": [
      "[0.57784615 0.95753846 0.78953846 0.99876923 0.63669951]\n",
      "0.7920783630162941 0.16741722631608735\n"
     ]
    }
   ],
   "source": [
    "svcscores=cross_val_score(svm,x,y,cv=5)\n",
    "print(svcscores)\n",
    "print(svcscores.mean(),svcscores.std())"
   ]
  },
  {
   "cell_type": "code",
   "execution_count": 116,
   "metadata": {},
   "outputs": [
    {
     "name": "stdout",
     "output_type": "stream",
     "text": [
      "[0.78276923 0.99815385 0.95692308 1.         0.73768473]\n",
      "0.8951061765820386 0.11211063026885958\n"
     ]
    }
   ],
   "source": [
    "knnscores=cross_val_score(knn,x,y,cv=5)\n",
    "print(knnscores)\n",
    "print(knnscores.mean(),knnscores.std())"
   ]
  },
  {
   "cell_type": "code",
   "execution_count": 117,
   "metadata": {},
   "outputs": [
    {
     "name": "stdout",
     "output_type": "stream",
     "text": [
      "[0.90153846 0.99630769 0.97169231 1.         0.8023399 ]\n",
      "0.9343756726032588 0.07489510792103081\n"
     ]
    }
   ],
   "source": [
    "rfscores=cross_val_score(rf,x,y,cv=5)\n",
    "print(rfscores)\n",
    "print(rfscores.mean(),rfscores.std())"
   ]
  },
  {
   "cell_type": "code",
   "execution_count": 118,
   "metadata": {},
   "outputs": [
    {
     "name": "stdout",
     "output_type": "stream",
     "text": [
      "[0.84184615 0.99138462 0.94030769 1.         0.85283251]\n",
      "0.9252741947707465 0.0669157307343973\n"
     ]
    }
   ],
   "source": [
    "adscores=cross_val_score(ad,x,y,cv=5)\n",
    "print(adscores)\n",
    "print(adscores.mean(),adscores.std())"
   ]
  },
  {
   "cell_type": "code",
   "execution_count": 119,
   "metadata": {},
   "outputs": [
    {
     "name": "stdout",
     "output_type": "stream",
     "text": [
      "[0.84184615 0.99138462 0.94030769 1.         0.85283251]\n",
      "0.9252741947707465 0.0669157307343973\n"
     ]
    }
   ],
   "source": [
    "adescores=cross_val_score(ade,x,y,cv=5)\n",
    "print(adescores)\n",
    "print(adescores.mean(),adescores.std())"
   ]
  },
  {
   "cell_type": "code",
   "execution_count": 120,
   "metadata": {},
   "outputs": [
    {
     "name": "stdout",
     "output_type": "stream",
     "text": [
      "[0.51753846 0.51815385 0.51815385 0.51815385 0.51785714]\n",
      "0.5179714285714285 0.00024509190082552893\n"
     ]
    }
   ],
   "source": [
    "adalscores=cross_val_score(adal,x,y,cv=5)\n",
    "print(adalscores)\n",
    "print(adalscores.mean(),adalscores.std())"
   ]
  },
  {
   "cell_type": "code",
   "execution_count": 121,
   "metadata": {},
   "outputs": [
    {
     "name": "stdout",
     "output_type": "stream",
     "text": [
      "[0.08063435848268063, 0.08053332434748761, -0.09365203787957777, 0.1631789076772182, 0.020881598090253473, 0.059625134088313936, 0.059625134088313936, -0.016293576222435213]\n"
     ]
    }
   ],
   "source": [
    "list1=[0.8014541387024608,0.9949664429530202,0.8014541387024608,0.9552572706935123,0.9552572706935123,0.9848993288590604\n",
    "       ,0.9848993288590604,0.5016778523489933]\n",
    "list2=[0.7208197802197802,0.9144331186055326,0.8951061765820386,0.7920783630162941,0.9343756726032588,0.9252741947707465\n",
    "      ,0.9252741947707465,0.5179714285714285]\n",
    "\n",
    "difference=[]\n",
    "zip_object = zip(list1, list2)\n",
    "for list1_i, list2_i in zip_object:\n",
    "    difference.append(list1_i-list2_i)\n",
    "\n",
    "\n",
    "print(difference)"
   ]
  },
  {
   "cell_type": "markdown",
   "metadata": {},
   "source": [
    "As per the accuracy scores, Decision Tree was the best algorithm.\n",
    "And the difference between CV and Accuracy Score of Decision Tree is only 0.08053332434748761 .\n",
    "So, Decision Tree is the best algorithm here.\n"
   ]
  },
  {
   "cell_type": "markdown",
   "metadata": {},
   "source": [
    "# Saving the best model"
   ]
  },
  {
   "cell_type": "code",
   "execution_count": 122,
   "metadata": {},
   "outputs": [],
   "source": [
    "import joblib"
   ]
  },
  {
   "cell_type": "code",
   "execution_count": 123,
   "metadata": {},
   "outputs": [
    {
     "data": {
      "text/plain": [
       "['dtcmushroommodel.obj']"
      ]
     },
     "execution_count": 123,
     "metadata": {},
     "output_type": "execute_result"
    }
   ],
   "source": [
    "joblib.dump(rf,'dtcmushroommodel.obj')"
   ]
  }
 ],
 "metadata": {
  "kernelspec": {
   "display_name": "Python 3",
   "language": "python",
   "name": "python3"
  },
  "language_info": {
   "codemirror_mode": {
    "name": "ipython",
    "version": 3
   },
   "file_extension": ".py",
   "mimetype": "text/x-python",
   "name": "python",
   "nbconvert_exporter": "python",
   "pygments_lexer": "ipython3",
   "version": "3.7.6"
  }
 },
 "nbformat": 4,
 "nbformat_minor": 4
}
