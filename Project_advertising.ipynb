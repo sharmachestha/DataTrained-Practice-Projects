{
 "cells": [
  {
   "cell_type": "code",
   "execution_count": 1,
   "metadata": {},
   "outputs": [],
   "source": [
    "import pandas as pd\n",
    "import numpy as np\n",
    "import seaborn as sns\n",
    "import matplotlib.pyplot as plt\n",
    "import warnings\n",
    "warnings.filterwarnings('ignore')\n",
    "from sklearn.linear_model import LinearRegression\n",
    "from sklearn.metrics import r2_score,mean_squared_error,mean_absolute_error\n",
    "from sklearn.metrics import accuracy_score,classification_report,confusion_matrix\n",
    "from sklearn.naive_bayes import GaussianNB\n",
    "from sklearn.svm import SVR\n",
    "from sklearn.tree import DecisionTreeRegressor\n",
    "from sklearn.neighbors import KNeighborsRegressor\n",
    "from sklearn.model_selection import GridSearchCV\n",
    "from sklearn.model_selection import cross_val_score\n",
    "from sklearn.model_selection import train_test_split\n",
    "import warnings\n",
    "warnings.filterwarnings('ignore')"
   ]
  },
  {
   "cell_type": "code",
   "execution_count": 2,
   "metadata": {},
   "outputs": [
    {
     "data": {
      "text/html": [
       "<div>\n",
       "<style scoped>\n",
       "    .dataframe tbody tr th:only-of-type {\n",
       "        vertical-align: middle;\n",
       "    }\n",
       "\n",
       "    .dataframe tbody tr th {\n",
       "        vertical-align: top;\n",
       "    }\n",
       "\n",
       "    .dataframe thead th {\n",
       "        text-align: right;\n",
       "    }\n",
       "</style>\n",
       "<table border=\"1\" class=\"dataframe\">\n",
       "  <thead>\n",
       "    <tr style=\"text-align: right;\">\n",
       "      <th></th>\n",
       "      <th>Unnamed: 0</th>\n",
       "      <th>TV</th>\n",
       "      <th>radio</th>\n",
       "      <th>newspaper</th>\n",
       "      <th>sales</th>\n",
       "    </tr>\n",
       "  </thead>\n",
       "  <tbody>\n",
       "    <tr>\n",
       "      <th>0</th>\n",
       "      <td>1</td>\n",
       "      <td>230.1</td>\n",
       "      <td>37.8</td>\n",
       "      <td>69.2</td>\n",
       "      <td>22.1</td>\n",
       "    </tr>\n",
       "    <tr>\n",
       "      <th>1</th>\n",
       "      <td>2</td>\n",
       "      <td>44.5</td>\n",
       "      <td>39.3</td>\n",
       "      <td>45.1</td>\n",
       "      <td>10.4</td>\n",
       "    </tr>\n",
       "    <tr>\n",
       "      <th>2</th>\n",
       "      <td>3</td>\n",
       "      <td>17.2</td>\n",
       "      <td>45.9</td>\n",
       "      <td>69.3</td>\n",
       "      <td>9.3</td>\n",
       "    </tr>\n",
       "    <tr>\n",
       "      <th>3</th>\n",
       "      <td>4</td>\n",
       "      <td>151.5</td>\n",
       "      <td>41.3</td>\n",
       "      <td>58.5</td>\n",
       "      <td>18.5</td>\n",
       "    </tr>\n",
       "    <tr>\n",
       "      <th>4</th>\n",
       "      <td>5</td>\n",
       "      <td>180.8</td>\n",
       "      <td>10.8</td>\n",
       "      <td>58.4</td>\n",
       "      <td>12.9</td>\n",
       "    </tr>\n",
       "  </tbody>\n",
       "</table>\n",
       "</div>"
      ],
      "text/plain": [
       "   Unnamed: 0     TV  radio  newspaper  sales\n",
       "0           1  230.1   37.8       69.2   22.1\n",
       "1           2   44.5   39.3       45.1   10.4\n",
       "2           3   17.2   45.9       69.3    9.3\n",
       "3           4  151.5   41.3       58.5   18.5\n",
       "4           5  180.8   10.8       58.4   12.9"
      ]
     },
     "execution_count": 2,
     "metadata": {},
     "output_type": "execute_result"
    }
   ],
   "source": [
    "df=pd.read_csv('Advertising.csv')\n",
    "df.head()"
   ]
  },
  {
   "cell_type": "code",
   "execution_count": 3,
   "metadata": {},
   "outputs": [
    {
     "data": {
      "text/plain": [
       "(200, 5)"
      ]
     },
     "execution_count": 3,
     "metadata": {},
     "output_type": "execute_result"
    }
   ],
   "source": [
    "df.shape"
   ]
  },
  {
   "cell_type": "code",
   "execution_count": 4,
   "metadata": {},
   "outputs": [
    {
     "data": {
      "text/plain": [
       "Index(['Unnamed: 0', 'TV', 'radio', 'newspaper', 'sales'], dtype='object')"
      ]
     },
     "execution_count": 4,
     "metadata": {},
     "output_type": "execute_result"
    }
   ],
   "source": [
    "df.columns"
   ]
  },
  {
   "cell_type": "code",
   "execution_count": 5,
   "metadata": {},
   "outputs": [
    {
     "data": {
      "text/plain": [
       "Unnamed: 0      int64\n",
       "TV            float64\n",
       "radio         float64\n",
       "newspaper     float64\n",
       "sales         float64\n",
       "dtype: object"
      ]
     },
     "execution_count": 5,
     "metadata": {},
     "output_type": "execute_result"
    }
   ],
   "source": [
    "df.dtypes"
   ]
  },
  {
   "cell_type": "code",
   "execution_count": 6,
   "metadata": {},
   "outputs": [
    {
     "name": "stdout",
     "output_type": "stream",
     "text": [
      "<class 'pandas.core.frame.DataFrame'>\n",
      "RangeIndex: 200 entries, 0 to 199\n",
      "Data columns (total 5 columns):\n",
      " #   Column      Non-Null Count  Dtype  \n",
      "---  ------      --------------  -----  \n",
      " 0   Unnamed: 0  200 non-null    int64  \n",
      " 1   TV          200 non-null    float64\n",
      " 2   radio       200 non-null    float64\n",
      " 3   newspaper   200 non-null    float64\n",
      " 4   sales       200 non-null    float64\n",
      "dtypes: float64(4), int64(1)\n",
      "memory usage: 7.9 KB\n"
     ]
    }
   ],
   "source": [
    "df.info()"
   ]
  },
  {
   "cell_type": "markdown",
   "metadata": {},
   "source": [
    "# Summary Statistics"
   ]
  },
  {
   "cell_type": "code",
   "execution_count": 7,
   "metadata": {},
   "outputs": [
    {
     "data": {
      "text/html": [
       "<div>\n",
       "<style scoped>\n",
       "    .dataframe tbody tr th:only-of-type {\n",
       "        vertical-align: middle;\n",
       "    }\n",
       "\n",
       "    .dataframe tbody tr th {\n",
       "        vertical-align: top;\n",
       "    }\n",
       "\n",
       "    .dataframe thead th {\n",
       "        text-align: right;\n",
       "    }\n",
       "</style>\n",
       "<table border=\"1\" class=\"dataframe\">\n",
       "  <thead>\n",
       "    <tr style=\"text-align: right;\">\n",
       "      <th></th>\n",
       "      <th>Unnamed: 0</th>\n",
       "      <th>TV</th>\n",
       "      <th>radio</th>\n",
       "      <th>newspaper</th>\n",
       "      <th>sales</th>\n",
       "    </tr>\n",
       "  </thead>\n",
       "  <tbody>\n",
       "    <tr>\n",
       "      <th>count</th>\n",
       "      <td>200.000000</td>\n",
       "      <td>200.000000</td>\n",
       "      <td>200.000000</td>\n",
       "      <td>200.000000</td>\n",
       "      <td>200.000000</td>\n",
       "    </tr>\n",
       "    <tr>\n",
       "      <th>mean</th>\n",
       "      <td>100.500000</td>\n",
       "      <td>147.042500</td>\n",
       "      <td>23.264000</td>\n",
       "      <td>30.554000</td>\n",
       "      <td>14.022500</td>\n",
       "    </tr>\n",
       "    <tr>\n",
       "      <th>std</th>\n",
       "      <td>57.879185</td>\n",
       "      <td>85.854236</td>\n",
       "      <td>14.846809</td>\n",
       "      <td>21.778621</td>\n",
       "      <td>5.217457</td>\n",
       "    </tr>\n",
       "    <tr>\n",
       "      <th>min</th>\n",
       "      <td>1.000000</td>\n",
       "      <td>0.700000</td>\n",
       "      <td>0.000000</td>\n",
       "      <td>0.300000</td>\n",
       "      <td>1.600000</td>\n",
       "    </tr>\n",
       "    <tr>\n",
       "      <th>25%</th>\n",
       "      <td>50.750000</td>\n",
       "      <td>74.375000</td>\n",
       "      <td>9.975000</td>\n",
       "      <td>12.750000</td>\n",
       "      <td>10.375000</td>\n",
       "    </tr>\n",
       "    <tr>\n",
       "      <th>50%</th>\n",
       "      <td>100.500000</td>\n",
       "      <td>149.750000</td>\n",
       "      <td>22.900000</td>\n",
       "      <td>25.750000</td>\n",
       "      <td>12.900000</td>\n",
       "    </tr>\n",
       "    <tr>\n",
       "      <th>75%</th>\n",
       "      <td>150.250000</td>\n",
       "      <td>218.825000</td>\n",
       "      <td>36.525000</td>\n",
       "      <td>45.100000</td>\n",
       "      <td>17.400000</td>\n",
       "    </tr>\n",
       "    <tr>\n",
       "      <th>max</th>\n",
       "      <td>200.000000</td>\n",
       "      <td>296.400000</td>\n",
       "      <td>49.600000</td>\n",
       "      <td>114.000000</td>\n",
       "      <td>27.000000</td>\n",
       "    </tr>\n",
       "  </tbody>\n",
       "</table>\n",
       "</div>"
      ],
      "text/plain": [
       "       Unnamed: 0          TV       radio   newspaper       sales\n",
       "count  200.000000  200.000000  200.000000  200.000000  200.000000\n",
       "mean   100.500000  147.042500   23.264000   30.554000   14.022500\n",
       "std     57.879185   85.854236   14.846809   21.778621    5.217457\n",
       "min      1.000000    0.700000    0.000000    0.300000    1.600000\n",
       "25%     50.750000   74.375000    9.975000   12.750000   10.375000\n",
       "50%    100.500000  149.750000   22.900000   25.750000   12.900000\n",
       "75%    150.250000  218.825000   36.525000   45.100000   17.400000\n",
       "max    200.000000  296.400000   49.600000  114.000000   27.000000"
      ]
     },
     "execution_count": 7,
     "metadata": {},
     "output_type": "execute_result"
    }
   ],
   "source": [
    "df.describe()"
   ]
  },
  {
   "cell_type": "markdown",
   "metadata": {},
   "source": [
    "Observations :-\n",
    "    \n",
    "1. Mean is more than median for Unnamed:0 column.\n",
    "2. There is large difference between 75 % and maximum for newspaper column."
   ]
  },
  {
   "cell_type": "markdown",
   "metadata": {},
   "source": [
    "# Exploring Target Variable"
   ]
  },
  {
   "cell_type": "code",
   "execution_count": 8,
   "metadata": {},
   "outputs": [
    {
     "data": {
      "text/plain": [
       "9.7     5\n",
       "12.9    4\n",
       "11.7    4\n",
       "15.9    4\n",
       "25.4    3\n",
       "13.4    3\n",
       "10.6    3\n",
       "13.2    3\n",
       "10.1    3\n",
       "20.7    3\n",
       "12.2    3\n",
       "9.5     3\n",
       "11.8    3\n",
       "11.6    3\n",
       "11.9    3\n",
       "8.7     3\n",
       "15.5    3\n",
       "18.0    3\n",
       "14.8    2\n",
       "11.3    2\n",
       "9.3     2\n",
       "17.4    2\n",
       "7.6     2\n",
       "10.3    2\n",
       "12.6    2\n",
       "14.7    2\n",
       "15.2    2\n",
       "6.6     2\n",
       "7.3     2\n",
       "19.6    2\n",
       "23.8    2\n",
       "22.6    2\n",
       "18.9    2\n",
       "11.5    2\n",
       "19.2    2\n",
       "11.0    2\n",
       "10.4    2\n",
       "16.6    2\n",
       "19.0    2\n",
       "11.4    2\n",
       "17.1    2\n",
       "12.5    2\n",
       "5.3     2\n",
       "14.9    2\n",
       "12.0    2\n",
       "15.0    2\n",
       "10.5    2\n",
       "20.2    2\n",
       "8.8     2\n",
       "10.8    2\n",
       "10.9    2\n",
       "7.2     2\n",
       "12.8    2\n",
       "9.6     2\n",
       "14.6    2\n",
       "17.3    2\n",
       "22.3    1\n",
       "14.1    1\n",
       "17.6    1\n",
       "19.7    1\n",
       "9.9     1\n",
       "8.0     1\n",
       "17.2    1\n",
       "22.2    1\n",
       "25.5    1\n",
       "6.7     1\n",
       "27.0    1\n",
       "14.5    1\n",
       "13.3    1\n",
       "15.6    1\n",
       "7.0     1\n",
       "16.0    1\n",
       "17.0    1\n",
       "14.0    1\n",
       "5.5     1\n",
       "8.5     1\n",
       "21.5    1\n",
       "24.7    1\n",
       "16.7    1\n",
       "18.3    1\n",
       "1.6     1\n",
       "12.7    1\n",
       "5.7     1\n",
       "3.2     1\n",
       "4.8     1\n",
       "8.6     1\n",
       "12.3    1\n",
       "20.8    1\n",
       "23.2    1\n",
       "14.4    1\n",
       "26.2    1\n",
       "21.2    1\n",
       "15.3    1\n",
       "23.7    1\n",
       "8.4     1\n",
       "8.1     1\n",
       "24.2    1\n",
       "13.6    1\n",
       "21.7    1\n",
       "6.9     1\n",
       "9.4     1\n",
       "16.9    1\n",
       "16.1    1\n",
       "12.4    1\n",
       "22.1    1\n",
       "20.1    1\n",
       "9.2     1\n",
       "22.4    1\n",
       "24.4    1\n",
       "5.9     1\n",
       "5.6     1\n",
       "21.4    1\n",
       "19.8    1\n",
       "10.7    1\n",
       "18.4    1\n",
       "21.8    1\n",
       "15.7    1\n",
       "14.2    1\n",
       "11.2    1\n",
       "19.4    1\n",
       "18.5    1\n",
       "Name: sales, dtype: int64"
      ]
     },
     "execution_count": 8,
     "metadata": {},
     "output_type": "execute_result"
    }
   ],
   "source": [
    "pd.set_option('display.max_rows',None)\n",
    "df['sales'].value_counts()"
   ]
  },
  {
   "cell_type": "code",
   "execution_count": 9,
   "metadata": {},
   "outputs": [],
   "source": [
    "# As we have continuos values in sales column, so, this is a regression problem."
   ]
  },
  {
   "cell_type": "markdown",
   "metadata": {},
   "source": [
    "# Data Visualizations"
   ]
  },
  {
   "cell_type": "markdown",
   "metadata": {},
   "source": [
    "To check missing values"
   ]
  },
  {
   "cell_type": "code",
   "execution_count": 10,
   "metadata": {},
   "outputs": [
    {
     "data": {
      "text/plain": [
       "<matplotlib.axes._subplots.AxesSubplot at 0x1850f896ac8>"
      ]
     },
     "execution_count": 10,
     "metadata": {},
     "output_type": "execute_result"
    },
    {
     "data": {
      "image/png": "[encoded data removed]",
      "text/plain": [
       "<Figure size 432x288 with 2 Axes>"
      ]
     },
     "metadata": {
      "needs_background": "light"
     },
     "output_type": "display_data"
    }
   ],
   "source": [
    " sns.heatmap(df.isnull())"
   ]
  },
  {
   "cell_type": "markdown",
   "metadata": {},
   "source": [
    "Observations:-\n",
    "    \n",
    "    1. There is no missing values in the dataset."
   ]
  },
  {
   "cell_type": "code",
   "execution_count": 11,
   "metadata": {},
   "outputs": [
    {
     "data": {
      "text/plain": [
       "Unnamed: 0    0\n",
       "TV            0\n",
       "radio         0\n",
       "newspaper     0\n",
       "sales         0\n",
       "dtype: int64"
      ]
     },
     "execution_count": 11,
     "metadata": {},
     "output_type": "execute_result"
    }
   ],
   "source": [
    "df.isnull().sum()"
   ]
  },
  {
   "cell_type": "markdown",
   "metadata": {},
   "source": [
    "# Univariate Analysis"
   ]
  },
  {
   "cell_type": "code",
   "execution_count": 12,
   "metadata": {},
   "outputs": [
    {
     "data": {
      "text/plain": [
       "<matplotlib.axes._subplots.AxesSubplot at 0x18510082f08>"
      ]
     },
     "execution_count": 12,
     "metadata": {},
     "output_type": "execute_result"
    },
    {
     "data": {
      "image/png": "[encoded data removed]",
      "text/plain": [
       "<Figure size 432x288 with 1 Axes>"
      ]
     },
     "metadata": {
      "needs_background": "light"
     },
     "output_type": "display_data"
    }
   ],
   "source": [
    "sns.distplot(df['sales'])"
   ]
  },
  {
   "cell_type": "markdown",
   "metadata": {},
   "source": [
    "Observations :-\n",
    "    \n",
    "1. Number of items having Sales is directly proportional to Sales in the range of 0-12.\n",
    "2. Number of items having Sales is inversely proportional to Sales in the range of 12-30."
   ]
  },
  {
   "cell_type": "code",
   "execution_count": 13,
   "metadata": {},
   "outputs": [
    {
     "data": {
      "text/plain": [
       "<matplotlib.axes._subplots.AxesSubplot at 0x1851013b108>"
      ]
     },
     "execution_count": 13,
     "metadata": {},
     "output_type": "execute_result"
    },
    {
     "data": {
      "image/png": "[encoded data removed]",
      "text/plain": [
       "<Figure size 432x288 with 1 Axes>"
      ]
     },
     "metadata": {
      "needs_background": "light"
     },
     "output_type": "display_data"
    }
   ],
   "source": [
    "sns.violinplot(df['sales'])"
   ]
  },
  {
   "cell_type": "markdown",
   "metadata": {},
   "source": [
    "Observations :-\n",
    "    \n",
    "1. Majority of sales are in the range of 10-15."
   ]
  },
  {
   "cell_type": "code",
   "execution_count": 14,
   "metadata": {},
   "outputs": [
    {
     "data": {
      "text/plain": [
       "<matplotlib.axes._subplots.AxesSubplot at 0x1851019e588>"
      ]
     },
     "execution_count": 14,
     "metadata": {},
     "output_type": "execute_result"
    },
    {
     "data": {
      "image/png": "[encoded data removed]",
      "text/plain": [
       "<Figure size 432x288 with 1 Axes>"
      ]
     },
     "metadata": {
      "needs_background": "light"
     },
     "output_type": "display_data"
    }
   ],
   "source": [
    "sns.violinplot(df['radio'])"
   ]
  },
  {
   "cell_type": "markdown",
   "metadata": {},
   "source": [
    "Observations :-\n",
    "\n",
    "1. Majority of radios are in the range of 5-45."
   ]
  },
  {
   "cell_type": "code",
   "execution_count": 15,
   "metadata": {},
   "outputs": [
    {
     "data": {
      "text/plain": [
       "<matplotlib.axes._subplots.AxesSubplot at 0x185101ff648>"
      ]
     },
     "execution_count": 15,
     "metadata": {},
     "output_type": "execute_result"
    },
    {
     "data": {
      "image/png": "[encoded data removed]",
      "text/plain": [
       "<Figure size 432x288 with 1 Axes>"
      ]
     },
     "metadata": {
      "needs_background": "light"
     },
     "output_type": "display_data"
    }
   ],
   "source": [
    "sns.violinplot(df['newspaper'])"
   ]
  },
  {
   "cell_type": "markdown",
   "metadata": {},
   "source": [
    "Observations :-\n",
    "\n",
    "1. Majority of newspapers are in the range of 10-30."
   ]
  },
  {
   "cell_type": "markdown",
   "metadata": {},
   "source": [
    "# To check correlation"
   ]
  },
  {
   "cell_type": "code",
   "execution_count": 16,
   "metadata": {},
   "outputs": [
    {
     "data": {
      "text/html": [
       "<div>\n",
       "<style scoped>\n",
       "    .dataframe tbody tr th:only-of-type {\n",
       "        vertical-align: middle;\n",
       "    }\n",
       "\n",
       "    .dataframe tbody tr th {\n",
       "        vertical-align: top;\n",
       "    }\n",
       "\n",
       "    .dataframe thead th {\n",
       "        text-align: right;\n",
       "    }\n",
       "</style>\n",
       "<table border=\"1\" class=\"dataframe\">\n",
       "  <thead>\n",
       "    <tr style=\"text-align: right;\">\n",
       "      <th></th>\n",
       "      <th>Unnamed: 0</th>\n",
       "      <th>TV</th>\n",
       "      <th>radio</th>\n",
       "      <th>newspaper</th>\n",
       "      <th>sales</th>\n",
       "    </tr>\n",
       "  </thead>\n",
       "  <tbody>\n",
       "    <tr>\n",
       "      <th>Unnamed: 0</th>\n",
       "      <td>1.000000</td>\n",
       "      <td>0.017715</td>\n",
       "      <td>-0.110680</td>\n",
       "      <td>-0.154944</td>\n",
       "      <td>-0.051616</td>\n",
       "    </tr>\n",
       "    <tr>\n",
       "      <th>TV</th>\n",
       "      <td>0.017715</td>\n",
       "      <td>1.000000</td>\n",
       "      <td>0.054809</td>\n",
       "      <td>0.056648</td>\n",
       "      <td>0.782224</td>\n",
       "    </tr>\n",
       "    <tr>\n",
       "      <th>radio</th>\n",
       "      <td>-0.110680</td>\n",
       "      <td>0.054809</td>\n",
       "      <td>1.000000</td>\n",
       "      <td>0.354104</td>\n",
       "      <td>0.576223</td>\n",
       "    </tr>\n",
       "    <tr>\n",
       "      <th>newspaper</th>\n",
       "      <td>-0.154944</td>\n",
       "      <td>0.056648</td>\n",
       "      <td>0.354104</td>\n",
       "      <td>1.000000</td>\n",
       "      <td>0.228299</td>\n",
       "    </tr>\n",
       "    <tr>\n",
       "      <th>sales</th>\n",
       "      <td>-0.051616</td>\n",
       "      <td>0.782224</td>\n",
       "      <td>0.576223</td>\n",
       "      <td>0.228299</td>\n",
       "      <td>1.000000</td>\n",
       "    </tr>\n",
       "  </tbody>\n",
       "</table>\n",
       "</div>"
      ],
      "text/plain": [
       "            Unnamed: 0        TV     radio  newspaper     sales\n",
       "Unnamed: 0    1.000000  0.017715 -0.110680  -0.154944 -0.051616\n",
       "TV            0.017715  1.000000  0.054809   0.056648  0.782224\n",
       "radio        -0.110680  0.054809  1.000000   0.354104  0.576223\n",
       "newspaper    -0.154944  0.056648  0.354104   1.000000  0.228299\n",
       "sales        -0.051616  0.782224  0.576223   0.228299  1.000000"
      ]
     },
     "execution_count": 16,
     "metadata": {},
     "output_type": "execute_result"
    }
   ],
   "source": [
    "dfcor=df.corr()\n",
    "dfcor"
   ]
  },
  {
   "cell_type": "code",
   "execution_count": 17,
   "metadata": {},
   "outputs": [
    {
     "data": {
      "text/plain": [
       "<matplotlib.axes._subplots.AxesSubplot at 0x18510260848>"
      ]
     },
     "execution_count": 17,
     "metadata": {},
     "output_type": "execute_result"
    },
    {
     "data": {
      "image/png": "[encoded data removed]",
      "text/plain": [
       "<Figure size 720x576 with 2 Axes>"
      ]
     },
     "metadata": {
      "needs_background": "light"
     },
     "output_type": "display_data"
    }
   ],
   "source": [
    "# Multivariate Analysis\n",
    "plt.figure(figsize=(10,8))\n",
    "sns.heatmap(dfcor,cmap='YlOrRd_r',annot=True)"
   ]
  },
  {
   "cell_type": "markdown",
   "metadata": {},
   "source": [
    "Observations :-\n",
    "    \n",
    "1. Sales are highly positively correlated to TV.\n",
    "2. TV is highly negatively correlated to radio.\n",
    "3. Radio is highly positively correlated to newspaper.\n",
    "4. Radio is highly negatively correlated to sales."
   ]
  },
  {
   "cell_type": "markdown",
   "metadata": {},
   "source": [
    "# Bivariate Analysis"
   ]
  },
  {
   "cell_type": "code",
   "execution_count": 18,
   "metadata": {},
   "outputs": [
    {
     "data": {
      "text/plain": [
       "<seaborn.axisgrid.JointGrid at 0x185102ffe48>"
      ]
     },
     "execution_count": 18,
     "metadata": {},
     "output_type": "execute_result"
    },
    {
     "data": {
      "image/png": "[encoded data removed]",
      "text/plain": [
       "<Figure size 432x432 with 3 Axes>"
      ]
     },
     "metadata": {
      "needs_background": "light"
     },
     "output_type": "display_data"
    }
   ],
   "source": [
    "sns.jointplot(x='sales',y='TV',data=df)"
   ]
  },
  {
   "cell_type": "markdown",
   "metadata": {},
   "source": [
    "Observations :-\n",
    "    \n",
    "1. Sales are more dispersed after 15."
   ]
  },
  {
   "cell_type": "code",
   "execution_count": 19,
   "metadata": {},
   "outputs": [
    {
     "data": {
      "text/plain": [
       "<seaborn.axisgrid.PairGrid at 0x185104d3348>"
      ]
     },
     "execution_count": 19,
     "metadata": {},
     "output_type": "execute_result"
    },
    {
     "data": {
      "image/png": "[encoded data removed]",
      "text/plain": [
       "<Figure size 900x900 with 30 Axes>"
      ]
     },
     "metadata": {
      "needs_background": "light"
     },
     "output_type": "display_data"
    }
   ],
   "source": [
    "sns.pairplot(df)"
   ]
  },
  {
   "cell_type": "markdown",
   "metadata": {},
   "source": [
    "Observations :-\n",
    "    \n",
    "1. Higly positively correlation is present between Tv & sales, Radio and sales.\n",
    "2. Data is highly dispersed between rest of the plottings."
   ]
  },
  {
   "cell_type": "markdown",
   "metadata": {},
   "source": [
    "# Plotting Outliers"
   ]
  },
  {
   "cell_type": "code",
   "execution_count": 20,
   "metadata": {},
   "outputs": [
    {
     "data": {
      "text/plain": [
       "Unnamed: 0       AxesSubplot(0.125,0.657941;0.168478x0.222059)\n",
       "TV            AxesSubplot(0.327174,0.657941;0.168478x0.222059)\n",
       "radio         AxesSubplot(0.529348,0.657941;0.168478x0.222059)\n",
       "newspaper     AxesSubplot(0.731522,0.657941;0.168478x0.222059)\n",
       "sales            AxesSubplot(0.125,0.391471;0.168478x0.222059)\n",
       "dtype: object"
      ]
     },
     "execution_count": 20,
     "metadata": {},
     "output_type": "execute_result"
    },
    {
     "data": {
      "image/png": "[encoded data removed]",
      "text/plain": [
       "<Figure size 1296x864 with 12 Axes>"
      ]
     },
     "metadata": {
      "needs_background": "light"
     },
     "output_type": "display_data"
    }
   ],
   "source": [
    "df.plot(kind='box',subplots=True,layout=(3,4),sharex=False,fontsize=1,figsize=(18,12))"
   ]
  },
  {
   "cell_type": "markdown",
   "metadata": {},
   "source": [
    "Observations :-\n",
    "    \n",
    "1. Outliers are present in Newspaper column."
   ]
  },
  {
   "cell_type": "markdown",
   "metadata": {},
   "source": [
    "# `Removing Outliers"
   ]
  },
  {
   "cell_type": "code",
   "execution_count": 21,
   "metadata": {},
   "outputs": [
    {
     "data": {
      "text/plain": [
       "array([[1.72341210e+00, 9.69852266e-01, 9.81522472e-01, 1.77894547e+00,\n",
       "        1.55205313e+00],\n",
       "       [1.70609137e+00, 1.19737623e+00, 1.08280781e+00, 6.69578760e-01,\n",
       "        6.96046111e-01],\n",
       "       [1.68877065e+00, 1.51615499e+00, 1.52846331e+00, 1.78354865e+00,\n",
       "        9.07405869e-01],\n",
       "       [1.67144992e+00, 5.20496822e-02, 1.21785493e+00, 1.28640506e+00,\n",
       "        8.60330287e-01],\n",
       "       [1.65412920e+00, 3.94182198e-01, 8.41613655e-01, 1.28180188e+00,\n",
       "        2.15683025e-01],\n",
       "       [1.63680847e+00, 1.61540845e+00, 1.73103399e+00, 2.04592999e+00,\n",
       "        1.31091086e+00],\n",
       "       [1.61948775e+00, 1.04557682e+00, 6.43904671e-01, 3.24708413e-01,\n",
       "        4.27042783e-01],\n",
       "       [1.60216702e+00, 3.13436589e-01, 2.47406325e-01, 8.72486994e-01,\n",
       "        1.58039455e-01],\n",
       "       [1.58484630e+00, 1.61657614e+00, 1.42906863e+00, 1.36042422e+00,\n",
       "        1.77205942e+00],\n",
       "       [1.56752558e+00, 6.16042873e-01, 1.39530685e+00, 4.30581584e-01,\n",
       "        6.57617064e-01],\n",
       "       [1.55020485e+00, 9.45155670e-01, 1.17923146e+00, 2.92486143e-01,\n",
       "        1.04190753e+00],\n",
       "       [1.53288413e+00, 7.90028350e-01, 4.96973404e-02, 1.22232878e+00,\n",
       "        6.48970529e-01],\n",
       "       [1.51556340e+00, 1.43908760e+00, 7.99208859e-01, 1.62704048e+00,\n",
       "        9.26620392e-01],\n",
       "       [1.49824268e+00, 5.78501712e-01, 1.05768905e+00, 1.07502697e+00,\n",
       "        8.30547775e-01],\n",
       "       [1.48092195e+00, 6.66253447e-01, 6.50657027e-01, 7.11007392e-01,\n",
       "        9.56402904e-01],\n",
       "       [1.46360123e+00, 5.64664612e-01, 1.65000572e+00, 1.02862691e+00,\n",
       "        1.60969670e+00],\n",
       "       [1.44628050e+00, 9.25304978e-01, 9.00494200e-01, 3.84117072e+00,\n",
       "        2.92541119e-01],\n",
       "       [1.42895978e+00, 1.56887609e+00, 1.10306488e+00, 1.16211917e+00,\n",
       "        1.99398717e+00],\n",
       "       [1.41163905e+00, 9.08957349e-01, 1.86635121e-01, 5.64073843e-01,\n",
       "        5.23115400e-01],\n",
       "       [1.39431833e+00, 3.00679600e-03, 4.29449843e-02, 5.27248393e-01,\n",
       "        1.10963873e-01],\n",
       "       [1.37699760e+00, 8.33232798e-01, 2.99534513e-01, 1.05164281e+00,\n",
       "        7.64257669e-01],\n",
       "       [1.35967688e+00, 1.05509347e+00, 1.22649795e+00, 3.24708413e-01,\n",
       "        2.92541119e-01],\n",
       "       [1.34235616e+00, 1.56286250e+00, 4.97243498e-01, 8.76721921e-01,\n",
       "        1.61834324e+00],\n",
       "       [1.32503543e+00, 9.48833887e-01, 4.29719938e-01, 2.00422516e-01,\n",
       "        2.83894584e-01],\n",
       "       [1.30771471e+00, 9.89527805e-01, 7.20071247e-01, 5.64073843e-01,\n",
       "        8.30547775e-01],\n",
       "       [1.29039398e+00, 1.35285385e+00, 1.33453565e+00, 5.08835667e-01,\n",
       "        3.88613736e-01],\n",
       "       [1.27307326e+00, 4.83714657e-02, 4.07572210e-01, 8.26455181e-01,\n",
       "        1.87821967e-01],\n",
       "       [1.25575253e+00, 1.08662104e+00, 4.43224650e-01, 3.52327501e-01,\n",
       "        3.60752677e-01],\n",
       "       [1.23843181e+00, 1.18820988e+00, 2.59020377e-01, 3.52327501e-01,\n",
       "        9.37188380e-01],\n",
       "       [1.22111108e+00, 8.92609721e-01, 4.90491142e-01, 4.71641962e-01,\n",
       "        6.76831588e-01],\n",
       "       [1.20379036e+00, 1.70316018e+00, 3.40048650e-01, 5.82118314e-01,\n",
       "        1.41755147e+00],\n",
       "       [1.18646963e+00, 3.98677796e-01, 3.95958157e-01, 3.70371972e-01,\n",
       "        4.07828260e-01],\n",
       "       [1.16914891e+00, 5.82004775e-01, 1.46958277e+00, 2.55016247e-02,\n",
       "        8.49762299e-01],\n",
       "       [1.15182818e+00, 1.38438142e+00, 2.20396901e-01, 1.39264649e+00,\n",
       "        6.48970529e-01],\n",
       "       [1.13450746e+00, 5.99520091e-01, 1.47633512e+00, 1.06582061e+00,\n",
       "        8.68976822e-01],\n",
       "       [1.11718674e+00, 1.67747105e+00, 1.29402151e+00, 1.01518562e+00,\n",
       "        2.34897549e-01],\n",
       "       [1.09986601e+00, 1.39956136e+00, 1.38666383e+00, 1.17629696e+00,\n",
       "        2.18613240e+00],\n",
       "       [1.08254529e+00, 8.44734522e-01, 1.76479577e+00, 6.97197848e-01,\n",
       "        1.30178396e-01],\n",
       "       [1.06522456e+00, 1.21372386e+00, 2.32010953e-01, 2.09260624e-01,\n",
       "        7.53689682e-01],\n",
       "       [1.04790384e+00, 9.45330823e-01, 9.74770116e-01, 6.65620024e-02,\n",
       "        1.43676599e+00],\n",
       "       [1.03058311e+00, 6.47570443e-01, 6.50927121e-02, 4.81492770e-02,\n",
       "        4.95254341e-01],\n",
       "       [1.01326239e+00, 3.49810063e-01, 6.84418807e-01, 3.74975153e-01,\n",
       "        5.91326959e-01],\n",
       "       [9.95941664e-01, 1.71133400e+00, 2.99534513e-01, 1.32359877e+00,\n",
       "        1.28304980e+00],\n",
       "       [9.78620939e-01, 6.98948705e-01, 1.00367020e+00, 1.91216154e-01,\n",
       "        2.15683025e-01],\n",
       "       [9.61300215e-01, 1.42390765e+00, 1.64487393e-01, 5.86721496e-01,\n",
       "        1.06112206e+00],\n",
       "       [9.43979490e-01, 3.27623995e-01, 5.15880000e-02, 4.35460956e-02,\n",
       "        1.68607443e-01],\n",
       "       [9.26658765e-01, 6.69581357e-01, 9.02384859e-01, 2.36879713e-01,\n",
       "        6.57617064e-01],\n",
       "       [9.09338041e-01, 1.08428567e+00, 1.23135965e+00, 5.54867481e-01,\n",
       "        1.76341289e+00],\n",
       "       [8.92017316e-01, 9.35989321e-01, 5.03995854e-01, 8.90531465e-01,\n",
       "        1.49392920e-01],\n",
       "       [8.74696592e-01, 9.35814168e-01, 7.80842451e-01, 2.87514708e-01,\n",
       "        8.30547775e-01],\n",
       "       [8.57375867e-01, 6.16042873e-01, 1.36154507e+00, 1.86244718e-01,\n",
       "        5.03900877e-01],\n",
       "       [8.40055142e-01, 5.44638766e-01, 9.22641928e-01, 1.24074150e+00,\n",
       "        6.38402541e-01],\n",
       "       [8.22734418e-01, 8.09879042e-01, 1.24486436e+00, 4.16403786e-01,\n",
       "        1.64812575e+00],\n",
       "       [8.05413693e-01, 4.15200577e-01, 1.54872038e+00, 1.29561142e+00,\n",
       "        1.37912242e+00],\n",
       "       [7.88092969e-01, 1.35051848e+00, 3.73810430e-01, 6.74550196e-01,\n",
       "        1.18697718e+00],\n",
       "       [7.70772244e-01, 6.05533683e-01, 1.76479577e+00, 1.35545278e+00,\n",
       "        1.85948550e+00],\n",
       "       [7.53451519e-01, 1.63175608e+00, 3.26543937e-01, 4.99261050e-01,\n",
       "        1.63755776e+00],\n",
       "       [7.36130795e-01, 1.26606546e-01, 2.74415749e-01, 6.42327927e-01,\n",
       "        1.58039455e-01],\n",
       "       [7.18810070e-01, 7.44488528e-01, 1.77830048e+00, 3.28943340e-01,\n",
       "        1.87870003e+00],\n",
       "       [7.01489346e-01, 7.43320840e-01, 4.21076922e-01, 9.78360166e-01,\n",
       "        8.41115763e-01],\n",
       "       [6.84168621e-01, 1.09228433e+00, 1.43582099e+00, 4.21375221e-01,\n",
       "        1.13798015e+00],\n",
       "       [6.66847897e-01, 1.33417085e+00, 1.31238792e+00, 1.11148417e+00,\n",
       "        1.95555812e+00],\n",
       "       [6.49527172e-01, 1.07727954e+00, 5.24252922e-01, 1.49787521e-01,\n",
       "        3.22323631e-01],\n",
       "       [6.32206447e-01, 5.17781948e-01, 4.27829278e-01, 1.01978880e+00,\n",
       "        4.32326777e-03],\n",
       "       [6.14885723e-01, 1.86158622e-01, 1.31914027e+00, 7.61366196e-02,\n",
       "        7.64257669e-01],\n",
       "       [5.97564998e-01, 9.11292725e-01, 9.42898996e-01, 1.36502740e+00,\n",
       "        9.07405869e-01],\n",
       "       [5.80244274e-01, 1.34917564e+00, 9.02114765e-02, 1.30518604e+00,\n",
       "        8.68976822e-01],\n",
       "       [5.62923549e-01, 9.04082253e-02, 5.91776482e-01, 9.36931533e-01,\n",
       "        1.19610408e-01],\n",
       "       [5.45602824e-01, 1.05509347e+00, 2.86029801e-01, 9.00106083e-01,\n",
       "        9.37188380e-01],\n",
       "       [5.28282100e-01, 8.14549794e-01, 1.39341619e+00, 1.54390703e-01,\n",
       "        1.59048218e+00],\n",
       "       [5.10961375e-01, 6.07869059e-01, 4.95352838e-01, 3.74975153e-01,\n",
       "        8.21901240e-01],\n",
       "       [4.93640651e-01, 4.34876116e-01, 6.05281194e-01, 5.27524584e-02,\n",
       "        3.11755643e-01],\n",
       "       [4.76319926e-01, 1.40405696e+00, 6.57409383e-01, 5.18042030e-01,\n",
       "        1.00347849e+00],\n",
       "       [4.58999202e-01, 2.06009314e-01, 1.18598381e+00, 3.43397329e-02,\n",
       "        5.80758971e-01],\n",
       "       [4.41678477e-01, 7.74848409e-01, 9.02114765e-02, 8.03439274e-01,\n",
       "        5.72112435e-01],\n",
       "       [4.24357752e-01, 1.51965805e+00, 1.37991148e+00, 2.70878810e+00,\n",
       "        1.02269301e+00],\n",
       "       [4.07037028e-01, 1.39588315e+00, 1.46283041e+00, 4.53597491e-01,\n",
       "        1.36855443e+00],\n",
       "       [3.89716303e-01, 3.09933525e-01, 3.53553362e-01, 7.52804279e-01,\n",
       "        3.41057791e-02],\n",
       "       [3.72395579e-01, 1.65394214e+00, 4.48086346e-01, 9.73756984e-01,\n",
       "        1.67598681e+00],\n",
       "       [3.55074854e-01, 3.62479475e-01, 1.05093669e+00, 3.43121138e-01,\n",
       "        5.80758971e-01],\n",
       "       [3.37754129e-01, 8.24883830e-01, 2.32010953e-01, 3.79946589e-01,\n",
       "        4.27042783e-01],\n",
       "       [3.20433405e-01, 1.08311798e+00, 1.29402151e+00, 2.92117889e-01,\n",
       "        3.30970166e-01],\n",
       "       [3.03112680e-01, 8.37728396e-01, 2.00139833e-01, 8.95779092e-02,\n",
       "        5.23115400e-01],\n",
       "       [2.85791956e-01, 9.18298852e-01, 1.43393033e+00, 2.32276531e-01,\n",
       "        8.11813615e-02],\n",
       "       [2.68471231e-01, 7.76016097e-01, 1.33264499e+00, 1.49419267e-01,\n",
       "        1.47519504e+00],\n",
       "       [2.51150506e-01, 5.38975481e-01, 3.28434597e-01, 1.61783412e+00,\n",
       "        2.26251013e-01],\n",
       "       [2.33829782e-01, 8.26051518e-01, 2.86029801e-01, 6.69947015e-01,\n",
       "        3.88613736e-01],\n",
       "       [2.16509057e-01, 4.24366926e-01, 1.17058844e+00, 1.50275459e+00,\n",
       "        3.79967201e-01],\n",
       "       [1.99188333e-01, 6.85928986e-01, 1.50982681e-01, 1.97227908e+00,\n",
       "        2.15683025e-01],\n",
       "       [1.81867608e-01, 4.34876116e-01, 1.65675807e+00, 9.59579186e-01,\n",
       "        5.14468865e-01],\n",
       "       [1.64546884e-01, 1.48792614e-01, 1.24000266e+00, 9.78360166e-01,\n",
       "        5.42329924e-01],\n",
       "       [1.47226159e-01, 1.38303858e+00, 1.46958277e+00, 1.12593816e-01,\n",
       "        1.29169634e+00],\n",
       "       [1.29905434e-01, 8.25058983e-01, 6.91171163e-01, 1.30942097e+00,\n",
       "        1.03326100e+00],\n",
       "       [1.12584710e-01, 1.21273132e+00, 8.93741844e-01, 1.92164409e+00,\n",
       "        1.57126765e+00],\n",
       "       [9.52639852e-02, 4.62900623e-01, 6.25538262e-01, 9.04709264e-01,\n",
       "        4.84686354e-01],\n",
       "       [7.79432606e-02, 1.89836839e-01, 5.62876398e-01, 1.02862691e+00,\n",
       "        5.52897912e-01],\n",
       "       [6.06225361e-02, 5.90353742e-01, 1.33453565e+00, 1.13486833e+00,\n",
       "        4.46257307e-01],\n",
       "       [4.33018115e-02, 4.42057396e-01, 1.52873340e-01, 3.93756133e-01,\n",
       "        2.83894584e-01],\n",
       "       [2.59810869e-02, 1.66579418e+00, 1.28537849e+00, 9.50372823e-01,\n",
       "        2.18613240e+00],\n",
       "       [8.66036229e-03, 1.38283424e-01, 1.24486436e+00, 7.06404211e-01,\n",
       "        6.10541482e-01],\n",
       "       [8.66036229e-03, 8.79940308e-01, 1.28051680e+00, 8.85928284e-01,\n",
       "        4.46257307e-01],\n",
       "       [2.59810869e-02, 1.74402926e+00, 8.80237132e-01, 3.23815396e+00,\n",
       "        1.87870003e+00],\n",
       "       [4.33018115e-02, 1.55486384e+00, 8.88880147e-01, 4.21375221e-01,\n",
       "        1.49392920e-01],\n",
       "       [6.06225361e-02, 4.77088029e-01, 4.09462869e-01, 5.82486569e-01,\n",
       "        1.30178396e-01],\n",
       "       [7.79432606e-02, 1.06443498e+00, 7.45190011e-01, 1.16248742e+00,\n",
       "        1.28304980e+00],\n",
       "       [9.52639852e-02, 1.06755854e-01, 1.56222509e+00, 1.30942097e+00,\n",
       "        9.94831951e-01],\n",
       "       [1.12584710e-01, 1.42507534e+00, 8.28108943e-01, 3.93111688e-02,\n",
       "        1.31091086e+00],\n",
       "       [1.29905434e-01, 6.61407543e-01, 1.55061104e+00, 3.38517957e-01,\n",
       "        1.02269301e+00],\n",
       "       [1.47226159e-01, 1.56403019e+00, 1.54385868e+00, 2.28041604e-01,\n",
       "        1.67598681e+00],\n",
       "       [1.64546884e-01, 1.26527727e+00, 2.45515665e-01, 1.15328106e+00,\n",
       "        1.11011909e+00],\n",
       "       [1.81867608e-01, 9.19641692e-01, 1.01717491e+00, 1.19434143e+00,\n",
       "        1.19610408e-01],\n",
       "       [1.99188333e-01, 1.10530405e+00, 9.95027184e-01, 3.38517957e-01,\n",
       "        1.49440956e+00],\n",
       "       [2.16509057e-01, 3.34630122e-01, 5.31005278e-01, 1.29597968e+00,\n",
       "        1.48912557e-02],\n",
       "       [2.33829782e-01, 7.30476274e-01, 1.79882765e-01, 9.13915627e-01,\n",
       "        3.60752677e-01],\n",
       "       [2.51150506e-01, 8.03865450e-01, 1.58923451e+00, 1.81641536e-01,\n",
       "        1.10963873e-01],\n",
       "       [2.68471231e-01, 8.40063771e-01, 7.92456503e-01, 1.01942054e+00,\n",
       "        2.73326596e-01],\n",
       "       [2.85791956e-01, 9.15759131e-02, 6.05281194e-01, 2.28041604e-01,\n",
       "        3.50184689e-01],\n",
       "       [3.03112680e-01, 8.24883830e-01, 1.51684926e+00, 7.25185191e-01,\n",
       "        8.88191346e-01],\n",
       "       [3.20433405e-01, 2.49213762e-01, 9.20751268e-01, 2.23926360e+00,\n",
       "        3.60752677e-01],\n",
       "       [3.37754129e-01, 1.49046586e+00, 4.90491142e-01, 3.79946589e-01,\n",
       "        1.42619800e+00],\n",
       "       [3.55074854e-01, 6.70544700e-02, 2.38763309e-01, 7.20213755e-01,\n",
       "        2.83894584e-01],\n",
       "       [3.72395579e-01, 1.49747198e+00, 1.05606848e-01, 9.13547372e-01,\n",
       "        1.34933991e+00],\n",
       "       [3.89716303e-01, 8.98623313e-01, 1.40881156e+00, 6.88359740e-01,\n",
       "        4.65471830e-01],\n",
       "       [4.07037028e-01, 2.79573643e-01, 7.65447079e-01, 8.35661544e-01,\n",
       "        2.26251013e-01],\n",
       "       [4.24357752e-01, 9.62846140e-01, 6.10142891e-01, 2.00910454e+00,\n",
       "        1.09090457e+00],\n",
       "       [4.41678477e-01, 6.98773552e-01, 7.74090095e-01, 2.14232060e-01,\n",
       "        6.57617064e-01],\n",
       "       [4.58999202e-01, 1.62591764e+00, 1.05579839e+00, 9.22753735e-01,\n",
       "        1.42619800e+00],\n",
       "       [4.76319926e-01, 7.80511695e-01, 1.57086811e+00, 9.82963347e-01,\n",
       "        1.00347849e+00],\n",
       "       [4.93640651e-01, 8.55418865e-01, 1.73778635e+00, 1.25915423e+00,\n",
       "        2.05163074e+00],\n",
       "       [5.10961375e-01, 1.02105537e+00, 7.60585383e-01, 5.77515133e-01,\n",
       "        8.30547775e-01],\n",
       "       [5.28282100e-01, 1.70882347e+00, 1.10306488e+00, 1.00597925e+00,\n",
       "        2.38692417e+00],\n",
       "       [5.45602824e-01, 1.37971067e+00, 1.37504978e+00, 5.72911952e-01,\n",
       "        2.54112072e-01],\n",
       "       [5.62923549e-01, 1.61891151e+00, 2.65772733e-01, 1.30978922e+00,\n",
       "        1.59912871e+00],\n",
       "       [5.80244274e-01, 8.49580427e-01, 6.91171163e-01, 6.69578760e-01,\n",
       "        1.07169004e+00],\n",
       "       [5.97564998e-01, 1.28612050e+00, 1.03554132e+00, 1.61323094e+00,\n",
       "        6.19188018e-01],\n",
       "       [6.14885723e-01, 1.15300409e+00, 1.60273923e+00, 1.01518562e+00,\n",
       "        4.65471830e-01],\n",
       "       [6.32206447e-01, 1.41806922e+00, 1.06255074e+00, 9.78360166e-01,\n",
       "        8.68976822e-01],\n",
       "       [6.49527172e-01, 1.47896413e+00, 3.80562786e-01, 1.34164324e+00,\n",
       "        1.30226433e+00],\n",
       "       [6.66847897e-01, 1.21489154e+00, 1.77992105e-01, 4.62803854e-01,\n",
       "        8.49762299e-01],\n",
       "       [6.84168621e-01, 4.42057396e-01, 1.39341619e+00, 1.32820195e+00,\n",
       "        1.28304980e+00],\n",
       "       [7.01489346e-01, 8.59914463e-01, 4.22967582e-01, 8.12645637e-01,\n",
       "        5.99973494e-01],\n",
       "       [7.18810070e-01, 5.44813920e-01, 8.19465927e-01, 2.07354907e+00,\n",
       "        9.94831951e-01],\n",
       "       [7.36130795e-01, 8.57754241e-01, 6.70914095e-01, 3.38149702e-01,\n",
       "        1.16776266e+00],\n",
       "       [7.53451519e-01, 4.95595880e-01, 1.18598381e+00, 1.77038355e-01,\n",
       "        6.96046111e-01],\n",
       "       [7.70772244e-01, 5.93681653e-01, 5.71519414e-01, 3.84181516e-01,\n",
       "        5.03900877e-01],\n",
       "       [7.88092969e-01, 7.87313476e-02, 1.44257334e+00, 9.92169710e-01,\n",
       "        7.15260635e-01],\n",
       "       [8.05413693e-01, 1.08662104e+00, 1.07794612e+00, 1.00597925e+00,\n",
       "        1.58039455e-01],\n",
       "       [8.22734418e-01, 1.12281936e+00, 1.73778635e+00, 6.32753309e-01,\n",
       "        2.18613240e+00],\n",
       "       [8.40055142e-01, 1.27327593e+00, 1.15033137e+00, 8.58677450e-01,\n",
       "        5.99973494e-01],\n",
       "       [8.57375867e-01, 1.19504085e+00, 1.71239749e-01, 4.58200672e-01,\n",
       "        7.53689682e-01],\n",
       "       [8.74696592e-01, 1.56070228e+00, 6.32290618e-01, 2.96721070e-01,\n",
       "        3.99181724e-01],\n",
       "       [8.92017316e-01, 3.04095087e-01, 1.00367020e+00, 8.35293289e-01,\n",
       "        4.65471830e-01],\n",
       "       [9.09338041e-01, 5.90353742e-01, 2.43084817e-03, 7.52804279e-01,\n",
       "        4.95254341e-01],\n",
       "       [9.26658765e-01, 2.83251860e-01, 1.10981724e+00, 3.28943340e-01,\n",
       "        9.56402904e-01],\n",
       "       [9.43979490e-01, 4.75920341e-01, 1.46120984e-01, 9.69153803e-01,\n",
       "        3.03109107e-01],\n",
       "       [9.61300215e-01, 1.66912209e+00, 7.87594807e-01, 1.14407469e+00,\n",
       "        2.07949180e+00],\n",
       "       [9.78620939e-01, 6.20538471e-01, 1.36640677e+00, 9.18150553e-01,\n",
       "        2.45465537e-01],\n",
       "       [9.95941664e-01, 3.21989902e-02, 1.48308748e+00, 2.87882962e-01,\n",
       "        7.53689682e-01],\n",
       "       [1.01326239e+00, 1.58037782e+00, 9.20751268e-01, 6.74181942e-01,\n",
       "        1.29169634e+00],\n",
       "       [1.03058311e+00, 1.79152496e-01, 3.28434597e-01, 1.86244718e-01,\n",
       "        2.15683025e-01],\n",
       "       [1.04790384e+00, 2.97264113e-01, 3.48691665e-01, 6.72064478e-03,\n",
       "        7.25348259e-02],\n",
       "       [1.06522456e+00, 7.16288868e-01, 8.46475352e-01, 8.62912377e-01,\n",
       "        1.38824932e-01],\n",
       "       [1.08254529e+00, 4.82926468e-01, 3.48691665e-01, 2.28041604e-01,\n",
       "        1.68607443e-01],\n",
       "       [1.09986601e+00, 1.92172214e-01, 9.13998912e-01, 1.06582061e+00,\n",
       "        7.64257669e-01],\n",
       "       [1.11718674e+00, 3.48467222e-01, 5.78271770e-01, 1.15788424e+00,\n",
       "        4.07828260e-01],\n",
       "       [1.13450746e+00, 1.02123053e+00, 1.34128800e+00, 2.49704176e+00,\n",
       "        4.07828260e-01],\n",
       "       [1.15182818e+00, 1.50798117e+00, 9.68017760e-01, 4.12168859e-01,\n",
       "        1.15719467e+00],\n",
       "       [1.16914891e+00, 6.97781017e-01, 1.21974559e+00, 5.13438849e-01,\n",
       "        3.50184689e-01],\n",
       "       [1.18646963e+00, 7.98202165e-01, 2.26879163e-02, 1.24497643e+00,\n",
       "        5.91326959e-01],\n",
       "       [1.20379036e+00, 1.60273904e+00, 8.55118367e-01, 1.11185242e+00,\n",
       "        1.87821967e-01],\n",
       "       [1.22111108e+00, 1.13315340e+00, 7.87594807e-01, 5.59470662e-01,\n",
       "        1.08033658e+00],\n",
       "       [1.23843181e+00, 2.03849092e-01, 1.59625696e-01, 7.75451931e-01,\n",
       "        9.17493494e-02],\n",
       "       [1.25575253e+00, 1.48813048e+00, 2.13644545e-01, 6.23915201e-01,\n",
       "        1.23405277e+00],\n",
       "       [1.27307326e+00, 2.49388915e-01, 1.09145083e+00, 8.17248818e-01,\n",
       "        4.46257307e-01],\n",
       "       [1.29039398e+00, 8.79940308e-01, 1.34128800e+00, 8.03439274e-01,\n",
       "        4.84686354e-01],\n",
       "       [1.30771471e+00, 1.51633014e+00, 1.73103399e+00, 5.17673775e-01,\n",
       "        2.49356478e+00],\n",
       "       [1.32503543e+00, 1.18353913e+00, 4.68343414e-01, 4.72010216e-01,\n",
       "        1.18697718e+00],\n",
       "       [1.34235616e+00, 2.70407294e-01, 1.04418434e+00, 2.13863806e-01,\n",
       "        4.46257307e-01],\n",
       "       [1.35967688e+00, 1.51399477e+00, 1.41556392e+00, 3.15502050e-01,\n",
       "        4.27042783e-01],\n",
       "       [1.37699760e+00, 2.16693657e-01, 8.95632503e-01, 5.96296113e-01,\n",
       "        2.73326596e-01],\n",
       "       [1.39431833e+00, 1.11601758e-01, 1.39530685e+00, 1.02439198e+00,\n",
       "        6.76831588e-01],\n",
       "       [1.41163905e+00, 8.34400486e-01, 1.20624088e+00, 1.45184340e-01,\n",
       "        3.50184689e-01],\n",
       "       [1.42895978e+00, 1.06075676e+00, 1.18598381e+00, 3.93111688e-02,\n",
       "        1.02269301e+00],\n",
       "       [1.44628050e+00, 1.64127273e+00, 1.33264499e+00, 1.89862818e+00,\n",
       "        2.33984859e+00],\n",
       "       [1.46360123e+00, 1.24659427e+00, 1.32616272e-01, 2.55016247e-02,\n",
       "        6.87399576e-01],\n",
       "       [1.48092195e+00, 6.76762637e-01, 1.47444446e+00, 5.04232486e-01,\n",
       "        1.64812575e+00],\n",
       "       [1.49824268e+00, 8.80728498e-02, 1.42906863e+00, 1.82009791e-01,\n",
       "        7.15260635e-01],\n",
       "       [1.51556340e+00, 5.14454038e-01, 3.67058074e-01, 5.68677025e-01,\n",
       "        6.29756005e-01],\n",
       "       [1.53288413e+00, 1.62258973e+00, 6.32290618e-01, 1.23613832e+00,\n",
       "        3.60752677e-01],\n",
       "       [1.55020485e+00, 1.49863967e+00, 7.53833027e-01, 3.29311594e-01,\n",
       "        1.40698348e+00],\n",
       "       [1.56752558e+00, 1.25576062e+00, 1.20435022e+00, 1.13947151e+00,\n",
       "        6.19188018e-01],\n",
       "       [1.58484630e+00, 8.35393020e-01, 8.41613655e-01, 1.13026515e+00,\n",
       "        7.92118728e-01],\n",
       "       [1.60216702e+00, 1.51615499e+00, 1.29402151e+00, 4.81492770e-02,\n",
       "        1.56069967e+00],\n",
       "       [1.61948775e+00, 2.30705910e-01, 1.26512143e+00, 1.24074150e+00,\n",
       "        1.07169004e+00],\n",
       "       [1.63680847e+00, 3.10313024e-02, 8.32970639e-01, 1.13026515e+00,\n",
       "        6.29756005e-01],\n",
       "       [1.65412920e+00, 1.27094056e+00, 1.32103093e+00, 7.71217005e-01,\n",
       "        1.23405277e+00],\n",
       "       [1.67144992e+00, 6.17035408e-01, 1.24000266e+00, 1.03359834e+00,\n",
       "        8.30547775e-01],\n",
       "       [1.68877065e+00, 3.49810063e-01, 9.42898996e-01, 1.11185242e+00,\n",
       "        2.34897549e-01],\n",
       "       [1.70609137e+00, 1.59456522e+00, 1.26512143e+00, 1.64085003e+00,\n",
       "        2.20534693e+00],\n",
       "       [1.72341210e+00, 9.93206022e-01, 9.90165488e-01, 1.00597925e+00,\n",
       "        1.19610408e-01]])"
      ]
     },
     "execution_count": 21,
     "metadata": {},
     "output_type": "execute_result"
    }
   ],
   "source": [
    "from scipy.stats import zscore\n",
    "z=np.abs(zscore(df))\n",
    "z"
   ]
  },
  {
   "cell_type": "code",
   "execution_count": 22,
   "metadata": {},
   "outputs": [],
   "source": [
    "threshold=3\n",
    "df_new=df[(z<3).all(axis=1)]"
   ]
  },
  {
   "cell_type": "code",
   "execution_count": 23,
   "metadata": {},
   "outputs": [
    {
     "data": {
      "text/plain": [
       "(198, 5)"
      ]
     },
     "execution_count": 23,
     "metadata": {},
     "output_type": "execute_result"
    }
   ],
   "source": [
    "df_new.shape"
   ]
  },
  {
   "cell_type": "code",
   "execution_count": 24,
   "metadata": {},
   "outputs": [
    {
     "data": {
      "text/plain": [
       "(200, 5)"
      ]
     },
     "execution_count": 24,
     "metadata": {},
     "output_type": "execute_result"
    }
   ],
   "source": [
    "df.shape"
   ]
  },
  {
   "cell_type": "code",
   "execution_count": 25,
   "metadata": {},
   "outputs": [],
   "source": [
    "#2 rows are removed as outliers"
   ]
  },
  {
   "cell_type": "code",
   "execution_count": 26,
   "metadata": {},
   "outputs": [
    {
     "data": {
      "text/plain": [
       "1.0"
      ]
     },
     "execution_count": 26,
     "metadata": {},
     "output_type": "execute_result"
    }
   ],
   "source": [
    "((200-198)/200)*100"
   ]
  },
  {
   "cell_type": "code",
   "execution_count": 27,
   "metadata": {},
   "outputs": [],
   "source": [
    "df=df_new"
   ]
  },
  {
   "cell_type": "code",
   "execution_count": 28,
   "metadata": {},
   "outputs": [
    {
     "data": {
      "text/plain": [
       "(198, 5)"
      ]
     },
     "execution_count": 28,
     "metadata": {},
     "output_type": "execute_result"
    }
   ],
   "source": [
    "df.shape"
   ]
  },
  {
   "cell_type": "markdown",
   "metadata": {},
   "source": [
    "# To check skewness"
   ]
  },
  {
   "cell_type": "code",
   "execution_count": 29,
   "metadata": {},
   "outputs": [
    {
     "data": {
      "text/plain": [
       "array([[<matplotlib.axes._subplots.AxesSubplot object at 0x0000018512E0C2C8>,\n",
       "        <matplotlib.axes._subplots.AxesSubplot object at 0x0000018512E2CE88>,\n",
       "        <matplotlib.axes._subplots.AxesSubplot object at 0x00000185129E0A48>,\n",
       "        <matplotlib.axes._subplots.AxesSubplot object at 0x0000018512A12F08>],\n",
       "       [<matplotlib.axes._subplots.AxesSubplot object at 0x0000018512A4D388>,\n",
       "        <matplotlib.axes._subplots.AxesSubplot object at 0x0000018512A84848>,\n",
       "        <matplotlib.axes._subplots.AxesSubplot object at 0x0000018512ABAE08>,\n",
       "        <matplotlib.axes._subplots.AxesSubplot object at 0x0000018512AF3B88>],\n",
       "       [<matplotlib.axes._subplots.AxesSubplot object at 0x0000018512AFF788>,\n",
       "        <matplotlib.axes._subplots.AxesSubplot object at 0x0000018512B37A08>,\n",
       "        <matplotlib.axes._subplots.AxesSubplot object at 0x0000018512BA10C8>,\n",
       "        <matplotlib.axes._subplots.AxesSubplot object at 0x0000018512BD9288>]],\n",
       "      dtype=object)"
      ]
     },
     "execution_count": 29,
     "metadata": {},
     "output_type": "execute_result"
    },
    {
     "data": {
      "image/png": "[encoded data removed]",
      "text/plain": [
       "<Figure size 1296x864 with 12 Axes>"
      ]
     },
     "metadata": {
      "needs_background": "light"
     },
     "output_type": "display_data"
    }
   ],
   "source": [
    "df.plot(kind='density',subplots=True,layout=(3,4),sharex=False,fontsize=1,figsize=(18,12))"
   ]
  },
  {
   "cell_type": "markdown",
   "metadata": {},
   "source": [
    "Observations :-\n",
    "    \n",
    "1. Newspaper is right skewed."
   ]
  },
  {
   "cell_type": "code",
   "execution_count": 30,
   "metadata": {},
   "outputs": [
    {
     "data": {
      "text/plain": [
       "Unnamed: 0   -0.006283\n",
       "TV           -0.082332\n",
       "radio         0.114842\n",
       "newspaper     0.650112\n",
       "sales         0.407130\n",
       "dtype: float64"
      ]
     },
     "execution_count": 30,
     "metadata": {},
     "output_type": "execute_result"
    }
   ],
   "source": [
    "df.skew()"
   ]
  },
  {
   "cell_type": "code",
   "execution_count": 31,
   "metadata": {},
   "outputs": [],
   "source": [
    "list=[ 'newspaper' ]\n",
    "for val in list:\n",
    "    if df.skew().loc[val]>0.55:\n",
    "        df[val]=np.sqrt(df[val])"
   ]
  },
  {
   "cell_type": "code",
   "execution_count": 32,
   "metadata": {},
   "outputs": [
    {
     "data": {
      "text/plain": [
       "Unnamed: 0   -0.006283\n",
       "TV           -0.082332\n",
       "radio         0.114842\n",
       "newspaper    -0.040649\n",
       "sales         0.407130\n",
       "dtype: float64"
      ]
     },
     "execution_count": 32,
     "metadata": {},
     "output_type": "execute_result"
    }
   ],
   "source": [
    "df.skew()"
   ]
  },
  {
   "cell_type": "markdown",
   "metadata": {},
   "source": [
    "# Train Test Split"
   ]
  },
  {
   "cell_type": "code",
   "execution_count": 33,
   "metadata": {},
   "outputs": [],
   "source": [
    "x=df[['Unnamed: 0','TV', 'radio', 'newspaper']]\n",
    "\n",
    "y=df['sales']\n"
   ]
  },
  {
   "cell_type": "markdown",
   "metadata": {},
   "source": [
    "# Scaling"
   ]
  },
  {
   "cell_type": "code",
   "execution_count": 34,
   "metadata": {},
   "outputs": [],
   "source": [
    "from sklearn.preprocessing import StandardScaler\n",
    "sc=StandardScaler()\n",
    "x=sc.fit_transform(x)"
   ]
  },
  {
   "cell_type": "code",
   "execution_count": 35,
   "metadata": {},
   "outputs": [],
   "source": [
    "x=pd.DataFrame(x)"
   ]
  },
  {
   "cell_type": "code",
   "execution_count": 36,
   "metadata": {},
   "outputs": [],
   "source": [
    "x.columns=[ 'Unnamed: 0','TV', 'radio', 'newspaper']"
   ]
  },
  {
   "cell_type": "code",
   "execution_count": 37,
   "metadata": {},
   "outputs": [
    {
     "data": {
      "text/plain": [
       "Unnamed: 0    0\n",
       "TV            0\n",
       "radio         0\n",
       "newspaper     0\n",
       "sales         0\n",
       "dtype: int64"
      ]
     },
     "execution_count": 37,
     "metadata": {},
     "output_type": "execute_result"
    }
   ],
   "source": [
    "df.isnull().sum()"
   ]
  },
  {
   "cell_type": "code",
   "execution_count": 38,
   "metadata": {},
   "outputs": [
    {
     "name": "stdout",
     "output_type": "stream",
     "text": [
      "0.8982537645682069\n",
      "error:\n",
      "Mean absolute error: 1.2016647080102663\n",
      "Mean squared error: 2.715213387670742\n",
      "Root Mean squared error: 1.6477904562385177\n",
      "0.8436296856893155\n",
      "error:\n",
      "Mean absolute error: 1.4667712315238928\n",
      "Mean squared error: 4.350884456404928\n",
      "Root Mean squared error: 2.085877382878708\n",
      "0.9129519284971043\n",
      "error:\n",
      "Mean absolute error: 1.3331616109449975\n",
      "Mean squared error: 2.7875004667292247\n",
      "Root Mean squared error: 1.66958092548077\n",
      "0.8623183351128341\n",
      "error:\n",
      "Mean absolute error: 1.1713981354180243\n",
      "Mean squared error: 2.35257784434387\n",
      "Root Mean squared error: 1.5338115413387232\n",
      "0.8516875692225017\n",
      "error:\n",
      "Mean absolute error: 1.4260535620404369\n",
      "Mean squared error: 3.2230160434867225\n",
      "Root Mean squared error: 1.7952760354571446\n",
      "0.8874055795657949\n",
      "error:\n",
      "Mean absolute error: 1.2251728057785547\n",
      "Mean squared error: 3.579527255535676\n",
      "Root Mean squared error: 1.8919638621114505\n",
      "0.9073786944642309\n",
      "error:\n",
      "Mean absolute error: 1.3624943094990947\n",
      "Mean squared error: 2.838461717251322\n",
      "Root Mean squared error: 1.6847734913783876\n",
      "0.8647623919787093\n",
      "error:\n",
      "Mean absolute error: 1.4099589780808204\n",
      "Mean squared error: 4.250296582496861\n",
      "Root Mean squared error: 2.0616247433752006\n",
      "0.9145285130828466\n",
      "error:\n",
      "Mean absolute error: 1.2355532581855273\n",
      "Mean squared error: 2.2178875173255013\n",
      "Root Mean squared error: 1.489257371083152\n",
      "0.7810558934310492\n",
      "error:\n",
      "Mean absolute error: 1.7765080808198932\n",
      "Mean squared error: 6.101966595528453\n",
      "Root Mean squared error: 2.4702159005901594\n",
      "0.9274926525115396\n",
      "error:\n",
      "Mean absolute error: 1.259779134952603\n",
      "Mean squared error: 2.138162278893027\n",
      "Root Mean squared error: 1.4622456287823284\n",
      "0.9027150939287134\n",
      "error:\n",
      "Mean absolute error: 1.2364523119134085\n",
      "Mean squared error: 2.573997813148605\n",
      "Root Mean squared error: 1.6043683533243247\n",
      "0.8433981420595467\n",
      "error:\n",
      "Mean absolute error: 1.3962325647243998\n",
      "Mean squared error: 3.771007521643571\n",
      "Root Mean squared error: 1.9419082165858332\n",
      "0.9146701608425346\n",
      "error:\n",
      "Mean absolute error: 1.3969759974099125\n",
      "Mean squared error: 3.24386672596722\n",
      "Root Mean squared error: 1.8010737702735053\n",
      "0.899524237033479\n",
      "error:\n",
      "Mean absolute error: 1.2927482550091958\n",
      "Mean squared error: 2.4659886909713182\n",
      "Root Mean squared error: 1.5703466785940352\n",
      "0.9102492129749274\n",
      "error:\n",
      "Mean absolute error: 1.3695780174331196\n",
      "Mean squared error: 2.6489995785215523\n",
      "Root Mean squared error: 1.6275747535893865\n",
      "0.910571242523065\n",
      "error:\n",
      "Mean absolute error: 1.283323284615362\n",
      "Mean squared error: 2.576847149561065\n",
      "Root Mean squared error: 1.605256100926287\n",
      "0.8482373485136986\n",
      "error:\n",
      "Mean absolute error: 1.4433130706985642\n",
      "Mean squared error: 4.432701711045334\n",
      "Root Mean squared error: 2.1053982309875097\n",
      "0.8769811560588846\n",
      "error:\n",
      "Mean absolute error: 1.2283562090120046\n",
      "Mean squared error: 2.4193892367273815\n",
      "Root Mean squared error: 1.5554385994719886\n",
      "0.9091187953176773\n",
      "error:\n",
      "Mean absolute error: 1.3911524659609378\n",
      "Mean squared error: 3.3332690967841256\n",
      "Root Mean squared error: 1.825724266362291\n",
      "0.927628895698196\n",
      "error:\n",
      "Mean absolute error: 1.199798176542769\n",
      "Mean squared error: 2.2712815042616814\n",
      "Root Mean squared error: 1.5070771394529483\n",
      "0.917345816936896\n",
      "error:\n",
      "Mean absolute error: 1.2622430665378699\n",
      "Mean squared error: 2.3291995749786722\n",
      "Root Mean squared error: 1.5261715417929507\n",
      "0.9265705523453017\n",
      "error:\n",
      "Mean absolute error: 1.1458707075750199\n",
      "Mean squared error: 2.0912020187408\n",
      "Root Mean squared error: 1.4460988965976014\n",
      "0.9237485062067482\n",
      "error:\n",
      "Mean absolute error: 1.004613519037644\n",
      "Mean squared error: 1.9462595121974609\n",
      "Root Mean squared error: 1.3950840520188956\n",
      "0.9309432062612777\n",
      "error:\n",
      "Mean absolute error: 1.1294590027132811\n",
      "Mean squared error: 1.9663094477010907\n",
      "Root Mean squared error: 1.4022515636293977\n",
      "0.8133985727726112\n",
      "error:\n",
      "Mean absolute error: 1.3192832499913447\n",
      "Mean squared error: 3.0269247868681846\n",
      "Root Mean squared error: 1.739805962418851\n",
      "0.841178441068835\n",
      "error:\n",
      "Mean absolute error: 1.4870188831358675\n",
      "Mean squared error: 4.649962999991252\n",
      "Root Mean squared error: 2.156377286096116\n",
      "0.8298054357142841\n",
      "error:\n",
      "Mean absolute error: 1.628545985032314\n",
      "Mean squared error: 4.9332890024645195\n",
      "Root Mean squared error: 2.2211008537354893\n",
      "0.8558565925302888\n",
      "error:\n",
      "Mean absolute error: 1.354052925894522\n",
      "Mean squared error: 4.483997633085982\n",
      "Root Mean squared error: 2.1175451903291185\n",
      "0.8468147460811919\n",
      "error:\n",
      "Mean absolute error: 1.506491246694692\n",
      "Mean squared error: 4.63499569923302\n",
      "Root Mean squared error: 2.152904015332086\n",
      "0.9247467735886826\n",
      "error:\n",
      "Mean absolute error: 1.2381380317435489\n",
      "Mean squared error: 2.406562419803198\n",
      "Root Mean squared error: 1.5513099045010954\n",
      "0.9239388687022894\n",
      "error:\n",
      "Mean absolute error: 1.2198067947442137\n",
      "Mean squared error: 2.4719867671755944\n",
      "Root Mean squared error: 1.5722553123381693\n",
      "0.9043677707762772\n",
      "error:\n",
      "Mean absolute error: 1.2667285657500167\n",
      "Mean squared error: 2.5559862021388704\n",
      "Root Mean squared error: 1.5987451961269095\n",
      "0.8842771664575246\n",
      "error:\n",
      "Mean absolute error: 1.3383905812507904\n",
      "Mean squared error: 2.782112605774404\n",
      "Root Mean squared error: 1.6679666081113267\n",
      "0.9028923492288724\n",
      "error:\n",
      "Mean absolute error: 1.1122016804751118\n",
      "Mean squared error: 2.107593153176388\n",
      "Root Mean squared error: 1.451755197399475\n",
      "0.9130123044375879\n",
      "error:\n",
      "Mean absolute error: 1.336692732391713\n",
      "Mean squared error: 2.7391000998952055\n",
      "Root Mean squared error: 1.6550226886345714\n",
      "0.904710030724668\n",
      "error:\n",
      "Mean absolute error: 1.0206040583198148\n",
      "Mean squared error: 1.7961543958081911\n",
      "Root Mean squared error: 1.340206848142551\n",
      "0.9134743746058268\n",
      "error:\n",
      "Mean absolute error: 1.0711371149440168\n",
      "Mean squared error: 2.15760943061942\n",
      "Root Mean squared error: 1.4688803323005657\n",
      "0.856563860741286\n",
      "error:\n",
      "Mean absolute error: 1.4179205631218987\n",
      "Mean squared error: 3.850361640558656\n",
      "Root Mean squared error: 1.9622338394183951\n",
      "0.8905449992388961\n",
      "error:\n",
      "Mean absolute error: 1.2216982512313874\n",
      "Mean squared error: 2.65551852941577\n",
      "Root Mean squared error: 1.629576180918146\n",
      "0.8811188375657629\n",
      "error:\n",
      "Mean absolute error: 1.4092658005809342\n",
      "Mean squared error: 3.984712348118302\n",
      "Root Mean squared error: 1.996174428279829\n",
      "0.8668413419610133\n",
      "error:\n",
      "Mean absolute error: 1.4007904016384631\n",
      "Mean squared error: 3.584243153525567\n",
      "Root Mean squared error: 1.8932097489516493\n",
      "0.8718166893907955\n",
      "error:\n",
      "Mean absolute error: 1.2705818028759248\n",
      "Mean squared error: 4.016747851364442\n",
      "Root Mean squared error: 2.004182589327739\n",
      "0.8011551446127663\n",
      "error:\n",
      "Mean absolute error: 1.369322755016427\n",
      "Mean squared error: 2.8207570393440404\n",
      "Root Mean squared error: 1.6795109524334875\n",
      "0.904190895711068\n",
      "error:\n",
      "Mean absolute error: 1.2607440229965021\n",
      "Mean squared error: 2.4866357282248277\n",
      "Root Mean squared error: 1.5769070131827139\n",
      "0.8898921797866942\n",
      "error:\n",
      "Mean absolute error: 1.2972730172330111\n",
      "Mean squared error: 2.8676688854732473\n",
      "Root Mean squared error: 1.693419288148463\n",
      "0.8911068361345386\n",
      "error:\n",
      "Mean absolute error: 1.327358862303798\n",
      "Mean squared error: 2.724625639963307\n",
      "Root Mean squared error: 1.650644007641656\n",
      "0.8664036274674449\n",
      "error:\n",
      "Mean absolute error: 1.211489398355282\n",
      "Mean squared error: 3.4777916727772156\n",
      "Root Mean squared error: 1.8648838228632945\n",
      "0.8351619223921466\n",
      "error:\n",
      "Mean absolute error: 1.4826911536368945\n",
      "Mean squared error: 4.528220341540561\n",
      "Root Mean squared error: 2.1279615460671657\n",
      "0.8562942253722475\n",
      "error:\n",
      "Mean absolute error: 1.2814650071948805\n",
      "Mean squared error: 2.857999068078202\n",
      "Root Mean squared error: 1.6905617610954655\n",
      "0.8934938822777962\n",
      "error:\n",
      "Mean absolute error: 1.3478752141361043\n",
      "Mean squared error: 2.7665360175474447\n",
      "Root Mean squared error: 1.6632907194917685\n",
      "0.8913036359853769\n",
      "error:\n",
      "Mean absolute error: 1.1968782039951593\n",
      "Mean squared error: 2.372295337378343\n",
      "Root Mean squared error: 1.5402257423437458\n",
      "0.850711848556734\n",
      "error:\n",
      "Mean absolute error: 1.4816526213243086\n",
      "Mean squared error: 4.231396066984373\n",
      "Root Mean squared error: 2.0570357476194654\n",
      "0.8553707882885823\n",
      "error:\n",
      "Mean absolute error: 1.545929401637791\n",
      "Mean squared error: 3.6978365054484943\n",
      "Root Mean squared error: 1.9229759503042398\n",
      "0.8922843241237047\n",
      "error:\n",
      "Mean absolute error: 1.4359367998383732\n",
      "Mean squared error: 3.2897880773356034\n",
      "Root Mean squared error: 1.813777295407461\n",
      "0.8659625279985093\n",
      "error:\n",
      "Mean absolute error: 1.2628464054069768\n",
      "Mean squared error: 3.790784641527121\n",
      "Root Mean squared error: 1.946993744604004\n",
      "0.8735601848018281\n",
      "error:\n",
      "Mean absolute error: 1.3870446212289613\n",
      "Mean squared error: 3.9678766772861156\n",
      "Root Mean squared error: 1.9919529806915914\n",
      "0.9202187757457929\n",
      "error:\n",
      "Mean absolute error: 1.3784443050993955\n",
      "Mean squared error: 2.6280508078745495\n",
      "Root Mean squared error: 1.6211264009553819\n",
      "0.9222901116526647\n",
      "error:\n",
      "Mean absolute error: 1.205732323980105\n",
      "Mean squared error: 2.1200124552304036\n",
      "Root Mean squared error: 1.4560262549935024\n",
      "0.8903968477071315\n",
      "error:\n",
      "Mean absolute error: 1.3853444390511327\n",
      "Mean squared error: 4.183363801067791\n",
      "Root Mean squared error: 2.045327309030951\n",
      "0.8660628543353225\n",
      "error:\n",
      "Mean absolute error: 1.2128362933040668\n",
      "Mean squared error: 3.4649235180848303\n",
      "Root Mean squared error: 1.8614305031574052\n",
      "0.8629121928821244\n",
      "error:\n",
      "Mean absolute error: 1.136096425034303\n",
      "Mean squared error: 2.3109003525372294\n",
      "Root Mean squared error: 1.5201645807402662\n",
      "0.8874788364883146\n",
      "error:\n",
      "Mean absolute error: 1.3987446284340919\n",
      "Mean squared error: 2.780769921162216\n",
      "Root Mean squared error: 1.6675640680832073\n",
      "0.9188278758065281\n",
      "error:\n",
      "Mean absolute error: 1.2159697489166048\n",
      "Mean squared error: 2.29424958904829\n",
      "Root Mean squared error: 1.5146780479852113\n",
      "0.8783690526069001\n",
      "error:\n",
      "Mean absolute error: 1.6486689764982485\n",
      "Mean squared error: 3.9435140529140984\n",
      "Root Mean squared error: 1.9858283039865503\n",
      "0.8877142394456901\n",
      "error:\n",
      "Mean absolute error: 1.2967137170421212\n",
      "Mean squared error: 3.594469031318012\n",
      "Root Mean squared error: 1.8959084976121638\n",
      "0.8294798584143342\n",
      "error:\n",
      "Mean absolute error: 1.3968877205547159\n",
      "Mean squared error: 4.770261325495511\n",
      "Root Mean squared error: 2.184092792327174\n",
      "0.8494498415493839\n",
      "error:\n",
      "Mean absolute error: 1.3261474708347079\n",
      "Mean squared error: 3.9894571102281233\n",
      "Root Mean squared error: 1.9973625385062481\n",
      "0.9131008171593321\n",
      "error:\n",
      "Mean absolute error: 1.2939205547827777\n",
      "Mean squared error: 2.551925571065538\n",
      "Root Mean squared error: 1.5974747481777414\n",
      "0.9233892750088818\n",
      "error:\n",
      "Mean absolute error: 1.2144709126228104\n",
      "Mean squared error: 2.3372111898638526\n",
      "Root Mean squared error: 1.5287940312101733\n",
      "0.8215492931679222\n",
      "error:\n",
      "Mean absolute error: 1.5025361922431941\n",
      "Mean squared error: 3.786882539893916\n",
      "Root Mean squared error: 1.9459914028314504\n",
      "0.9154416419087702\n",
      "error:\n",
      "Mean absolute error: 1.210571817606272\n",
      "Mean squared error: 2.2351163166542816\n",
      "Root Mean squared error: 1.495030540375106\n",
      "0.8842644073517015\n",
      "error:\n",
      "Mean absolute error: 1.463018721834961\n",
      "Mean squared error: 3.0891712772442643\n",
      "Root Mean squared error: 1.757603845365691\n",
      "0.9290756376230319\n",
      "error:\n",
      "Mean absolute error: 1.3106364204590097\n",
      "Mean squared error: 2.525729012111859\n",
      "Root Mean squared error: 1.5892542314280176\n",
      "0.8802463996396397\n",
      "error:\n",
      "Mean absolute error: 1.312924037513936\n",
      "Mean squared error: 2.809847509347904\n",
      "Root Mean squared error: 1.6762599766587234\n",
      "0.8564484919840609\n",
      "error:\n",
      "Mean absolute error: 1.6061050569600797\n",
      "Mean squared error: 3.8583946349058493\n",
      "Root Mean squared error: 1.9642796732914205\n",
      "0.876226602012928\n",
      "error:\n",
      "Mean absolute error: 1.3207086399772316\n",
      "Mean squared error: 2.931625995332235\n",
      "Root Mean squared error: 1.712199169294342\n",
      "0.795699670803755\n",
      "error:\n",
      "Mean absolute error: 1.3687278876938391\n",
      "Mean squared error: 4.273477462449545\n",
      "Root Mean squared error: 2.067239091747625\n",
      "0.9001000262453928\n",
      "error:\n",
      "Mean absolute error: 1.248516799564242\n",
      "Mean squared error: 2.5048019493846803\n",
      "Root Mean squared error: 1.5826566113294065\n",
      "0.8472200335753322\n",
      "error:\n",
      "Mean absolute error: 1.4038004586715722\n",
      "Mean squared error: 4.472526192312351\n",
      "Root Mean squared error: 2.1148347907844602\n",
      "0.9197174971337044\n",
      "error:\n",
      "Mean absolute error: 1.2286461813489922\n",
      "Mean squared error: 2.5678503680606966\n",
      "Root Mean squared error: 1.6024513621513437\n",
      "0.8469551357877857\n",
      "error:\n",
      "Mean absolute error: 1.5006494252731282\n",
      "Mean squared error: 4.467506069713388\n",
      "Root Mean squared error: 2.1136475746238745\n",
      "0.8784261986735097\n",
      "error:\n",
      "Mean absolute error: 1.5104119283124569\n",
      "Mean squared error: 4.572905598246158\n",
      "Root Mean squared error: 2.138435315422507\n",
      "0.9270317054717276\n",
      "error:\n",
      "Mean absolute error: 1.207236547249537\n",
      "Mean squared error: 2.2371415754236215\n",
      "Root Mean squared error: 1.4957077172441218\n",
      "0.7701319673221071\n",
      "error:\n",
      "Mean absolute error: 1.6628682710036484\n",
      "Mean squared error: 4.823774729071185\n",
      "Root Mean squared error: 2.1963093427546094\n",
      "0.9078469067113399\n",
      "error:\n",
      "Mean absolute error: 1.213704331609756\n",
      "Mean squared error: 2.471257983585336\n",
      "Root Mean squared error: 1.572023531498602\n",
      "0.837892294834996\n",
      "error:\n",
      "Mean absolute error: 1.5341285542262697\n",
      "Mean squared error: 4.655435201724043\n",
      "Root Mean squared error: 2.157645754456473\n",
      "0.8813357360908554\n",
      "error:\n",
      "Mean absolute error: 1.239416176817193\n",
      "Mean squared error: 2.666346782182643\n",
      "Root Mean squared error: 1.6328952146976985\n",
      "0.8315284306523861\n",
      "error:\n",
      "Mean absolute error: 1.4149646745806945\n",
      "Mean squared error: 3.4507258807975982\n",
      "Root Mean squared error: 1.8576129523659115\n",
      "0.9425532941055315\n",
      "error:\n",
      "Mean absolute error: 1.0469209576700451\n",
      "Mean squared error: 1.629204009067471\n",
      "Root Mean squared error: 1.2764027613051732\n",
      "0.8914649535780511\n",
      "error:\n",
      "Mean absolute error: 1.3555092973115384\n",
      "Mean squared error: 2.97451507017535\n",
      "Root Mean squared error: 1.7246782512037862\n",
      "0.8930997833214536\n",
      "error:\n",
      "Mean absolute error: 1.469111135896287\n",
      "Mean squared error: 3.345824382969271\n",
      "Root Mean squared error: 1.829159474449746\n",
      "0.8385603429281991\n",
      "error:\n",
      "Mean absolute error: 1.4745191339022978\n",
      "Mean squared error: 4.302029138540382\n",
      "Root Mean squared error: 2.0741333463739458\n",
      "0.8537928141325849\n",
      "error:\n",
      "Mean absolute error: 1.4863368534006687\n",
      "Mean squared error: 4.567334258730153\n",
      "Root Mean squared error: 2.1371322511089836\n",
      "0.8488225941092802\n",
      "error:\n",
      "Mean absolute error: 1.450084841154825\n",
      "Mean squared error: 4.42537106806228\n",
      "Root Mean squared error: 2.103656594613836\n",
      "0.8419163741423029\n",
      "error:\n",
      "Mean absolute error: 1.4873463852880244\n",
      "Mean squared error: 3.570632244295311\n",
      "Root Mean squared error: 1.8896116649447607\n",
      "0.891257937013279\n",
      "error:\n",
      "Mean absolute error: 1.2930664240139829\n",
      "Mean squared error: 2.782778478987976\n",
      "Root Mean squared error: 1.6681662024474588\n",
      "0.849556086699987\n",
      "error:\n",
      "Mean absolute error: 1.4601376746222057\n",
      "Mean squared error: 5.015012880971127\n",
      "Root Mean squared error: 2.2394224436160157\n",
      "0.9189385957869024\n",
      "error:\n",
      "Mean absolute error: 1.284432206671079\n",
      "Mean squared error: 2.599155209440124\n",
      "Root Mean squared error: 1.612189569945211\n",
      "0.8555112609692004\n",
      "error:\n",
      "Mean absolute error: 1.3360355373993424\n",
      "Mean squared error: 4.38494290871967\n",
      "Root Mean squared error: 2.0940255272368744\n",
      "0.8890135402195197\n",
      "error:\n",
      "Mean absolute error: 1.3428457816839496\n",
      "Mean squared error: 2.93564001647584\n",
      "Root Mean squared error: 1.7133709512174649\n",
      "0.9026014490732024\n",
      "error:\n",
      "Mean absolute error: 1.360379980633989\n",
      "Mean squared error: 3.057914038117264\n",
      "Root Mean squared error: 1.7486892342887184\n",
      "0.8654759336981341\n",
      "error:\n",
      "Mean absolute error: 1.3105643643523175\n",
      "Mean squared error: 3.792752486268233\n",
      "Root Mean squared error: 1.9474990337014888\n",
      "0.8055866991936834\n",
      "error:\n",
      "Mean absolute error: 1.6457139426373415\n",
      "Mean squared error: 5.37608610301391\n",
      "Root Mean squared error: 2.318638847042357\n",
      "0.8695879549417241\n",
      "error:\n",
      "Mean absolute error: 1.3475695779539811\n",
      "Mean squared error: 3.136555184693542\n",
      "Root Mean squared error: 1.771032237056554\n",
      "0.909336403881785\n",
      "error:\n",
      "Mean absolute error: 1.2473106173636272\n",
      "Mean squared error: 2.379209449695524\n",
      "Root Mean squared error: 1.5424686219484414\n",
      "0.8913491274875539\n",
      "error:\n",
      "Mean absolute error: 1.3531920212466024\n",
      "Mean squared error: 3.117999434514969\n",
      "Root Mean squared error: 1.7657857838693143\n",
      "0.8768239075121386\n",
      "error:\n",
      "Mean absolute error: 1.410473942250516\n",
      "Mean squared error: 3.209095412511634\n",
      "Root Mean squared error: 1.7913948231787526\n",
      "0.877577770859367\n",
      "error:\n",
      "Mean absolute error: 1.4893008675471102\n",
      "Mean squared error: 3.48625626588828\n",
      "Root Mean squared error: 1.8671519129112875\n",
      "0.9049576578929824\n",
      "error:\n",
      "Mean absolute error: 1.2573226936517479\n",
      "Mean squared error: 2.7033851643659097\n",
      "Root Mean squared error: 1.644197422563942\n",
      "0.8689258007916326\n",
      "error:\n",
      "Mean absolute error: 1.3735053195314377\n",
      "Mean squared error: 4.1043069011704025\n",
      "Root Mean squared error: 2.0259089074216545\n",
      "0.8934408519647233\n",
      "error:\n",
      "Mean absolute error: 1.3523568113099158\n",
      "Mean squared error: 2.6176843652305775\n",
      "Root Mean squared error: 1.6179259455335333\n",
      "0.824473148692874\n",
      "error:\n",
      "Mean absolute error: 1.4888664943154553\n",
      "Mean squared error: 4.5366029896086575\n",
      "Root Mean squared error: 2.1299302781097453\n",
      "0.9292045767569526\n",
      "error:\n",
      "Mean absolute error: 1.2334844388273951\n",
      "Mean squared error: 2.093290483630205\n",
      "Root Mean squared error: 1.4468208194625225\n",
      "0.9369078324864117\n",
      "error:\n",
      "Mean absolute error: 0.999571245497508\n",
      "Mean squared error: 1.5836368686203068\n",
      "Root Mean squared error: 1.2584263461245186\n",
      "0.8817481202098971\n",
      "error:\n",
      "Mean absolute error: 1.2142430031051175\n",
      "Mean squared error: 2.8521052390373054\n",
      "Root Mean squared error: 1.6888177045013786\n",
      "0.8998761565719053\n",
      "error:\n",
      "Mean absolute error: 1.098861682074529\n",
      "Mean squared error: 1.9808799072935195\n",
      "Root Mean squared error: 1.4074373546604195\n",
      "0.9120406028887531\n",
      "error:\n",
      "Mean absolute error: 1.1522666216833868\n",
      "Mean squared error: 2.167810227408314\n",
      "Root Mean squared error: 1.4723485414154878\n",
      "0.9036213174786121\n",
      "error:\n",
      "Mean absolute error: 1.3781329023615372\n",
      "Mean squared error: 2.8530693644665455\n",
      "Root Mean squared error: 1.6891031242841703\n",
      "0.8725315628945909\n",
      "error:\n",
      "Mean absolute error: 1.4455265628707883\n",
      "Mean squared error: 3.555439718416572\n",
      "Root Mean squared error: 1.8855873669540142\n",
      "0.8156912743609195\n",
      "error:\n",
      "Mean absolute error: 1.3528993404429188\n",
      "Mean squared error: 4.132135940284439\n",
      "Root Mean squared error: 2.032765589113619\n",
      "0.8695176987848564\n",
      "error:\n",
      "Mean absolute error: 1.2970732884899778\n",
      "Mean squared error: 2.6890751032311044\n",
      "Root Mean squared error: 1.6398399626887694\n",
      "0.8266367183734913\n",
      "error:\n",
      "Mean absolute error: 1.3553838212705995\n",
      "Mean squared error: 4.043369010427787\n",
      "Root Mean squared error: 2.0108130222444323\n",
      "0.899814994878105\n",
      "error:\n",
      "Mean absolute error: 1.2962808677182884\n",
      "Mean squared error: 3.157493961528185\n",
      "Root Mean squared error: 1.7769338652657236\n",
      "0.8676294914968262\n",
      "error:\n",
      "Mean absolute error: 1.418268776391816\n",
      "Mean squared error: 3.804505500960256\n",
      "Root Mean squared error: 1.9505141632298537\n",
      "0.8335524935731485\n",
      "error:\n",
      "Mean absolute error: 1.4048210350477766\n",
      "Mean squared error: 4.405040135582758\n",
      "Root Mean squared error: 2.098818747672785\n",
      "0.8657805607539758\n",
      "error:\n",
      "Mean absolute error: 1.390958070166093\n",
      "Mean squared error: 2.9311889385274768\n",
      "Root Mean squared error: 1.7120715342903978\n",
      "0.8627965591753493\n",
      "error:\n",
      "Mean absolute error: 1.3072850570353505\n",
      "Mean squared error: 4.079593360788267\n",
      "Root Mean squared error: 2.0198003269601346\n",
      "0.8919222868265074\n",
      "error:\n",
      "Mean absolute error: 1.282182530441683\n",
      "Mean squared error: 2.3545684426878037\n",
      "Root Mean squared error: 1.5344603099095797\n",
      "0.9034773374120006\n",
      "error:\n",
      "Mean absolute error: 1.2084369578390541\n",
      "Mean squared error: 2.1106609630982875\n",
      "Root Mean squared error: 1.452811399700005\n",
      "0.8547218010760982\n",
      "error:\n",
      "Mean absolute error: 1.1480318056044714\n",
      "Mean squared error: 2.7120197994157795\n",
      "Root Mean squared error: 1.646821119434585\n",
      "0.883910289767787\n",
      "error:\n",
      "Mean absolute error: 1.3068498035226523\n",
      "Mean squared error: 2.708379535723793\n",
      "Root Mean squared error: 1.6457155087449937\n",
      "0.8562218448529666\n",
      "error:\n",
      "Mean absolute error: 1.191536051039108\n",
      "Mean squared error: 3.4752338642023686\n",
      "Root Mean squared error: 1.8641979144399794\n",
      "0.9089034788031289\n",
      "error:\n",
      "Mean absolute error: 1.2832632744418067\n",
      "Mean squared error: 2.3785955734939326\n",
      "Root Mean squared error: 1.5422696176395139\n",
      "0.9153974800142575\n",
      "error:\n",
      "Mean absolute error: 1.2828534244506793\n",
      "Mean squared error: 2.5203510220380725\n",
      "Root Mean squared error: 1.5875613443385652\n",
      "0.8713504170079025\n",
      "error:\n",
      "Mean absolute error: 1.4567646581008171\n",
      "Mean squared error: 3.1294722090998164\n",
      "Root Mean squared error: 1.7690314324793148\n",
      "0.8956797469677863\n",
      "error:\n",
      "Mean absolute error: 1.414803204899873\n",
      "Mean squared error: 2.9513121006535785\n",
      "Root Mean squared error: 1.7179383285361494\n",
      "0.8984104409735065\n",
      "error:\n",
      "Mean absolute error: 1.3056658717577025\n",
      "Mean squared error: 2.646481476164244\n",
      "Root Mean squared error: 1.626800994640784\n",
      "0.9252197359159781\n",
      "error:\n",
      "Mean absolute error: 1.2561658264297866\n",
      "Mean squared error: 2.38056172505658\n",
      "Root Mean squared error: 1.542906907449889\n",
      "0.8903037492138384\n",
      "error:\n",
      "Mean absolute error: 1.2767469069227935\n",
      "Mean squared error: 2.8897210818151753\n",
      "Root Mean squared error: 1.6999179632603378\n",
      "0.913455584596483\n",
      "error:\n",
      "Mean absolute error: 1.3311328475567998\n",
      "Mean squared error: 2.5434022373851928\n",
      "Root Mean squared error: 1.5948047646609265\n",
      "0.8794033005410004\n",
      "error:\n",
      "Mean absolute error: 1.273853510842956\n",
      "Mean squared error: 3.544959913936049\n",
      "Root Mean squared error: 1.8828063931100427\n",
      "0.9242485010623602\n",
      "error:\n",
      "Mean absolute error: 1.0862081088586144\n",
      "Mean squared error: 1.909825192647894\n",
      "Root Mean squared error: 1.381964251581022\n",
      "0.8445580490319099\n",
      "error:\n",
      "Mean absolute error: 1.433175344834603\n",
      "Mean squared error: 3.109907682774707\n",
      "Root Mean squared error: 1.7634930345126707\n",
      "0.8961153384141628\n",
      "error:\n",
      "Mean absolute error: 1.330023750818732\n",
      "Mean squared error: 2.4888854640164704\n",
      "Root Mean squared error: 1.5776201900382965\n",
      "0.9092250155115296\n",
      "error:\n",
      "Mean absolute error: 1.1087249784967377\n",
      "Mean squared error: 1.9422058137791616\n",
      "Root Mean squared error: 1.3936304437616027\n",
      "0.8714729368508768\n",
      "error:\n",
      "Mean absolute error: 1.2428915659828244\n",
      "Mean squared error: 2.5330533177246926\n",
      "Root Mean squared error: 1.5915568848535362\n",
      "0.8263697844327089\n",
      "error:\n",
      "Mean absolute error: 1.4305570726110237\n",
      "Mean squared error: 4.489398458902875\n",
      "Root Mean squared error: 2.1188200628894553\n",
      "0.8644234743167365\n",
      "error:\n",
      "Mean absolute error: 1.4264976234529783\n",
      "Mean squared error: 3.6223274506360865\n",
      "Root Mean squared error: 1.903241301211196\n",
      "0.9304538726186594\n",
      "error:\n",
      "Mean absolute error: 1.1676665046443193\n",
      "Mean squared error: 1.9854596740142854\n",
      "Root Mean squared error: 1.4090634031207698\n",
      "0.8946251975665772\n",
      "error:\n",
      "Mean absolute error: 1.1508331999286994\n",
      "Mean squared error: 1.970234482672224\n",
      "Root Mean squared error: 1.4036504132697087\n",
      "0.8987315614832203\n",
      "error:\n",
      "Mean absolute error: 1.2416135186014114\n",
      "Mean squared error: 2.394841123607823\n",
      "Root Mean squared error: 1.5475274225705413\n",
      "0.8155960946566571\n",
      "error:\n",
      "Mean absolute error: 1.696470946315882\n",
      "Mean squared error: 5.905771288499301\n",
      "Root Mean squared error: 2.4301792708562266\n",
      "0.895404297042272\n",
      "error:\n",
      "Mean absolute error: 1.103804878442427\n",
      "Mean squared error: 2.116327106827859\n",
      "Root Mean squared error: 1.4547601543992945\n",
      "0.8920774141971018\n",
      "error:\n",
      "Mean absolute error: 1.4725055882803517\n",
      "Mean squared error: 3.5093587475614156\n",
      "Root Mean squared error: 1.873328254087205\n",
      "0.9202422645950267\n",
      "error:\n",
      "Mean absolute error: 1.3679065960876178\n",
      "Mean squared error: 2.6964718474414764\n",
      "Root Mean squared error: 1.6420937389325483\n",
      "0.8859995810265875\n",
      "error:\n",
      "Mean absolute error: 1.2795816067421386\n",
      "Mean squared error: 2.9003561449025024\n",
      "Root Mean squared error: 1.7030432011262964\n",
      "0.9240798207126186\n",
      "error:\n",
      "Mean absolute error: 1.2167917021299883\n",
      "Mean squared error: 2.1741233507749964\n",
      "Root Mean squared error: 1.4744908784984043\n",
      "0.8974016439951836\n",
      "error:\n",
      "Mean absolute error: 1.1336081469648416\n",
      "Mean squared error: 2.089546947684208\n",
      "Root Mean squared error: 1.4455265295677586\n",
      "0.9199603933279631\n",
      "error:\n",
      "Mean absolute error: 1.2669952091550032\n",
      "Mean squared error: 2.5354873011433603\n",
      "Root Mean squared error: 1.5923213561160825\n",
      "0.909356817963229\n",
      "error:\n",
      "Mean absolute error: 1.094295978015903\n",
      "Mean squared error: 2.025064199145346\n",
      "Root Mean squared error: 1.4230475041773363\n",
      "0.8802143541635914\n",
      "error:\n",
      "Mean absolute error: 1.3822159257916875\n",
      "Mean squared error: 3.1755620195038747\n",
      "Root Mean squared error: 1.7820106676178666\n",
      "0.8424788468438611\n",
      "error:\n",
      "Mean absolute error: 1.171175298934402\n",
      "Mean squared error: 2.552363412214264\n",
      "Root Mean squared error: 1.5976117839494877\n",
      "0.9159489753329308\n",
      "error:\n",
      "Mean absolute error: 1.1897019455714706\n",
      "Mean squared error: 2.3908487625689694\n",
      "Root Mean squared error: 1.546236968439498\n",
      "0.8799010128857074\n",
      "error:\n",
      "Mean absolute error: 1.2738063872576666\n",
      "Mean squared error: 2.6210139921115885\n",
      "Root Mean squared error: 1.6189545985331364\n",
      "0.9048642877900854\n",
      "error:\n",
      "Mean absolute error: 1.2034174805733224\n",
      "Mean squared error: 2.3225870613356374\n",
      "Root Mean squared error: 1.5240036290428043\n",
      "0.8552745190600216\n",
      "error:\n",
      "Mean absolute error: 1.380885716033407\n",
      "Mean squared error: 4.11733826608222\n",
      "Root Mean squared error: 2.029122535994862\n",
      "0.8886522415267718\n",
      "error:\n",
      "Mean absolute error: 1.2601561717764977\n",
      "Mean squared error: 2.8441363548354057\n",
      "Root Mean squared error: 1.6864567456165027\n",
      "0.8975516497521929\n",
      "error:\n",
      "Mean absolute error: 1.3565544510108412\n",
      "Mean squared error: 3.202435943778232\n",
      "Root Mean squared error: 1.7895351194593059\n",
      "0.8642766925575533\n",
      "error:\n",
      "Mean absolute error: 1.5700786427119378\n",
      "Mean squared error: 4.964789432450937\n",
      "Root Mean squared error: 2.2281807450139537\n",
      "0.8668533011172248\n",
      "error:\n",
      "Mean absolute error: 1.1675580747595136\n",
      "Mean squared error: 3.4504107338954655\n",
      "Root Mean squared error: 1.8575281246579998\n",
      "0.78269638692295\n",
      "error:\n",
      "Mean absolute error: 1.468377168837447\n",
      "Mean squared error: 4.386713424879296\n",
      "Root Mean squared error: 2.0944482387682193\n",
      "0.8721725539534237\n",
      "error:\n",
      "Mean absolute error: 1.2808086388924247\n",
      "Mean squared error: 3.9114584443119993\n",
      "Root Mean squared error: 1.977740742441233\n",
      "0.9091258482018411\n",
      "error:\n",
      "Mean absolute error: 1.1147297767941062\n",
      "Mean squared error: 1.9327857181437322\n",
      "Root Mean squared error: 1.390246639321143\n",
      "0.8875943029704246\n",
      "error:\n",
      "Mean absolute error: 1.2992532111421138\n",
      "Mean squared error: 2.6399795927417773\n",
      "Root Mean squared error: 1.6248014010154526\n",
      "0.9324777630687208\n",
      "error:\n",
      "Mean absolute error: 1.1685870830016043\n",
      "Mean squared error: 1.996368525741\n",
      "Root Mean squared error: 1.4129290589909318\n",
      "0.87011565385482\n",
      "error:\n",
      "Mean absolute error: 1.2300734029607532\n",
      "Mean squared error: 2.666345156891985\n",
      "Root Mean squared error: 1.6328947170261727\n",
      "0.7857503361860259\n",
      "error:\n",
      "Mean absolute error: 1.6751907786780598\n",
      "Mean squared error: 5.024565187849238\n",
      "Root Mean squared error: 2.2415541902548863\n",
      "0.8588961935614394\n",
      "error:\n",
      "Mean absolute error: 1.3711202870363526\n",
      "Mean squared error: 2.99972698722452\n",
      "Root Mean squared error: 1.731971993776031\n",
      "0.9074520338227106\n",
      "error:\n",
      "Mean absolute error: 1.239838488365232\n",
      "Mean squared error: 2.1766899215286166\n",
      "Root Mean squared error: 1.4753609461852435\n",
      "0.8802780928074003\n",
      "error:\n",
      "Mean absolute error: 1.3348037087828588\n",
      "Mean squared error: 2.7694367166170464\n",
      "Root Mean squared error: 1.6641624670136765\n",
      "0.9326414615010301\n",
      "error:\n",
      "Mean absolute error: 1.3032653863009818\n",
      "Mean squared error: 2.361938286109105\n",
      "Root Mean squared error: 1.5368598784889613\n",
      "0.8795264573148388\n",
      "error:\n",
      "Mean absolute error: 1.6212772583492878\n",
      "Mean squared error: 3.9051498861394993\n",
      "Root Mean squared error: 1.9761452087687026\n",
      "0.8936454651449763\n",
      "error:\n",
      "Mean absolute error: 1.2358204064859821\n",
      "Mean squared error: 2.35915453422794\n",
      "Root Mean squared error: 1.5359539492536682\n",
      "0.8908252749818171\n",
      "error:\n",
      "Mean absolute error: 1.3569448196699645\n",
      "Mean squared error: 2.990342523527868\n",
      "Root Mean squared error: 1.7292606869780704\n",
      "0.9011231267137332\n",
      "error:\n",
      "Mean absolute error: 1.2764377674553922\n",
      "Mean squared error: 2.4943243898520673\n",
      "Root Mean squared error: 1.5793430247581008\n",
      "0.9127612274114661\n",
      "error:\n",
      "Mean absolute error: 1.4161579114743785\n",
      "Mean squared error: 2.953451973285507\n",
      "Root Mean squared error: 1.7185610182025854\n",
      "0.916681238721544\n",
      "error:\n",
      "Mean absolute error: 1.2074027020919746\n",
      "Mean squared error: 2.147177413102617\n",
      "Root Mean squared error: 1.465325019612583\n",
      "0.8835371238659009\n",
      "error:\n",
      "Mean absolute error: 1.3510460718514272\n",
      "Mean squared error: 3.578862675654307\n",
      "Root Mean squared error: 1.8917882216713124\n",
      "0.8515515203632601\n",
      "error:\n",
      "Mean absolute error: 1.2278115064296753\n",
      "Mean squared error: 2.9951075667733176\n",
      "Root Mean squared error: 1.7306379074703402\n",
      "0.8384428769872199\n",
      "error:\n",
      "Mean absolute error: 1.3951326759132332\n",
      "Mean squared error: 2.74048279620311\n",
      "Root Mean squared error: 1.6554403632275945\n",
      "0.915392051445451\n",
      "error:\n",
      "Mean absolute error: 1.2201309989486961\n",
      "Mean squared error: 2.5710201034806075\n",
      "Root Mean squared error: 1.6034400841567507\n",
      "0.902974059592237\n",
      "error:\n",
      "Mean absolute error: 1.0950941421012086\n",
      "Mean squared error: 2.149585653715706\n",
      "Root Mean squared error: 1.4661465321432596\n",
      "0.9143870692392699\n",
      "error:\n",
      "Mean absolute error: 1.2571212216969145\n",
      "Mean squared error: 2.5941580340826538\n",
      "Root Mean squared error: 1.6106390142060554\n",
      "0.8454755113306522\n",
      "error:\n",
      "Mean absolute error: 1.3387275591220544\n",
      "Mean squared error: 3.9351033881180966\n",
      "Root Mean squared error: 1.9837095019478272\n",
      "0.8655715993216834\n",
      "error:\n",
      "Mean absolute error: 1.2048813642633673\n",
      "Mean squared error: 3.0372229300632245\n",
      "Root Mean squared error: 1.7427630160360945\n",
      "0.8727389857472218\n",
      "error:\n",
      "Mean absolute error: 1.285978848473222\n",
      "Mean squared error: 2.5566921818569055\n",
      "Root Mean squared error: 1.598965972701391\n",
      "0.8922785927394904\n",
      "error:\n",
      "Mean absolute error: 1.094267542384742\n",
      "Mean squared error: 2.1488078252993534\n",
      "Root Mean squared error: 1.4658812452921803\n",
      "0.8745764808991937\n",
      "error:\n",
      "Mean absolute error: 1.5098297107335303\n",
      "Mean squared error: 4.918879137127842\n",
      "Root Mean squared error: 2.217854624885915\n",
      "Best accuracy is 0.9425532941055315 on Random_state 90\n"
     ]
    }
   ],
   "source": [
    "from sklearn.model_selection import train_test_split\n",
    "maxAccu=0\n",
    "maxRS=0\n",
    "for i in range(1,200):\n",
    "    x_train,x_test,y_train,y_test=train_test_split(x,y,test_size=0.22,random_state=i)\n",
    "    lm=LinearRegression()\n",
    "    lm.fit(x_train,y_train)\n",
    "    pred=lm.predict(x_test)\n",
    "    r2score=r2_score(y_test,pred)\n",
    "    print(r2_score(y_test,pred))\n",
    "    print('error:')\n",
    "    print('Mean absolute error:',mean_absolute_error(y_test,pred))\n",
    "    print('Mean squared error:',mean_squared_error(y_test,pred))\n",
    "    print('Root Mean squared error:',np.sqrt(mean_squared_error(y_test,pred)))\n",
    "    if r2score>maxAccu:\n",
    "        maxAccu=r2score\n",
    "        maxRS=i\n",
    "        \n",
    "print(\"Best accuracy is\",maxAccu,\"on Random_state\",maxRS)"
   ]
  },
  {
   "cell_type": "markdown",
   "metadata": {},
   "source": [
    "Best accuracy is 0.9425532941055315 on Random_state 90"
   ]
  },
  {
   "cell_type": "markdown",
   "metadata": {},
   "source": [
    "# Algorithms"
   ]
  },
  {
   "cell_type": "code",
   "execution_count": 39,
   "metadata": {},
   "outputs": [
    {
     "name": "stdout",
     "output_type": "stream",
     "text": [
      "0.9425532941055315\n",
      "error:\n",
      "Mean absolute error: 1.0469209576700451\n",
      "Mean squared error: 1.629204009067471\n",
      "Root Mean squared error: 1.2764027613051732\n"
     ]
    }
   ],
   "source": [
    "x_train,x_test,y_train,y_test=train_test_split(x,y,test_size=0.22,random_state=90)\n",
    "lm=LinearRegression()\n",
    "lm.fit(x_train,y_train)\n",
    "pred=lm.predict(x_test)\n",
    "r2score=r2_score(y_test,pred)\n",
    "print(r2_score(y_test,pred))\n",
    "print('error:')\n",
    "print('Mean absolute error:',mean_absolute_error(y_test,pred))\n",
    "print('Mean squared error:',mean_squared_error(y_test,pred))\n",
    "print('Root Mean squared error:',np.sqrt(mean_squared_error(y_test,pred)))"
   ]
  },
  {
   "cell_type": "code",
   "execution_count": 40,
   "metadata": {},
   "outputs": [
    {
     "name": "stdout",
     "output_type": "stream",
     "text": [
      "0.9612934810878623\n",
      "error:\n",
      "Mean absolute error: 0.8681818181818179\n",
      "Mean squared error: 1.0977272727272727\n",
      "Root Mean squared error: 1.047724807727331\n"
     ]
    }
   ],
   "source": [
    "dtr=DecisionTreeRegressor()\n",
    "dtr.fit(x_train,y_train)\n",
    "preddtr=dtr.predict(x_test)\n",
    "r2score=r2_score(y_test,preddtr)\n",
    "print(r2_score(y_test,preddtr))\n",
    "print('error:')\n",
    "print('Mean absolute error:',mean_absolute_error(y_test,preddtr))\n",
    "print('Mean squared error:',mean_squared_error(y_test,preddtr))\n",
    "print('Root Mean squared error:',np.sqrt(mean_squared_error(y_test,preddtr)))\n"
   ]
  },
  {
   "cell_type": "code",
   "execution_count": 41,
   "metadata": {},
   "outputs": [
    {
     "name": "stdout",
     "output_type": "stream",
     "text": [
      "0.8845327643069508\n",
      "error:\n",
      "Mean absolute error: 1.2868181818181816\n",
      "Mean squared error: 3.2746818181818167\n",
      "Root Mean squared error: 1.8096081946603295\n"
     ]
    }
   ],
   "source": [
    "knn=KNeighborsRegressor(n_neighbors=5)\n",
    "knn.fit(x_train,y_train)\n",
    "predknn=knn.predict(x_test)\n",
    "predknn=knn.predict(x_test)\n",
    "r2score=r2_score(y_test,predknn)\n",
    "print(r2_score(y_test,predknn))\n",
    "print('error:')\n",
    "print('Mean absolute error:',mean_absolute_error(y_test,predknn))\n",
    "print('Mean squared error:',mean_squared_error(y_test,predknn))\n",
    "print('Root Mean squared error:',np.sqrt(mean_squared_error(y_test,predknn)))\n"
   ]
  },
  {
   "cell_type": "code",
   "execution_count": 42,
   "metadata": {},
   "outputs": [
    {
     "name": "stdout",
     "output_type": "stream",
     "text": [
      "0.884764569647645\n",
      "error:\n",
      "Mean absolute error: 1.0899558399714713\n",
      "Mean squared error: 3.2681077564579635\n",
      "Root Mean squared error: 1.8077908497550161\n"
     ]
    }
   ],
   "source": [
    "svm=SVR()\n",
    "svm.fit(x_train,y_train)\n",
    "predsvr=svm.predict(x_test)\n",
    "r2score=r2_score(y_test,predsvr)\n",
    "print(r2_score(y_test,predsvr))\n",
    "print('error:')\n",
    "print('Mean absolute error:',mean_absolute_error(y_test,predsvr))\n",
    "print('Mean squared error:',mean_squared_error(y_test,predsvr))\n",
    "print('Root Mean squared error:',np.sqrt(mean_squared_error(y_test,predsvr)))\n"
   ]
  },
  {
   "cell_type": "code",
   "execution_count": 43,
   "metadata": {},
   "outputs": [],
   "source": [
    "from sklearn.linear_model import Lasso,Ridge,ElasticNet"
   ]
  },
  {
   "cell_type": "code",
   "execution_count": 44,
   "metadata": {},
   "outputs": [
    {
     "name": "stdout",
     "output_type": "stream",
     "text": [
      "0.9425532058653943\n",
      "error:\n",
      "Mean absolute error: 1.0469217844935204\n",
      "Mean squared error: 1.6292065115814625\n",
      "Root Mean squared error: 1.2764037416043024\n"
     ]
    }
   ],
   "source": [
    "rd=Ridge(alpha=.0001)\n",
    "rd.fit(x_train,y_train)\n",
    "rd.score(x_train,y_train)\n",
    "pred=rd.predict(x_test)\n",
    "r2score=r2_score(y_test,pred)\n",
    "print(r2_score(y_test,pred))\n",
    "print('error:')\n",
    "print('Mean absolute error:',mean_absolute_error(y_test,pred))\n",
    "print('Mean squared error:',mean_squared_error(y_test,pred))\n",
    "print('Root Mean squared error:',np.sqrt(mean_squared_error(y_test,pred)))"
   ]
  },
  {
   "cell_type": "code",
   "execution_count": 45,
   "metadata": {},
   "outputs": [
    {
     "name": "stdout",
     "output_type": "stream",
     "text": [
      "0.9425534774590596\n",
      "error:\n",
      "Mean absolute error: 1.0469028892639753\n",
      "Mean squared error: 1.6291988091121652\n",
      "Root Mean squared error: 1.276400724346459\n"
     ]
    }
   ],
   "source": [
    "ls=Lasso(alpha=.0001)\n",
    "ls.fit(x_train,y_train)\n",
    "ls.score(x_train,y_train)\n",
    "pred=ls.predict(x_test)\n",
    "r2score=r2_score(y_test,pred)\n",
    "print(r2_score(y_test,pred))\n",
    "print('error:')\n",
    "print('Mean absolute error:',mean_absolute_error(y_test,pred))\n",
    "print('Mean squared error:',mean_squared_error(y_test,pred))\n",
    "print('Root Mean squared error:',np.sqrt(mean_squared_error(y_test,pred)))"
   ]
  },
  {
   "cell_type": "code",
   "execution_count": 46,
   "metadata": {},
   "outputs": [
    {
     "name": "stdout",
     "output_type": "stream",
     "text": [
      "0.9425466596939226\n",
      "error:\n",
      "Mean absolute error: 1.0469747905794689\n",
      "Mean squared error: 1.6293921627626682\n",
      "Root Mean squared error: 1.2764764638498698\n"
     ]
    }
   ],
   "source": [
    "el=ElasticNet(alpha=.0001)\n",
    "el.fit(x_train,y_train)\n",
    "el.score(x_train,y_train)\n",
    "pred=el.predict(x_test)\n",
    "r2score=r2_score(y_test,pred)\n",
    "print(r2_score(y_test,pred))\n",
    "print('error:')\n",
    "print('Mean absolute error:',mean_absolute_error(y_test,pred))\n",
    "print('Mean squared error:',mean_squared_error(y_test,pred))\n",
    "print('Root Mean squared error:',np.sqrt(mean_squared_error(y_test,pred)))\n"
   ]
  },
  {
   "cell_type": "markdown",
   "metadata": {},
   "source": [
    "# Cross Validation Scores"
   ]
  },
  {
   "cell_type": "code",
   "execution_count": 47,
   "metadata": {},
   "outputs": [
    {
     "name": "stdout",
     "output_type": "stream",
     "text": [
      "[0.86876195 0.91624621 0.92555038 0.80895953 0.89604978]\n",
      "0.8831135687941505 0.04188267158575255\n"
     ]
    }
   ],
   "source": [
    "from sklearn.model_selection import cross_val_score\n",
    "lsscores=cross_val_score(ls,x,y,cv=5)\n",
    "print(lsscores)\n",
    "print(lsscores.mean(),lsscores.std())"
   ]
  },
  {
   "cell_type": "code",
   "execution_count": 48,
   "metadata": {},
   "outputs": [
    {
     "name": "stdout",
     "output_type": "stream",
     "text": [
      "[0.94846114 0.95562154 0.93529951 0.9312812  0.96910627]\n",
      "0.9479539335886329 0.013744711282047106\n"
     ]
    }
   ],
   "source": [
    "from sklearn.model_selection import cross_val_score\n",
    "dtrscores=cross_val_score(dtr,x,y,cv=5)\n",
    "print(dtrscores)\n",
    "print(dtrscores.mean(),dtrscores.std())"
   ]
  },
  {
   "cell_type": "code",
   "execution_count": 49,
   "metadata": {},
   "outputs": [
    {
     "name": "stdout",
     "output_type": "stream",
     "text": [
      "[0.059439908664909114, 0.015254261557417825]\n"
     ]
    }
   ],
   "source": [
    "list1=[0.9425534774590596,0.9619105415342877]\n",
    "list2=[0.8831135687941505,0.9466562799768699]\n",
    "difference=[]\n",
    "zip_object = zip(list1, list2)\n",
    "for list1_i, list2_i in zip_object:\n",
    "    difference.append(list1_i-list2_i)\n",
    "\n",
    "\n",
    "print(difference)\n"
   ]
  },
  {
   "cell_type": "markdown",
   "metadata": {},
   "source": [
    "dtr is the best algorithm with accuracy score of 96.191 % because the difference between accuracy score and cross validation\n",
    "score of dtr is least."
   ]
  },
  {
   "cell_type": "markdown",
   "metadata": {},
   "source": [
    "# Hyper Parameter Tuning"
   ]
  },
  {
   "cell_type": "code",
   "execution_count": 50,
   "metadata": {},
   "outputs": [
    {
     "data": {
      "text/plain": [
       "GridSearchCV(cv=5, estimator=DecisionTreeRegressor(),\n",
       "             param_grid={'criterion': ['mse', 'friedman_mse', 'mae', 'poisson'],\n",
       "                         'max_features': ['auto', 'sqrt', 'log2'],\n",
       "                         'min_samples_split': [2, 4, 6, 8],\n",
       "                         'splitter': ['best', 'random']},\n",
       "             scoring='accuracy')"
      ]
     },
     "execution_count": 50,
     "metadata": {},
     "output_type": "execute_result"
    }
   ],
   "source": [
    "dtr=DecisionTreeRegressor()\n",
    "grid_param={'criterion':[\"mse\", \"friedman_mse\", \"mae\", \"poisson\"],'splitter' : [\"best\", \"random\"],'min_samples_split':[2,4,6,8],'max_features':[\"auto\", \"sqrt\", \"log2\"]}\n",
    "gd_sr=GridSearchCV(estimator=dtr,param_grid=grid_param,scoring='accuracy',cv=5)\n",
    "gd_sr.fit(x_train,y_train)"
   ]
  },
  {
   "cell_type": "code",
   "execution_count": 51,
   "metadata": {},
   "outputs": [
    {
     "data": {
      "text/plain": [
       "{'criterion': 'mse',\n",
       " 'max_features': 'auto',\n",
       " 'min_samples_split': 2,\n",
       " 'splitter': 'best'}"
      ]
     },
     "execution_count": 51,
     "metadata": {},
     "output_type": "execute_result"
    }
   ],
   "source": [
    "gd_sr.best_params_"
   ]
  },
  {
   "cell_type": "code",
   "execution_count": 52,
   "metadata": {},
   "outputs": [
    {
     "name": "stdout",
     "output_type": "stream",
     "text": [
      "0.9648756371859422\n",
      "error:\n",
      "Mean absolute error: 0.8113636363636361\n",
      "Mean squared error: 0.9961363636363635\n",
      "Root Mean squared error: 0.9980663122440129\n"
     ]
    }
   ],
   "source": [
    "dtr=DecisionTreeRegressor(criterion='mse',\n",
    " max_features='auto',\n",
    " min_samples_split=2,\n",
    " splitter='best')\n",
    "dtr.fit(x_train,y_train)\n",
    "preddtr=dtr.predict(x_test)\n",
    "r2score=r2_score(y_test,preddtr)\n",
    "print(r2_score(y_test,preddtr))\n",
    "print('error:')\n",
    "print('Mean absolute error:',mean_absolute_error(y_test,preddtr))\n",
    "print('Mean squared error:',mean_squared_error(y_test,preddtr))\n",
    "print('Root Mean squared error:',np.sqrt(mean_squared_error(y_test,preddtr)))\n"
   ]
  },
  {
   "cell_type": "markdown",
   "metadata": {},
   "source": [
    "After hyper parameter tuning, accuracy score of Decision Tree Regressor has changed from 96.191 % to 96.487 %"
   ]
  },
  {
   "cell_type": "code",
   "execution_count": 54,
   "metadata": {},
   "outputs": [],
   "source": [
    "# Aoc - roc is not possible in case of Decision Tree Regressor"
   ]
  },
  {
   "cell_type": "markdown",
   "metadata": {},
   "source": [
    "# Saving the model"
   ]
  },
  {
   "cell_type": "code",
   "execution_count": 55,
   "metadata": {},
   "outputs": [],
   "source": [
    "import joblib "
   ]
  },
  {
   "cell_type": "code",
   "execution_count": 56,
   "metadata": {},
   "outputs": [
    {
     "data": {
      "text/plain": [
       "['dtr_advertising.obj']"
      ]
     },
     "execution_count": 56,
     "metadata": {},
     "output_type": "execute_result"
    }
   ],
   "source": [
    "joblib.dump(dtr,\"dtr_advertising.obj\")"
   ]
  },
  {
   "cell_type": "code",
   "execution_count": null,
   "metadata": {},
   "outputs": [],
   "source": []
  }
 ],
 "metadata": {
  "kernelspec": {
   "display_name": "Python 3",
   "language": "python",
   "name": "python3"
  },
  "language_info": {
   "codemirror_mode": {
    "name": "ipython",
    "version": 3
   },
   "file_extension": ".py",
   "mimetype": "text/x-python",
   "name": "python",
   "nbconvert_exporter": "python",
   "pygments_lexer": "ipython3",
   "version": "3.7.6"
  }
 },
 "nbformat": 4,
 "nbformat_minor": 4
}
